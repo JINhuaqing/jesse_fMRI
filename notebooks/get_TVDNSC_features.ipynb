{
 "cells": [
  {
   "cell_type": "markdown",
   "id": "55950736-4778-4461-a7e4-6a9323a8d9f5",
   "metadata": {},
   "source": [
    "Extract feature from TVDN. \n",
    "\n",
    "Here I fix U from SC"
   ]
  },
  {
   "cell_type": "code",
   "execution_count": 1,
   "id": "f6316349-3e91-4ded-92a2-dd20ed6b1b17",
   "metadata": {
    "ExecuteTime": {
     "end_time": "2023-11-09T23:45:52.031524Z",
     "start_time": "2023-11-09T23:45:52.020753Z"
    },
    "execution": {
     "iopub.execute_input": "2023-11-06T22:34:55.917287Z",
     "iopub.status.busy": "2023-11-06T22:34:55.916919Z",
     "iopub.status.idle": "2023-11-06T22:34:55.930197Z",
     "shell.execute_reply": "2023-11-06T22:34:55.928388Z",
     "shell.execute_reply.started": "2023-11-06T22:34:55.917250Z"
    }
   },
   "outputs": [],
   "source": [
    "import sys\n",
    "sys.path.append(\"../mypkg\")"
   ]
  },
  {
   "cell_type": "code",
   "execution_count": 2,
   "id": "761d4b55-4cb4-44a5-a408-1b9cbbc946b7",
   "metadata": {
    "ExecuteTime": {
     "end_time": "2023-11-09T23:45:53.332689Z",
     "start_time": "2023-11-09T23:45:52.262287Z"
    },
    "execution": {
     "iopub.execute_input": "2023-11-06T22:34:55.931585Z",
     "iopub.status.busy": "2023-11-06T22:34:55.931364Z",
     "iopub.status.idle": "2023-11-06T22:34:57.052443Z",
     "shell.execute_reply": "2023-11-06T22:34:57.051572Z",
     "shell.execute_reply.started": "2023-11-06T22:34:55.931561Z"
    }
   },
   "outputs": [],
   "source": [
    "from constants import RES_ROOT, FIG_ROOT, DATA_ROOT\n",
    "from utils.misc import load_pkl, save_pkl\n",
    "from utils.colors import qual_cmap\n",
    "from pyTVDN.TVDNclass_SC import TVDNSCDetect"
   ]
  },
  {
   "cell_type": "code",
   "execution_count": 3,
   "id": "e60111a4-1bbb-46e0-974d-dfd801f3cde6",
   "metadata": {
    "ExecuteTime": {
     "end_time": "2023-11-09T23:45:53.355199Z",
     "start_time": "2023-11-09T23:45:53.334313Z"
    },
    "execution": {
     "iopub.execute_input": "2023-11-06T22:34:57.053910Z",
     "iopub.status.busy": "2023-11-06T22:34:57.053444Z",
     "iopub.status.idle": "2023-11-06T22:34:57.075331Z",
     "shell.execute_reply": "2023-11-06T22:34:57.074462Z",
     "shell.execute_reply.started": "2023-11-06T22:34:57.053882Z"
    }
   },
   "outputs": [],
   "source": [
    "%load_ext autoreload\n",
    "%autoreload 2\n",
    "# 0,1, 2, 3, be careful about the space"
   ]
  },
  {
   "cell_type": "code",
   "execution_count": 4,
   "id": "dd91ad51-fb83-4993-85e0-f089b427c9d6",
   "metadata": {
    "ExecuteTime": {
     "end_time": "2023-11-09T23:45:53.404845Z",
     "start_time": "2023-11-09T23:45:53.356409Z"
    },
    "execution": {
     "iopub.execute_input": "2023-11-06T22:34:57.077099Z",
     "iopub.status.busy": "2023-11-06T22:34:57.076811Z",
     "iopub.status.idle": "2023-11-06T22:34:57.130196Z",
     "shell.execute_reply": "2023-11-06T22:34:57.129367Z",
     "shell.execute_reply.started": "2023-11-06T22:34:57.077079Z"
    }
   },
   "outputs": [],
   "source": [
    "import numpy as np\n",
    "import scipy\n",
    "from scipy.io import loadmat\n",
    "from scipy import signal\n",
    "import matplotlib.pyplot as plt\n",
    "import seaborn as sns\n",
    "from tqdm import tqdm, trange\n",
    "import bct # the pkg to get graph features\n",
    "from joblib import Parallel, delayed\n",
    "from easydict import EasyDict as edict\n",
    "import pandas as pd\n",
    "\n",
    "plt.style.use(FIG_ROOT/'base.mplstyle')"
   ]
  },
  {
   "cell_type": "code",
   "execution_count": null,
   "id": "50be24b9-28de-4d07-a489-8482b89e9e6a",
   "metadata": {},
   "outputs": [],
   "source": []
  },
  {
   "cell_type": "markdown",
   "id": "cd61ced4-9e45-453a-9c53-8a270823a8b2",
   "metadata": {},
   "source": [
    "# Fns and params"
   ]
  },
  {
   "cell_type": "markdown",
   "id": "2a3e0512-46ab-4f06-8b52-05216ec7ec7a",
   "metadata": {},
   "source": [
    "## Some fns"
   ]
  },
  {
   "cell_type": "code",
   "execution_count": 5,
   "id": "d4f3ed95",
   "metadata": {
    "ExecuteTime": {
     "end_time": "2023-11-09T23:45:54.018065Z",
     "start_time": "2023-11-09T23:45:53.992824Z"
    }
   },
   "outputs": [],
   "source": [
    "from prettytable import PrettyTable as PT\n",
    "from scipy.stats import f_oneway, ttest_ind \n",
    "\n",
    "def _get_test_tb(res_df):\n",
    "    tb = PT()\n",
    "    tb.field_names = [\"Test\", \"Pval\", \"Effect size\"]\n",
    "    \n",
    "    HC = res_df[\"metric\"][res_df[\"diagnosis\"]==6]\n",
    "    \n",
    "    def indicator(pval):\n",
    "        if pval < 0.05:\n",
    "            return \"*\"\n",
    "        else:\n",
    "            return \"\"\n",
    "    # list all disease\n",
    "    for diag_ix in range(1, 6):\n",
    "        DS = res_df[\"metric\"][res_df[\"diagnosis\"]==diag_ix]\n",
    "        ttest_res = ttest_ind(DS, HC)\n",
    "        effect_size = (np.mean(DS)-np.mean(HC))/np.std(np.concatenate([DS, HC]), ddof=2)\n",
    "        tb.add_row([f\"{indicator(ttest_res.pvalue)}{diag_lab_mapping[diag_ix]} vs HC\", \n",
    "                      f\"{ttest_res.pvalue:>6.3f}\", \n",
    "                      f\"{effect_size:>6.3f}\"])\n",
    "    \n",
    "    # pool 5 diseases together\n",
    "    DS = res_df[\"metric\"][res_df[\"diagnosis\"]!=6]\n",
    "    ttest_res = ttest_ind(DS, HC)\n",
    "    effect_size = (np.mean(DS)-np.mean(HC))/np.std(np.concatenate([DS, HC]), ddof=2)\n",
    "    tb.add_row([f\"{indicator(ttest_res.pvalue)}Dementia vs HC\", \n",
    "                f\"{ttest_res.pvalue:>6.3f}\", \n",
    "                f\"{effect_size:>6.3f}\"])\n",
    "    \n",
    "    # anova\n",
    "    metric_grp = [res_df[\"metric\"][res_df[\"diagnosis\"]==grp_ix] for grp_ix in range(1, 7)]\n",
    "    anova_res = f_oneway(*metric_grp)\n",
    "    tb.add_row([f\"{indicator(anova_res.pvalue)}ANOVA\", \n",
    "                f\"{anova_res.pvalue:>6.3f}\", \n",
    "                f\"\"])\n",
    "    tb.align[\"Test\"] = \"r\"\n",
    "    tb.align[\"Pval\"] = \"c\"\n",
    "    tb.align[\"Effect size\"] = \"c\"\n",
    "    return tb"
   ]
  },
  {
   "cell_type": "code",
   "execution_count": 6,
   "id": "94714b2c-d3be-4815-9d74-20d42f0f3f0f",
   "metadata": {
    "ExecuteTime": {
     "end_time": "2023-11-09T23:45:54.723656Z",
     "start_time": "2023-11-09T23:45:54.701953Z"
    },
    "execution": {
     "iopub.execute_input": "2023-11-06T22:34:57.131284Z",
     "iopub.status.busy": "2023-11-06T22:34:57.131026Z",
     "iopub.status.idle": "2023-11-06T22:34:57.153547Z",
     "shell.execute_reply": "2023-11-06T22:34:57.152795Z",
     "shell.execute_reply.started": "2023-11-06T22:34:57.131262Z"
    }
   },
   "outputs": [],
   "source": [
    "def _preprocess_ts(ts):\n",
    "    \"\"\"preprocessing, \n",
    "        1. detrend\n",
    "        2. resample (len of seq has 235 or 555, I make it consistent to 235)\n",
    "    \"\"\"\n",
    "    ts = signal.detrend(ts);\n",
    "    if ts.shape[-1] > 235:\n",
    "        ts = signal.resample(ts, num=235, axis=-1)\n",
    "    return ts\n",
    "    \n",
    "    \n",
    "def _load_data(n):\n",
    "    \"\"\"Sub idx is from 1, n: the sub idx\n",
    "    \"\"\"\n",
    "    return mat_data['ts_321_273'][np.where(mat_data['subj_321_ts'][:, 0] == n)[0], :].transpose()"
   ]
  },
  {
   "cell_type": "markdown",
   "id": "27ceee6d-65f9-4da7-86e1-17d223e51ae5",
   "metadata": {},
   "source": [
    "## Load data and params"
   ]
  },
  {
   "cell_type": "code",
   "execution_count": 7,
   "id": "1b761799-d66a-441b-98f3-f13a2c1b0f0d",
   "metadata": {
    "ExecuteTime": {
     "end_time": "2023-11-09T23:45:57.504839Z",
     "start_time": "2023-11-09T23:45:56.303807Z"
    },
    "execution": {
     "iopub.execute_input": "2023-11-06T22:34:57.339152Z",
     "iopub.status.busy": "2023-11-06T22:34:57.338402Z",
     "iopub.status.idle": "2023-11-06T22:34:58.535026Z",
     "shell.execute_reply": "2023-11-06T22:34:58.534170Z",
     "shell.execute_reply.started": "2023-11-06T22:34:57.339114Z"
    }
   },
   "outputs": [],
   "source": [
    "# load data\n",
    "mat_data = loadmat(DATA_ROOT/\"ad_ftd_hc_fmri_data.mat\");\n",
    "\n",
    "# some parameters\n",
    "\n",
    "num_rois = 246 # the BNA has 246 regions\n",
    "num_sps = 321\n",
    "ac_time = 485"
   ]
  },
  {
   "cell_type": "code",
   "execution_count": 8,
   "id": "5e5b93d7-8a22-4079-bdc6-5cee38ceb026",
   "metadata": {
    "ExecuteTime": {
     "end_time": "2023-11-09T23:45:57.925121Z",
     "start_time": "2023-11-09T23:45:57.506317Z"
    },
    "execution": {
     "iopub.execute_input": "2023-11-06T22:35:01.735255Z",
     "iopub.status.busy": "2023-11-06T22:35:01.734758Z",
     "iopub.status.idle": "2023-11-06T22:35:02.196046Z",
     "shell.execute_reply": "2023-11-06T22:35:02.195501Z",
     "shell.execute_reply.started": "2023-11-06T22:35:01.735217Z"
    }
   },
   "outputs": [
    {
     "data": {
      "text/plain": [
       "<AxesSubplot:>"
      ]
     },
     "execution_count": 8,
     "metadata": {},
     "output_type": "execute_result"
    },
    {
     "data": {
      "image/png": "[encoded data removed]",
      "text/plain": [
       "<Figure size 1000x500 with 2 Axes>"
      ]
     },
     "metadata": {
      "needs_background": "light"
     },
     "output_type": "display_data"
    }
   ],
   "source": [
    "sc_mat = loadmat(DATA_ROOT/\"SC_HC_BN_template_nature_order.mat\")[\"SC_template\"]\n",
    "eigVals, eigVecs = np.linalg.eig(sc_mat)\n",
    "sns.heatmap(sc_mat, square=True)"
   ]
  },
  {
   "cell_type": "code",
   "execution_count": null,
   "id": "e448d9c8-e56e-44a9-a147-dd2afa2436c7",
   "metadata": {},
   "outputs": [],
   "source": []
  },
  {
   "cell_type": "markdown",
   "id": "d0cda321-53cd-4e7e-92fc-8f3857f4d226",
   "metadata": {},
   "source": [
    "# Run TVDN"
   ]
  },
  {
   "cell_type": "code",
   "execution_count": 27,
   "id": "2bdb8864-47dd-4b50-85cd-eb52da7d18cc",
   "metadata": {
    "execution": {
     "iopub.execute_input": "2023-11-06T23:05:52.479359Z",
     "iopub.status.busy": "2023-11-06T23:05:52.478822Z",
     "iopub.status.idle": "2023-11-06T23:05:52.500655Z",
     "shell.execute_reply": "2023-11-06T23:05:52.500080Z",
     "shell.execute_reply.started": "2023-11-06T23:05:52.479320Z"
    }
   },
   "outputs": [],
   "source": [
    "tvdn_paras = edict()\n",
    "# these one are most influential\n",
    "tvdn_paras.lamb = 1e-8\n",
    "# r is moderately influential\n",
    "tvdn_paras.r = 0.3 \n",
    "# not very important\n",
    "tvdn_paras.Lmin = 10\n",
    "tvdn_paras.MaxM = 15\n",
    "\n",
    "tvdn_paras.kappas = np.linspace(1, 3, 100)\n"
   ]
  },
  {
   "cell_type": "code",
   "execution_count": null,
   "id": "af6525ea-7b93-47dd-8384-5205bbc1f3e0",
   "metadata": {},
   "outputs": [],
   "source": []
  },
  {
   "cell_type": "markdown",
   "id": "7b821257-caaa-4c17-a1a7-ab301783b549",
   "metadata": {},
   "source": [
    "## Get results\n"
   ]
  },
  {
   "cell_type": "code",
   "execution_count": 9,
   "id": "4e38866b-546b-442b-99c7-3803ca71be34",
   "metadata": {
    "execution": {
     "iopub.execute_input": "2023-11-06T22:35:19.269162Z",
     "iopub.status.busy": "2023-11-06T22:35:19.268379Z",
     "iopub.status.idle": "2023-11-06T22:35:19.290831Z",
     "shell.execute_reply": "2023-11-06T22:35:19.290077Z",
     "shell.execute_reply.started": "2023-11-06T22:35:19.269123Z"
    }
   },
   "outputs": [],
   "source": [
    "def _run_fn(sub_ix):\n",
    "    ts = _load_data(sub_ix)[:num_rois]\n",
    "    ts = _preprocess_ts(ts)\n",
    "    det = TVDNSCDetect(Ymat=ts,\n",
    "                     eigVals=eigVals, \n",
    "                     eigVecs=eigVecs,\n",
    "                     showProgress=False,\n",
    "                     saveDir=RES_ROOT/\"tvdnsc_res\",\n",
    "                     fName=f\"sub_{sub_ix}\",\n",
    "                     dataType=\"fMRI\", \n",
    "                     MaxM=tvdn_paras.MaxM, \n",
    "                     Lmin=tvdn_paras.Lmin, \n",
    "                     lamb=tvdn_paras.lamb, \n",
    "                     r=tvdn_paras.r); \n",
    "    #det.Screening(wh=5)\n",
    "    det()\n",
    "    det.TuningKappa(tvdn_paras.kappas)\n",
    "    det.UpdateEcpts()\n",
    "    return det\n"
   ]
  },
  {
   "cell_type": "code",
   "execution_count": null,
   "id": "d6a8959a-294b-4ef9-8d60-04453ccc8de4",
   "metadata": {
    "execution": {
     "iopub.execute_input": "2023-11-06T22:35:23.262530Z",
     "iopub.status.busy": "2023-11-06T22:35:23.262039Z",
     "iopub.status.idle": "2023-11-06T22:41:42.153662Z",
     "shell.execute_reply": "2023-11-06T22:41:42.152857Z",
     "shell.execute_reply.started": "2023-11-06T22:35:23.262493Z"
    }
   },
   "outputs": [],
   "source": [
    "with Parallel(n_jobs=15) as parallel:\n",
    "    res = parallel(delayed(_run_fn)(sub_ix) for sub_ix in tqdm(range(1, num_sps+1), total=num_sps))"
   ]
  },
  {
   "cell_type": "code",
   "execution_count": null,
   "id": "c437cb6f-1c98-49d3-8d26-3d6f2b576a6d",
   "metadata": {},
   "outputs": [],
   "source": []
  },
  {
   "cell_type": "markdown",
   "id": "0792822e-fbfe-476f-9ad0-7cc97fbfaadb",
   "metadata": {},
   "source": [
    "## Kappa find"
   ]
  },
  {
   "cell_type": "code",
   "execution_count": 31,
   "id": "dafd6f3d-1116-4268-8cca-28ddac0c20ee",
   "metadata": {
    "execution": {
     "iopub.execute_input": "2023-11-06T23:06:09.024366Z",
     "iopub.status.busy": "2023-11-06T23:06:09.023821Z",
     "iopub.status.idle": "2023-11-06T23:06:09.045915Z",
     "shell.execute_reply": "2023-11-06T23:06:09.045349Z",
     "shell.execute_reply.started": "2023-11-06T23:06:09.024327Z"
    }
   },
   "outputs": [],
   "source": [
    "def _run_fn(sub_ix):\n",
    "    ts = _load_data(sub_ix)[:num_rois]\n",
    "    ts = _preprocess_ts(ts)\n",
    "    det = TVDNSCDetect(Ymat=ts,\n",
    "                     eigVals=eigVals, \n",
    "                     eigVecs=eigVecs,\n",
    "                     showProgress=False,\n",
    "                     saveDir=RES_ROOT/\"tvdnsc_res\",\n",
    "                     fName=f\"sub_{sub_ix}\",\n",
    "                     dataType=\"fMRI\", \n",
    "                     MaxM=tvdn_paras.MaxM, \n",
    "                     Lmin=tvdn_paras.Lmin, \n",
    "                     lamb=tvdn_paras.lamb, \n",
    "                     r=tvdn_paras.r); \n",
    "    #det.Screening(wh=5)\n",
    "    det()\n",
    "    det.TuningKappa(tvdn_paras.kappas)\n",
    "    det.UpdateEcpts()\n",
    "    return det\n"
   ]
  },
  {
   "cell_type": "code",
   "execution_count": 32,
   "id": "ccdd12a5-df3d-49ec-b197-380b5b28f999",
   "metadata": {
    "execution": {
     "iopub.execute_input": "2023-11-06T23:06:10.353209Z",
     "iopub.status.busy": "2023-11-06T23:06:10.352726Z",
     "iopub.status.idle": "2023-11-06T23:06:10.375274Z",
     "shell.execute_reply": "2023-11-06T23:06:10.374705Z",
     "shell.execute_reply.started": "2023-11-06T23:06:10.353172Z"
    }
   },
   "outputs": [],
   "source": [
    "diag_labs = mat_data[\"dx_321\"].reshape(-1)\n",
    "sex_labs = mat_data[\"sex_321\"].reshape(-1)\n",
    "mmse_scores = mat_data[\"mmse_321\"].reshape(-1)\n",
    "diag_lab_mapping = {\n",
    " 1: \"AD\",\n",
    " 2: \"bvFTD\",\n",
    " 3: \"CBS\", \n",
    " 4: \"nfvPPA\", \n",
    " 5: \"svPPA\", \n",
    " 6: \"HC\"\n",
    "}"
   ]
  },
  {
   "cell_type": "code",
   "execution_count": 33,
   "id": "1ccaef26-bcf6-4756-8853-5b1cc03353d7",
   "metadata": {
    "execution": {
     "iopub.execute_input": "2023-11-06T23:06:11.576606Z",
     "iopub.status.busy": "2023-11-06T23:06:11.576204Z",
     "iopub.status.idle": "2023-11-06T23:06:12.736109Z",
     "shell.execute_reply": "2023-11-06T23:06:12.735433Z",
     "shell.execute_reply.started": "2023-11-06T23:06:11.576546Z"
    }
   },
   "outputs": [
    {
     "name": "stderr",
     "output_type": "stream",
     "text": [
      "  0%|                                                                                                                                                  | 0/100 [00:00<?, ?it/s]/MyResearch/jesse_data/notebooks/../mypkg/pyTVDN/TVDNclass_SC.py:317: UserWarning: As loading the saved results, kappa will be ignored\n",
      "  warnings.warn(\"As loading the saved results, kappa will be ignored\", UserWarning)\n",
      "100%|████████████████████████████████████████████████████████████████████████████████████████████████████████████████████████████████████████| 100/100 [00:01<00:00, 88.12it/s]\n"
     ]
    }
   ],
   "source": [
    "numchgss = []\n",
    "for sub_ix in tqdm(np.where(diag_labs==6)[0]):\n",
    "    det = _run_fn(sub_ix)\n",
    "    numchgss.append(det.numchgs)\n",
    "numchgss = np.array(numchgss);"
   ]
  },
  {
   "cell_type": "code",
   "execution_count": 34,
   "id": "becd206b-6273-4177-aa92-f8dda16ada69",
   "metadata": {
    "execution": {
     "iopub.execute_input": "2023-11-06T23:06:13.661605Z",
     "iopub.status.busy": "2023-11-06T23:06:13.661277Z",
     "iopub.status.idle": "2023-11-06T23:06:13.836215Z",
     "shell.execute_reply": "2023-11-06T23:06:13.835658Z",
     "shell.execute_reply.started": "2023-11-06T23:06:13.661582Z"
    }
   },
   "outputs": [
    {
     "data": {
      "text/plain": [
       "[<matplotlib.lines.Line2D at 0x7f20305dc550>]"
      ]
     },
     "execution_count": 34,
     "metadata": {},
     "output_type": "execute_result"
    },
    {
     "data": {
      "image/png": "[encoded data removed]",
      "text/plain": [
       "<Figure size 1000x500 with 2 Axes>"
      ]
     },
     "metadata": {
      "needs_background": "light"
     },
     "output_type": "display_data"
    }
   ],
   "source": [
    "plt.subplot(121)\n",
    "plt.plot(tvdn_paras.kappas, numchgss.mean(axis=0))\n",
    "plt.axhline(y=3.5, color=\"red\")\n",
    "plt.subplot(122)\n",
    "plt.plot(tvdn_paras.kappas, numchgss.std(axis=0))"
   ]
  },
  {
   "cell_type": "code",
   "execution_count": 70,
   "id": "dbc92c87-2ec9-4841-aaae-9d11ba185061",
   "metadata": {
    "execution": {
     "iopub.execute_input": "2023-11-06T23:14:31.892129Z",
     "iopub.status.busy": "2023-11-06T23:14:31.891712Z",
     "iopub.status.idle": "2023-11-06T23:14:32.011071Z",
     "shell.execute_reply": "2023-11-06T23:14:32.010572Z",
     "shell.execute_reply.started": "2023-11-06T23:14:31.892091Z"
    }
   },
   "outputs": [
    {
     "name": "stdout",
     "output_type": "stream",
     "text": [
      "The optimal kp is 1.949.\n"
     ]
    },
    {
     "data": {
      "image/png": "[encoded data removed]",
      "text/plain": [
       "<Figure size 1000x500 with 1 Axes>"
      ]
     },
     "metadata": {
      "needs_background": "light"
     },
     "output_type": "display_data"
    }
   ],
   "source": [
    "mcpts = numchgss.mean(axis=0)\n",
    "stdcpts = numchgss.std(axis=0)\n",
    "kpidxs = np.bitwise_and(mcpts<14, mcpts>1)\n",
    "plt.plot(tvdn_paras.kappas[kpidxs], stdcpts[kpidxs])\n",
    "optkp = tvdn_paras.kappas[kpidxs][np.argmin(stdcpts[kpidxs])]\n",
    "print(f\"The optimal kp is {optkp:.3f}.\")"
   ]
  },
  {
   "cell_type": "code",
   "execution_count": 78,
   "id": "d2554834-7a19-4cd0-a3be-046f366d7a5f",
   "metadata": {
    "execution": {
     "iopub.execute_input": "2023-11-07T19:02:28.536126Z",
     "iopub.status.busy": "2023-11-07T19:02:28.535726Z",
     "iopub.status.idle": "2023-11-07T19:02:28.557161Z",
     "shell.execute_reply": "2023-11-07T19:02:28.556440Z",
     "shell.execute_reply.started": "2023-11-07T19:02:28.536090Z"
    }
   },
   "outputs": [
    {
     "name": "stdout",
     "output_type": "stream",
     "text": [
      "The optimal kp is 1.404.\n"
     ]
    }
   ],
   "source": [
    "optkp = tvdn_paras.kappas[np.argmin(np.abs(numchgss.mean(axis=0)-12.5))]\n",
    "print(f\"The optimal kp is {optkp:.3f}.\")"
   ]
  },
  {
   "cell_type": "code",
   "execution_count": null,
   "id": "0f39d34b-50c5-468f-b327-4bc6222e1b1c",
   "metadata": {},
   "outputs": [],
   "source": []
  },
  {
   "cell_type": "markdown",
   "id": "c0fa7159-4e9b-4fad-9d5d-9b78985a17b4",
   "metadata": {},
   "source": [
    "## Get features"
   ]
  },
  {
   "cell_type": "code",
   "execution_count": 79,
   "id": "5c145a33-fc53-43b6-9ba7-4895417f25ff",
   "metadata": {
    "execution": {
     "iopub.execute_input": "2023-11-07T19:02:35.712955Z",
     "iopub.status.busy": "2023-11-07T19:02:35.712398Z",
     "iopub.status.idle": "2023-11-07T19:02:41.258832Z",
     "shell.execute_reply": "2023-11-07T19:02:41.258104Z",
     "shell.execute_reply.started": "2023-11-07T19:02:35.712918Z"
    }
   },
   "outputs": [
    {
     "name": "stderr",
     "output_type": "stream",
     "text": [
      "  0%|                                                                                                                                                  | 0/321 [00:00<?, ?it/s]/MyResearch/jesse_data/notebooks/../mypkg/pyTVDN/TVDNclass_SC.py:317: UserWarning: As loading the saved results, kappa will be ignored\n",
      "  warnings.warn(\"As loading the saved results, kappa will be ignored\", UserWarning)\n",
      "100%|████████████████████████████████████████████████████████████████████████████████████████████████████████████████████████████████████████| 321/321 [00:05<00:00, 58.15it/s]"
     ]
    },
    {
     "name": "stdout",
     "output_type": "stream",
     "text": [
      "Save to /MyResearch/jesse_data/notebooks/../mypkg/../results/tvdnsc_ecptss_kp1404.pkl\n"
     ]
    },
    {
     "name": "stderr",
     "output_type": "stream",
     "text": [
      "\n"
     ]
    }
   ],
   "source": [
    "ecptss = []\n",
    "for sub_ix in trange(1, num_sps+1):\n",
    "    det = _run_fn(sub_ix)\n",
    "    det.TuningKappa(tvdn_paras.kappas)\n",
    "    det.UpdateEcpts(det.numchgs[tvdn_paras.kappas==optkp][0])\n",
    "    ecptss.append(det.ecpts)\n",
    "save_pkl(RES_ROOT/f\"tvdnsc_ecptss_kp{optkp*1000:.0f}.pkl\", ecptss, is_force=True)"
   ]
  },
  {
   "cell_type": "markdown",
   "id": "e141423b-fad1-46ee-8c22-668d70273a2e",
   "metadata": {},
   "source": [
    "# Analyze"
   ]
  },
  {
   "cell_type": "code",
   "execution_count": 9,
   "id": "622e71bd-6bad-4d9f-bda7-c7d613151175",
   "metadata": {
    "ExecuteTime": {
     "end_time": "2023-11-09T23:46:03.172752Z",
     "start_time": "2023-11-09T23:46:03.153274Z"
    },
    "execution": {
     "iopub.execute_input": "2023-11-07T19:02:44.591516Z",
     "iopub.status.busy": "2023-11-07T19:02:44.591158Z",
     "iopub.status.idle": "2023-11-07T19:02:44.613133Z",
     "shell.execute_reply": "2023-11-07T19:02:44.612283Z",
     "shell.execute_reply.started": "2023-11-07T19:02:44.591480Z"
    }
   },
   "outputs": [
    {
     "name": "stdout",
     "output_type": "stream",
     "text": [
      "Load file /MyResearch/jesse_data/notebooks/../mypkg/../results/tvdnsc_ecptss_kp1404.pkl\n"
     ]
    }
   ],
   "source": [
    "ecptss = load_pkl(RES_ROOT/f\"tvdnsc_ecptss_kp1404.pkl\")\n",
    "ncpts = np.array([len(ecpts) for ecpts in ecptss])"
   ]
  },
  {
   "cell_type": "code",
   "execution_count": 11,
   "id": "8cb8ad02",
   "metadata": {
    "ExecuteTime": {
     "end_time": "2023-11-09T23:46:28.220815Z",
     "start_time": "2023-11-09T23:46:28.203011Z"
    }
   },
   "outputs": [],
   "source": [
    "diag_labs = mat_data[\"dx_321\"].reshape(-1)\n",
    "sex_labs = mat_data[\"sex_321\"].reshape(-1)\n",
    "mmse_scores = mat_data[\"mmse_321\"].reshape(-1)\n",
    "diag_lab_mapping = {\n",
    " 1: \"AD\",\n",
    " 2: \"bvFTD\",\n",
    " 3: \"CBS\", \n",
    " 4: \"nfvPPA\", \n",
    " 5: \"svPPA\", \n",
    " 6: \"HC\"\n",
    "}"
   ]
  },
  {
   "cell_type": "code",
   "execution_count": 12,
   "id": "ce8b95dc-0f98-4429-a701-11383bb2e335",
   "metadata": {
    "ExecuteTime": {
     "end_time": "2023-11-09T23:46:28.765836Z",
     "start_time": "2023-11-09T23:46:28.739513Z"
    },
    "execution": {
     "iopub.execute_input": "2023-11-07T19:02:46.194572Z",
     "iopub.status.busy": "2023-11-07T19:02:46.194195Z",
     "iopub.status.idle": "2023-11-07T19:02:46.359067Z",
     "shell.execute_reply": "2023-11-07T19:02:46.358449Z",
     "shell.execute_reply.started": "2023-11-07T19:02:46.194536Z"
    }
   },
   "outputs": [
    {
     "data": {
      "text/html": [
       "<table>\n",
       "    <thead>\n",
       "        <tr>\n",
       "            <th>Test</th>\n",
       "            <th>Pval</th>\n",
       "            <th>Effect size</th>\n",
       "        </tr>\n",
       "    </thead>\n",
       "    <tbody>\n",
       "        <tr>\n",
       "            <td>*AD vs HC</td>\n",
       "            <td> 0.034</td>\n",
       "            <td> 0.314</td>\n",
       "        </tr>\n",
       "        <tr>\n",
       "            <td>bvFTD vs HC</td>\n",
       "            <td> 0.721</td>\n",
       "            <td> 0.066</td>\n",
       "        </tr>\n",
       "        <tr>\n",
       "            <td>CBS vs HC</td>\n",
       "            <td> 0.384</td>\n",
       "            <td> 0.189</td>\n",
       "        </tr>\n",
       "        <tr>\n",
       "            <td>nfvPPA vs HC</td>\n",
       "            <td> 0.601</td>\n",
       "            <td> 0.104</td>\n",
       "        </tr>\n",
       "        <tr>\n",
       "            <td>svPPA vs HC</td>\n",
       "            <td> 0.487</td>\n",
       "            <td> 0.134</td>\n",
       "        </tr>\n",
       "        <tr>\n",
       "            <td>Dementia vs HC</td>\n",
       "            <td> 0.105</td>\n",
       "            <td> 0.195</td>\n",
       "        </tr>\n",
       "        <tr>\n",
       "            <td>ANOVA</td>\n",
       "            <td> 0.423</td>\n",
       "            <td></td>\n",
       "        </tr>\n",
       "    </tbody>\n",
       "</table>"
      ],
      "text/plain": [
       "+----------------+--------+-------------+\n",
       "|           Test |  Pval  | Effect size |\n",
       "+----------------+--------+-------------+\n",
       "|      *AD vs HC |  0.034 |     0.314   |\n",
       "|    bvFTD vs HC |  0.721 |     0.066   |\n",
       "|      CBS vs HC |  0.384 |     0.189   |\n",
       "|   nfvPPA vs HC |  0.601 |     0.104   |\n",
       "|    svPPA vs HC |  0.487 |     0.134   |\n",
       "| Dementia vs HC |  0.105 |     0.195   |\n",
       "|          ANOVA |  0.423 |             |\n",
       "+----------------+--------+-------------+"
      ]
     },
     "execution_count": 12,
     "metadata": {},
     "output_type": "execute_result"
    }
   ],
   "source": [
    "res_df = pd.DataFrame({\n",
    "    \"metric\": ncpts, \n",
    "    \"sex\": sex_labs, \n",
    "    \"diagnosis\": diag_labs\n",
    "})\n",
    "res_df[\"diagnosis1\"] = res_df[\"diagnosis\"].map(diag_lab_mapping)\n",
    "_get_test_tb(res_df)"
   ]
  },
  {
   "cell_type": "code",
   "execution_count": 13,
   "id": "6b32dca9-0431-49c7-b12a-ccf627a11a93",
   "metadata": {
    "ExecuteTime": {
     "end_time": "2023-11-09T23:46:41.498849Z",
     "start_time": "2023-11-09T23:46:41.465142Z"
    },
    "execution": {
     "iopub.execute_input": "2023-11-07T19:03:09.105969Z",
     "iopub.status.busy": "2023-11-07T19:03:09.105577Z",
     "iopub.status.idle": "2023-11-07T19:03:09.142863Z",
     "shell.execute_reply": "2023-11-07T19:03:09.142240Z",
     "shell.execute_reply.started": "2023-11-07T19:03:09.105934Z"
    }
   },
   "outputs": [
    {
     "data": {
      "text/html": [
       "<div>\n",
       "<style scoped>\n",
       "    .dataframe tbody tr th:only-of-type {\n",
       "        vertical-align: middle;\n",
       "    }\n",
       "\n",
       "    .dataframe tbody tr th {\n",
       "        vertical-align: top;\n",
       "    }\n",
       "\n",
       "    .dataframe thead th {\n",
       "        text-align: right;\n",
       "    }\n",
       "</style>\n",
       "<table border=\"1\" class=\"dataframe\">\n",
       "  <thead>\n",
       "    <tr style=\"text-align: right;\">\n",
       "      <th></th>\n",
       "      <th>count</th>\n",
       "      <th>mean</th>\n",
       "      <th>std</th>\n",
       "      <th>min</th>\n",
       "      <th>25%</th>\n",
       "      <th>50%</th>\n",
       "      <th>75%</th>\n",
       "      <th>max</th>\n",
       "    </tr>\n",
       "    <tr>\n",
       "      <th>diagnosis1</th>\n",
       "      <th></th>\n",
       "      <th></th>\n",
       "      <th></th>\n",
       "      <th></th>\n",
       "      <th></th>\n",
       "      <th></th>\n",
       "      <th></th>\n",
       "      <th></th>\n",
       "    </tr>\n",
       "  </thead>\n",
       "  <tbody>\n",
       "    <tr>\n",
       "      <th>AD</th>\n",
       "      <td>82.0</td>\n",
       "      <td>12.865854</td>\n",
       "      <td>0.698538</td>\n",
       "      <td>11.0</td>\n",
       "      <td>12.0</td>\n",
       "      <td>13.0</td>\n",
       "      <td>13.0</td>\n",
       "      <td>14.0</td>\n",
       "    </tr>\n",
       "    <tr>\n",
       "      <th>CBS</th>\n",
       "      <td>27.0</td>\n",
       "      <td>12.777778</td>\n",
       "      <td>0.800641</td>\n",
       "      <td>11.0</td>\n",
       "      <td>12.0</td>\n",
       "      <td>13.0</td>\n",
       "      <td>13.0</td>\n",
       "      <td>15.0</td>\n",
       "    </tr>\n",
       "    <tr>\n",
       "      <th>HC</th>\n",
       "      <td>100.0</td>\n",
       "      <td>12.630000</td>\n",
       "      <td>0.774010</td>\n",
       "      <td>11.0</td>\n",
       "      <td>12.0</td>\n",
       "      <td>13.0</td>\n",
       "      <td>13.0</td>\n",
       "      <td>15.0</td>\n",
       "    </tr>\n",
       "    <tr>\n",
       "      <th>bvFTD</th>\n",
       "      <td>41.0</td>\n",
       "      <td>12.682927</td>\n",
       "      <td>0.849677</td>\n",
       "      <td>11.0</td>\n",
       "      <td>12.0</td>\n",
       "      <td>13.0</td>\n",
       "      <td>13.0</td>\n",
       "      <td>14.0</td>\n",
       "    </tr>\n",
       "    <tr>\n",
       "      <th>nfvPPA</th>\n",
       "      <td>34.0</td>\n",
       "      <td>12.705882</td>\n",
       "      <td>0.578892</td>\n",
       "      <td>11.0</td>\n",
       "      <td>12.0</td>\n",
       "      <td>13.0</td>\n",
       "      <td>13.0</td>\n",
       "      <td>14.0</td>\n",
       "    </tr>\n",
       "    <tr>\n",
       "      <th>svPPA</th>\n",
       "      <td>37.0</td>\n",
       "      <td>12.729730</td>\n",
       "      <td>0.651863</td>\n",
       "      <td>12.0</td>\n",
       "      <td>12.0</td>\n",
       "      <td>13.0</td>\n",
       "      <td>13.0</td>\n",
       "      <td>14.0</td>\n",
       "    </tr>\n",
       "  </tbody>\n",
       "</table>\n",
       "</div>"
      ],
      "text/plain": [
       "            count       mean       std   min   25%   50%   75%   max\n",
       "diagnosis1                                                          \n",
       "AD           82.0  12.865854  0.698538  11.0  12.0  13.0  13.0  14.0\n",
       "CBS          27.0  12.777778  0.800641  11.0  12.0  13.0  13.0  15.0\n",
       "HC          100.0  12.630000  0.774010  11.0  12.0  13.0  13.0  15.0\n",
       "bvFTD        41.0  12.682927  0.849677  11.0  12.0  13.0  13.0  14.0\n",
       "nfvPPA       34.0  12.705882  0.578892  11.0  12.0  13.0  13.0  14.0\n",
       "svPPA        37.0  12.729730  0.651863  12.0  12.0  13.0  13.0  14.0"
      ]
     },
     "execution_count": 13,
     "metadata": {},
     "output_type": "execute_result"
    }
   ],
   "source": [
    "res_df.groupby(\"diagnosis1\")[\"metric\"].describe()"
   ]
  },
  {
   "cell_type": "code",
   "execution_count": null,
   "id": "a55fe95f-a169-4b6e-93ef-8463c8b60fa7",
   "metadata": {},
   "outputs": [],
   "source": []
  }
 ],
 "metadata": {
  "kernelspec": {
   "display_name": "Python 3 (ipykernel)",
   "language": "python",
   "name": "python3"
  },
  "language_info": {
   "codemirror_mode": {
    "name": "ipython",
    "version": 3
   },
   "file_extension": ".py",
   "mimetype": "text/x-python",
   "name": "python",
   "nbconvert_exporter": "python",
   "pygments_lexer": "ipython3",
   "version": "3.9.7"
  },
  "toc": {
   "base_numbering": 1,
   "nav_menu": {},
   "number_sections": true,
   "sideBar": true,
   "skip_h1_title": false,
   "title_cell": "Table of Contents",
   "title_sidebar": "Contents",
   "toc_cell": false,
   "toc_position": {},
   "toc_section_display": true,
   "toc_window_display": true
  }
 },
 "nbformat": 4,
 "nbformat_minor": 5
}
