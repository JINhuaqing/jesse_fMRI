{
 "cells": [
  {
   "cell_type": "markdown",
   "id": "55950736-4778-4461-a7e4-6a9323a8d9f5",
   "metadata": {},
   "source": [
    "In this file I analysis fMRI data with sgm-fMRI.\n"
   ]
  },
  {
   "cell_type": "code",
   "execution_count": 1,
   "id": "f6316349-3e91-4ded-92a2-dd20ed6b1b17",
   "metadata": {
    "ExecuteTime": {
     "end_time": "2023-12-01T19:10:07.634607Z",
     "start_time": "2023-12-01T19:10:07.627565Z"
    },
    "execution": {
     "iopub.execute_input": "2023-11-07T03:27:56.995235Z",
     "iopub.status.busy": "2023-11-07T03:27:56.993748Z",
     "iopub.status.idle": "2023-11-07T03:27:57.007205Z",
     "shell.execute_reply": "2023-11-07T03:27:57.005890Z",
     "shell.execute_reply.started": "2023-11-07T03:27:56.995197Z"
    }
   },
   "outputs": [],
   "source": [
    "import sys\n",
    "sys.path.append(\"../mypkg\")"
   ]
  },
  {
   "cell_type": "code",
   "execution_count": 2,
   "id": "761d4b55-4cb4-44a5-a408-1b9cbbc946b7",
   "metadata": {
    "ExecuteTime": {
     "end_time": "2023-12-01T19:10:12.461430Z",
     "start_time": "2023-12-01T19:10:07.638266Z"
    },
    "execution": {
     "iopub.execute_input": "2023-11-07T03:27:57.142525Z",
     "iopub.status.busy": "2023-11-07T03:27:57.142147Z",
     "iopub.status.idle": "2023-11-07T03:27:57.209843Z",
     "shell.execute_reply": "2023-11-07T03:27:57.208993Z",
     "shell.execute_reply.started": "2023-11-07T03:27:57.142490Z"
    }
   },
   "outputs": [],
   "source": [
    "from constants import RES_ROOT, FIG_ROOT, DATA_ROOT\n",
    "from utils.misc import load_pkl, save_pkl, get_ball_cor\n",
    "from utils.colors import qual_cmap\n",
    "from sgm_fMRI.sgm import sgm_fMRI"
   ]
  },
  {
   "cell_type": "code",
   "execution_count": 3,
   "id": "3b79c385",
   "metadata": {
    "ExecuteTime": {
     "end_time": "2023-12-01T19:10:12.486620Z",
     "start_time": "2023-12-01T19:10:12.465667Z"
    }
   },
   "outputs": [],
   "source": [
    "%load_ext autoreload\n",
    "%autoreload 2\n",
    "# 0,1, 2, 3, be careful about the space"
   ]
  },
  {
   "cell_type": "code",
   "execution_count": 4,
   "id": "dd91ad51-fb83-4993-85e0-f089b427c9d6",
   "metadata": {
    "ExecuteTime": {
     "end_time": "2023-12-01T19:10:13.687363Z",
     "start_time": "2023-12-01T19:10:12.491386Z"
    },
    "execution": {
     "iopub.execute_input": "2023-11-07T03:27:57.462107Z",
     "iopub.status.busy": "2023-11-07T03:27:57.461635Z",
     "iopub.status.idle": "2023-11-07T03:27:58.146009Z",
     "shell.execute_reply": "2023-11-07T03:27:58.145200Z",
     "shell.execute_reply.started": "2023-11-07T03:27:57.462070Z"
    }
   },
   "outputs": [],
   "source": [
    "import numpy as np\n",
    "import scipy\n",
    "from scipy.io import loadmat\n",
    "from scipy import signal\n",
    "import matplotlib.pyplot as plt\n",
    "import seaborn as sns\n",
    "from tqdm import tqdm, trange\n",
    "from joblib import Parallel, delayed\n",
    "from easydict import EasyDict as edict\n",
    "import pandas as pd\n",
    "import logging\n",
    "\n",
    "plt.style.use(FIG_ROOT/'base.mplstyle')"
   ]
  },
  {
   "cell_type": "code",
   "execution_count": null,
   "id": "62ebe37d",
   "metadata": {},
   "outputs": [],
   "source": []
  },
  {
   "cell_type": "markdown",
   "id": "cd61ced4-9e45-453a-9c53-8a270823a8b2",
   "metadata": {},
   "source": [
    "# Fns and params"
   ]
  },
  {
   "cell_type": "markdown",
   "id": "2a3e0512-46ab-4f06-8b52-05216ec7ec7a",
   "metadata": {},
   "source": [
    "## Some fns"
   ]
  },
  {
   "cell_type": "code",
   "execution_count": 5,
   "id": "6028fd38",
   "metadata": {
    "ExecuteTime": {
     "end_time": "2023-12-01T19:10:13.735764Z",
     "start_time": "2023-12-01T19:10:13.691374Z"
    }
   },
   "outputs": [],
   "source": [
    "from prettytable import PrettyTable as PT\n",
    "from scipy.stats import f_oneway, ttest_ind, mannwhitneyu \n",
    "\n",
    "def _get_test_tb(res_df):\n",
    "    tb = PT()\n",
    "    tb.field_names = [\"Test\", \"Pval\", \"Effect size\"]\n",
    "    \n",
    "    HC = res_df[\"metric\"][res_df[\"diagnosis\"]==6]\n",
    "    \n",
    "    def indicator(pval):\n",
    "        if pval < 0.05:\n",
    "            return \"*\"\n",
    "        else:\n",
    "            return \"\"\n",
    "    # list all disease\n",
    "    for diag_ix in range(1, 6):\n",
    "        DS = res_df[\"metric\"][res_df[\"diagnosis\"]==diag_ix]\n",
    "        ttest_res = ttest_ind(DS, HC)\n",
    "        ttest_res1 = mannwhitneyu(DS, HC)\n",
    "        effect_size = (np.mean(DS)-np.mean(HC))/np.std(np.concatenate([DS, HC]), ddof=2)\n",
    "        tb.add_row([f\"{indicator(ttest_res.pvalue)}{diag_lab_mapping[diag_ix]} vs HC\", \n",
    "                      f\"{ttest_res.pvalue:>6.3f}\", \n",
    "                      f\"{effect_size:>6.3f}\"])\n",
    "        tb.add_row([f\"(non-param) {indicator(ttest_res1.pvalue)}{diag_lab_mapping[diag_ix]} vs HC\", \n",
    "                    f\"{ttest_res1.pvalue:>6.3f}\", \n",
    "                    f\"{effect_size:>6.3f}\"])\n",
    "    \n",
    "    # pool 5 diseases together\n",
    "    DS = res_df[\"metric\"][res_df[\"diagnosis\"]!=6]\n",
    "    ttest_res = ttest_ind(DS, HC)\n",
    "    ttest_res1 = mannwhitneyu(DS, HC)\n",
    "    effect_size = (np.mean(DS)-np.mean(HC))/np.std(np.concatenate([DS, HC]), ddof=2)\n",
    "    tb.add_row([f\"{indicator(ttest_res.pvalue)}Dementia vs HC\", \n",
    "                f\"{ttest_res.pvalue:>6.3f}\", \n",
    "                f\"{effect_size:>6.3f}\"])\n",
    "    tb.add_row([f\"(non-param) {indicator(ttest_res1.pvalue)}Dementia vs HC\", \n",
    "                f\"{ttest_res1.pvalue:>6.3f}\", \n",
    "                f\"{effect_size:>6.3f}\"])\n",
    "    \n",
    "    # anova\n",
    "    metric_grp = [res_df[\"metric\"][res_df[\"diagnosis\"]==grp_ix] for grp_ix in range(1, 7)]\n",
    "    anova_res = f_oneway(*metric_grp)\n",
    "    tb.add_row([f\"{indicator(anova_res.pvalue)}ANOVA\", \n",
    "                f\"{anova_res.pvalue:>6.3f}\", \n",
    "                f\"\"])\n",
    "    tb.align[\"Test\"] = \"r\"\n",
    "    tb.align[\"Pval\"] = \"c\"\n",
    "    tb.align[\"Effect size\"] = \"c\"\n",
    "    return tb"
   ]
  },
  {
   "cell_type": "code",
   "execution_count": 6,
   "id": "94714b2c-d3be-4815-9d74-20d42f0f3f0f",
   "metadata": {
    "ExecuteTime": {
     "end_time": "2023-12-01T19:10:13.760276Z",
     "start_time": "2023-12-01T19:10:13.740127Z"
    },
    "execution": {
     "iopub.execute_input": "2023-11-07T03:28:00.297583Z",
     "iopub.status.busy": "2023-11-07T03:28:00.297169Z",
     "iopub.status.idle": "2023-11-07T03:28:00.306720Z",
     "shell.execute_reply": "2023-11-07T03:28:00.305969Z",
     "shell.execute_reply.started": "2023-11-07T03:28:00.297547Z"
    }
   },
   "outputs": [],
   "source": [
    "def _preprocess_ts(ts):\n",
    "    \"\"\"preprocessing, \n",
    "        1. detrend\n",
    "        2. resample (len of seq has 235 or 555, I make it consistent to 235)\n",
    "    \"\"\"\n",
    "    ts = signal.detrend(ts);\n",
    "    if ts.shape[-1] > 235:\n",
    "        ts = signal.resample(ts, num=235, axis=-1)\n",
    "    return ts\n",
    "    \n",
    "    \n",
    "def _load_data(n):\n",
    "    \"\"\"Sub idx is from 1, n: the sub idx\n",
    "    \"\"\"\n",
    "    return mat_data['ts_321_273'][np.where(mat_data['subj_321_ts'][:, 0] == n)[0], :].transpose()"
   ]
  },
  {
   "cell_type": "markdown",
   "id": "27ceee6d-65f9-4da7-86e1-17d223e51ae5",
   "metadata": {},
   "source": [
    "## Load data and params"
   ]
  },
  {
   "cell_type": "code",
   "execution_count": 7,
   "id": "1b761799-d66a-441b-98f3-f13a2c1b0f0d",
   "metadata": {
    "ExecuteTime": {
     "end_time": "2023-12-01T19:10:15.545173Z",
     "start_time": "2023-12-01T19:10:13.761901Z"
    },
    "execution": {
     "iopub.execute_input": "2023-11-07T03:28:01.830510Z",
     "iopub.status.busy": "2023-11-07T03:28:01.830068Z",
     "iopub.status.idle": "2023-11-07T03:28:03.022752Z",
     "shell.execute_reply": "2023-11-07T03:28:03.021907Z",
     "shell.execute_reply.started": "2023-11-07T03:28:01.830473Z"
    }
   },
   "outputs": [
    {
     "name": "stdout",
     "output_type": "stream",
     "text": [
      "Load file /data/rajlab1/user_data/jin/MyResearch/jesse_data/notebooks/../mypkg/../data/ad_ftd_hc_fmri_data_7nets.pkl\n"
     ]
    }
   ],
   "source": [
    "# load data\n",
    "mat_data = loadmat(DATA_ROOT/\"ad_ftd_hc_fmri_data.mat\");\n",
    "SC_mat = loadmat(DATA_ROOT/\"SC_HC_BN_template_nature_order.mat\")[\"SC_template\"];\n",
    "\n",
    "# some parameters\n",
    "\n",
    "num_rois = 246 # the BNA has 246 regions\n",
    "num_sps = 321\n",
    "\n",
    "labs = pd.read_csv(DATA_ROOT/\"BN246_RegionList.csv\");\n",
    "yeo_7nets_lab = np.array(labs[\"Yeo_7network\"][:246]);\n",
    "\n",
    "yeo_7nets_dict = pd.read_csv(DATA_ROOT/\"yeo_7nets_dict.txt\");\n",
    "yeo_7nets_dict = {yeo_7nets_dict[\"lab\"][ix]:\"_\".join(yeo_7nets_dict[\"name\"][ix].strip().split(\" \"))\n",
    "                  for ix in range(7)}\n",
    "yeo_7nets_ts = load_pkl(DATA_ROOT/\"ad_ftd_hc_fmri_data_7nets.pkl\");"
   ]
  },
  {
   "cell_type": "markdown",
   "id": "f9da10d8",
   "metadata": {},
   "source": [
    "# Run SGM"
   ]
  },
  {
   "cell_type": "code",
   "execution_count": 8,
   "id": "590e8a95",
   "metadata": {
    "ExecuteTime": {
     "end_time": "2023-12-01T19:10:46.248341Z",
     "start_time": "2023-12-01T19:10:46.143290Z"
    }
   },
   "outputs": [],
   "source": [
    "sgm = sgm_fMRI(SC_mat);"
   ]
  },
  {
   "cell_type": "code",
   "execution_count": 9,
   "id": "b42656e7",
   "metadata": {
    "ExecuteTime": {
     "end_time": "2023-12-01T19:11:43.598246Z",
     "start_time": "2023-12-01T19:11:06.028089Z"
    }
   },
   "outputs": [
    {
     "name": "stderr",
     "output_type": "stream",
     "text": [
      "100%|████████████████████████████████████████████████████████████████████████████████████████████████████████████████████████████████████████| 321/321 [00:35<00:00,  9.08it/s]\n"
     ]
    }
   ],
   "source": [
    "def _run_fn(sub_ix):\n",
    "    ts = _load_data(sub_ix);\n",
    "    ts = _preprocess_ts(ts)[:num_rois];\n",
    "    sgm.add_data(ts.T, model_focus=\"both\")\n",
    "    sgm.fit()\n",
    "    \n",
    "    # save for the results\n",
    "    res = edict()\n",
    "    res.fitted_theta = sgm.fitted_theta\n",
    "    res.model_fc = sgm.forward_FC()\n",
    "    res.model_psd = sgm.forward_FX()\n",
    "    res.fit_res = sgm.fit_res\n",
    "    return res\n",
    "\n",
    "with Parallel(n_jobs=5) as parallel:\n",
    "    ress = parallel(delayed(_run_fn)(sub_ix) for sub_ix in tqdm(range(1, num_sps+1), total=num_sps))"
   ]
  },
  {
   "cell_type": "code",
   "execution_count": 10,
   "id": "78be2526",
   "metadata": {
    "ExecuteTime": {
     "end_time": "2023-12-01T19:12:37.340888Z",
     "start_time": "2023-12-01T19:12:36.278870Z"
    }
   },
   "outputs": [
    {
     "name": "stdout",
     "output_type": "stream",
     "text": [
      "Save to /data/rajlab1/user_data/jin/MyResearch/jesse_data/notebooks/../mypkg/../results/sgm_all_res.pkl\n"
     ]
    }
   ],
   "source": [
    "save_pkl(RES_ROOT/\"sgm_all_res.pkl\", ress);"
   ]
  },
  {
   "cell_type": "code",
   "execution_count": null,
   "id": "9ed119cf",
   "metadata": {},
   "outputs": [],
   "source": []
  },
  {
   "cell_type": "markdown",
   "id": "83a11ad1",
   "metadata": {},
   "source": [
    "# Analysis"
   ]
  },
  {
   "cell_type": "code",
   "execution_count": 13,
   "id": "e3e0179b",
   "metadata": {
    "ExecuteTime": {
     "end_time": "2023-12-04T06:19:40.415811Z",
     "start_time": "2023-12-04T06:19:40.041634Z"
    },
    "execution": {
     "iopub.execute_input": "2023-11-07T03:28:19.070541Z",
     "iopub.status.busy": "2023-11-07T03:28:19.070082Z",
     "iopub.status.idle": "2023-11-07T03:28:19.076036Z",
     "shell.execute_reply": "2023-11-07T03:28:19.074991Z",
     "shell.execute_reply.started": "2023-11-07T03:28:19.070505Z"
    }
   },
   "outputs": [
    {
     "data": {
      "text/plain": [
       "{1: 'AD', 2: 'bvFTD', 3: 'CBS', 4: 'nfvPPA', 5: 'svPPA', 6: 'HC'}"
      ]
     },
     "execution_count": 13,
     "metadata": {},
     "output_type": "execute_result"
    }
   ],
   "source": [
    "from scipy.stats import f_oneway, ttest_ind \n",
    "diag_labs = mat_data[\"dx_321\"].reshape(-1)\n",
    "sex_labs = mat_data[\"sex_321\"].reshape(-1)\n",
    "diag_lab_mapping = {\n",
    " 1: \"AD\",\n",
    " 2: \"bvFTD\",\n",
    " 3: \"CBS\", \n",
    " 4: \"nfvPPA\", \n",
    " 5: \"svPPA\", \n",
    " 6: \"HC\"\n",
    "}"
   ]
  },
  {
   "cell_type": "code",
   "execution_count": 50,
   "id": "e952fb8d",
   "metadata": {
    "ExecuteTime": {
     "end_time": "2023-12-04T06:38:52.354550Z",
     "start_time": "2023-12-04T06:38:52.180153Z"
    }
   },
   "outputs": [
    {
     "data": {
      "text/html": [
       "<div>\n",
       "<style scoped>\n",
       "    .dataframe tbody tr th:only-of-type {\n",
       "        vertical-align: middle;\n",
       "    }\n",
       "\n",
       "    .dataframe tbody tr th {\n",
       "        vertical-align: top;\n",
       "    }\n",
       "\n",
       "    .dataframe thead th {\n",
       "        text-align: right;\n",
       "    }\n",
       "</style>\n",
       "<table border=\"1\" class=\"dataframe\">\n",
       "  <thead>\n",
       "    <tr style=\"text-align: right;\">\n",
       "      <th></th>\n",
       "      <th>count</th>\n",
       "      <th>mean</th>\n",
       "    </tr>\n",
       "    <tr>\n",
       "      <th>diag_labs</th>\n",
       "      <th></th>\n",
       "      <th></th>\n",
       "    </tr>\n",
       "  </thead>\n",
       "  <tbody>\n",
       "    <tr>\n",
       "      <th>1</th>\n",
       "      <td>82.0</td>\n",
       "      <td>0.353659</td>\n",
       "    </tr>\n",
       "    <tr>\n",
       "      <th>2</th>\n",
       "      <td>41.0</td>\n",
       "      <td>0.463415</td>\n",
       "    </tr>\n",
       "    <tr>\n",
       "      <th>3</th>\n",
       "      <td>27.0</td>\n",
       "      <td>0.629630</td>\n",
       "    </tr>\n",
       "    <tr>\n",
       "      <th>4</th>\n",
       "      <td>34.0</td>\n",
       "      <td>0.735294</td>\n",
       "    </tr>\n",
       "    <tr>\n",
       "      <th>5</th>\n",
       "      <td>37.0</td>\n",
       "      <td>0.810811</td>\n",
       "    </tr>\n",
       "    <tr>\n",
       "      <th>6</th>\n",
       "      <td>100.0</td>\n",
       "      <td>0.530000</td>\n",
       "    </tr>\n",
       "  </tbody>\n",
       "</table>\n",
       "</div>"
      ],
      "text/plain": [
       "           count      mean\n",
       "diag_labs                 \n",
       "1           82.0  0.353659\n",
       "2           41.0  0.463415\n",
       "3           27.0  0.629630\n",
       "4           34.0  0.735294\n",
       "5           37.0  0.810811\n",
       "6          100.0  0.530000"
      ]
     },
     "execution_count": 50,
     "metadata": {},
     "output_type": "execute_result"
    }
   ],
   "source": [
    "data_len = np.array([  _load_data(sub_ix).shape[1] for sub_ix in range(1, 322)]);\n",
    "df = pd.DataFrame({\"data_len\":data_len, \n",
    "                   \"diag_labs\": diag_labs});\n",
    "df[\"data_len_ix\"] = df[\"data_len\"].map(lambda x: int(x==235));\n",
    "df.groupby(\"diag_labs\")[\"data_len_ix\"].describe()[[\"count\", \"mean\"]]"
   ]
  },
  {
   "cell_type": "code",
   "execution_count": 14,
   "id": "90b9f09b",
   "metadata": {
    "ExecuteTime": {
     "end_time": "2023-12-04T06:19:42.942327Z",
     "start_time": "2023-12-04T06:19:40.417443Z"
    }
   },
   "outputs": [
    {
     "name": "stdout",
     "output_type": "stream",
     "text": [
      "Load file /data/rajlab1/user_data/jin/MyResearch/jesse_data/notebooks/../mypkg/../results/sgm_all_res.pkl\n"
     ]
    }
   ],
   "source": [
    "ress = load_pkl(RES_ROOT/\"sgm_all_res.pkl\");"
   ]
  },
  {
   "cell_type": "code",
   "execution_count": 20,
   "id": "2cf950a2",
   "metadata": {
    "ExecuteTime": {
     "end_time": "2023-12-04T06:23:45.573320Z",
     "start_time": "2023-12-04T06:23:45.512486Z"
    }
   },
   "outputs": [
    {
     "data": {
      "text/plain": [
       "dict_keys(['fitted_theta', 'model_fc', 'model_psd', 'fit_res'])"
      ]
     },
     "execution_count": 20,
     "metadata": {},
     "output_type": "execute_result"
    }
   ],
   "source": [
    "ress[0].keys()"
   ]
  },
  {
   "cell_type": "markdown",
   "id": "38cbf607",
   "metadata": {},
   "source": [
    "## Theta\n",
    "\n",
    "[alpha, tau]"
   ]
  },
  {
   "cell_type": "code",
   "execution_count": 28,
   "id": "bd96b716",
   "metadata": {
    "ExecuteTime": {
     "end_time": "2023-12-04T06:29:12.335546Z",
     "start_time": "2023-12-04T06:29:12.163321Z"
    }
   },
   "outputs": [
    {
     "name": "stdout",
     "output_type": "stream",
     "text": [
      "Alpha (coupling constant?)\n",
      "+-----------------------------+--------+-------------+\n",
      "|                        Test |  Pval  | Effect size |\n",
      "+-----------------------------+--------+-------------+\n",
      "|                    AD vs HC |  0.092 |     0.251   |\n",
      "|       (non-param) *AD vs HC |  0.038 |     0.251   |\n",
      "|                 bvFTD vs HC |  0.193 |     0.241   |\n",
      "|     (non-param) bvFTD vs HC |  0.308 |     0.241   |\n",
      "|                  *CBS vs HC |  0.044 |     0.434   |\n",
      "|      (non-param) *CBS vs HC |  0.013 |     0.434   |\n",
      "|                nfvPPA vs HC |  0.105 |     0.321   |\n",
      "|   (non-param) *nfvPPA vs HC |  0.050 |     0.321   |\n",
      "|                 svPPA vs HC |  0.260 |     0.217   |\n",
      "|     (non-param) svPPA vs HC |  0.162 |     0.217   |\n",
      "|             *Dementia vs HC |  0.030 |     0.261   |\n",
      "| (non-param) *Dementia vs HC |  0.008 |     0.261   |\n",
      "|                       ANOVA |  0.355 |             |\n",
      "+-----------------------------+--------+-------------+\n"
     ]
    },
    {
     "data": {
      "image/png": "[encoded data removed]",
      "text/plain": [
       "<Figure size 1000x500 with 1 Axes>"
      ]
     },
     "metadata": {
      "needs_background": "light"
     },
     "output_type": "display_data"
    }
   ],
   "source": [
    "metric = \"Alpha\"\n",
    "metrics = np.array([res[\"fitted_theta\"][0] for res in ress])\n",
    "res_df = pd.DataFrame({\n",
    "    \"metric\": metrics, \n",
    "    \"sex\": sex_labs, \n",
    "    \"diagnosis\": diag_labs\n",
    "})\n",
    "res_df[\"diagnosis1\"] = res_df[\"diagnosis\"].map(diag_lab_mapping)\n",
    "sns.boxplot(data=res_df, x=\"diagnosis1\", y=\"metric\", showfliers=False)\n",
    "plt.xlabel(\"Group\")\n",
    "plt.ylabel(f\"{metric}\")\n",
    "print(f\"{metric} (coupling constant?)\")\n",
    "print(_get_test_tb(res_df))"
   ]
  },
  {
   "cell_type": "code",
   "execution_count": 27,
   "id": "d7facd81",
   "metadata": {
    "ExecuteTime": {
     "end_time": "2023-12-04T06:28:47.850445Z",
     "start_time": "2023-12-04T06:28:47.647657Z"
    }
   },
   "outputs": [
    {
     "name": "stdout",
     "output_type": "stream",
     "text": [
      "Tau (time constant?)\n",
      "+-----------------------------+--------+-------------+\n",
      "|                        Test |  Pval  | Effect size |\n",
      "+-----------------------------+--------+-------------+\n",
      "|                   *AD vs HC |  0.014 |    -0.363   |\n",
      "|       (non-param) *AD vs HC |  0.006 |    -0.363   |\n",
      "|                *bvFTD vs HC |  0.011 |    -0.466   |\n",
      "|    (non-param) *bvFTD vs HC |  0.006 |    -0.466   |\n",
      "|                  *CBS vs HC |  0.011 |    -0.543   |\n",
      "|      (non-param) *CBS vs HC |  0.001 |    -0.543   |\n",
      "|               *nfvPPA vs HC |  0.037 |    -0.411   |\n",
      "|    (non-param) nfvPPA vs HC |  0.082 |    -0.411   |\n",
      "|                 svPPA vs HC |  0.238 |    -0.227   |\n",
      "|     (non-param) svPPA vs HC |  0.400 |    -0.227   |\n",
      "|             *Dementia vs HC |  0.002 |    -0.372   |\n",
      "| (non-param) *Dementia vs HC |  0.001 |    -0.372   |\n",
      "|                      *ANOVA |  0.042 |             |\n",
      "+-----------------------------+--------+-------------+\n"
     ]
    },
    {
     "data": {
      "image/png": "[encoded data removed]",
      "text/plain": [
       "<Figure size 1000x500 with 1 Axes>"
      ]
     },
     "metadata": {
      "needs_background": "light"
     },
     "output_type": "display_data"
    }
   ],
   "source": [
    "metric = \"Tau\"\n",
    "metrics = np.array([res[\"fitted_theta\"][1] for res in ress])\n",
    "res_df = pd.DataFrame({\n",
    "    \"metric\": metrics, \n",
    "    \"sex\": sex_labs, \n",
    "    \"diagnosis\": diag_labs\n",
    "})\n",
    "res_df[\"diagnosis1\"] = res_df[\"diagnosis\"].map(diag_lab_mapping)\n",
    "sns.boxplot(data=res_df, x=\"diagnosis1\", y=\"metric\", showfliers=False)\n",
    "plt.xlabel(\"Group\")\n",
    "plt.ylabel(f\"{metric}\")\n",
    "print(f\"{metric} (time constant?)\")\n",
    "print(_get_test_tb(res_df))"
   ]
  },
  {
   "cell_type": "code",
   "execution_count": null,
   "id": "600065ab",
   "metadata": {},
   "outputs": [],
   "source": []
  }
 ],
 "metadata": {
  "kernelspec": {
   "display_name": "Python 3 (ipykernel)",
   "language": "python",
   "name": "python3"
  },
  "language_info": {
   "codemirror_mode": {
    "name": "ipython",
    "version": 3
   },
   "file_extension": ".py",
   "mimetype": "text/x-python",
   "name": "python",
   "nbconvert_exporter": "python",
   "pygments_lexer": "ipython3",
   "version": "3.9.7"
  },
  "toc": {
   "base_numbering": 1,
   "nav_menu": {},
   "number_sections": true,
   "sideBar": true,
   "skip_h1_title": false,
   "title_cell": "Table of Contents",
   "title_sidebar": "Contents",
   "toc_cell": false,
   "toc_position": {
    "height": "calc(100% - 180px)",
    "left": "10px",
    "top": "150px",
    "width": "165px"
   },
   "toc_section_display": true,
   "toc_window_display": true
  }
 },
 "nbformat": 4,
 "nbformat_minor": 5
}
