{
 "cells": [
  {
   "cell_type": "markdown",
   "id": "55950736-4778-4461-a7e4-6a9323a8d9f5",
   "metadata": {},
   "source": [
    "Further analysis of TVDN features\n"
   ]
  },
  {
   "cell_type": "code",
   "execution_count": 1,
   "id": "f6316349-3e91-4ded-92a2-dd20ed6b1b17",
   "metadata": {
    "ExecuteTime": {
     "end_time": "2023-12-15T21:16:20.971741Z",
     "start_time": "2023-12-15T21:16:20.958661Z"
    },
    "execution": {
     "iopub.execute_input": "2023-11-07T03:36:12.616334Z",
     "iopub.status.busy": "2023-11-07T03:36:12.614662Z",
     "iopub.status.idle": "2023-11-07T03:36:12.628632Z",
     "shell.execute_reply": "2023-11-07T03:36:12.627384Z",
     "shell.execute_reply.started": "2023-11-07T03:36:12.616294Z"
    }
   },
   "outputs": [],
   "source": [
    "import sys\n",
    "sys.path.append(\"../mypkg\")"
   ]
  },
  {
   "cell_type": "code",
   "execution_count": 2,
   "id": "761d4b55-4cb4-44a5-a408-1b9cbbc946b7",
   "metadata": {
    "ExecuteTime": {
     "end_time": "2023-12-15T21:16:23.277895Z",
     "start_time": "2023-12-15T21:16:21.914091Z"
    },
    "execution": {
     "iopub.execute_input": "2023-11-07T03:36:12.631245Z",
     "iopub.status.busy": "2023-11-07T03:36:12.630767Z",
     "iopub.status.idle": "2023-11-07T03:36:13.750291Z",
     "shell.execute_reply": "2023-11-07T03:36:13.749520Z",
     "shell.execute_reply.started": "2023-11-07T03:36:12.631217Z"
    }
   },
   "outputs": [],
   "source": [
    "from constants import RES_ROOT, FIG_ROOT, DATA_ROOT, MIDRES_ROOT\n",
    "from utils.misc import load_pkl, save_pkl\n",
    "from utils.colors import qual_cmap\n",
    "from pyTVDN import TVDNDetect"
   ]
  },
  {
   "cell_type": "code",
   "execution_count": 3,
   "id": "e60111a4-1bbb-46e0-974d-dfd801f3cde6",
   "metadata": {
    "ExecuteTime": {
     "end_time": "2023-12-15T21:16:23.686095Z",
     "start_time": "2023-12-15T21:16:23.656183Z"
    },
    "execution": {
     "iopub.execute_input": "2023-11-07T03:36:13.751449Z",
     "iopub.status.busy": "2023-11-07T03:36:13.751115Z",
     "iopub.status.idle": "2023-11-07T03:36:13.774652Z",
     "shell.execute_reply": "2023-11-07T03:36:13.773902Z",
     "shell.execute_reply.started": "2023-11-07T03:36:13.751426Z"
    }
   },
   "outputs": [],
   "source": [
    "%load_ext autoreload\n",
    "%autoreload 2\n",
    "# 0,1, 2, 3, be careful about the space"
   ]
  },
  {
   "cell_type": "code",
   "execution_count": 4,
   "id": "dd91ad51-fb83-4993-85e0-f089b427c9d6",
   "metadata": {
    "ExecuteTime": {
     "end_time": "2023-12-15T21:16:24.074972Z",
     "start_time": "2023-12-15T21:16:23.958044Z"
    },
    "execution": {
     "iopub.execute_input": "2023-11-07T03:36:13.779243Z",
     "iopub.status.busy": "2023-11-07T03:36:13.778947Z",
     "iopub.status.idle": "2023-11-07T03:36:13.833675Z",
     "shell.execute_reply": "2023-11-07T03:36:13.832985Z",
     "shell.execute_reply.started": "2023-11-07T03:36:13.779216Z"
    }
   },
   "outputs": [],
   "source": [
    "import numpy as np\n",
    "import itertools\n",
    "import scipy\n",
    "from scipy.io import loadmat\n",
    "from scipy import signal\n",
    "import matplotlib.pyplot as plt\n",
    "import seaborn as sns\n",
    "from tqdm import tqdm, trange\n",
    "import bct # the pkg to get graph features\n",
    "from joblib import Parallel, delayed\n",
    "from easydict import EasyDict as edict\n",
    "import pandas as pd\n",
    "\n",
    "plt.style.use(FIG_ROOT/'base.mplstyle')"
   ]
  },
  {
   "cell_type": "code",
   "execution_count": null,
   "id": "50be24b9-28de-4d07-a489-8482b89e9e6a",
   "metadata": {},
   "outputs": [],
   "source": []
  },
  {
   "cell_type": "markdown",
   "id": "cd61ced4-9e45-453a-9c53-8a270823a8b2",
   "metadata": {},
   "source": [
    "# Fns and params"
   ]
  },
  {
   "cell_type": "markdown",
   "id": "2a3e0512-46ab-4f06-8b52-05216ec7ec7a",
   "metadata": {},
   "source": [
    "## Some fns"
   ]
  },
  {
   "cell_type": "code",
   "execution_count": 14,
   "id": "c071b120",
   "metadata": {
    "ExecuteTime": {
     "end_time": "2023-12-15T21:29:14.773194Z",
     "start_time": "2023-12-15T21:29:14.675472Z"
    }
   },
   "outputs": [],
   "source": [
    "from prettytable import PrettyTable as PT\n",
    "from scipy.stats import f_oneway, ttest_ind, mannwhitneyu \n",
    "\n",
    "def _get_test_tb(res_df):\n",
    "    tb = PT()\n",
    "    tb.field_names = [\"Test\", \"Pval\", \"Effect size\"]\n",
    "    \n",
    "    HC = res_df[\"metric\"][res_df[\"diagnosis\"]==6]\n",
    "    \n",
    "    def indicator(pval):\n",
    "        if pval < 0.05:\n",
    "            return \"*\"\n",
    "        else:\n",
    "            return \"\"\n",
    "    # list all disease\n",
    "    for diag_ix in range(1, 6):\n",
    "        DS = res_df[\"metric\"][res_df[\"diagnosis\"]==diag_ix]\n",
    "        ttest_res = ttest_ind(DS, HC)\n",
    "        ttest_res1 = mannwhitneyu(DS, HC)\n",
    "        effect_size = (np.mean(DS)-np.mean(HC))/np.std(np.concatenate([DS, HC]), ddof=2)\n",
    "        tb.add_row([f\"{indicator(ttest_res.pvalue)}{diag_lab_mapping[diag_ix]} vs HC\", \n",
    "                      f\"{ttest_res.pvalue:>6.3f}\", \n",
    "                      f\"{effect_size:>6.3f}\"])\n",
    "        tb.add_row([f\"(non-param) {indicator(ttest_res1.pvalue)}{diag_lab_mapping[diag_ix]} vs HC\", \n",
    "                    f\"{ttest_res1.pvalue:>6.3f}\", \n",
    "                    f\"{effect_size:>6.3f}\"])\n",
    "    \n",
    "    # pool 5 diseases together\n",
    "    DS = res_df[\"metric\"][res_df[\"diagnosis\"]!=6]\n",
    "    ttest_res = ttest_ind(DS, HC)\n",
    "    ttest_res1 = mannwhitneyu(DS, HC)\n",
    "    effect_size = (np.mean(DS)-np.mean(HC))/np.std(np.concatenate([DS, HC]), ddof=2)\n",
    "    tb.add_row([f\"{indicator(ttest_res.pvalue)}Dementia vs HC\", \n",
    "                f\"{ttest_res.pvalue:>6.3f}\", \n",
    "                f\"{effect_size:>6.3f}\"])\n",
    "    tb.add_row([f\"(non-param) {indicator(ttest_res1.pvalue)}Dementia vs HC\", \n",
    "                f\"{ttest_res1.pvalue:>6.3f}\", \n",
    "                f\"{effect_size:>6.3f}\"])\n",
    "    \n",
    "    # anova\n",
    "    metric_grp = [res_df[\"metric\"][res_df[\"diagnosis\"]==grp_ix] for grp_ix in range(1, 7)]\n",
    "    anova_res = f_oneway(*metric_grp)\n",
    "    tb.add_row([f\"{indicator(anova_res.pvalue)}ANOVA\", \n",
    "                f\"{anova_res.pvalue:>6.3f}\", \n",
    "                f\"\"])\n",
    "    tb.align[\"Test\"] = \"r\"\n",
    "    tb.align[\"Pval\"] = \"c\"\n",
    "    tb.align[\"Effect size\"] = \"c\"\n",
    "    return tb"
   ]
  },
  {
   "cell_type": "code",
   "execution_count": 6,
   "id": "94714b2c-d3be-4815-9d74-20d42f0f3f0f",
   "metadata": {
    "ExecuteTime": {
     "end_time": "2023-12-15T21:16:30.034226Z",
     "start_time": "2023-12-15T21:16:30.004227Z"
    },
    "execution": {
     "iopub.execute_input": "2023-11-07T03:36:13.834760Z",
     "iopub.status.busy": "2023-11-07T03:36:13.834440Z",
     "iopub.status.idle": "2023-11-07T03:36:13.856145Z",
     "shell.execute_reply": "2023-11-07T03:36:13.855385Z",
     "shell.execute_reply.started": "2023-11-07T03:36:13.834738Z"
    }
   },
   "outputs": [],
   "source": [
    "def _preprocess_ts(ts):\n",
    "    \"\"\"preprocessing, \n",
    "        1. detrend\n",
    "        2. resample (len of seq has 235 or 555, I make it consistent to 235)\n",
    "    \"\"\"\n",
    "    ts = signal.detrend(ts);\n",
    "    if ts.shape[-1] > 235:\n",
    "        ts = signal.resample(ts, num=235, axis=-1)\n",
    "    return ts\n",
    "    \n",
    "    \n",
    "def _load_data(n):\n",
    "    \"\"\"Sub idx is from 1, n: the sub idx\n",
    "    \"\"\"\n",
    "    return mat_data['ts_321_273'][np.where(mat_data['subj_321_ts'][:, 0] == n)[0], :].transpose()"
   ]
  },
  {
   "cell_type": "markdown",
   "id": "27ceee6d-65f9-4da7-86e1-17d223e51ae5",
   "metadata": {},
   "source": [
    "## Load data and params"
   ]
  },
  {
   "cell_type": "code",
   "execution_count": 7,
   "id": "1b761799-d66a-441b-98f3-f13a2c1b0f0d",
   "metadata": {
    "ExecuteTime": {
     "end_time": "2023-12-15T21:16:32.173679Z",
     "start_time": "2023-12-15T21:16:30.985646Z"
    },
    "execution": {
     "iopub.execute_input": "2023-11-07T03:36:13.857232Z",
     "iopub.status.busy": "2023-11-07T03:36:13.856980Z",
     "iopub.status.idle": "2023-11-07T03:36:15.067488Z",
     "shell.execute_reply": "2023-11-07T03:36:15.066722Z",
     "shell.execute_reply.started": "2023-11-07T03:36:13.857209Z"
    }
   },
   "outputs": [
    {
     "name": "stdout",
     "output_type": "stream",
     "text": [
      "Load file /data/rajlab1/user_data/jin/MyResearch/jesse_data/notebooks/../mypkg/../data/ad_ftd_hc_fmri_data_7nets.pkl\n"
     ]
    },
    {
     "data": {
      "text/plain": [
       "485"
      ]
     },
     "execution_count": 7,
     "metadata": {},
     "output_type": "execute_result"
    }
   ],
   "source": [
    "# load data\n",
    "mat_data = loadmat(DATA_ROOT/\"ad_ftd_hc_fmri_data.mat\");\n",
    "\n",
    "\n",
    "yeo_7nets_dict = pd.read_csv(DATA_ROOT/\"yeo_7nets_dict.txt\");\n",
    "yeo_7nets_dict = {yeo_7nets_dict[\"lab\"][ix]:\"_\".join(yeo_7nets_dict[\"name\"][ix].strip().split(\" \"))\n",
    "                  for ix in range(7)}\n",
    "yeo_7nets_ts = load_pkl(DATA_ROOT/\"ad_ftd_hc_fmri_data_7nets.pkl\");\n",
    "\n",
    "\n",
    "labs = pd.read_csv(DATA_ROOT/\"BN246_RegionList.csv\");\n",
    "yeo_7nets_lab = np.array(labs[\"Yeo_7network\"][:246]);\n",
    "\n",
    "num_rois = 246 # the BNA has 246 regions\n",
    "num_sps = 321\n",
    "ac_time = 485"
   ]
  },
  {
   "cell_type": "code",
   "execution_count": 8,
   "id": "ccdd12a5-df3d-49ec-b197-380b5b28f999",
   "metadata": {
    "ExecuteTime": {
     "end_time": "2023-12-15T21:16:32.955515Z",
     "start_time": "2023-12-15T21:16:32.925189Z"
    },
    "execution": {
     "iopub.execute_input": "2023-11-07T03:37:02.549789Z",
     "iopub.status.busy": "2023-11-07T03:37:02.549391Z",
     "iopub.status.idle": "2023-11-07T03:37:02.570507Z",
     "shell.execute_reply": "2023-11-07T03:37:02.569750Z",
     "shell.execute_reply.started": "2023-11-07T03:37:02.549753Z"
    }
   },
   "outputs": [
    {
     "data": {
      "text/plain": [
       "{1: 'AD', 2: 'bvFTD', 3: 'CBS', 4: 'nfvPPA', 5: 'svPPA', 6: 'HC'}"
      ]
     },
     "execution_count": 8,
     "metadata": {},
     "output_type": "execute_result"
    }
   ],
   "source": [
    "diag_labs = mat_data[\"dx_321\"].reshape(-1)\n",
    "sex_labs = mat_data[\"sex_321\"].reshape(-1)\n",
    "mmse_scores = mat_data[\"mmse_321\"].reshape(-1)\n",
    "diag_lab_mapping = {\n",
    " 1: \"AD\",\n",
    " 2: \"bvFTD\",\n",
    " 3: \"CBS\", \n",
    " 4: \"nfvPPA\", \n",
    " 5: \"svPPA\", \n",
    " 6: \"HC\"\n",
    "}"
   ]
  },
  {
   "cell_type": "code",
   "execution_count": null,
   "id": "e448d9c8-e56e-44a9-a147-dd2afa2436c7",
   "metadata": {},
   "outputs": [],
   "source": []
  },
  {
   "cell_type": "markdown",
   "id": "d0cda321-53cd-4e7e-92fc-8f3857f4d226",
   "metadata": {},
   "source": [
    "# Extract TVDN"
   ]
  },
  {
   "cell_type": "code",
   "execution_count": 9,
   "id": "2bdb8864-47dd-4b50-85cd-eb52da7d18cc",
   "metadata": {
    "ExecuteTime": {
     "end_time": "2023-12-15T21:16:35.371523Z",
     "start_time": "2023-12-15T21:16:35.343032Z"
    },
    "execution": {
     "iopub.execute_input": "2023-11-07T03:36:20.413137Z",
     "iopub.status.busy": "2023-11-07T03:36:20.412669Z",
     "iopub.status.idle": "2023-11-07T03:36:20.434207Z",
     "shell.execute_reply": "2023-11-07T03:36:20.433444Z",
     "shell.execute_reply.started": "2023-11-07T03:36:20.413099Z"
    }
   },
   "outputs": [],
   "source": [
    "tvdn_paras = edict()\n",
    "# these two are most influential\n",
    "tvdn_paras.fct = 0.1\n",
    "tvdn_paras.lamb = 5e-5\n",
    "# r is moderately influential\n",
    "tvdn_paras.r = 0.8\n",
    "# not very important\n",
    "tvdn_paras.Lmin = 5\n",
    "tvdn_paras.MaxM = 20\n",
    "\n",
    "tvdn_paras.kappas = np.linspace(1, 2, 1000)"
   ]
  },
  {
   "cell_type": "code",
   "execution_count": null,
   "id": "c437cb6f-1c98-49d3-8d26-3d6f2b576a6d",
   "metadata": {},
   "outputs": [],
   "source": []
  },
  {
   "cell_type": "code",
   "execution_count": 10,
   "id": "81ee1196-7dc8-47b8-a318-f60ce7e7634b",
   "metadata": {
    "ExecuteTime": {
     "end_time": "2023-12-15T21:16:42.659484Z",
     "start_time": "2023-12-15T21:16:42.624829Z"
    },
    "execution": {
     "iopub.execute_input": "2023-11-07T18:56:59.338858Z",
     "iopub.status.busy": "2023-11-07T18:56:59.338454Z",
     "iopub.status.idle": "2023-11-07T18:56:59.357648Z",
     "shell.execute_reply": "2023-11-07T18:56:59.356833Z",
     "shell.execute_reply.started": "2023-11-07T18:56:59.338833Z"
    }
   },
   "outputs": [],
   "source": [
    "def _run_fn(sub_ix, net_ix, ncpts):\n",
    "    ts = yeo_7nets_ts[yeo_7nets_dict[net_ix]][sub_ix-1];\n",
    "    det = TVDNDetect(Ymat=ts,\n",
    "                     showProgress=False,\n",
    "                     saveDir=RES_ROOT/\"tvdn_7nets_res_MaxM20\",\n",
    "                     fName=f\"sub_{sub_ix}_{yeo_7nets_dict[net_ix]}\",\n",
    "                     dataType=\"fMRI\", \n",
    "                     MaxM=tvdn_paras.MaxM, \n",
    "                     Lmin=tvdn_paras.Lmin, \n",
    "                     fct=tvdn_paras.fct, \n",
    "                     lamb=tvdn_paras.lamb, \n",
    "                     r=tvdn_paras.r); \n",
    "    det()\n",
    "    det.UpdateEcpts(ncpts)\n",
    "    det.GetFeatures()\n",
    "    return det\n"
   ]
  },
  {
   "cell_type": "code",
   "execution_count": 11,
   "id": "599cacb4",
   "metadata": {
    "ExecuteTime": {
     "end_time": "2023-12-15T21:16:45.735532Z",
     "start_time": "2023-12-15T21:16:45.697641Z"
    }
   },
   "outputs": [
    {
     "data": {
      "text/plain": [
       "7"
      ]
     },
     "execution_count": 11,
     "metadata": {},
     "output_type": "execute_result"
    }
   ],
   "source": [
    "net_ix = 7 # only care about DMN"
   ]
  },
  {
   "cell_type": "code",
   "execution_count": 12,
   "id": "94587e14",
   "metadata": {
    "ExecuteTime": {
     "end_time": "2023-12-15T21:16:47.791463Z",
     "start_time": "2023-12-15T21:16:47.662309Z"
    },
    "execution": {
     "iopub.execute_input": "2023-11-07T19:01:46.081657Z",
     "iopub.status.busy": "2023-11-07T19:01:46.081437Z",
     "iopub.status.idle": "2023-11-07T19:01:46.101427Z",
     "shell.execute_reply": "2023-11-07T19:01:46.100458Z",
     "shell.execute_reply.started": "2023-11-07T19:01:46.081635Z"
    }
   },
   "outputs": [
    {
     "name": "stdout",
     "output_type": "stream",
     "text": [
      "Load file /data/rajlab1/user_data/jin/MyResearch/jesse_data/notebooks/../mypkg/../results/tvdnMaxM20_ranks_Default.pkl\n",
      "Load file /data/rajlab1/user_data/jin/MyResearch/jesse_data/notebooks/../mypkg/../results/tvdnMaxM20_ecptss_kp1647_Default.pkl\n"
     ]
    }
   ],
   "source": [
    "rks = np.array(load_pkl(RES_ROOT/f\"tvdnMaxM20_ranks_{yeo_7nets_dict[net_ix]}.pkl\"));\n",
    "ecptss = load_pkl(RES_ROOT/f\"tvdnMaxM20_ecptss_kp1647_{yeo_7nets_dict[net_ix]}.pkl\")\n",
    "ncpts = np.array([len(ecpts) for ecpts in ecptss]);"
   ]
  },
  {
   "cell_type": "code",
   "execution_count": 13,
   "id": "4ff7c5fe",
   "metadata": {
    "ExecuteTime": {
     "end_time": "2023-12-15T21:18:28.393828Z",
     "start_time": "2023-12-15T21:17:01.009524Z"
    }
   },
   "outputs": [
    {
     "name": "stderr",
     "output_type": "stream",
     "text": [
      "  0%|                                                                                                                                                  | 0/321 [00:00<?, ?it/s]/data/rajlab1/user_data/jin/MyResearch/jesse_data/notebooks/../mypkg/pyTVDN/TVDNclass.py:348: UserWarning: As loading the saved results, kappa will be ignored\n",
      "  warnings.warn(\"As loading the saved results, kappa will be ignored\", UserWarning)\n",
      "100%|████████████████████████████████████████████████████████████████████████████████████████████████████████████████████████████████████████| 321/321 [01:27<00:00,  3.68it/s]\n"
     ]
    }
   ],
   "source": [
    "wUs = []\n",
    "for sub_ix in trange(1, num_sps+1):\n",
    "    det = _run_fn(sub_ix, net_ix, ncpts[sub_ix-1]);\n",
    "    wU = det.curEigVecs @ np.array(det.curEigVals).T\n",
    "    assert np.allclose(np.abs(wU.imag).sum(), 0)\n",
    "    wU = wU.real;\n",
    "    wUs.append(wU)"
   ]
  },
  {
   "cell_type": "code",
   "execution_count": 79,
   "id": "ff882c68",
   "metadata": {
    "ExecuteTime": {
     "end_time": "2023-11-29T17:42:06.606187Z",
     "start_time": "2023-11-29T17:42:06.575105Z"
    }
   },
   "outputs": [],
   "source": [
    "wUs_sub_idx = np.concatenate([(ncpt+1)*[sub_ix+1] for sub_ix, ncpt in enumerate(ncpts)]);\n",
    "wUs_pool = np.concatenate(wUs, axis=1).T;\n",
    "\n",
    "wUs_diag_lab = np.zeros_like(wUs_sub_idx)\n",
    "for sub_ix in range(1, num_sps+1):\n",
    "    wUs_diag_lab[wUs_sub_idx==sub_ix] = diag_labs[sub_ix-1]"
   ]
  },
  {
   "cell_type": "code",
   "execution_count": 150,
   "id": "5f0320a2",
   "metadata": {
    "ExecuteTime": {
     "end_time": "2023-11-29T23:24:32.419257Z",
     "start_time": "2023-11-29T23:24:32.358803Z"
    }
   },
   "outputs": [],
   "source": [
    "_get_dwell = lambda ecpts: np.diff(np.concatenate([[0], ecpts, [235]]))*ac_time/235\n",
    "dwells = [_get_dwell(ecpts) for ecpts in ecptss]; "
   ]
  },
  {
   "cell_type": "code",
   "execution_count": null,
   "id": "cccae953",
   "metadata": {},
   "outputs": [],
   "source": []
  },
  {
   "cell_type": "markdown",
   "id": "21c18278",
   "metadata": {},
   "source": [
    "# Analysis"
   ]
  },
  {
   "cell_type": "code",
   "execution_count": 312,
   "id": "c6df154c",
   "metadata": {
    "ExecuteTime": {
     "end_time": "2023-11-30T18:13:33.392924Z",
     "start_time": "2023-11-30T18:13:33.372397Z"
    }
   },
   "outputs": [
    {
     "data": {
      "text/plain": [
       "5"
      ]
     },
     "execution_count": 312,
     "metadata": {},
     "output_type": "execute_result"
    }
   ],
   "source": [
    "n_comps = 8\n",
    "n_clus = 5"
   ]
  },
  {
   "cell_type": "code",
   "execution_count": null,
   "id": "76d8abe4",
   "metadata": {},
   "outputs": [],
   "source": []
  },
  {
   "cell_type": "markdown",
   "id": "96290cc5",
   "metadata": {},
   "source": [
    "## PCA and Clustering"
   ]
  },
  {
   "cell_type": "code",
   "execution_count": 338,
   "id": "c6153ecf",
   "metadata": {
    "ExecuteTime": {
     "end_time": "2023-12-04T06:45:16.287418Z",
     "start_time": "2023-12-04T06:45:14.972093Z"
    }
   },
   "outputs": [
    {
     "name": "stdout",
     "output_type": "stream",
     "text": [
      "The explained var ratio is 0.581.\n"
     ]
    }
   ],
   "source": [
    "from sklearn.decomposition import PCA\n",
    "pca = PCA(n_components=n_comps, random_state=0)\n",
    "pca.fit(wUs_pool)\n",
    "wUs_reduced = pca.transform(wUs_pool);\n",
    "print(f\"The explained var ratio is {pca.explained_variance_ratio_.sum():.3f}.\")"
   ]
  },
  {
   "cell_type": "code",
   "execution_count": 339,
   "id": "e8e03ed6",
   "metadata": {
    "ExecuteTime": {
     "end_time": "2023-12-04T06:45:19.675499Z",
     "start_time": "2023-12-04T06:45:18.998703Z"
    }
   },
   "outputs": [
    {
     "data": {
      "text/html": [
       "<div>\n",
       "<style scoped>\n",
       "    .dataframe tbody tr th:only-of-type {\n",
       "        vertical-align: middle;\n",
       "    }\n",
       "\n",
       "    .dataframe tbody tr th {\n",
       "        vertical-align: top;\n",
       "    }\n",
       "\n",
       "    .dataframe thead th {\n",
       "        text-align: right;\n",
       "    }\n",
       "</style>\n",
       "<table border=\"1\" class=\"dataframe\">\n",
       "  <thead>\n",
       "    <tr style=\"text-align: right;\">\n",
       "      <th></th>\n",
       "      <th>AD</th>\n",
       "      <th>bvFTD</th>\n",
       "      <th>CBS</th>\n",
       "      <th>nfvPPA</th>\n",
       "      <th>svPPA</th>\n",
       "      <th>HC</th>\n",
       "    </tr>\n",
       "    <tr>\n",
       "      <th>row_0</th>\n",
       "      <th></th>\n",
       "      <th></th>\n",
       "      <th></th>\n",
       "      <th></th>\n",
       "      <th></th>\n",
       "      <th></th>\n",
       "    </tr>\n",
       "  </thead>\n",
       "  <tbody>\n",
       "    <tr>\n",
       "      <th>0</th>\n",
       "      <td>0.212336</td>\n",
       "      <td>0.254682</td>\n",
       "      <td>0.158038</td>\n",
       "      <td>0.196507</td>\n",
       "      <td>0.173745</td>\n",
       "      <td>0.206667</td>\n",
       "    </tr>\n",
       "    <tr>\n",
       "      <th>1</th>\n",
       "      <td>0.178969</td>\n",
       "      <td>0.147940</td>\n",
       "      <td>0.215259</td>\n",
       "      <td>0.209607</td>\n",
       "      <td>0.249035</td>\n",
       "      <td>0.185926</td>\n",
       "    </tr>\n",
       "    <tr>\n",
       "      <th>2</th>\n",
       "      <td>0.175935</td>\n",
       "      <td>0.181648</td>\n",
       "      <td>0.209809</td>\n",
       "      <td>0.244541</td>\n",
       "      <td>0.158301</td>\n",
       "      <td>0.237037</td>\n",
       "    </tr>\n",
       "    <tr>\n",
       "      <th>3</th>\n",
       "      <td>0.238625</td>\n",
       "      <td>0.249064</td>\n",
       "      <td>0.179837</td>\n",
       "      <td>0.168122</td>\n",
       "      <td>0.202703</td>\n",
       "      <td>0.141481</td>\n",
       "    </tr>\n",
       "    <tr>\n",
       "      <th>4</th>\n",
       "      <td>0.194135</td>\n",
       "      <td>0.166667</td>\n",
       "      <td>0.237057</td>\n",
       "      <td>0.181223</td>\n",
       "      <td>0.216216</td>\n",
       "      <td>0.228889</td>\n",
       "    </tr>\n",
       "  </tbody>\n",
       "</table>\n",
       "</div>"
      ],
      "text/plain": [
       "             AD     bvFTD       CBS    nfvPPA     svPPA        HC\n",
       "row_0                                                            \n",
       "0      0.212336  0.254682  0.158038  0.196507  0.173745  0.206667\n",
       "1      0.178969  0.147940  0.215259  0.209607  0.249035  0.185926\n",
       "2      0.175935  0.181648  0.209809  0.244541  0.158301  0.237037\n",
       "3      0.238625  0.249064  0.179837  0.168122  0.202703  0.141481\n",
       "4      0.194135  0.166667  0.237057  0.181223  0.216216  0.228889"
      ]
     },
     "execution_count": 339,
     "metadata": {},
     "output_type": "execute_result"
    }
   ],
   "source": [
    "from sklearn.cluster import KMeans\n",
    "kmeans = KMeans(n_clusters=n_clus, random_state=0).fit(wUs_reduced)\n",
    "wUs_clu_labs = kmeans.labels_\n",
    "tb = pd.crosstab(kmeans.labels_, wUs_diag_lab)\n",
    "tbn = tb.div(tb.sum(), axis=1);\n",
    "tbn.columns = [diag_lab_mapping[ix] for ix in tbn.columns]\n",
    "tbn"
   ]
  },
  {
   "cell_type": "code",
   "execution_count": 336,
   "id": "7d525e84",
   "metadata": {
    "ExecuteTime": {
     "end_time": "2023-11-30T22:06:19.490145Z",
     "start_time": "2023-11-30T22:06:19.430747Z"
    }
   },
   "outputs": [],
   "source": [
    "map_vecs = pca.inverse_transform(kmeans.cluster_centers_);\n",
    "for clu_ix in range(n_clus):\n",
    "    vec = np.zeros(num_rois)\n",
    "    vec[yeo_7nets_lab==7] = map_vecs[clu_ix]\n",
    "    np.savetxt(MIDRES_ROOT/f\"cluster_{clu_ix}_brainvec.txt\", vec)"
   ]
  },
  {
   "cell_type": "code",
   "execution_count": 357,
   "id": "4425136e",
   "metadata": {
    "ExecuteTime": {
     "end_time": "2023-12-04T07:13:07.862726Z",
     "start_time": "2023-12-04T07:13:07.841972Z"
    }
   },
   "outputs": [
    {
     "data": {
      "text/plain": [
       "6.543227256905674"
      ]
     },
     "execution_count": 357,
     "metadata": {},
     "output_type": "execute_result"
    }
   ],
   "source": [
    "map_vecs[0].max()"
   ]
  },
  {
   "cell_type": "code",
   "execution_count": 340,
   "id": "363c8ba1",
   "metadata": {
    "ExecuteTime": {
     "end_time": "2023-12-04T06:45:23.761793Z",
     "start_time": "2023-12-04T06:45:23.737832Z"
    }
   },
   "outputs": [],
   "source": [
    "def update_trans_ct(cur_trans_ct, vec):\n",
    "    for ix in range(len(vec)-1):\n",
    "        from_ = vec[ix]\n",
    "        to_ = vec[ix+1]\n",
    "        cur_trans_ct[from_, to_] += 1\n",
    "    return cur_trans_ct\n",
    "\n",
    "cur_trans_ct = np.zeros((n_clus, n_clus));"
   ]
  },
  {
   "cell_type": "code",
   "execution_count": 342,
   "id": "35cf21af",
   "metadata": {
    "ExecuteTime": {
     "end_time": "2023-12-04T06:45:35.015678Z",
     "start_time": "2023-12-04T06:45:34.931214Z"
    }
   },
   "outputs": [],
   "source": [
    "trans_ct = {}\n",
    "for disease_ix in range(1, 7):\n",
    "    cur_trans_ct = np.zeros((n_clus, n_clus));\n",
    "    for sub_ix in (np.where(diag_labs == disease_ix)[0]+1):\n",
    "        vec = wUs_clu_labs[wUs_sub_idx==sub_ix]\n",
    "        update_trans_ct(cur_trans_ct, vec)\n",
    "    trans_ct[disease_ix] = cur_trans_ct\n",
    "    np.savetxt(MIDRES_ROOT/f\"trans_mat_{diag_lab_mapping[disease_ix]}.txt\", cur_trans_ct)"
   ]
  },
  {
   "cell_type": "code",
   "execution_count": null,
   "id": "3beb787d",
   "metadata": {},
   "outputs": [],
   "source": []
  },
  {
   "cell_type": "markdown",
   "id": "fab492eb",
   "metadata": {},
   "source": [
    "## Dwell time x cluster x Disease"
   ]
  },
  {
   "cell_type": "code",
   "execution_count": 343,
   "id": "6c9b0e59",
   "metadata": {
    "ExecuteTime": {
     "end_time": "2023-12-04T06:45:37.438552Z",
     "start_time": "2023-12-04T06:45:37.373971Z"
    }
   },
   "outputs": [],
   "source": [
    "dwells_pool = np.concatenate(dwells);"
   ]
  },
  {
   "cell_type": "code",
   "execution_count": 344,
   "id": "45e171ba",
   "metadata": {
    "ExecuteTime": {
     "end_time": "2023-12-04T06:45:38.045853Z",
     "start_time": "2023-12-04T06:45:38.024854Z"
    }
   },
   "outputs": [],
   "source": [
    "dwell_mat = np.zeros((n_clus, 6));\n",
    "for clu_ix in range(n_clus):\n",
    "    for grp_ix in range(1, 7):\n",
    "        sel_idx = np.bitwise_and(wUs_diag_lab==grp_ix, wUs_clu_labs==clu_ix)\n",
    "        dwell_mat[clu_ix, grp_ix-1] = np.sum(dwells_pool[sel_idx])"
   ]
  },
  {
   "cell_type": "code",
   "execution_count": 362,
   "id": "8b0ad1d5",
   "metadata": {
    "ExecuteTime": {
     "end_time": "2023-12-06T18:31:15.558682Z",
     "start_time": "2023-12-06T18:31:15.222808Z"
    }
   },
   "outputs": [
    {
     "data": {
      "image/png": "[encoded data removed]",
      "text/plain": [
       "<Figure size 1000x500 with 2 Axes>"
      ]
     },
     "metadata": {
      "needs_background": "light"
     },
     "output_type": "display_data"
    }
   ],
   "source": [
    "dwell_mat_persub = 485*dwell_mat/dwell_mat.sum(axis=0, keepdims=True);\n",
    "sns.heatmap(dwell_mat_persub.T, annot=True, fmt=\".3f\", cmap=\"Reds\")\n",
    "plt.ylabel(\"Group\")\n",
    "plt.xlabel(\"State\")\n",
    "plt.title(\"Avg Dwell time per subject\")\n",
    "plt.yticks(np.arange(6)+0.5, [diag_lab_mapping[ix] for ix in range(1, 7)], rotation=45);\n",
    "plt.xticks(np.arange(5)+0.5, np.arange(1, 6));"
   ]
  },
  {
   "cell_type": "code",
   "execution_count": 346,
   "id": "e0d4d9f3",
   "metadata": {
    "ExecuteTime": {
     "end_time": "2023-12-04T06:45:42.776991Z",
     "start_time": "2023-12-04T06:45:42.737443Z"
    }
   },
   "outputs": [],
   "source": [
    "dwell_persub_perclu = np.zeros((num_sps, n_clus))\n",
    "for sub_ix in range(1, num_sps+1):\n",
    "    for clu_ix in range(n_clus):\n",
    "        cur_idxs = np.bitwise_and(wUs_sub_idx==sub_ix, wUs_clu_labs==clu_ix)\n",
    "        dwell_persub_perclu[sub_ix-1, clu_ix] = np.sum(dwells_pool[cur_idxs])\n",
    "    "
   ]
  },
  {
   "cell_type": "code",
   "execution_count": 347,
   "id": "2efe893b",
   "metadata": {
    "ExecuteTime": {
     "end_time": "2023-12-04T06:45:44.458874Z",
     "start_time": "2023-12-04T06:45:43.240376Z"
    }
   },
   "outputs": [
    {
     "data": {
      "text/plain": [
       "<matplotlib.legend.Legend at 0x7f72dc4cf8b0>"
      ]
     },
     "execution_count": 347,
     "metadata": {},
     "output_type": "execute_result"
    },
    {
     "data": {
      "image/png": "[encoded data removed]",
      "text/plain": [
       "<Figure size 1000x500 with 1 Axes>"
      ]
     },
     "metadata": {
      "needs_background": "light"
     },
     "output_type": "display_data"
    }
   ],
   "source": [
    "df = pd.DataFrame({\n",
    "\"dwell\": dwell_persub_perclu.flatten(),\n",
    "\"cluster\": [f\"cluster {ix}\" for ix in range(n_clus)] * num_sps,\n",
    "\"diag\": np.repeat(diag_labs, n_clus)\n",
    "    })\n",
    "df[\"diag1\"] = df[\"diag\"].map(diag_lab_mapping)\n",
    "sns.boxplot(data=df, x=\"cluster\", y=\"dwell\", hue=\"diag1\", showfliers=1)\n",
    "#plt.xlim([-1, 5])\n",
    "plt.legend(fontsize=15)"
   ]
  },
  {
   "cell_type": "code",
   "execution_count": 348,
   "id": "7be9f081",
   "metadata": {
    "ExecuteTime": {
     "end_time": "2023-12-04T06:45:46.451893Z",
     "start_time": "2023-12-04T06:45:46.389269Z"
    }
   },
   "outputs": [
    {
     "name": "stdout",
     "output_type": "stream",
     "text": [
      "--------------------------------------------------\n",
      "Cluster 0\n",
      "Non-param T test: pval 0.430\n",
      "T test: pval 0.716 (AD-Ctrl: -0.364)\n",
      "--------------------------------------------------\n",
      "Cluster 1\n",
      "Non-param T test: pval 0.622\n",
      "T test: pval 0.857 (AD-Ctrl: 0.181)\n",
      "--------------------------------------------------\n",
      "Cluster 2\n",
      "Non-param T test: pval 0.066\n",
      "T test: pval 0.149 (AD-Ctrl: -1.449)\n",
      "--------------------------------------------------\n",
      "Cluster 3\n",
      "Non-param T test: pval 0.080\n",
      "T test: pval 0.026 (AD-Ctrl: 2.240)\n",
      "--------------------------------------------------\n",
      "Cluster 4\n",
      "Non-param T test: pval 0.180\n",
      "T test: pval 0.637 (AD-Ctrl: -0.473)\n"
     ]
    }
   ],
   "source": [
    "for clu_ix in range(n_clus):\n",
    "    vec1 = df[(df[\"diag1\"] ==\"AD\") & (df[\"cluster\"]==f\"cluster {clu_ix}\")][\"dwell\"]\n",
    "    vec2 = df[(df[\"diag1\"] ==\"HC\") & (df[\"cluster\"]==f\"cluster {clu_ix}\")][\"dwell\"]\n",
    "    test_res1 = scipy.stats.mannwhitneyu(vec1, vec2)\n",
    "    test_res2 = scipy.stats.ttest_ind(vec1, vec2)\n",
    "    print(\"-\"*50)\n",
    "    print(f\"Cluster {clu_ix}\")\n",
    "    print(f\"Non-param T test: pval {test_res1.pvalue:.3f}\")\n",
    "    print(f\"T test: pval {test_res2.pvalue:.3f} (AD-Ctrl: {test_res2.statistic:.3f})\")"
   ]
  },
  {
   "cell_type": "code",
   "execution_count": null,
   "id": "0542ec52",
   "metadata": {},
   "outputs": [],
   "source": []
  },
  {
   "cell_type": "code",
   "execution_count": null,
   "id": "e308c84c",
   "metadata": {},
   "outputs": [],
   "source": []
  }
 ],
 "metadata": {
  "kernelspec": {
   "display_name": "Python 3 (ipykernel)",
   "language": "python",
   "name": "python3"
  },
  "language_info": {
   "codemirror_mode": {
    "name": "ipython",
    "version": 3
   },
   "file_extension": ".py",
   "mimetype": "text/x-python",
   "name": "python",
   "nbconvert_exporter": "python",
   "pygments_lexer": "ipython3",
   "version": "3.9.7"
  },
  "toc": {
   "base_numbering": 1,
   "nav_menu": {},
   "number_sections": true,
   "sideBar": true,
   "skip_h1_title": false,
   "title_cell": "Table of Contents",
   "title_sidebar": "Contents",
   "toc_cell": false,
   "toc_position": {
    "height": "calc(100% - 180px)",
    "left": "10px",
    "top": "150px",
    "width": "233.391px"
   },
   "toc_section_display": true,
   "toc_window_display": true
  }
 },
 "nbformat": 4,
 "nbformat_minor": 5
}
