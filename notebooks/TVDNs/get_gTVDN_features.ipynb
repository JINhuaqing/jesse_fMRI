{
 "cells": [
  {
   "cell_type": "markdown",
   "id": "55950736-4778-4461-a7e4-6a9323a8d9f5",
   "metadata": {},
   "source": [
    "Extract feature from gTVDN (use method 1 or method 5)\n",
    "> In this file, we detect the switching pts without rank deduction.\n",
    "> For CPD, we sum the Amat for each subject in ctrl group and\n",
    "> do orthogonalization for both B1 (U) and B2 (V)."
   ]
  },
  {
   "cell_type": "code",
   "execution_count": 1,
   "id": "f6316349-3e91-4ded-92a2-dd20ed6b1b17",
   "metadata": {
    "ExecuteTime": {
     "end_time": "2023-12-21T04:46:05.539555Z",
     "start_time": "2023-12-21T04:46:05.533575Z"
    },
    "execution": {
     "iopub.execute_input": "2023-11-07T03:36:12.616334Z",
     "iopub.status.busy": "2023-11-07T03:36:12.614662Z",
     "iopub.status.idle": "2023-11-07T03:36:12.628632Z",
     "shell.execute_reply": "2023-11-07T03:36:12.627384Z",
     "shell.execute_reply.started": "2023-11-07T03:36:12.616294Z"
    }
   },
   "outputs": [],
   "source": [
    "import sys\n",
    "sys.path.append(\"../mypkg\")"
   ]
  },
  {
   "cell_type": "code",
   "execution_count": 2,
   "id": "761d4b55-4cb4-44a5-a408-1b9cbbc946b7",
   "metadata": {
    "ExecuteTime": {
     "end_time": "2023-12-21T04:46:06.383542Z",
     "start_time": "2023-12-21T04:46:05.540721Z"
    },
    "execution": {
     "iopub.execute_input": "2023-11-07T03:36:12.631245Z",
     "iopub.status.busy": "2023-11-07T03:36:12.630767Z",
     "iopub.status.idle": "2023-11-07T03:36:13.750291Z",
     "shell.execute_reply": "2023-11-07T03:36:13.749520Z",
     "shell.execute_reply.started": "2023-11-07T03:36:12.631217Z"
    }
   },
   "outputs": [],
   "source": [
    "from constants import RES_ROOT, FIG_ROOT, DATA_ROOT\n",
    "from utils.misc import load_pkl, save_pkl\n",
    "from utils.colors import qual_cmap"
   ]
  },
  {
   "cell_type": "code",
   "execution_count": 3,
   "id": "e60111a4-1bbb-46e0-974d-dfd801f3cde6",
   "metadata": {
    "ExecuteTime": {
     "end_time": "2023-12-21T04:46:06.394947Z",
     "start_time": "2023-12-21T04:46:06.385359Z"
    },
    "execution": {
     "iopub.execute_input": "2023-11-07T03:36:13.751449Z",
     "iopub.status.busy": "2023-11-07T03:36:13.751115Z",
     "iopub.status.idle": "2023-11-07T03:36:13.774652Z",
     "shell.execute_reply": "2023-11-07T03:36:13.773902Z",
     "shell.execute_reply.started": "2023-11-07T03:36:13.751426Z"
    }
   },
   "outputs": [],
   "source": [
    "%load_ext autoreload\n",
    "%autoreload 2\n",
    "# 0,1, 2, 3, be careful about the space"
   ]
  },
  {
   "cell_type": "code",
   "execution_count": 4,
   "id": "dd91ad51-fb83-4993-85e0-f089b427c9d6",
   "metadata": {
    "ExecuteTime": {
     "end_time": "2023-12-21T04:46:06.986878Z",
     "start_time": "2023-12-21T04:46:06.395790Z"
    },
    "execution": {
     "iopub.execute_input": "2023-11-07T03:36:13.779243Z",
     "iopub.status.busy": "2023-11-07T03:36:13.778947Z",
     "iopub.status.idle": "2023-11-07T03:36:13.833675Z",
     "shell.execute_reply": "2023-11-07T03:36:13.832985Z",
     "shell.execute_reply.started": "2023-11-07T03:36:13.779216Z"
    }
   },
   "outputs": [],
   "source": [
    "import numpy as np\n",
    "import scipy\n",
    "from scipy.io import loadmat\n",
    "from scipy import signal\n",
    "import matplotlib.pyplot as plt\n",
    "import seaborn as sns\n",
    "from tqdm import tqdm, trange\n",
    "import bct # the pkg to get graph features\n",
    "from joblib import Parallel, delayed\n",
    "from easydict import EasyDict as edict\n",
    "import pandas as pd\n",
    "from joblib import Parallel, delayed\n",
    "from IPython.display import display\n",
    "\n",
    "plt.style.use(FIG_ROOT/'base.mplstyle')"
   ]
  },
  {
   "cell_type": "code",
   "execution_count": null,
   "id": "50be24b9-28de-4d07-a489-8482b89e9e6a",
   "metadata": {},
   "outputs": [],
   "source": []
  },
  {
   "cell_type": "markdown",
   "id": "cd61ced4-9e45-453a-9c53-8a270823a8b2",
   "metadata": {},
   "source": [
    "# Fns and params"
   ]
  },
  {
   "cell_type": "markdown",
   "id": "2a3e0512-46ab-4f06-8b52-05216ec7ec7a",
   "metadata": {},
   "source": [
    "## Some fns"
   ]
  },
  {
   "cell_type": "code",
   "execution_count": 5,
   "id": "483e0418",
   "metadata": {
    "ExecuteTime": {
     "end_time": "2023-12-21T04:46:07.779110Z",
     "start_time": "2023-12-21T04:46:07.727553Z"
    }
   },
   "outputs": [],
   "source": [
    "from prettytable import PrettyTable as PT\n",
    "from scipy.stats import f_oneway, ttest_ind, mannwhitneyu\n",
    "\n",
    "def _get_test_tb(res_df, base_grp_id=6):\n",
    "    tb = PT()\n",
    "    tb.field_names = [\"Test\", \"Pval\", \"Effect size\"]\n",
    "    \n",
    "    base = res_df[\"metric\"][res_df[\"diagnosis\"]==base_grp_id]\n",
    "    grp_name = diag_lab_mapping[base_grp_id]\n",
    "    \n",
    "    def indicator(pval):\n",
    "        if pval < 0.05:\n",
    "            return \"*\"\n",
    "        else:\n",
    "            return \"\"\n",
    "    # list all disease\n",
    "    for diag_ix in np.setdiff1d(np.arange(1, 7), [base_grp_id]):\n",
    "        DS = res_df[\"metric\"][res_df[\"diagnosis\"]==diag_ix]\n",
    "        ttest_res = ttest_ind(DS, base)\n",
    "        ttest_res1 = mannwhitneyu(DS, base)\n",
    "        effect_size = (np.mean(DS)-np.mean(base))/np.std(np.concatenate([DS, base]), ddof=2)\n",
    "        tb.add_row([f\"{indicator(ttest_res.pvalue)}{diag_lab_mapping[diag_ix]} vs {grp_name}\", \n",
    "                      f\"{ttest_res.pvalue:>6.3f}\", \n",
    "                      f\"{effect_size:>6.3f}\"])\n",
    "        tb.add_row([f\"(non-param) {indicator(ttest_res1.pvalue)}{diag_lab_mapping[diag_ix]} vs {grp_name}\", \n",
    "                    f\"{ttest_res1.pvalue:>6.3f}\", \n",
    "                    f\"{effect_size:>6.3f}\"])\n",
    "    \n",
    "    # pool 5 diseases together\n",
    "    if base_grp_id == 6:\n",
    "        DS = res_df[\"metric\"][res_df[\"diagnosis\"]!=base_grp_id]\n",
    "        ttest_res = ttest_ind(DS, base)\n",
    "        ttest_res1 = mannwhitneyu(DS, base)\n",
    "        effect_size = (np.mean(DS)-np.mean(base))/np.std(np.concatenate([DS, base]), ddof=2)\n",
    "        tb.add_row([f\"{indicator(ttest_res.pvalue)}Dementia vs {grp_name}\", \n",
    "                    f\"{ttest_res.pvalue:>6.3f}\", \n",
    "                    f\"{effect_size:>6.3f}\"])\n",
    "        tb.add_row([f\"(non-param) {indicator(ttest_res1.pvalue)}Dementia vs {grp_name}\", \n",
    "                    f\"{ttest_res1.pvalue:>6.3f}\", \n",
    "                    f\"{effect_size:>6.3f}\"])\n",
    "    \n",
    "    # anova\n",
    "    metric_grp = [res_df[\"metric\"][res_df[\"diagnosis\"]==grp_ix] for grp_ix in range(1, 7)]\n",
    "    anova_res = f_oneway(*metric_grp)\n",
    "    tb.add_row([f\"{indicator(anova_res.pvalue)}ANOVA\", \n",
    "                f\"{anova_res.pvalue:>6.3f}\", \n",
    "                f\"\"])\n",
    "    tb.align[\"Test\"] = \"r\"\n",
    "    tb.align[\"Pval\"] = \"c\"\n",
    "    tb.align[\"Effect size\"] = \"c\"\n",
    "    return tb\n"
   ]
  },
  {
   "cell_type": "code",
   "execution_count": 6,
   "id": "94714b2c-d3be-4815-9d74-20d42f0f3f0f",
   "metadata": {
    "ExecuteTime": {
     "end_time": "2023-12-21T04:46:08.433309Z",
     "start_time": "2023-12-21T04:46:08.405010Z"
    },
    "execution": {
     "iopub.execute_input": "2023-11-07T03:36:13.834760Z",
     "iopub.status.busy": "2023-11-07T03:36:13.834440Z",
     "iopub.status.idle": "2023-11-07T03:36:13.856145Z",
     "shell.execute_reply": "2023-11-07T03:36:13.855385Z",
     "shell.execute_reply.started": "2023-11-07T03:36:13.834738Z"
    }
   },
   "outputs": [],
   "source": [
    "def _preprocess_ts(ts):\n",
    "    \"\"\"preprocessing, \n",
    "        1. detrend\n",
    "        2. resample (len of seq has 235 or 555, I make it consistent to 235)\n",
    "    \"\"\"\n",
    "    ts = signal.detrend(ts);\n",
    "    if ts.shape[-1] > 235:\n",
    "        ts = signal.resample(ts, num=235, axis=-1)\n",
    "    return ts\n",
    "    \n",
    "    \n",
    "def _load_data(n):\n",
    "    \"\"\"Sub idx is from 1, n: the sub idx\n",
    "    \"\"\"\n",
    "    return mat_data['ts_321_273'][np.where(mat_data['subj_321_ts'][:, 0] == n)[0], :].transpose()"
   ]
  },
  {
   "cell_type": "markdown",
   "id": "27ceee6d-65f9-4da7-86e1-17d223e51ae5",
   "metadata": {},
   "source": [
    "## Load data and params"
   ]
  },
  {
   "cell_type": "code",
   "execution_count": 7,
   "id": "1b761799-d66a-441b-98f3-f13a2c1b0f0d",
   "metadata": {
    "ExecuteTime": {
     "end_time": "2023-12-21T04:46:10.406762Z",
     "start_time": "2023-12-21T04:46:09.315907Z"
    },
    "execution": {
     "iopub.execute_input": "2023-11-07T03:36:13.857232Z",
     "iopub.status.busy": "2023-11-07T03:36:13.856980Z",
     "iopub.status.idle": "2023-11-07T03:36:15.067488Z",
     "shell.execute_reply": "2023-11-07T03:36:15.066722Z",
     "shell.execute_reply.started": "2023-11-07T03:36:13.857209Z"
    }
   },
   "outputs": [
    {
     "data": {
      "text/plain": [
       "485"
      ]
     },
     "execution_count": 7,
     "metadata": {},
     "output_type": "execute_result"
    }
   ],
   "source": [
    "# load data\n",
    "mat_data = loadmat(DATA_ROOT/\"ad_ftd_hc_fmri_data.mat\");\n",
    "\n",
    "# some parameters\n",
    "\n",
    "num_rois = 246 # the BNA has 246 regions\n",
    "num_sps = 321\n",
    "ac_time = 485"
   ]
  },
  {
   "cell_type": "code",
   "execution_count": 8,
   "id": "ccdd12a5-df3d-49ec-b197-380b5b28f999",
   "metadata": {
    "ExecuteTime": {
     "end_time": "2023-12-21T04:46:10.421823Z",
     "start_time": "2023-12-21T04:46:10.408043Z"
    },
    "execution": {
     "iopub.execute_input": "2023-11-07T03:37:02.549789Z",
     "iopub.status.busy": "2023-11-07T03:37:02.549391Z",
     "iopub.status.idle": "2023-11-07T03:37:02.570507Z",
     "shell.execute_reply": "2023-11-07T03:37:02.569750Z",
     "shell.execute_reply.started": "2023-11-07T03:37:02.549753Z"
    }
   },
   "outputs": [
    {
     "data": {
      "text/plain": [
       "{1: 'AD', 2: 'bvFTD', 3: 'CBS', 4: 'nfvPPA', 5: 'svPPA', 6: 'HC'}"
      ]
     },
     "execution_count": 8,
     "metadata": {},
     "output_type": "execute_result"
    }
   ],
   "source": [
    "diag_labs = mat_data[\"dx_321\"].reshape(-1)\n",
    "sex_labs = mat_data[\"sex_321\"].reshape(-1)\n",
    "mmse_scores = mat_data[\"mmse_321\"].reshape(-1)\n",
    "diag_lab_mapping = {\n",
    " 1: \"AD\",\n",
    " 2: \"bvFTD\",\n",
    " 3: \"CBS\", \n",
    " 4: \"nfvPPA\", \n",
    " 5: \"svPPA\", \n",
    " 6: \"HC\"\n",
    "}"
   ]
  },
  {
   "cell_type": "code",
   "execution_count": null,
   "id": "e448d9c8-e56e-44a9-a147-dd2afa2436c7",
   "metadata": {},
   "outputs": [],
   "source": []
  },
  {
   "cell_type": "markdown",
   "id": "d0cda321-53cd-4e7e-92fc-8f3857f4d226",
   "metadata": {},
   "source": [
    "# Run gTVDN"
   ]
  },
  {
   "cell_type": "code",
   "execution_count": 9,
   "id": "2bdb8864-47dd-4b50-85cd-eb52da7d18cc",
   "metadata": {
    "ExecuteTime": {
     "end_time": "2023-12-21T04:14:26.001352Z",
     "start_time": "2023-12-21T04:14:25.966948Z"
    },
    "execution": {
     "iopub.execute_input": "2023-11-07T03:36:20.413137Z",
     "iopub.status.busy": "2023-11-07T03:36:20.412669Z",
     "iopub.status.idle": "2023-11-07T03:36:20.434207Z",
     "shell.execute_reply": "2023-11-07T03:36:20.433444Z",
     "shell.execute_reply.started": "2023-11-07T03:36:20.413099Z"
    }
   },
   "outputs": [],
   "source": [
    "gtvdn_paras = edict()\n",
    "# these two are most influential\n",
    "gtvdn_paras.fct = 0.1\n",
    "gtvdn_paras.lamb = 5e-5\n",
    "# r is moderately influential\n",
    "gtvdn_paras.r = 8\n",
    "# not very important\n",
    "gtvdn_paras.Lmin = 5\n",
    "gtvdn_paras.MaxM = 20\n",
    "gtvdn_paras.kappas = np.linspace(0.1, 4, 1000)\n",
    "gtvdn_paras.T = 2\n",
    "\n",
    "# new from gTVDN\n",
    "gtvdn_paras.L = 1e2 # the  L1-ball projectoin radius\n",
    "gtvdn_paras.num_ranks = 20 # the rank to keep when estimating the Amat for each data\n",
    "gtvdn_paras.cutoff = 0.6\n",
    "gtvdn_paras.Cs = np.array([100, 25, 10, 5, 2, 1, 0.5, 0.2, 0.1, 0.05, 0.01])\n",
    "gtvdn_paras.penalty = \"l2\"\n",
    "gtvdn_paras.down_sample_rate = 2;\n",
    "\n",
    "save_dir = RES_ROOT/\"gTVDN_sc3\"\n",
    "if not save_dir.exists():\n",
    "    save_dir.mkdir()\n"
   ]
  },
  {
   "cell_type": "code",
   "execution_count": 10,
   "id": "64b117cd",
   "metadata": {
    "ExecuteTime": {
     "end_time": "2023-12-21T04:14:27.808396Z",
     "start_time": "2023-12-21T04:14:27.772522Z"
    }
   },
   "outputs": [
    {
     "name": "stdout",
     "output_type": "stream",
     "text": [
      "Save to /data/rajlab1/user_data/jin/MyResearch/jesse_data/notebooks/../mypkg/../results/gTVDN_sc3/paras.pkl\n"
     ]
    }
   ],
   "source": [
    "save_pkl(save_dir/\"paras.pkl\", gtvdn_paras, is_force=True)"
   ]
  },
  {
   "cell_type": "code",
   "execution_count": null,
   "id": "51e720af",
   "metadata": {},
   "outputs": [],
   "source": []
  },
  {
   "cell_type": "markdown",
   "id": "7a2d375b",
   "metadata": {},
   "source": [
    "## Get data"
   ]
  },
  {
   "cell_type": "code",
   "execution_count": 11,
   "id": "5fa4ba2c",
   "metadata": {
    "ExecuteTime": {
     "end_time": "2023-12-21T04:14:33.542728Z",
     "start_time": "2023-12-21T04:14:32.839285Z"
    }
   },
   "outputs": [],
   "source": [
    "# get all ts data and divide them into different group\n",
    "# note the ts are preprocessed (detrend and resample)\n",
    "from collections import defaultdict as ddict\n",
    "all_data = []\n",
    "for sub_ix in range(num_sps):\n",
    "    ts = _load_data(sub_ix+1)[:num_rois]\n",
    "    ts = _preprocess_ts(ts);\n",
    "    all_data.append(ts)"
   ]
  },
  {
   "cell_type": "code",
   "execution_count": null,
   "id": "a541eab7",
   "metadata": {},
   "outputs": [],
   "source": []
  },
  {
   "cell_type": "markdown",
   "id": "ef821cef",
   "metadata": {},
   "source": [
    "## Bspline"
   ]
  },
  {
   "cell_type": "code",
   "execution_count": 12,
   "id": "f6ac3a46",
   "metadata": {
    "ExecuteTime": {
     "end_time": "2023-12-21T04:14:54.879688Z",
     "start_time": "2023-12-21T04:14:37.342041Z"
    }
   },
   "outputs": [
    {
     "name": "stderr",
     "output_type": "stream",
     "text": [
      "100%|██████████████████████████████████████████████████████████████████████████████████████████████████████████████████████████████████| 78966/78966 [00:13<00:00, 5991.91it/s]\n"
     ]
    },
    {
     "name": "stdout",
     "output_type": "stream",
     "text": [
      "Save to /data/rajlab1/user_data/jin/MyResearch/jesse_data/notebooks/../mypkg/../results/gTVDN_sc3/dXXmats.pkl\n"
     ]
    }
   ],
   "source": [
    "from gTVDN.gtvdn_utils import get_bspline_est\n",
    "time_span = np.linspace(0, gtvdn_paras.T, all_data[0].shape[-1])\n",
    "dXXmats = {}\n",
    "dXmats, Xmats = get_bspline_est(np.array(all_data), time_span, gtvdn_paras.lamb, n_jobs=20);\n",
    "dXXmats[\"dXmats\"] = dXmats\n",
    "dXXmats[\"Xmats\"] = Xmats;\n",
    "    \n",
    "save_pkl(save_dir/\"dXXmats.pkl\", dXXmats, is_force=True)"
   ]
  },
  {
   "cell_type": "markdown",
   "id": "4e2fde5e",
   "metadata": {},
   "source": [
    "## Estimate Amats"
   ]
  },
  {
   "cell_type": "code",
   "execution_count": 13,
   "id": "1f570095",
   "metadata": {
    "ExecuteTime": {
     "end_time": "2023-12-21T04:14:56.975357Z",
     "start_time": "2023-12-21T04:14:56.845259Z"
    }
   },
   "outputs": [
    {
     "name": "stdout",
     "output_type": "stream",
     "text": [
      "Load file /data/rajlab1/user_data/jin/MyResearch/jesse_data/notebooks/../mypkg/../results/gTVDN_sc3/dXXmats.pkl\n"
     ]
    }
   ],
   "source": [
    "from gTVDN.gtvdn_utils import get_Amats\n",
    "dXXmats =load_pkl(save_dir/\"dXXmats.pkl\");\n",
    "time_span = np.linspace(0, gtvdn_paras.T, dXXmats[\"Xmats\"].shape[-1]);\n"
   ]
  },
  {
   "cell_type": "code",
   "execution_count": 14,
   "id": "76d319ac",
   "metadata": {
    "ExecuteTime": {
     "end_time": "2023-12-21T04:15:26.741744Z",
     "start_time": "2023-12-21T04:14:58.962253Z"
    }
   },
   "outputs": [
    {
     "name": "stderr",
     "output_type": "stream",
     "text": [
      "100%|████████████████████████████████████████████████████████████████████████████████████████████████████████████████████████████████████████| 321/321 [00:23<00:00, 13.64it/s]\n"
     ]
    },
    {
     "name": "stdout",
     "output_type": "stream",
     "text": [
      "Save to /data/rajlab1/user_data/jin/MyResearch/jesse_data/notebooks/../mypkg/../results/gTVDN_sc3/Amats.pkl\n"
     ]
    }
   ],
   "source": [
    "dXmats = dXXmats[\"dXmats\"];\n",
    "Xmats = dXXmats[\"Xmats\"];\n",
    "Amats = get_Amats(dXmats[:], Xmats[:], time_span, \n",
    "        downrate=gtvdn_paras.down_sample_rate, \n",
    "        fct=gtvdn_paras.fct, \n",
    "        nRks=gtvdn_paras.num_ranks, \n",
    "        is_stack=False, n_jobs=20);\n",
    "save_pkl(save_dir/\"Amats.pkl\", np.array(Amats), is_force=True)"
   ]
  },
  {
   "cell_type": "markdown",
   "id": "8b4ce474",
   "metadata": {},
   "source": [
    "## rank-R CP decomposition"
   ]
  },
  {
   "cell_type": "code",
   "execution_count": 40,
   "id": "811467a1",
   "metadata": {
    "ExecuteTime": {
     "end_time": "2023-12-22T01:08:36.277012Z",
     "start_time": "2023-12-22T01:08:35.814491Z"
    }
   },
   "outputs": [],
   "source": [
    "from utils.tensor import decompose_three_way_orth, sort_orthCPD, decompose_three_way_fix"
   ]
  },
  {
   "cell_type": "code",
   "execution_count": 41,
   "id": "db8d4346",
   "metadata": {
    "ExecuteTime": {
     "end_time": "2023-12-22T01:08:38.789940Z",
     "start_time": "2023-12-22T01:08:37.102411Z"
    }
   },
   "outputs": [
    {
     "name": "stdout",
     "output_type": "stream",
     "text": [
      "Load file /data/rajlab1/user_data/jin/MyResearch/jesse_data/notebooks/../mypkg/../results/gTVDN_sc3/Amats.pkl\n"
     ]
    }
   ],
   "source": [
    "Amats = load_pkl(save_dir/\"Amats.pkl\");"
   ]
  },
  {
   "cell_type": "code",
   "execution_count": 50,
   "id": "b63b341f",
   "metadata": {
    "ExecuteTime": {
     "end_time": "2023-12-22T01:15:27.244531Z",
     "start_time": "2023-12-22T01:15:24.014699Z"
    }
   },
   "outputs": [
    {
     "name": "stdout",
     "output_type": "stream",
     "text": [
      "Epoch: 0, Loss (0.004, 0.004, 0.004), Err (1.000e+00, 1.000e+00, 1.000e+00).\n",
      "Epoch: 5, Loss (0.004, 0.004, 0.004), Err (7.368e-01, 1.813e-01, 3.274e-01).\n",
      "Epoch: 10, Loss (0.004, 0.004, 0.004), Err (8.994e-02, 1.001e-01, 6.452e-02).\n",
      "Epoch: 15, Loss (0.004, 0.004, 0.004), Err (4.273e-02, 5.114e-02, 4.286e-01).\n",
      "Epoch: 20, Loss (0.004, 0.004, 0.004), Err (4.292e-02, 4.226e-02, 3.669e-02).\n",
      "Epoch: 25, Loss (0.004, 0.004, 0.004), Err (1.381e-02, 1.329e-02, 6.204e-01).\n",
      "Epoch: 30, Loss (0.004, 0.004, 0.004), Err (6.605e-03, 5.622e-03, 4.436e-03).\n",
      "Epoch: 35, Loss (0.004, 0.004, 0.004), Err (3.785e-03, 3.096e-03, 2.493e-03).\n",
      "Epoch: 40, Loss (0.004, 0.004, 0.004), Err (2.715e-03, 2.235e-03, 1.786e-03).\n",
      "Epoch: 45, Loss (0.004, 0.004, 0.004), Err (2.264e-03, 1.887e-03, 1.485e-03).\n",
      "Epoch: 50, Loss (0.004, 0.004, 0.004), Err (2.093e-03, 7.071e-01, 1.366e-03).\n",
      "Epoch: 55, Loss (0.004, 0.004, 0.004), Err (2.097e-03, 1.779e-03, 1.362e-03).\n",
      "Epoch: 60, Loss (0.004, 0.004, 0.004), Err (2.247e-03, 1.919e-03, 1.454e-03).\n",
      "Epoch: 65, Loss (0.004, 0.004, 0.004), Err (2.549e-03, 2.191e-03, 1.644e-03).\n",
      "Epoch: 70, Loss (0.004, 0.004, 0.004), Err (3.026e-03, 2.615e-03, 1.948e-03).\n",
      "Epoch: 75, Loss (0.004, 0.004, 0.004), Err (3.692e-03, 3.202e-03, 2.379e-03).\n",
      "Epoch: 80, Loss (0.004, 0.004, 0.004), Err (4.475e-03, 3.883e-03, 2.897e-03).\n",
      "Epoch: 85, Loss (0.004, 0.004, 0.004), Err (5.089e-03, 4.394e-03, 3.331e-03).\n",
      "Epoch: 90, Loss (0.004, 0.004, 0.004), Err (5.028e-03, 4.294e-03, 3.350e-03).\n",
      "Epoch: 95, Loss (0.004, 0.004, 0.004), Err (4.072e-03, 3.428e-03, 2.767e-03).\n",
      "Epoch: 100, Loss (0.004, 0.004, 0.004), Err (2.710e-03, 2.251e-03, 1.870e-03).\n",
      "Epoch: 105, Loss (0.004, 0.004, 0.004), Err (1.562e-03, 1.285e-03, 1.087e-03).\n"
     ]
    },
    {
     "data": {
      "text/html": [
       "<table>\n",
       "    <thead>\n",
       "        <tr>\n",
       "            <th>Test</th>\n",
       "            <th>Pval</th>\n",
       "            <th>Effect size</th>\n",
       "        </tr>\n",
       "    </thead>\n",
       "    <tbody>\n",
       "        <tr>\n",
       "            <td>AD vs HC</td>\n",
       "            <td> 0.954</td>\n",
       "            <td>-0.010</td>\n",
       "        </tr>\n",
       "        <tr>\n",
       "            <td>(non-param) AD vs HC</td>\n",
       "            <td> 0.871</td>\n",
       "            <td>-0.010</td>\n",
       "        </tr>\n",
       "        <tr>\n",
       "            <td>bvFTD vs HC</td>\n",
       "            <td> 0.109</td>\n",
       "            <td>-0.336</td>\n",
       "        </tr>\n",
       "        <tr>\n",
       "            <td>(non-param) bvFTD vs HC</td>\n",
       "            <td> 0.162</td>\n",
       "            <td>-0.336</td>\n",
       "        </tr>\n",
       "        <tr>\n",
       "            <td>CBS vs HC</td>\n",
       "            <td> 0.280</td>\n",
       "            <td>-0.258</td>\n",
       "        </tr>\n",
       "        <tr>\n",
       "            <td>(non-param) CBS vs HC</td>\n",
       "            <td> 0.099</td>\n",
       "            <td>-0.258</td>\n",
       "        </tr>\n",
       "        <tr>\n",
       "            <td>*nfvPPA vs HC</td>\n",
       "            <td> 0.021</td>\n",
       "            <td>-0.505</td>\n",
       "        </tr>\n",
       "        <tr>\n",
       "            <td>(non-param) *nfvPPA vs HC</td>\n",
       "            <td> 0.011</td>\n",
       "            <td>-0.505</td>\n",
       "        </tr>\n",
       "        <tr>\n",
       "            <td>svPPA vs HC</td>\n",
       "            <td> 0.891</td>\n",
       "            <td> 0.030</td>\n",
       "        </tr>\n",
       "        <tr>\n",
       "            <td>(non-param) svPPA vs HC</td>\n",
       "            <td> 0.640</td>\n",
       "            <td> 0.030</td>\n",
       "        </tr>\n",
       "        <tr>\n",
       "            <td>Dementia vs HC</td>\n",
       "            <td> 0.298</td>\n",
       "            <td>-0.163</td>\n",
       "        </tr>\n",
       "        <tr>\n",
       "            <td>(non-param) Dementia vs HC</td>\n",
       "            <td> 0.162</td>\n",
       "            <td>-0.163</td>\n",
       "        </tr>\n",
       "        <tr>\n",
       "            <td>ANOVA</td>\n",
       "            <td> 0.102</td>\n",
       "            <td></td>\n",
       "        </tr>\n",
       "    </tbody>\n",
       "</table>"
      ],
      "text/plain": [
       "+----------------------------+--------+-------------+\n",
       "|                       Test |  Pval  | Effect size |\n",
       "+----------------------------+--------+-------------+\n",
       "|                   AD vs HC |  0.954 |    -0.010   |\n",
       "|       (non-param) AD vs HC |  0.871 |    -0.010   |\n",
       "|                bvFTD vs HC |  0.109 |    -0.336   |\n",
       "|    (non-param) bvFTD vs HC |  0.162 |    -0.336   |\n",
       "|                  CBS vs HC |  0.280 |    -0.258   |\n",
       "|      (non-param) CBS vs HC |  0.099 |    -0.258   |\n",
       "|              *nfvPPA vs HC |  0.021 |    -0.505   |\n",
       "|  (non-param) *nfvPPA vs HC |  0.011 |    -0.505   |\n",
       "|                svPPA vs HC |  0.891 |     0.030   |\n",
       "|    (non-param) svPPA vs HC |  0.640 |     0.030   |\n",
       "|             Dementia vs HC |  0.298 |    -0.163   |\n",
       "| (non-param) Dementia vs HC |  0.162 |    -0.163   |\n",
       "|                      ANOVA |  0.102 |             |\n",
       "+----------------------------+--------+-------------+"
      ]
     },
     "metadata": {},
     "output_type": "display_data"
    }
   ],
   "source": [
    "#sel_idxs = np.sort(np.where(diag_labs==6)[0])[30:]\n",
    "sel_idxs = np.sort(np.random.choice(np.where(diag_labs==6)[0], size=50, replace=False));\n",
    "diag_labs1 = diag_labs.copy();\n",
    "diag_labs1[sel_idxs] = 7;\n",
    "# get the CPD results for HC group, it is the baseline\n",
    "# for all other grps, the CPD is based on HC\n",
    "key_base = 7 # HC\n",
    "tensor = Amats[diag_labs1==key_base].transpose((1, 2, 0));\n",
    "\n",
    "# the initial value\n",
    "Amat_base = np.sum(tensor, axis=-1);\n",
    "U, _, VT = np.linalg.svd(Amat_base);\n",
    "CPD_init = [U[:, :gtvdn_paras.r], VT.T[:, :gtvdn_paras.r]];\n",
    "\n",
    "CPDres_base = sort_orthCPD(decompose_three_way_orth(tensor, \n",
    "                                                  gtvdn_paras.r, \n",
    "                                                  init=CPD_init, \n",
    "                                                  verbose=True));\n",
    "\n",
    "CPDress = dict()\n",
    "CPDress[key_base] = CPDres_base;\n",
    "\n",
    "for key in np.setdiff1d(np.arange(1, 8), [key_base]):\n",
    "    tensor = Amats[diag_labs1==key].transpose((1, 2, 0));\n",
    "    CPDres = decompose_three_way_fix(tensor, init=[CPDress[key_base][0], CPDress[key_base][1]])\n",
    "    CPDress[key] = CPDres\n",
    "    \n",
    "# because they share the same B1, B2, so we combine them together\n",
    "B3 = np.zeros((diag_labs1.shape[0], gtvdn_paras.r));\n",
    "for key in range(1, 8):\n",
    "    B3[diag_labs1==key] = CPDress[key][-1]\n",
    "\n",
    "res_df = pd.DataFrame({\n",
    "    \"metric\":np.delete(np.linalg.norm(B3, axis=-1), sel_idxs),\n",
    "    \"diagnosis\": np.delete(diag_labs, sel_idxs)\n",
    "})\n",
    "display(_get_test_tb(res_df, 6))"
   ]
  },
  {
   "cell_type": "code",
   "execution_count": null,
   "id": "7e201399",
   "metadata": {},
   "outputs": [],
   "source": []
  },
  {
   "cell_type": "markdown",
   "id": "def99c17",
   "metadata": {},
   "source": [
    "### First way"
   ]
  },
  {
   "cell_type": "code",
   "execution_count": 48,
   "id": "5cec2bbc",
   "metadata": {
    "ExecuteTime": {
     "end_time": "2023-12-19T21:21:59.051766Z",
     "start_time": "2023-12-19T21:21:52.390262Z"
    }
   },
   "outputs": [
    {
     "name": "stdout",
     "output_type": "stream",
     "text": [
      "Epoch: 0, Loss (0.004, 0.005, 0.004), Err (1.000e+00, 1.000e+00, 1.000e+00).\n",
      "Epoch: 5, Loss (0.004, 0.004, 0.004), Err (1.155e-01, 9.727e-02, 3.623e-01).\n",
      "Epoch: 10, Loss (0.004, 0.004, 0.004), Err (6.301e-02, 5.597e-02, 4.185e-02).\n",
      "Epoch: 15, Loss (0.004, 0.004, 0.004), Err (7.071e-01, 5.281e-02, 3.518e-02).\n",
      "Epoch: 20, Loss (0.004, 0.004, 0.004), Err (7.026e-02, 8.775e-02, 4.368e-01).\n",
      "Epoch: 25, Loss (0.004, 0.004, 0.004), Err (6.606e-02, 6.233e-02, 3.957e-02).\n",
      "Epoch: 30, Loss (0.004, 0.004, 0.004), Err (3.965e-02, 3.216e-02, 3.901e-01).\n",
      "Epoch: 35, Loss (0.004, 0.004, 0.004), Err (2.029e-02, 1.677e-02, 4.187e-01).\n",
      "Epoch: 40, Loss (0.004, 0.004, 0.004), Err (3.139e-02, 2.795e-02, 1.676e-02).\n",
      "Epoch: 45, Loss (0.004, 0.004, 0.004), Err (5.045e-02, 5.088e-02, 2.799e-02).\n",
      "Epoch: 50, Loss (0.004, 0.004, 0.004), Err (4.426e-02, 4.080e-02, 2.907e-02).\n",
      "Epoch: 55, Loss (0.004, 0.004, 0.004), Err (2.071e-02, 2.062e-02, 1.413e-02).\n",
      "Epoch: 60, Loss (0.004, 0.004, 0.004), Err (2.333e-02, 1.907e-02, 1.287e-02).\n",
      "Epoch: 65, Loss (0.004, 0.004, 0.004), Err (2.060e-02, 2.075e-02, 1.173e-02).\n",
      "Epoch: 70, Loss (0.004, 0.004, 0.004), Err (7.070e-01, 1.884e-02, 1.153e-02).\n",
      "Epoch: 75, Loss (0.004, 0.004, 0.004), Err (6.859e-03, 7.091e-03, 4.335e-03).\n",
      "Epoch: 80, Loss (0.004, 0.004, 0.004), Err (4.070e-03, 3.744e-03, 2.202e-03).\n",
      "Epoch: 85, Loss (0.004, 0.004, 0.004), Err (2.257e-03, 2.023e-03, 1.201e-03).\n",
      "Epoch: 90, Loss (0.004, 0.004, 0.004), Err (1.136e-03, 1.015e-03, 6.040e-04).\n"
     ]
    }
   ],
   "source": [
    "# get the CPD results for HC group, it is the baseline\n",
    "# for all other grps, the CPD is based on HC\n",
    "key_base = 6 # HC\n",
    "tensor = Amats[diag_labs==key_base].transpose((1, 2, 0));\n",
    "\n",
    "# the initial value\n",
    "Amat_base = np.sum(tensor, axis=-1);\n",
    "U, _, VT = np.linalg.svd(Amat_base);\n",
    "CPD_init = [U[:, :gtvdn_paras.r], VT.T[:, :gtvdn_paras.r]];\n",
    "\n",
    "CPDres_base = sort_orthCPD(decompose_three_way_orth(tensor, \n",
    "                                                  gtvdn_paras.r, \n",
    "                                                  init=CPD_init, \n",
    "                                                  verbose=True));\n",
    "\n",
    "CPDress = dict()\n",
    "CPDress[key_base] = CPDres_base;\n",
    "\n",
    "for key in np.setdiff1d(np.arange(1, 7), [key_base]):\n",
    "    tensor = Amats[diag_labs==key].transpose((1, 2, 0));\n",
    "    CPDres = decompose_three_way_fix(tensor, init=[CPDress[key_base][0], CPDress[key_base][1]])\n",
    "    CPDress[key] = CPDres\n",
    "    \n",
    "# because they share the same B1, B2, so we combine them together\n",
    "B3 = np.zeros((diag_labs.shape[0], gtvdn_paras.r));\n",
    "for key in range(1, 7):\n",
    "    B3[diag_labs==key] = CPDress[key][-1]\n",
    "CPDress_com = [CPDress[1][0], CPDress[1][1], B3];\n",
    "\n",
    "save_pkl(gtvdn_paras.save_dir/\"CPDress.pkl\", CPDress, is_force=True)\n",
    "save_pkl(gtvdn_paras.save_dir/\"CPDress_com.pkl\", CPDress_com, is_force=True)"
   ]
  },
  {
   "cell_type": "code",
   "execution_count": null,
   "id": "75924778",
   "metadata": {},
   "outputs": [],
   "source": []
  },
  {
   "cell_type": "markdown",
   "id": "c46e42ac",
   "metadata": {},
   "source": [
    "### Second way"
   ]
  },
  {
   "cell_type": "code",
   "execution_count": 49,
   "id": "4968b300",
   "metadata": {
    "ExecuteTime": {
     "end_time": "2023-12-19T21:24:50.078271Z",
     "start_time": "2023-12-19T21:24:35.682558Z"
    }
   },
   "outputs": [
    {
     "name": "stdout",
     "output_type": "stream",
     "text": [
      "Epoch: 0, Loss (0.004, 0.005, 0.004), Err (1.000e+00, 1.000e+00, 1.000e+00).\n",
      "Epoch: 5, Loss (0.004, 0.004, 0.004), Err (7.135e-01, 1.213e-01, 1.168e+00).\n",
      "Epoch: 10, Loss (0.004, 0.004, 0.004), Err (9.993e-01, 7.084e-01, 6.449e-02).\n",
      "Epoch: 15, Loss (0.004, 0.004, 0.004), Err (7.081e-01, 7.861e-02, 6.109e-02).\n",
      "Epoch: 20, Loss (0.004, 0.004, 0.004), Err (2.280e-02, 7.074e-01, 1.450e-02).\n",
      "Epoch: 25, Loss (0.004, 0.004, 0.004), Err (2.124e-02, 2.208e-02, 1.208e-02).\n",
      "Epoch: 30, Loss (0.004, 0.004, 0.004), Err (7.073e-01, 4.676e-02, 2.404e-02).\n",
      "Epoch: 35, Loss (0.004, 0.004, 0.004), Err (5.365e-02, 6.106e-02, 3.256e-02).\n",
      "Epoch: 40, Loss (0.004, 0.004, 0.004), Err (1.123e-01, 1.100e-01, 6.889e-01).\n",
      "Epoch: 45, Loss (0.004, 0.004, 0.004), Err (5.514e-02, 5.079e-02, 3.576e-01).\n",
      "Epoch: 50, Loss (0.004, 0.004, 0.004), Err (1.207e-02, 1.089e-02, 7.531e-03).\n",
      "Epoch: 55, Loss (0.004, 0.004, 0.004), Err (7.172e-03, 7.494e-03, 3.778e-03).\n",
      "Epoch: 60, Loss (0.004, 0.004, 0.004), Err (1.235e-02, 1.319e-02, 6.310e-03).\n",
      "Epoch: 65, Loss (0.004, 0.004, 0.004), Err (3.083e-02, 3.183e-02, 1.635e-02).\n",
      "Epoch: 70, Loss (0.004, 0.004, 0.004), Err (1.815e-02, 1.562e-02, 1.227e-02).\n",
      "Epoch: 75, Loss (0.004, 0.004, 0.004), Err (5.109e-03, 5.139e-03, 3.866e-03).\n",
      "Epoch: 80, Loss (0.004, 0.004, 0.004), Err (1.675e-03, 1.860e-03, 1.352e-03).\n",
      "Epoch: 0, Loss (0.005, 0.005, 0.004), Err (1.000e+00, 1.000e+00, 1.000e+00).\n",
      "Epoch: 5, Loss (0.004, 0.004, 0.004), Err (7.176e-01, 1.994e-01, 8.342e-01).\n",
      "Epoch: 10, Loss (0.004, 0.004, 0.004), Err (5.211e-02, 4.571e-02, 4.279e-02).\n",
      "Epoch: 15, Loss (0.004, 0.004, 0.004), Err (6.801e-03, 1.004e-02, 7.764e-03).\n",
      "Epoch: 20, Loss (0.004, 0.004, 0.004), Err (1.544e-03, 2.511e-03, 1.837e-03).\n",
      "Epoch: 0, Loss (0.004, 0.004, 0.004), Err (1.000e+00, 1.000e+00, 1.000e+00).\n",
      "Epoch: 5, Loss (0.004, 0.004, 0.004), Err (1.562e-01, 1.673e-01, 3.800e-01).\n",
      "Epoch: 10, Loss (0.004, 0.004, 0.004), Err (2.994e-02, 3.076e-02, 2.405e-02).\n",
      "Epoch: 15, Loss (0.004, 0.004, 0.004), Err (1.745e-02, 2.078e-02, 1.177e-02).\n",
      "Epoch: 20, Loss (0.004, 0.004, 0.004), Err (3.291e-02, 4.040e-02, 1.862e-02).\n",
      "Epoch: 25, Loss (0.004, 0.004, 0.004), Err (6.723e-02, 7.217e-02, 5.182e-02).\n",
      "Epoch: 30, Loss (0.004, 0.004, 0.003), Err (7.069e-01, 7.074e-01, 1.889e-02).\n",
      "Epoch: 35, Loss (0.003, 0.003, 0.003), Err (7.167e-03, 6.300e-03, 4.524e-03).\n",
      "Epoch: 40, Loss (0.003, 0.003, 0.003), Err (2.794e-03, 2.375e-03, 1.081e-03).\n",
      "Epoch: 45, Loss (0.003, 0.003, 0.003), Err (1.368e-03, 1.158e-03, 4.632e-04).\n",
      "Epoch: 0, Loss (0.004, 0.004, 0.004), Err (1.000e+00, 1.000e+00, 1.000e+00).\n",
      "Epoch: 5, Loss (0.004, 0.004, 0.004), Err (8.293e-02, 9.035e-02, 8.061e-02).\n",
      "Epoch: 10, Loss (0.004, 0.004, 0.004), Err (6.524e-02, 5.820e-02, 3.758e-02).\n",
      "Epoch: 15, Loss (0.004, 0.004, 0.004), Err (2.122e-02, 2.401e-02, 2.373e-02).\n",
      "Epoch: 20, Loss (0.004, 0.004, 0.004), Err (2.277e-02, 2.951e-02, 3.495e-02).\n",
      "Epoch: 25, Loss (0.004, 0.004, 0.004), Err (6.130e-03, 7.696e-03, 9.493e-03).\n",
      "Epoch: 30, Loss (0.004, 0.004, 0.004), Err (1.439e-03, 1.616e-03, 1.557e-03).\n",
      "Epoch: 0, Loss (0.004, 0.004, 0.004), Err (1.000e+00, 1.000e+00, 1.000e+00).\n",
      "Epoch: 5, Loss (0.004, 0.004, 0.004), Err (1.183e-01, 7.118e-01, 4.592e-01).\n",
      "Epoch: 10, Loss (0.004, 0.004, 0.004), Err (7.066e-01, 5.668e-02, 5.960e-01).\n",
      "Epoch: 15, Loss (0.004, 0.004, 0.004), Err (1.046e-02, 1.227e-02, 1.168e-02).\n",
      "Epoch: 20, Loss (0.004, 0.004, 0.004), Err (8.121e-03, 9.061e-03, 6.822e-03).\n",
      "Epoch: 25, Loss (0.004, 0.004, 0.004), Err (4.811e-03, 5.269e-03, 3.893e-03).\n",
      "Epoch: 30, Loss (0.004, 0.004, 0.004), Err (2.073e-03, 2.248e-03, 1.658e-03).\n",
      "Epoch: 0, Loss (0.004, 0.005, 0.004), Err (1.000e+00, 1.000e+00, 1.000e+00).\n",
      "Epoch: 5, Loss (0.004, 0.004, 0.004), Err (1.155e-01, 9.727e-02, 3.623e-01).\n",
      "Epoch: 10, Loss (0.004, 0.004, 0.004), Err (6.301e-02, 5.597e-02, 4.185e-02).\n",
      "Epoch: 15, Loss (0.004, 0.004, 0.004), Err (7.071e-01, 5.281e-02, 3.518e-02).\n",
      "Epoch: 20, Loss (0.004, 0.004, 0.004), Err (7.026e-02, 8.775e-02, 4.368e-01).\n",
      "Epoch: 25, Loss (0.004, 0.004, 0.004), Err (6.606e-02, 6.233e-02, 3.957e-02).\n",
      "Epoch: 30, Loss (0.004, 0.004, 0.004), Err (3.965e-02, 3.216e-02, 3.901e-01).\n",
      "Epoch: 35, Loss (0.004, 0.004, 0.004), Err (2.029e-02, 1.677e-02, 4.187e-01).\n",
      "Epoch: 40, Loss (0.004, 0.004, 0.004), Err (3.139e-02, 2.795e-02, 1.676e-02).\n",
      "Epoch: 45, Loss (0.004, 0.004, 0.004), Err (5.045e-02, 5.088e-02, 2.799e-02).\n",
      "Epoch: 50, Loss (0.004, 0.004, 0.004), Err (4.426e-02, 4.080e-02, 2.907e-02).\n",
      "Epoch: 55, Loss (0.004, 0.004, 0.004), Err (2.071e-02, 2.062e-02, 1.413e-02).\n",
      "Epoch: 60, Loss (0.004, 0.004, 0.004), Err (2.333e-02, 1.907e-02, 1.287e-02).\n",
      "Epoch: 65, Loss (0.004, 0.004, 0.004), Err (2.060e-02, 2.075e-02, 1.173e-02).\n",
      "Epoch: 70, Loss (0.004, 0.004, 0.004), Err (7.070e-01, 1.884e-02, 1.153e-02).\n",
      "Epoch: 75, Loss (0.004, 0.004, 0.004), Err (6.859e-03, 7.091e-03, 4.335e-03).\n",
      "Epoch: 80, Loss (0.004, 0.004, 0.004), Err (4.070e-03, 3.744e-03, 2.202e-03).\n",
      "Epoch: 85, Loss (0.004, 0.004, 0.004), Err (2.257e-03, 2.023e-03, 1.201e-03).\n",
      "Epoch: 90, Loss (0.004, 0.004, 0.004), Err (1.136e-03, 1.015e-03, 6.040e-04).\n"
     ]
    }
   ],
   "source": [
    "# Do CPD results for each group\n",
    "CPDress = {}\n",
    "\n",
    "key = 6 # HC\n",
    "for key in range(1, 7):\n",
    "    tensor = Amats[diag_labs==key].transpose((1, 2, 0));\n",
    "    \n",
    "    # the initial value\n",
    "    Amat = np.sum(tensor, axis=-1);\n",
    "    U, _, VT = np.linalg.svd(Amat);\n",
    "    CPD_init = [U[:, :gtvdn_paras.r], VT.T[:, :gtvdn_paras.r]];\n",
    "    \n",
    "    CPDres = sort_orthCPD(decompose_three_way_orth(tensor, \n",
    "                                                  gtvdn_paras.r, \n",
    "                                                  init=CPD_init, \n",
    "                                                  verbose=True));\n",
    "    CPDress[key] = CPDres\n",
    "\n",
    "save_pkl(gtvdn_paras.save_dir/\"CPDress_each.pkl\", CPDress, is_force=True)"
   ]
  },
  {
   "cell_type": "code",
   "execution_count": 51,
   "id": "3aa8ad84",
   "metadata": {
    "ExecuteTime": {
     "end_time": "2023-12-19T21:25:38.684589Z",
     "start_time": "2023-12-19T21:25:38.600992Z"
    }
   },
   "outputs": [],
   "source": [
    "# because they share the same B1, B2, so we combine them together\n",
    "B3 = np.zeros((diag_labs.shape[0], gtvdn_paras.r));\n",
    "for key in range(1, 7):\n",
    "    B3[diag_labs==key] = CPDress[key][-1]"
   ]
  },
  {
   "cell_type": "markdown",
   "id": "11611e16",
   "metadata": {},
   "source": [
    "## Third way"
   ]
  },
  {
   "cell_type": "code",
   "execution_count": null,
   "id": "f6ab5c9e",
   "metadata": {
    "ExecuteTime": {
     "end_time": "2023-12-21T04:17:53.478041Z",
     "start_time": "2023-12-21T04:17:20.245739Z"
    }
   },
   "outputs": [],
   "source": [
    "# Do CPD results for each group\n",
    "CPDress = {}\n",
    "tensor = Amats.transpose((1, 2, 0));\n",
    "    \n",
    "# the initial value\n",
    "Amat = np.sum(tensor, axis=-1);\n",
    "U, _, VT = np.linalg.svd(Amat);\n",
    "CPD_init = [U[:, :gtvdn_paras.r], VT.T[:, :gtvdn_paras.r]];\n",
    "    \n",
    "CPDres = sort_orthCPD(decompose_three_way_orth(tensor, \n",
    "                                               gtvdn_paras.r, \n",
    "                                                init=CPD_init, \n",
    "                                                verbose=True));\n",
    "save_pkl(save_dir/\"CPDress_com.pkl\", CPDres, is_force=True)"
   ]
  },
  {
   "cell_type": "code",
   "execution_count": null,
   "id": "66d66591",
   "metadata": {},
   "outputs": [],
   "source": []
  },
  {
   "cell_type": "markdown",
   "id": "327c81af",
   "metadata": {},
   "source": [
    "## Detection"
   ]
  },
  {
   "cell_type": "markdown",
   "id": "4e76cdf2",
   "metadata": {},
   "source": [
    "###  Reduce the dim of data"
   ]
  },
  {
   "cell_type": "code",
   "execution_count": 20,
   "id": "502f6168",
   "metadata": {
    "ExecuteTime": {
     "end_time": "2023-12-21T04:18:25.864787Z",
     "start_time": "2023-12-21T04:18:25.662459Z"
    }
   },
   "outputs": [
    {
     "name": "stdout",
     "output_type": "stream",
     "text": [
      "Load file /data/rajlab1/user_data/jin/MyResearch/jesse_data/notebooks/../mypkg/../results/gTVDN_sc3/CPDress_com.pkl\n",
      "Load file /data/rajlab1/user_data/jin/MyResearch/jesse_data/notebooks/../mypkg/../results/gTVDN_sc3/dXXmats.pkl\n"
     ]
    }
   ],
   "source": [
    "CPDress_com = load_pkl(save_dir/\"CPDress_com.pkl\");\n",
    "dXXmats =load_pkl(save_dir/\"dXXmats.pkl\");\n",
    "nXmats = CPDress_com[1].T[None] @ dXXmats[\"Xmats\"]\n",
    "ndXmats = CPDress_com[0].T[None] @ dXXmats[\"dXmats\"];"
   ]
  },
  {
   "cell_type": "markdown",
   "id": "a46b595e",
   "metadata": {},
   "source": [
    "### DP"
   ]
  },
  {
   "cell_type": "code",
   "execution_count": 21,
   "id": "f4e955ea",
   "metadata": {
    "ExecuteTime": {
     "end_time": "2023-12-21T04:18:28.351505Z",
     "start_time": "2023-12-21T04:18:28.315512Z"
    }
   },
   "outputs": [],
   "source": [
    "from gTVDN.gtvdn_det_CPD import dyna_prog_4CPD"
   ]
  },
  {
   "cell_type": "code",
   "execution_count": 22,
   "id": "49857b70",
   "metadata": {
    "ExecuteTime": {
     "end_time": "2023-12-21T04:22:54.251680Z",
     "start_time": "2023-12-21T04:18:33.644646Z"
    }
   },
   "outputs": [
    {
     "name": "stderr",
     "output_type": "stream",
     "text": [
      "100%|████████████████████████████████████████████████████████████████████████████████████████████████████████████████████████████████████████| 321/321 [03:54<00:00,  1.37it/s]\n"
     ]
    },
    {
     "name": "stdout",
     "output_type": "stream",
     "text": [
      "Save to /data/rajlab1/user_data/jin/MyResearch/jesse_data/notebooks/../mypkg/../results/gTVDN_sc3/cpts.pkl\n"
     ]
    }
   ],
   "source": [
    "def _run_fn(sub_ix):\n",
    "    res = dyna_prog_4CPD(ndXmats[sub_ix], \n",
    "                         nXmats[sub_ix], \n",
    "                         kappa=gtvdn_paras.kappas[0],\n",
    "                         Lmin=gtvdn_paras.Lmin,  \n",
    "                         canpts=None,\n",
    "                         maxM=gtvdn_paras.MaxM,  \n",
    "                         is_full=True,  \n",
    "                         showProgress=False)\n",
    "    return res\n",
    "with Parallel(n_jobs=20) as parallel:\n",
    "    cpts = parallel(delayed(_run_fn)(sub_ix) for sub_ix in tqdm(range(nXmats.shape[0]), total=num_sps))\n",
    "    \n",
    "save_pkl(save_dir/\"cpts.pkl\", cpts)"
   ]
  },
  {
   "cell_type": "code",
   "execution_count": null,
   "id": "0c476e63",
   "metadata": {},
   "outputs": [],
   "source": []
  },
  {
   "cell_type": "code",
   "execution_count": null,
   "id": "c437cb6f-1c98-49d3-8d26-3d6f2b576a6d",
   "metadata": {},
   "outputs": [],
   "source": []
  },
  {
   "cell_type": "markdown",
   "id": "f95b24e1",
   "metadata": {},
   "source": [
    "# Analysis"
   ]
  },
  {
   "cell_type": "markdown",
   "id": "0792822e-fbfe-476f-9ad0-7cc97fbfaadb",
   "metadata": {},
   "source": [
    "## Kappa find"
   ]
  },
  {
   "cell_type": "code",
   "execution_count": 26,
   "id": "2e7f764e",
   "metadata": {
    "ExecuteTime": {
     "end_time": "2023-12-22T00:59:05.056212Z",
     "start_time": "2023-12-22T00:59:04.941611Z"
    }
   },
   "outputs": [
    {
     "name": "stdout",
     "output_type": "stream",
     "text": [
      "Load file /data/rajlab1/user_data/jin/MyResearch/jesse_data/notebooks/../mypkg/../results/gTVDN_sc3/paras.pkl\n"
     ]
    }
   ],
   "source": [
    "\n",
    "save_dir = RES_ROOT/\"gTVDN_sc3/\"\n",
    "gtvdn_paras = load_pkl(save_dir/\"paras.pkl\");"
   ]
  },
  {
   "cell_type": "code",
   "execution_count": 27,
   "id": "7d4023e9",
   "metadata": {
    "ExecuteTime": {
     "end_time": "2023-12-22T00:59:08.831817Z",
     "start_time": "2023-12-22T00:59:05.415074Z"
    }
   },
   "outputs": [
    {
     "name": "stdout",
     "output_type": "stream",
     "text": [
      "Load file /data/rajlab1/user_data/jin/MyResearch/jesse_data/notebooks/../mypkg/../results/gTVDN_sc3/cpts.pkl\n",
      "Load file /data/rajlab1/user_data/jin/MyResearch/jesse_data/notebooks/../mypkg/../results/gTVDN_sc3/CPDress_com.pkl\n",
      "Load file /data/rajlab1/user_data/jin/MyResearch/jesse_data/notebooks/../mypkg/../results/gTVDN_sc3/dXXmats.pkl\n"
     ]
    }
   ],
   "source": [
    "from gTVDN.gtvdn_post import update_kp\n",
    "cpts = load_pkl(save_dir/\"cpts.pkl\");\n",
    "CPDress_com = load_pkl(save_dir/\"CPDress_com.pkl\");\n",
    "dXXmats =load_pkl(save_dir/\"dXXmats.pkl\");\n",
    "nXmats = CPDress_com[1].T[None] @ dXXmats[\"Xmats\"]\n",
    "ndXmats = CPDress_com[0].T[None] @ dXXmats[\"dXmats\"];"
   ]
  },
  {
   "cell_type": "code",
   "execution_count": 28,
   "id": "6da68f57",
   "metadata": {
    "ExecuteTime": {
     "end_time": "2023-12-22T00:59:10.563386Z",
     "start_time": "2023-12-22T00:59:08.833957Z"
    }
   },
   "outputs": [
    {
     "name": "stderr",
     "output_type": "stream",
     "text": [
      "100%|█████████████████████████████████████████████████████████████████████████████████████████████████████████████████████████████████████| 1000/1000 [00:01<00:00, 586.82it/s]\n"
     ]
    }
   ],
   "source": [
    "res = cpts[0];\n",
    "cur_r, n = nXmats[0].shape\n",
    "cpts_allkp = []\n",
    "for kp in tqdm(gtvdn_paras.kappas):\n",
    "    allkp = np.array([update_kp(kp, cpt.U0, n, cur_r, gtvdn_paras.MaxM) for cpt in cpts])\n",
    "    cpts_allkp.append(allkp)\n",
    "cpts_allkp = np.array(cpts_allkp);"
   ]
  },
  {
   "cell_type": "code",
   "execution_count": 29,
   "id": "4a19803c",
   "metadata": {
    "ExecuteTime": {
     "end_time": "2023-12-22T00:59:13.777315Z",
     "start_time": "2023-12-22T00:59:13.575244Z"
    }
   },
   "outputs": [
    {
     "name": "stdout",
     "output_type": "stream",
     "text": [
      "1.5873873873873874 15.21\n"
     ]
    },
    {
     "data": {
      "text/plain": [
       "1.64984984984985"
      ]
     },
     "execution_count": 29,
     "metadata": {},
     "output_type": "execute_result"
    },
    {
     "data": {
      "image/png": "[encoded data removed]",
      "text/plain": [
       "<Figure size 1000x1000 with 2 Axes>"
      ]
     },
     "metadata": {
      "needs_background": "light"
     },
     "output_type": "display_data"
    }
   ],
   "source": [
    "# HC grp only to select kappa\n",
    "cpts_std = cpts_allkp[:, diag_labs==6].std(axis=1)\n",
    "cpts_mean = cpts_allkp[:, diag_labs==6].mean(axis=1);\n",
    "plt.figure(figsize=[10, 10])\n",
    "plt.subplot(211)\n",
    "plt.plot(gtvdn_paras.kappas, cpts_std)\n",
    "plt.ylabel(\"CPT std\")\n",
    "plt.axvline(x=1.65, color=\"red\")\n",
    "plt.xlabel(\"Kappa\")\n",
    "plt.subplot(212)\n",
    "plt.plot(gtvdn_paras.kappas, cpts_mean)\n",
    "plt.ylabel(\"CPT mean\")\n",
    "plt.xlabel(\"Kappa\");\n",
    "\n",
    "sel_idx = np.bitwise_and(cpts_mean>=3, cpts_mean<=16);\n",
    "sel_kp = gtvdn_paras.kappas[sel_idx][np.argmin(cpts_std[sel_idx])]\n",
    "print(sel_kp, cpts_mean[np.argmin(np.abs(gtvdn_paras.kappas-sel_kp))])\n",
    "\n",
    "# I select kp at 1.65\n",
    "sel_kp = gtvdn_paras.kappas[np.argmin(np.abs(gtvdn_paras.kappas-1.65))]"
   ]
  },
  {
   "cell_type": "code",
   "execution_count": null,
   "id": "e4cb303a",
   "metadata": {},
   "outputs": [],
   "source": []
  },
  {
   "cell_type": "code",
   "execution_count": 30,
   "id": "4887a5e7",
   "metadata": {
    "ExecuteTime": {
     "end_time": "2023-12-22T00:59:18.184194Z",
     "start_time": "2023-12-22T00:59:18.142966Z"
    }
   },
   "outputs": [],
   "source": [
    "# Update kappa\n",
    "sel_kp = 1.65\n",
    "ncpts_sel = np.array([update_kp(sel_kp, cpt.U0, n, cur_r, gtvdn_paras.MaxM) for cpt in cpts]);\n",
    "cpts_sel = [cur_cpt.chgMat[cur_ncpt-1, :cur_ncpt] \n",
    "                       for cur_ncpt, cur_cpt \n",
    "                       in zip(ncpts_sel, cpts)];\n",
    "dwells_sel = [np.diff(np.concatenate([[0], cpt_sel, [235]]))*ac_time/235\n",
    "                       for cpt_sel\n",
    "                       in cpts_sel];\n",
    "maxdwell = np.array([dwell.max() for dwell in dwells_sel]);\n",
    "\n"
   ]
  },
  {
   "cell_type": "code",
   "execution_count": 31,
   "id": "0ce72569-ff39-4bc9-800a-92d8a736d450",
   "metadata": {
    "ExecuteTime": {
     "end_time": "2023-12-22T00:59:19.474840Z",
     "start_time": "2023-12-22T00:59:19.414767Z"
    },
    "execution": {
     "iopub.execute_input": "2023-11-07T19:01:50.174674Z",
     "iopub.status.busy": "2023-11-07T19:01:50.174319Z",
     "iopub.status.idle": "2023-11-07T19:01:50.209503Z",
     "shell.execute_reply": "2023-11-07T19:01:50.208740Z",
     "shell.execute_reply.started": "2023-11-07T19:01:50.174650Z"
    }
   },
   "outputs": [
    {
     "data": {
      "text/html": [
       "<table>\n",
       "    <thead>\n",
       "        <tr>\n",
       "            <th>Test</th>\n",
       "            <th>Pval</th>\n",
       "            <th>Effect size</th>\n",
       "        </tr>\n",
       "    </thead>\n",
       "    <tbody>\n",
       "        <tr>\n",
       "            <td>AD vs HC</td>\n",
       "            <td> 0.888</td>\n",
       "            <td>-0.021</td>\n",
       "        </tr>\n",
       "        <tr>\n",
       "            <td>(non-param) AD vs HC</td>\n",
       "            <td> 0.995</td>\n",
       "            <td>-0.021</td>\n",
       "        </tr>\n",
       "        <tr>\n",
       "            <td>bvFTD vs HC</td>\n",
       "            <td> 0.863</td>\n",
       "            <td>-0.032</td>\n",
       "        </tr>\n",
       "        <tr>\n",
       "            <td>(non-param) bvFTD vs HC</td>\n",
       "            <td> 0.831</td>\n",
       "            <td>-0.032</td>\n",
       "        </tr>\n",
       "        <tr>\n",
       "            <td>CBS vs HC</td>\n",
       "            <td> 0.451</td>\n",
       "            <td> 0.164</td>\n",
       "        </tr>\n",
       "        <tr>\n",
       "            <td>(non-param) CBS vs HC</td>\n",
       "            <td> 0.448</td>\n",
       "            <td> 0.164</td>\n",
       "        </tr>\n",
       "        <tr>\n",
       "            <td>nfvPPA vs HC</td>\n",
       "            <td> 0.079</td>\n",
       "            <td>-0.347</td>\n",
       "        </tr>\n",
       "        <tr>\n",
       "            <td>(non-param) nfvPPA vs HC</td>\n",
       "            <td> 0.120</td>\n",
       "            <td>-0.347</td>\n",
       "        </tr>\n",
       "        <tr>\n",
       "            <td>svPPA vs HC</td>\n",
       "            <td> 0.729</td>\n",
       "            <td>-0.067</td>\n",
       "        </tr>\n",
       "        <tr>\n",
       "            <td>(non-param) svPPA vs HC</td>\n",
       "            <td> 0.874</td>\n",
       "            <td>-0.067</td>\n",
       "        </tr>\n",
       "        <tr>\n",
       "            <td>Dementia vs HC</td>\n",
       "            <td> 0.619</td>\n",
       "            <td>-0.060</td>\n",
       "        </tr>\n",
       "        <tr>\n",
       "            <td>(non-param) Dementia vs HC</td>\n",
       "            <td> 0.832</td>\n",
       "            <td>-0.060</td>\n",
       "        </tr>\n",
       "        <tr>\n",
       "            <td>ANOVA</td>\n",
       "            <td> 0.465</td>\n",
       "            <td></td>\n",
       "        </tr>\n",
       "    </tbody>\n",
       "</table>"
      ],
      "text/plain": [
       "+----------------------------+--------+-------------+\n",
       "|                       Test |  Pval  | Effect size |\n",
       "+----------------------------+--------+-------------+\n",
       "|                   AD vs HC |  0.888 |    -0.021   |\n",
       "|       (non-param) AD vs HC |  0.995 |    -0.021   |\n",
       "|                bvFTD vs HC |  0.863 |    -0.032   |\n",
       "|    (non-param) bvFTD vs HC |  0.831 |    -0.032   |\n",
       "|                  CBS vs HC |  0.451 |     0.164   |\n",
       "|      (non-param) CBS vs HC |  0.448 |     0.164   |\n",
       "|               nfvPPA vs HC |  0.079 |    -0.347   |\n",
       "|   (non-param) nfvPPA vs HC |  0.120 |    -0.347   |\n",
       "|                svPPA vs HC |  0.729 |    -0.067   |\n",
       "|    (non-param) svPPA vs HC |  0.874 |    -0.067   |\n",
       "|             Dementia vs HC |  0.619 |    -0.060   |\n",
       "| (non-param) Dementia vs HC |  0.832 |    -0.060   |\n",
       "|                      ANOVA |  0.465 |             |\n",
       "+----------------------------+--------+-------------+"
      ]
     },
     "metadata": {},
     "output_type": "display_data"
    },
    {
     "data": {
      "text/html": [
       "<div>\n",
       "<style scoped>\n",
       "    .dataframe tbody tr th:only-of-type {\n",
       "        vertical-align: middle;\n",
       "    }\n",
       "\n",
       "    .dataframe tbody tr th {\n",
       "        vertical-align: top;\n",
       "    }\n",
       "\n",
       "    .dataframe thead th {\n",
       "        text-align: right;\n",
       "    }\n",
       "</style>\n",
       "<table border=\"1\" class=\"dataframe\">\n",
       "  <thead>\n",
       "    <tr style=\"text-align: right;\">\n",
       "      <th></th>\n",
       "      <th>count</th>\n",
       "      <th>mean</th>\n",
       "      <th>std</th>\n",
       "      <th>min</th>\n",
       "      <th>25%</th>\n",
       "      <th>50%</th>\n",
       "      <th>75%</th>\n",
       "      <th>max</th>\n",
       "    </tr>\n",
       "    <tr>\n",
       "      <th>diagnosis1</th>\n",
       "      <th></th>\n",
       "      <th></th>\n",
       "      <th></th>\n",
       "      <th></th>\n",
       "      <th></th>\n",
       "      <th></th>\n",
       "      <th></th>\n",
       "      <th></th>\n",
       "    </tr>\n",
       "  </thead>\n",
       "  <tbody>\n",
       "    <tr>\n",
       "      <th>AD</th>\n",
       "      <td>82.0</td>\n",
       "      <td>12.865854</td>\n",
       "      <td>1.162821</td>\n",
       "      <td>10.0</td>\n",
       "      <td>12.0</td>\n",
       "      <td>13.0</td>\n",
       "      <td>14.0</td>\n",
       "      <td>15.0</td>\n",
       "    </tr>\n",
       "    <tr>\n",
       "      <th>CBS</th>\n",
       "      <td>27.0</td>\n",
       "      <td>13.074074</td>\n",
       "      <td>1.071517</td>\n",
       "      <td>11.0</td>\n",
       "      <td>12.0</td>\n",
       "      <td>13.0</td>\n",
       "      <td>14.0</td>\n",
       "      <td>15.0</td>\n",
       "    </tr>\n",
       "    <tr>\n",
       "      <th>HC</th>\n",
       "      <td>100.0</td>\n",
       "      <td>12.890000</td>\n",
       "      <td>1.136137</td>\n",
       "      <td>9.0</td>\n",
       "      <td>12.0</td>\n",
       "      <td>13.0</td>\n",
       "      <td>14.0</td>\n",
       "      <td>16.0</td>\n",
       "    </tr>\n",
       "    <tr>\n",
       "      <th>bvFTD</th>\n",
       "      <td>41.0</td>\n",
       "      <td>12.853659</td>\n",
       "      <td>1.130508</td>\n",
       "      <td>10.0</td>\n",
       "      <td>12.0</td>\n",
       "      <td>13.0</td>\n",
       "      <td>14.0</td>\n",
       "      <td>14.0</td>\n",
       "    </tr>\n",
       "    <tr>\n",
       "      <th>nfvPPA</th>\n",
       "      <td>34.0</td>\n",
       "      <td>12.470588</td>\n",
       "      <td>1.353677</td>\n",
       "      <td>10.0</td>\n",
       "      <td>12.0</td>\n",
       "      <td>13.0</td>\n",
       "      <td>13.0</td>\n",
       "      <td>15.0</td>\n",
       "    </tr>\n",
       "    <tr>\n",
       "      <th>svPPA</th>\n",
       "      <td>37.0</td>\n",
       "      <td>12.810811</td>\n",
       "      <td>1.308898</td>\n",
       "      <td>10.0</td>\n",
       "      <td>12.0</td>\n",
       "      <td>13.0</td>\n",
       "      <td>14.0</td>\n",
       "      <td>15.0</td>\n",
       "    </tr>\n",
       "  </tbody>\n",
       "</table>\n",
       "</div>"
      ],
      "text/plain": [
       "            count       mean       std   min   25%   50%   75%   max\n",
       "diagnosis1                                                          \n",
       "AD           82.0  12.865854  1.162821  10.0  12.0  13.0  14.0  15.0\n",
       "CBS          27.0  13.074074  1.071517  11.0  12.0  13.0  14.0  15.0\n",
       "HC          100.0  12.890000  1.136137   9.0  12.0  13.0  14.0  16.0\n",
       "bvFTD        41.0  12.853659  1.130508  10.0  12.0  13.0  14.0  14.0\n",
       "nfvPPA       34.0  12.470588  1.353677  10.0  12.0  13.0  13.0  15.0\n",
       "svPPA        37.0  12.810811  1.308898  10.0  12.0  13.0  14.0  15.0"
      ]
     },
     "execution_count": 31,
     "metadata": {},
     "output_type": "execute_result"
    }
   ],
   "source": [
    "res_df = pd.DataFrame({\n",
    "    \"metric\": ncpts_sel, \n",
    "    \"sex\": sex_labs, \n",
    "    \"diagnosis\": diag_labs\n",
    "})\n",
    "res_df[\"diagnosis1\"] = res_df[\"diagnosis\"].map(diag_lab_mapping)\n",
    "display(_get_test_tb(res_df))\n",
    "res_df.groupby(\"diagnosis1\")[\"metric\"].describe()"
   ]
  },
  {
   "cell_type": "code",
   "execution_count": 15,
   "id": "46cdb9e0",
   "metadata": {
    "ExecuteTime": {
     "end_time": "2023-12-21T04:46:30.584674Z",
     "start_time": "2023-12-21T04:46:30.513957Z"
    },
    "execution": {
     "iopub.execute_input": "2023-11-07T19:01:50.174674Z",
     "iopub.status.busy": "2023-11-07T19:01:50.174319Z",
     "iopub.status.idle": "2023-11-07T19:01:50.209503Z",
     "shell.execute_reply": "2023-11-07T19:01:50.208740Z",
     "shell.execute_reply.started": "2023-11-07T19:01:50.174650Z"
    }
   },
   "outputs": [
    {
     "data": {
      "text/html": [
       "<table>\n",
       "    <thead>\n",
       "        <tr>\n",
       "            <th>Test</th>\n",
       "            <th>Pval</th>\n",
       "            <th>Effect size</th>\n",
       "        </tr>\n",
       "    </thead>\n",
       "    <tbody>\n",
       "        <tr>\n",
       "            <td>AD vs HC</td>\n",
       "            <td> 0.537</td>\n",
       "            <td>-0.092</td>\n",
       "        </tr>\n",
       "        <tr>\n",
       "            <td>(non-param) AD vs HC</td>\n",
       "            <td> 0.936</td>\n",
       "            <td>-0.092</td>\n",
       "        </tr>\n",
       "        <tr>\n",
       "            <td>bvFTD vs HC</td>\n",
       "            <td> 0.152</td>\n",
       "            <td>-0.265</td>\n",
       "        </tr>\n",
       "        <tr>\n",
       "            <td>(non-param) bvFTD vs HC</td>\n",
       "            <td> 0.379</td>\n",
       "            <td>-0.265</td>\n",
       "        </tr>\n",
       "        <tr>\n",
       "            <td>CBS vs HC</td>\n",
       "            <td> 0.085</td>\n",
       "            <td>-0.373</td>\n",
       "        </tr>\n",
       "        <tr>\n",
       "            <td>(non-param) CBS vs HC</td>\n",
       "            <td> 0.057</td>\n",
       "            <td>-0.373</td>\n",
       "        </tr>\n",
       "        <tr>\n",
       "            <td>nfvPPA vs HC</td>\n",
       "            <td> 0.436</td>\n",
       "            <td>-0.155</td>\n",
       "        </tr>\n",
       "        <tr>\n",
       "            <td>(non-param) nfvPPA vs HC</td>\n",
       "            <td> 0.367</td>\n",
       "            <td>-0.155</td>\n",
       "        </tr>\n",
       "        <tr>\n",
       "            <td>svPPA vs HC</td>\n",
       "            <td> 0.326</td>\n",
       "            <td> 0.189</td>\n",
       "        </tr>\n",
       "        <tr>\n",
       "            <td>(non-param) *svPPA vs HC</td>\n",
       "            <td> 0.037</td>\n",
       "            <td> 0.189</td>\n",
       "        </tr>\n",
       "        <tr>\n",
       "            <td>Dementia vs HC</td>\n",
       "            <td> 0.269</td>\n",
       "            <td>-0.133</td>\n",
       "        </tr>\n",
       "        <tr>\n",
       "            <td>(non-param) Dementia vs HC</td>\n",
       "            <td> 0.704</td>\n",
       "            <td>-0.133</td>\n",
       "        </tr>\n",
       "        <tr>\n",
       "            <td>ANOVA</td>\n",
       "            <td> 0.117</td>\n",
       "            <td></td>\n",
       "        </tr>\n",
       "    </tbody>\n",
       "</table>"
      ],
      "text/plain": [
       "+----------------------------+--------+-------------+\n",
       "|                       Test |  Pval  | Effect size |\n",
       "+----------------------------+--------+-------------+\n",
       "|                   AD vs HC |  0.537 |    -0.092   |\n",
       "|       (non-param) AD vs HC |  0.936 |    -0.092   |\n",
       "|                bvFTD vs HC |  0.152 |    -0.265   |\n",
       "|    (non-param) bvFTD vs HC |  0.379 |    -0.265   |\n",
       "|                  CBS vs HC |  0.085 |    -0.373   |\n",
       "|      (non-param) CBS vs HC |  0.057 |    -0.373   |\n",
       "|               nfvPPA vs HC |  0.436 |    -0.155   |\n",
       "|   (non-param) nfvPPA vs HC |  0.367 |    -0.155   |\n",
       "|                svPPA vs HC |  0.326 |     0.189   |\n",
       "|   (non-param) *svPPA vs HC |  0.037 |     0.189   |\n",
       "|             Dementia vs HC |  0.269 |    -0.133   |\n",
       "| (non-param) Dementia vs HC |  0.704 |    -0.133   |\n",
       "|                      ANOVA |  0.117 |             |\n",
       "+----------------------------+--------+-------------+"
      ]
     },
     "metadata": {},
     "output_type": "display_data"
    },
    {
     "data": {
      "text/html": [
       "<div>\n",
       "<style scoped>\n",
       "    .dataframe tbody tr th:only-of-type {\n",
       "        vertical-align: middle;\n",
       "    }\n",
       "\n",
       "    .dataframe tbody tr th {\n",
       "        vertical-align: top;\n",
       "    }\n",
       "\n",
       "    .dataframe thead th {\n",
       "        text-align: right;\n",
       "    }\n",
       "</style>\n",
       "<table border=\"1\" class=\"dataframe\">\n",
       "  <thead>\n",
       "    <tr style=\"text-align: right;\">\n",
       "      <th></th>\n",
       "      <th>count</th>\n",
       "      <th>mean</th>\n",
       "      <th>std</th>\n",
       "      <th>min</th>\n",
       "      <th>25%</th>\n",
       "      <th>50%</th>\n",
       "      <th>75%</th>\n",
       "      <th>max</th>\n",
       "    </tr>\n",
       "    <tr>\n",
       "      <th>diagnosis1</th>\n",
       "      <th></th>\n",
       "      <th></th>\n",
       "      <th></th>\n",
       "      <th></th>\n",
       "      <th></th>\n",
       "      <th></th>\n",
       "      <th></th>\n",
       "      <th></th>\n",
       "    </tr>\n",
       "  </thead>\n",
       "  <tbody>\n",
       "    <tr>\n",
       "      <th>AD</th>\n",
       "      <td>82.0</td>\n",
       "      <td>44.825376</td>\n",
       "      <td>8.070267</td>\n",
       "      <td>33.021277</td>\n",
       "      <td>39.212766</td>\n",
       "      <td>43.340426</td>\n",
       "      <td>47.468085</td>\n",
       "      <td>84.617021</td>\n",
       "    </tr>\n",
       "    <tr>\n",
       "      <th>CBS</th>\n",
       "      <td>27.0</td>\n",
       "      <td>42.270292</td>\n",
       "      <td>5.648272</td>\n",
       "      <td>33.021277</td>\n",
       "      <td>39.212766</td>\n",
       "      <td>41.276596</td>\n",
       "      <td>45.404255</td>\n",
       "      <td>57.787234</td>\n",
       "    </tr>\n",
       "    <tr>\n",
       "      <th>HC</th>\n",
       "      <td>100.0</td>\n",
       "      <td>45.651915</td>\n",
       "      <td>9.650306</td>\n",
       "      <td>33.021277</td>\n",
       "      <td>41.276596</td>\n",
       "      <td>43.340426</td>\n",
       "      <td>47.984043</td>\n",
       "      <td>103.191489</td>\n",
       "    </tr>\n",
       "    <tr>\n",
       "      <th>bvFTD</th>\n",
       "      <td>41.0</td>\n",
       "      <td>43.340426</td>\n",
       "      <td>5.499245</td>\n",
       "      <td>35.085106</td>\n",
       "      <td>39.212766</td>\n",
       "      <td>43.340426</td>\n",
       "      <td>45.404255</td>\n",
       "      <td>55.723404</td>\n",
       "    </tr>\n",
       "    <tr>\n",
       "      <th>nfvPPA</th>\n",
       "      <td>34.0</td>\n",
       "      <td>44.190238</td>\n",
       "      <td>8.743072</td>\n",
       "      <td>30.957447</td>\n",
       "      <td>39.212766</td>\n",
       "      <td>42.308511</td>\n",
       "      <td>47.468085</td>\n",
       "      <td>68.106383</td>\n",
       "    </tr>\n",
       "    <tr>\n",
       "      <th>svPPA</th>\n",
       "      <td>37.0</td>\n",
       "      <td>47.356527</td>\n",
       "      <td>6.791954</td>\n",
       "      <td>37.148936</td>\n",
       "      <td>43.340426</td>\n",
       "      <td>45.404255</td>\n",
       "      <td>51.595745</td>\n",
       "      <td>63.978723</td>\n",
       "    </tr>\n",
       "  </tbody>\n",
       "</table>\n",
       "</div>"
      ],
      "text/plain": [
       "            count       mean       std        min        25%        50%  \\\n",
       "diagnosis1                                                                \n",
       "AD           82.0  44.825376  8.070267  33.021277  39.212766  43.340426   \n",
       "CBS          27.0  42.270292  5.648272  33.021277  39.212766  41.276596   \n",
       "HC          100.0  45.651915  9.650306  33.021277  41.276596  43.340426   \n",
       "bvFTD        41.0  43.340426  5.499245  35.085106  39.212766  43.340426   \n",
       "nfvPPA       34.0  44.190238  8.743072  30.957447  39.212766  42.308511   \n",
       "svPPA        37.0  47.356527  6.791954  37.148936  43.340426  45.404255   \n",
       "\n",
       "                  75%         max  \n",
       "diagnosis1                         \n",
       "AD          47.468085   84.617021  \n",
       "CBS         45.404255   57.787234  \n",
       "HC          47.984043  103.191489  \n",
       "bvFTD       45.404255   55.723404  \n",
       "nfvPPA      47.468085   68.106383  \n",
       "svPPA       51.595745   63.978723  "
      ]
     },
     "execution_count": 15,
     "metadata": {},
     "output_type": "execute_result"
    }
   ],
   "source": [
    "res_df = pd.DataFrame({\n",
    "    \"metric\": maxdwell, \n",
    "    \"sex\": sex_labs, \n",
    "    \"diagnosis\": diag_labs\n",
    "})\n",
    "res_df[\"diagnosis1\"] = res_df[\"diagnosis\"].map(diag_lab_mapping)\n",
    "display(_get_test_tb(res_df))\n",
    "res_df.groupby(\"diagnosis1\")[\"metric\"].describe()"
   ]
  },
  {
   "cell_type": "markdown",
   "id": "5ec1d6c0",
   "metadata": {},
   "source": [
    "## Reestimate lambda for each segment"
   ]
  },
  {
   "cell_type": "code",
   "execution_count": 32,
   "id": "ec56e6a4",
   "metadata": {
    "ExecuteTime": {
     "end_time": "2023-12-22T00:59:27.975648Z",
     "start_time": "2023-12-22T00:59:27.948458Z"
    }
   },
   "outputs": [],
   "source": [
    "from gTVDN.gtvdn_post import est_singular_vals"
   ]
  },
  {
   "cell_type": "code",
   "execution_count": 33,
   "id": "810e19f1",
   "metadata": {
    "ExecuteTime": {
     "end_time": "2023-12-22T00:59:28.580210Z",
     "start_time": "2023-12-22T00:59:28.481711Z"
    }
   },
   "outputs": [],
   "source": [
    "singular_vals = []\n",
    "for sub_ix in range(num_sps):\n",
    "    singular_vals.append(est_singular_vals(cpts_sel[sub_ix], ndXmats[sub_ix], nXmats[sub_ix]))"
   ]
  },
  {
   "cell_type": "markdown",
   "id": "cc2e6634",
   "metadata": {},
   "source": [
    "### Mean"
   ]
  },
  {
   "cell_type": "code",
   "execution_count": 34,
   "id": "5877d5aa",
   "metadata": {
    "ExecuteTime": {
     "end_time": "2023-12-22T00:59:31.317164Z",
     "start_time": "2023-12-22T00:59:31.261472Z"
    }
   },
   "outputs": [],
   "source": [
    "# get mean dwell time for each subject at each U, \n",
    "# if no segment for a specific U, 0\n",
    "# The membership is based on the max abs of ws for each segment\n",
    "allsub_dwell_eachU = np.zeros((num_sps, gtvdn_paras.r));\n",
    "\n",
    "for sub_ix in range(num_sps):\n",
    "    singular_val = singular_vals[sub_ix]\n",
    "    dwells = dwells_sel[sub_ix]\n",
    "    Uidxs = np.argmax(np.abs(singular_val), axis=0)\n",
    "    for u_ix in range(gtvdn_paras.r):\n",
    "        allsub_dwell_eachU[sub_ix, u_ix] = dwells[Uidxs==u_ix].mean() if (Uidxs==u_ix).sum() > 0 else 0\n"
   ]
  },
  {
   "cell_type": "code",
   "execution_count": 35,
   "id": "c6b60a40",
   "metadata": {
    "ExecuteTime": {
     "end_time": "2023-12-22T00:59:33.501977Z",
     "start_time": "2023-12-22T00:59:33.334064Z"
    }
   },
   "outputs": [
    {
     "data": {
      "text/html": [
       "<table>\n",
       "    <thead>\n",
       "        <tr>\n",
       "            <th>Test</th>\n",
       "            <th>Pval</th>\n",
       "            <th>Effect size</th>\n",
       "        </tr>\n",
       "    </thead>\n",
       "    <tbody>\n",
       "        <tr>\n",
       "            <td>AD vs HC</td>\n",
       "            <td> 0.941</td>\n",
       "            <td> 0.011</td>\n",
       "        </tr>\n",
       "        <tr>\n",
       "            <td>(non-param) AD vs HC</td>\n",
       "            <td> 0.914</td>\n",
       "            <td> 0.011</td>\n",
       "        </tr>\n",
       "        <tr>\n",
       "            <td>bvFTD vs HC</td>\n",
       "            <td> 0.321</td>\n",
       "            <td> 0.184</td>\n",
       "        </tr>\n",
       "        <tr>\n",
       "            <td>(non-param) bvFTD vs HC</td>\n",
       "            <td> 0.497</td>\n",
       "            <td> 0.184</td>\n",
       "        </tr>\n",
       "        <tr>\n",
       "            <td>CBS vs HC</td>\n",
       "            <td> 0.117</td>\n",
       "            <td> 0.339</td>\n",
       "        </tr>\n",
       "        <tr>\n",
       "            <td>(non-param) CBS vs HC</td>\n",
       "            <td> 0.174</td>\n",
       "            <td> 0.339</td>\n",
       "        </tr>\n",
       "        <tr>\n",
       "            <td>nfvPPA vs HC</td>\n",
       "            <td> 0.849</td>\n",
       "            <td>-0.038</td>\n",
       "        </tr>\n",
       "        <tr>\n",
       "            <td>(non-param) nfvPPA vs HC</td>\n",
       "            <td> 0.763</td>\n",
       "            <td>-0.038</td>\n",
       "        </tr>\n",
       "        <tr>\n",
       "            <td>svPPA vs HC</td>\n",
       "            <td> 0.247</td>\n",
       "            <td>-0.223</td>\n",
       "        </tr>\n",
       "        <tr>\n",
       "            <td>(non-param) svPPA vs HC</td>\n",
       "            <td> 0.274</td>\n",
       "            <td>-0.223</td>\n",
       "        </tr>\n",
       "        <tr>\n",
       "            <td>Dementia vs HC</td>\n",
       "            <td> 0.781</td>\n",
       "            <td> 0.034</td>\n",
       "        </tr>\n",
       "        <tr>\n",
       "            <td>(non-param) Dementia vs HC</td>\n",
       "            <td> 0.940</td>\n",
       "            <td> 0.034</td>\n",
       "        </tr>\n",
       "        <tr>\n",
       "            <td>ANOVA</td>\n",
       "            <td> 0.307</td>\n",
       "            <td></td>\n",
       "        </tr>\n",
       "    </tbody>\n",
       "</table>"
      ],
      "text/plain": [
       "+----------------------------+--------+-------------+\n",
       "|                       Test |  Pval  | Effect size |\n",
       "+----------------------------+--------+-------------+\n",
       "|                   AD vs HC |  0.941 |     0.011   |\n",
       "|       (non-param) AD vs HC |  0.914 |     0.011   |\n",
       "|                bvFTD vs HC |  0.321 |     0.184   |\n",
       "|    (non-param) bvFTD vs HC |  0.497 |     0.184   |\n",
       "|                  CBS vs HC |  0.117 |     0.339   |\n",
       "|      (non-param) CBS vs HC |  0.174 |     0.339   |\n",
       "|               nfvPPA vs HC |  0.849 |    -0.038   |\n",
       "|   (non-param) nfvPPA vs HC |  0.763 |    -0.038   |\n",
       "|                svPPA vs HC |  0.247 |    -0.223   |\n",
       "|    (non-param) svPPA vs HC |  0.274 |    -0.223   |\n",
       "|             Dementia vs HC |  0.781 |     0.034   |\n",
       "| (non-param) Dementia vs HC |  0.940 |     0.034   |\n",
       "|                      ANOVA |  0.307 |             |\n",
       "+----------------------------+--------+-------------+"
      ]
     },
     "metadata": {},
     "output_type": "display_data"
    },
    {
     "data": {
      "text/html": [
       "<div>\n",
       "<style scoped>\n",
       "    .dataframe tbody tr th:only-of-type {\n",
       "        vertical-align: middle;\n",
       "    }\n",
       "\n",
       "    .dataframe tbody tr th {\n",
       "        vertical-align: top;\n",
       "    }\n",
       "\n",
       "    .dataframe thead th {\n",
       "        text-align: right;\n",
       "    }\n",
       "</style>\n",
       "<table border=\"1\" class=\"dataframe\">\n",
       "  <thead>\n",
       "    <tr style=\"text-align: right;\">\n",
       "      <th></th>\n",
       "      <th>count</th>\n",
       "      <th>mean</th>\n",
       "      <th>std</th>\n",
       "      <th>min</th>\n",
       "      <th>25%</th>\n",
       "      <th>50%</th>\n",
       "      <th>75%</th>\n",
       "      <th>max</th>\n",
       "    </tr>\n",
       "    <tr>\n",
       "      <th>diagnosis1</th>\n",
       "      <th></th>\n",
       "      <th></th>\n",
       "      <th></th>\n",
       "      <th></th>\n",
       "      <th></th>\n",
       "      <th></th>\n",
       "      <th></th>\n",
       "      <th></th>\n",
       "    </tr>\n",
       "  </thead>\n",
       "  <tbody>\n",
       "    <tr>\n",
       "      <th>AD</th>\n",
       "      <td>82.0</td>\n",
       "      <td>26.226998</td>\n",
       "      <td>16.044033</td>\n",
       "      <td>0.0</td>\n",
       "      <td>24.765957</td>\n",
       "      <td>30.957447</td>\n",
       "      <td>35.859043</td>\n",
       "      <td>78.425532</td>\n",
       "    </tr>\n",
       "    <tr>\n",
       "      <th>CBS</th>\n",
       "      <td>27.0</td>\n",
       "      <td>31.328172</td>\n",
       "      <td>10.488585</td>\n",
       "      <td>0.0</td>\n",
       "      <td>30.011525</td>\n",
       "      <td>33.021277</td>\n",
       "      <td>36.736170</td>\n",
       "      <td>44.028369</td>\n",
       "    </tr>\n",
       "    <tr>\n",
       "      <th>HC</th>\n",
       "      <td>100.0</td>\n",
       "      <td>26.047710</td>\n",
       "      <td>16.463907</td>\n",
       "      <td>0.0</td>\n",
       "      <td>15.478723</td>\n",
       "      <td>30.957447</td>\n",
       "      <td>36.632979</td>\n",
       "      <td>66.042553</td>\n",
       "    </tr>\n",
       "    <tr>\n",
       "      <th>bvFTD</th>\n",
       "      <td>41.0</td>\n",
       "      <td>29.141708</td>\n",
       "      <td>17.447674</td>\n",
       "      <td>0.0</td>\n",
       "      <td>24.765957</td>\n",
       "      <td>31.989362</td>\n",
       "      <td>37.148936</td>\n",
       "      <td>74.297872</td>\n",
       "    </tr>\n",
       "    <tr>\n",
       "      <th>nfvPPA</th>\n",
       "      <td>34.0</td>\n",
       "      <td>25.398258</td>\n",
       "      <td>18.864240</td>\n",
       "      <td>0.0</td>\n",
       "      <td>0.000000</td>\n",
       "      <td>30.235106</td>\n",
       "      <td>36.890957</td>\n",
       "      <td>69.138298</td>\n",
       "    </tr>\n",
       "    <tr>\n",
       "      <th>svPPA</th>\n",
       "      <td>37.0</td>\n",
       "      <td>22.288432</td>\n",
       "      <td>17.726477</td>\n",
       "      <td>0.0</td>\n",
       "      <td>0.000000</td>\n",
       "      <td>30.957447</td>\n",
       "      <td>35.085106</td>\n",
       "      <td>55.723404</td>\n",
       "    </tr>\n",
       "  </tbody>\n",
       "</table>\n",
       "</div>"
      ],
      "text/plain": [
       "            count       mean        std  min        25%        50%        75%  \\\n",
       "diagnosis1                                                                      \n",
       "AD           82.0  26.226998  16.044033  0.0  24.765957  30.957447  35.859043   \n",
       "CBS          27.0  31.328172  10.488585  0.0  30.011525  33.021277  36.736170   \n",
       "HC          100.0  26.047710  16.463907  0.0  15.478723  30.957447  36.632979   \n",
       "bvFTD        41.0  29.141708  17.447674  0.0  24.765957  31.989362  37.148936   \n",
       "nfvPPA       34.0  25.398258  18.864240  0.0   0.000000  30.235106  36.890957   \n",
       "svPPA        37.0  22.288432  17.726477  0.0   0.000000  30.957447  35.085106   \n",
       "\n",
       "                  max  \n",
       "diagnosis1             \n",
       "AD          78.425532  \n",
       "CBS         44.028369  \n",
       "HC          66.042553  \n",
       "bvFTD       74.297872  \n",
       "nfvPPA      69.138298  \n",
       "svPPA       55.723404  "
      ]
     },
     "execution_count": 35,
     "metadata": {},
     "output_type": "execute_result"
    },
    {
     "data": {
      "image/png": "[encoded data removed]",
      "text/plain": [
       "<Figure size 1000x500 with 1 Axes>"
      ]
     },
     "metadata": {
      "needs_background": "light"
     },
     "output_type": "display_data"
    }
   ],
   "source": [
    "u_ix = 2\n",
    "res_df = pd.DataFrame({\n",
    "    \"metric\": allsub_dwell_eachU[:, u_ix],\n",
    "    \"diagnosis\": diag_labs\n",
    "})\n",
    "res_df[\"diagnosis1\"] = res_df[\"diagnosis\"].map(diag_lab_mapping)\n",
    "\n",
    "sns.boxplot(data=res_df, x=\"diagnosis1\", y=\"metric\", showfliers=False)\n",
    "plt.xlabel(\"Group\")\n",
    "plt.ylabel(f\"U {u_ix}\")\n",
    "\n",
    "display(_get_test_tb(res_df, 6))\n",
    "res_df.groupby(\"diagnosis1\")[\"metric\"].describe()"
   ]
  },
  {
   "cell_type": "markdown",
   "id": "76ed5d66",
   "metadata": {},
   "source": [
    "### Max"
   ]
  },
  {
   "cell_type": "code",
   "execution_count": 36,
   "id": "6b0f91bd",
   "metadata": {
    "ExecuteTime": {
     "end_time": "2023-12-22T00:59:35.794288Z",
     "start_time": "2023-12-22T00:59:35.737559Z"
    }
   },
   "outputs": [],
   "source": [
    "# get max dwell time for each subject at each U, \n",
    "# if no segment for a specific U, 0\n",
    "# The membership is based on the max abs of ws for each segment\n",
    "allsub_dwell_eachU = np.zeros((num_sps, gtvdn_paras.r));\n",
    "\n",
    "for sub_ix in range(num_sps):\n",
    "    singular_val = singular_vals[sub_ix]\n",
    "    dwells = dwells_sel[sub_ix]\n",
    "    Uidxs = np.argmax(np.abs(singular_val), axis=0)\n",
    "    for u_ix in range(gtvdn_paras.r):\n",
    "        allsub_dwell_eachU[sub_ix, u_ix] = dwells[Uidxs==u_ix].max() if (Uidxs==u_ix).sum() > 0 else 0\n"
   ]
  },
  {
   "cell_type": "code",
   "execution_count": 39,
   "id": "b70975f0",
   "metadata": {
    "ExecuteTime": {
     "end_time": "2023-12-22T00:59:47.389220Z",
     "start_time": "2023-12-22T00:59:47.220317Z"
    }
   },
   "outputs": [
    {
     "data": {
      "text/html": [
       "<table>\n",
       "    <thead>\n",
       "        <tr>\n",
       "            <th>Test</th>\n",
       "            <th>Pval</th>\n",
       "            <th>Effect size</th>\n",
       "        </tr>\n",
       "    </thead>\n",
       "    <tbody>\n",
       "        <tr>\n",
       "            <td>AD vs HC</td>\n",
       "            <td> 0.567</td>\n",
       "            <td> 0.085</td>\n",
       "        </tr>\n",
       "        <tr>\n",
       "            <td>(non-param) AD vs HC</td>\n",
       "            <td> 0.973</td>\n",
       "            <td> 0.085</td>\n",
       "        </tr>\n",
       "        <tr>\n",
       "            <td>bvFTD vs HC</td>\n",
       "            <td> 0.071</td>\n",
       "            <td>-0.333</td>\n",
       "        </tr>\n",
       "        <tr>\n",
       "            <td>(non-param) *bvFTD vs HC</td>\n",
       "            <td> 0.023</td>\n",
       "            <td>-0.333</td>\n",
       "        </tr>\n",
       "        <tr>\n",
       "            <td>CBS vs HC</td>\n",
       "            <td> 0.340</td>\n",
       "            <td>-0.207</td>\n",
       "        </tr>\n",
       "        <tr>\n",
       "            <td>(non-param) CBS vs HC</td>\n",
       "            <td> 0.118</td>\n",
       "            <td>-0.207</td>\n",
       "        </tr>\n",
       "        <tr>\n",
       "            <td>nfvPPA vs HC</td>\n",
       "            <td> 0.709</td>\n",
       "            <td>-0.074</td>\n",
       "        </tr>\n",
       "        <tr>\n",
       "            <td>(non-param) nfvPPA vs HC</td>\n",
       "            <td> 0.501</td>\n",
       "            <td>-0.074</td>\n",
       "        </tr>\n",
       "        <tr>\n",
       "            <td>svPPA vs HC</td>\n",
       "            <td> 0.323</td>\n",
       "            <td>-0.190</td>\n",
       "        </tr>\n",
       "        <tr>\n",
       "            <td>(non-param) svPPA vs HC</td>\n",
       "            <td> 0.578</td>\n",
       "            <td>-0.190</td>\n",
       "        </tr>\n",
       "        <tr>\n",
       "            <td>Dementia vs HC</td>\n",
       "            <td> 0.476</td>\n",
       "            <td>-0.086</td>\n",
       "        </tr>\n",
       "        <tr>\n",
       "            <td>(non-param) Dementia vs HC</td>\n",
       "            <td> 0.183</td>\n",
       "            <td>-0.086</td>\n",
       "        </tr>\n",
       "        <tr>\n",
       "            <td>ANOVA</td>\n",
       "            <td> 0.377</td>\n",
       "            <td></td>\n",
       "        </tr>\n",
       "    </tbody>\n",
       "</table>"
      ],
      "text/plain": [
       "+----------------------------+--------+-------------+\n",
       "|                       Test |  Pval  | Effect size |\n",
       "+----------------------------+--------+-------------+\n",
       "|                   AD vs HC |  0.567 |     0.085   |\n",
       "|       (non-param) AD vs HC |  0.973 |     0.085   |\n",
       "|                bvFTD vs HC |  0.071 |    -0.333   |\n",
       "|   (non-param) *bvFTD vs HC |  0.023 |    -0.333   |\n",
       "|                  CBS vs HC |  0.340 |    -0.207   |\n",
       "|      (non-param) CBS vs HC |  0.118 |    -0.207   |\n",
       "|               nfvPPA vs HC |  0.709 |    -0.074   |\n",
       "|   (non-param) nfvPPA vs HC |  0.501 |    -0.074   |\n",
       "|                svPPA vs HC |  0.323 |    -0.190   |\n",
       "|    (non-param) svPPA vs HC |  0.578 |    -0.190   |\n",
       "|             Dementia vs HC |  0.476 |    -0.086   |\n",
       "| (non-param) Dementia vs HC |  0.183 |    -0.086   |\n",
       "|                      ANOVA |  0.377 |             |\n",
       "+----------------------------+--------+-------------+"
      ]
     },
     "metadata": {},
     "output_type": "display_data"
    },
    {
     "data": {
      "text/html": [
       "<div>\n",
       "<style scoped>\n",
       "    .dataframe tbody tr th:only-of-type {\n",
       "        vertical-align: middle;\n",
       "    }\n",
       "\n",
       "    .dataframe tbody tr th {\n",
       "        vertical-align: top;\n",
       "    }\n",
       "\n",
       "    .dataframe thead th {\n",
       "        text-align: right;\n",
       "    }\n",
       "</style>\n",
       "<table border=\"1\" class=\"dataframe\">\n",
       "  <thead>\n",
       "    <tr style=\"text-align: right;\">\n",
       "      <th></th>\n",
       "      <th>count</th>\n",
       "      <th>mean</th>\n",
       "      <th>std</th>\n",
       "      <th>min</th>\n",
       "      <th>25%</th>\n",
       "      <th>50%</th>\n",
       "      <th>75%</th>\n",
       "      <th>max</th>\n",
       "    </tr>\n",
       "    <tr>\n",
       "      <th>diagnosis1</th>\n",
       "      <th></th>\n",
       "      <th></th>\n",
       "      <th></th>\n",
       "      <th></th>\n",
       "      <th></th>\n",
       "      <th></th>\n",
       "      <th></th>\n",
       "      <th></th>\n",
       "    </tr>\n",
       "  </thead>\n",
       "  <tbody>\n",
       "    <tr>\n",
       "      <th>AD</th>\n",
       "      <td>82.0</td>\n",
       "      <td>43.994811</td>\n",
       "      <td>21.474602</td>\n",
       "      <td>0.0</td>\n",
       "      <td>35.085106</td>\n",
       "      <td>41.276596</td>\n",
       "      <td>49.531915</td>\n",
       "      <td>127.957447</td>\n",
       "    </tr>\n",
       "    <tr>\n",
       "      <th>CBS</th>\n",
       "      <td>27.0</td>\n",
       "      <td>38.830575</td>\n",
       "      <td>18.245550</td>\n",
       "      <td>0.0</td>\n",
       "      <td>30.957447</td>\n",
       "      <td>39.212766</td>\n",
       "      <td>44.372340</td>\n",
       "      <td>97.000000</td>\n",
       "    </tr>\n",
       "    <tr>\n",
       "      <th>HC</th>\n",
       "      <td>100.0</td>\n",
       "      <td>42.370426</td>\n",
       "      <td>16.693224</td>\n",
       "      <td>0.0</td>\n",
       "      <td>35.085106</td>\n",
       "      <td>41.276596</td>\n",
       "      <td>51.595745</td>\n",
       "      <td>105.255319</td>\n",
       "    </tr>\n",
       "    <tr>\n",
       "      <th>bvFTD</th>\n",
       "      <td>41.0</td>\n",
       "      <td>36.947587</td>\n",
       "      <td>14.452740</td>\n",
       "      <td>0.0</td>\n",
       "      <td>30.957447</td>\n",
       "      <td>37.148936</td>\n",
       "      <td>41.276596</td>\n",
       "      <td>70.170213</td>\n",
       "    </tr>\n",
       "    <tr>\n",
       "      <th>nfvPPA</th>\n",
       "      <td>34.0</td>\n",
       "      <td>41.094493</td>\n",
       "      <td>18.580496</td>\n",
       "      <td>0.0</td>\n",
       "      <td>31.473404</td>\n",
       "      <td>40.244681</td>\n",
       "      <td>49.531915</td>\n",
       "      <td>97.000000</td>\n",
       "    </tr>\n",
       "    <tr>\n",
       "      <th>svPPA</th>\n",
       "      <td>37.0</td>\n",
       "      <td>38.933870</td>\n",
       "      <td>21.243762</td>\n",
       "      <td>0.0</td>\n",
       "      <td>30.957447</td>\n",
       "      <td>41.276596</td>\n",
       "      <td>49.531915</td>\n",
       "      <td>74.297872</td>\n",
       "    </tr>\n",
       "  </tbody>\n",
       "</table>\n",
       "</div>"
      ],
      "text/plain": [
       "            count       mean        std  min        25%        50%        75%  \\\n",
       "diagnosis1                                                                      \n",
       "AD           82.0  43.994811  21.474602  0.0  35.085106  41.276596  49.531915   \n",
       "CBS          27.0  38.830575  18.245550  0.0  30.957447  39.212766  44.372340   \n",
       "HC          100.0  42.370426  16.693224  0.0  35.085106  41.276596  51.595745   \n",
       "bvFTD        41.0  36.947587  14.452740  0.0  30.957447  37.148936  41.276596   \n",
       "nfvPPA       34.0  41.094493  18.580496  0.0  31.473404  40.244681  49.531915   \n",
       "svPPA        37.0  38.933870  21.243762  0.0  30.957447  41.276596  49.531915   \n",
       "\n",
       "                   max  \n",
       "diagnosis1              \n",
       "AD          127.957447  \n",
       "CBS          97.000000  \n",
       "HC          105.255319  \n",
       "bvFTD        70.170213  \n",
       "nfvPPA       97.000000  \n",
       "svPPA        74.297872  "
      ]
     },
     "execution_count": 39,
     "metadata": {},
     "output_type": "execute_result"
    },
    {
     "data": {
      "image/png": "[encoded data removed]",
      "text/plain": [
       "<Figure size 1000x500 with 1 Axes>"
      ]
     },
     "metadata": {
      "needs_background": "light"
     },
     "output_type": "display_data"
    }
   ],
   "source": [
    "u_ix = 0\n",
    "res_df = pd.DataFrame({\n",
    "    \"metric\": allsub_dwell_eachU[:, u_ix],\n",
    "    \"diagnosis\": diag_labs\n",
    "})\n",
    "res_df[\"diagnosis1\"] = res_df[\"diagnosis\"].map(diag_lab_mapping)\n",
    "\n",
    "sns.boxplot(data=res_df, x=\"diagnosis1\", y=\"metric\", showfliers=False)\n",
    "plt.xlabel(\"Group\")\n",
    "plt.ylabel(f\"U {u_ix}\")\n",
    "\n",
    "display(_get_test_tb(res_df, 6))\n",
    "res_df.groupby(\"diagnosis1\")[\"metric\"].describe()"
   ]
  },
  {
   "cell_type": "code",
   "execution_count": null,
   "id": "6b0b7dbb",
   "metadata": {},
   "outputs": [],
   "source": []
  },
  {
   "cell_type": "markdown",
   "id": "ecfa8edd",
   "metadata": {},
   "source": [
    "## B3 analysis"
   ]
  },
  {
   "cell_type": "code",
   "execution_count": 55,
   "id": "6b32dca9-0431-49c7-b12a-ccf627a11a93",
   "metadata": {
    "ExecuteTime": {
     "end_time": "2023-12-21T04:32:01.485854Z",
     "start_time": "2023-12-21T04:32:01.451528Z"
    }
   },
   "outputs": [
    {
     "name": "stdout",
     "output_type": "stream",
     "text": [
      "Load file /data/rajlab1/user_data/jin/MyResearch/jesse_data/notebooks/../mypkg/../results/gTVDN_sc3/CPDress_com.pkl\n"
     ]
    }
   ],
   "source": [
    "CPDress_com = load_pkl(save_dir/\"CPDress_com.pkl\");"
   ]
  },
  {
   "cell_type": "code",
   "execution_count": 56,
   "id": "c28af308",
   "metadata": {
    "ExecuteTime": {
     "end_time": "2023-12-21T04:32:03.854511Z",
     "start_time": "2023-12-21T04:32:03.617899Z"
    }
   },
   "outputs": [
    {
     "data": {
      "text/plain": [
       "KMeans(n_clusters=5, random_state=0)"
      ]
     },
     "execution_count": 56,
     "metadata": {},
     "output_type": "execute_result"
    }
   ],
   "source": [
    "from sklearn.cluster import KMeans\n",
    "n_clus = 5\n",
    "B3 = CPDress_com[-1];\n",
    "kmeans = KMeans(n_clusters=n_clus, random_state=0).fit(B3)"
   ]
  },
  {
   "cell_type": "code",
   "execution_count": 57,
   "id": "2a998d73",
   "metadata": {
    "ExecuteTime": {
     "end_time": "2023-12-21T04:32:04.471797Z",
     "start_time": "2023-12-21T04:32:04.424274Z"
    }
   },
   "outputs": [
    {
     "data": {
      "text/html": [
       "<div>\n",
       "<style scoped>\n",
       "    .dataframe tbody tr th:only-of-type {\n",
       "        vertical-align: middle;\n",
       "    }\n",
       "\n",
       "    .dataframe tbody tr th {\n",
       "        vertical-align: top;\n",
       "    }\n",
       "\n",
       "    .dataframe thead th {\n",
       "        text-align: right;\n",
       "    }\n",
       "</style>\n",
       "<table border=\"1\" class=\"dataframe\">\n",
       "  <thead>\n",
       "    <tr style=\"text-align: right;\">\n",
       "      <th></th>\n",
       "      <th>AD</th>\n",
       "      <th>bvFTD</th>\n",
       "      <th>CBS</th>\n",
       "      <th>nfvPPA</th>\n",
       "      <th>svPPA</th>\n",
       "      <th>HC</th>\n",
       "    </tr>\n",
       "    <tr>\n",
       "      <th>row_0</th>\n",
       "      <th></th>\n",
       "      <th></th>\n",
       "      <th></th>\n",
       "      <th></th>\n",
       "      <th></th>\n",
       "      <th></th>\n",
       "    </tr>\n",
       "  </thead>\n",
       "  <tbody>\n",
       "    <tr>\n",
       "      <th>0</th>\n",
       "      <td>0.268293</td>\n",
       "      <td>0.195122</td>\n",
       "      <td>0.185185</td>\n",
       "      <td>0.323529</td>\n",
       "      <td>0.081081</td>\n",
       "      <td>0.19</td>\n",
       "    </tr>\n",
       "    <tr>\n",
       "      <th>1</th>\n",
       "      <td>0.121951</td>\n",
       "      <td>0.048780</td>\n",
       "      <td>0.000000</td>\n",
       "      <td>0.058824</td>\n",
       "      <td>0.135135</td>\n",
       "      <td>0.09</td>\n",
       "    </tr>\n",
       "    <tr>\n",
       "      <th>2</th>\n",
       "      <td>0.219512</td>\n",
       "      <td>0.341463</td>\n",
       "      <td>0.259259</td>\n",
       "      <td>0.235294</td>\n",
       "      <td>0.243243</td>\n",
       "      <td>0.25</td>\n",
       "    </tr>\n",
       "    <tr>\n",
       "      <th>3</th>\n",
       "      <td>0.158537</td>\n",
       "      <td>0.243902</td>\n",
       "      <td>0.222222</td>\n",
       "      <td>0.205882</td>\n",
       "      <td>0.270270</td>\n",
       "      <td>0.30</td>\n",
       "    </tr>\n",
       "    <tr>\n",
       "      <th>4</th>\n",
       "      <td>0.231707</td>\n",
       "      <td>0.170732</td>\n",
       "      <td>0.333333</td>\n",
       "      <td>0.176471</td>\n",
       "      <td>0.270270</td>\n",
       "      <td>0.17</td>\n",
       "    </tr>\n",
       "  </tbody>\n",
       "</table>\n",
       "</div>"
      ],
      "text/plain": [
       "             AD     bvFTD       CBS    nfvPPA     svPPA    HC\n",
       "row_0                                                        \n",
       "0      0.268293  0.195122  0.185185  0.323529  0.081081  0.19\n",
       "1      0.121951  0.048780  0.000000  0.058824  0.135135  0.09\n",
       "2      0.219512  0.341463  0.259259  0.235294  0.243243  0.25\n",
       "3      0.158537  0.243902  0.222222  0.205882  0.270270  0.30\n",
       "4      0.231707  0.170732  0.333333  0.176471  0.270270  0.17"
      ]
     },
     "execution_count": 57,
     "metadata": {},
     "output_type": "execute_result"
    }
   ],
   "source": [
    "tb = pd.crosstab(kmeans.labels_, diag_labs)\n",
    "tbn = tb.div(tb.sum(), axis=1);\n",
    "tbn.columns = [diag_lab_mapping[ix] for ix in tbn.columns]\n",
    "tbn"
   ]
  },
  {
   "cell_type": "code",
   "execution_count": null,
   "id": "f77b1b4d",
   "metadata": {},
   "outputs": [],
   "source": []
  }
 ],
 "metadata": {
  "kernelspec": {
   "display_name": "Python 3 (ipykernel)",
   "language": "python",
   "name": "python3"
  },
  "language_info": {
   "codemirror_mode": {
    "name": "ipython",
    "version": 3
   },
   "file_extension": ".py",
   "mimetype": "text/x-python",
   "name": "python",
   "nbconvert_exporter": "python",
   "pygments_lexer": "ipython3",
   "version": "3.9.7"
  },
  "toc": {
   "base_numbering": 1,
   "nav_menu": {},
   "number_sections": true,
   "sideBar": true,
   "skip_h1_title": false,
   "title_cell": "Table of Contents",
   "title_sidebar": "Contents",
   "toc_cell": false,
   "toc_position": {
    "height": "calc(100% - 180px)",
    "left": "10px",
    "top": "150px",
    "width": "265.391px"
   },
   "toc_section_display": true,
   "toc_window_display": true
  }
 },
 "nbformat": 4,
 "nbformat_minor": 5
}
