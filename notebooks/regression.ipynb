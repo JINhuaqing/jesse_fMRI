{
 "cells": [
  {
   "cell_type": "markdown",
   "id": "55950736-4778-4461-a7e4-6a9323a8d9f5",
   "metadata": {},
   "source": [
    "Regression \n",
    "\n",
    "mainly in DMN"
   ]
  },
  {
   "cell_type": "code",
   "execution_count": 2,
   "id": "f6316349-3e91-4ded-92a2-dd20ed6b1b17",
   "metadata": {
    "ExecuteTime": {
     "end_time": "2023-12-06T18:54:44.964720Z",
     "start_time": "2023-12-06T18:54:44.962246Z"
    },
    "execution": {
     "iopub.execute_input": "2023-11-07T03:27:56.995235Z",
     "iopub.status.busy": "2023-11-07T03:27:56.993748Z",
     "iopub.status.idle": "2023-11-07T03:27:57.007205Z",
     "shell.execute_reply": "2023-11-07T03:27:57.005890Z",
     "shell.execute_reply.started": "2023-11-07T03:27:56.995197Z"
    }
   },
   "outputs": [],
   "source": [
    "import sys\n",
    "sys.path.append(\"../mypkg\")"
   ]
  },
  {
   "cell_type": "code",
   "execution_count": 1,
   "id": "761d4b55-4cb4-44a5-a408-1b9cbbc946b7",
   "metadata": {
    "ExecuteTime": {
     "end_time": "2023-12-06T18:54:41.398945Z",
     "start_time": "2023-12-06T18:54:41.349235Z"
    },
    "execution": {
     "iopub.execute_input": "2023-11-07T03:27:57.142525Z",
     "iopub.status.busy": "2023-11-07T03:27:57.142147Z",
     "iopub.status.idle": "2023-11-07T03:27:57.209843Z",
     "shell.execute_reply": "2023-11-07T03:27:57.208993Z",
     "shell.execute_reply.started": "2023-11-07T03:27:57.142490Z"
    }
   },
   "outputs": [
    {
     "ename": "ModuleNotFoundError",
     "evalue": "No module named 'constants'",
     "output_type": "error",
     "traceback": [
      "\u001b[0;31m---------------------------------------------------------------------------\u001b[0m",
      "\u001b[0;31mModuleNotFoundError\u001b[0m                       Traceback (most recent call last)",
      "\u001b[0;32m/var/tmp/ipykernel_31877/1863512077.py\u001b[0m in \u001b[0;36m<module>\u001b[0;34m\u001b[0m\n\u001b[0;32m----> 1\u001b[0;31m \u001b[0;32mfrom\u001b[0m \u001b[0mconstants\u001b[0m \u001b[0;32mimport\u001b[0m \u001b[0mRES_ROOT\u001b[0m\u001b[0;34m,\u001b[0m \u001b[0mFIG_ROOT\u001b[0m\u001b[0;34m,\u001b[0m \u001b[0mDATA_ROOT\u001b[0m\u001b[0;34m\u001b[0m\u001b[0;34m\u001b[0m\u001b[0m\n\u001b[0m\u001b[1;32m      2\u001b[0m \u001b[0;32mfrom\u001b[0m \u001b[0mutils\u001b[0m\u001b[0;34m.\u001b[0m\u001b[0mmisc\u001b[0m \u001b[0;32mimport\u001b[0m \u001b[0mload_pkl\u001b[0m\u001b[0;34m,\u001b[0m \u001b[0msave_pkl\u001b[0m\u001b[0;34m\u001b[0m\u001b[0;34m\u001b[0m\u001b[0m\n\u001b[1;32m      3\u001b[0m \u001b[0;32mfrom\u001b[0m \u001b[0mutils\u001b[0m\u001b[0;34m.\u001b[0m\u001b[0mcolors\u001b[0m \u001b[0;32mimport\u001b[0m \u001b[0mqual_cmap\u001b[0m\u001b[0;34m\u001b[0m\u001b[0;34m\u001b[0m\u001b[0m\n",
      "\u001b[0;31mModuleNotFoundError\u001b[0m: No module named 'constants'"
     ]
    }
   ],
   "source": [
    "from constants import RES_ROOT, FIG_ROOT, DATA_ROOT\n",
    "from utils.misc import load_pkl, save_pkl\n",
    "from utils.colors import qual_cmap"
   ]
  },
  {
   "cell_type": "code",
   "execution_count": null,
   "id": "3b79c385",
   "metadata": {
    "ExecuteTime": {
     "start_time": "2023-12-06T18:54:06.961Z"
    }
   },
   "outputs": [],
   "source": [
    "%load_ext autoreload\n",
    "%autoreload 2\n",
    "# 0,1, 2, 3, be careful about the space"
   ]
  },
  {
   "cell_type": "code",
   "execution_count": null,
   "id": "dd91ad51-fb83-4993-85e0-f089b427c9d6",
   "metadata": {
    "ExecuteTime": {
     "start_time": "2023-12-06T18:54:07.251Z"
    },
    "execution": {
     "iopub.execute_input": "2023-11-07T03:27:57.462107Z",
     "iopub.status.busy": "2023-11-07T03:27:57.461635Z",
     "iopub.status.idle": "2023-11-07T03:27:58.146009Z",
     "shell.execute_reply": "2023-11-07T03:27:58.145200Z",
     "shell.execute_reply.started": "2023-11-07T03:27:57.462070Z"
    }
   },
   "outputs": [],
   "source": [
    "import numpy as np\n",
    "import scipy\n",
    "from scipy.io import loadmat\n",
    "from scipy import signal\n",
    "import matplotlib.pyplot as plt\n",
    "import seaborn as sns\n",
    "from tqdm import tqdm, trange\n",
    "import bct # the pkg to get graph features\n",
    "from joblib import Parallel, delayed\n",
    "from easydict import EasyDict as edict\n",
    "import pandas as pd\n",
    "\n",
    "plt.style.use(FIG_ROOT/'base.mplstyle')"
   ]
  },
  {
   "cell_type": "code",
   "execution_count": null,
   "id": "62ebe37d",
   "metadata": {},
   "outputs": [],
   "source": []
  },
  {
   "cell_type": "markdown",
   "id": "cd61ced4-9e45-453a-9c53-8a270823a8b2",
   "metadata": {},
   "source": [
    "# Fns and params"
   ]
  },
  {
   "cell_type": "markdown",
   "id": "2a3e0512-46ab-4f06-8b52-05216ec7ec7a",
   "metadata": {},
   "source": [
    "## Some fns"
   ]
  },
  {
   "cell_type": "code",
   "execution_count": null,
   "id": "6028fd38",
   "metadata": {
    "ExecuteTime": {
     "start_time": "2023-12-06T18:54:08.530Z"
    }
   },
   "outputs": [],
   "source": [
    "from prettytable import PrettyTable as PT\n",
    "from scipy.stats import f_oneway, ttest_ind \n",
    "\n",
    "def _get_test_tb(res_df):\n",
    "    tb = PT()\n",
    "    tb.field_names = [\"Test\", \"Pval\", \"Effect size\"]\n",
    "    \n",
    "    HC = res_df[\"metric\"][res_df[\"diagnosis\"]==6]\n",
    "    \n",
    "    def indicator(pval):\n",
    "        if pval < 0.05:\n",
    "            return \"*\"\n",
    "        else:\n",
    "            return \"\"\n",
    "    # list all disease\n",
    "    for diag_ix in range(1, 6):\n",
    "        DS = res_df[\"metric\"][res_df[\"diagnosis\"]==diag_ix]\n",
    "        ttest_res = ttest_ind(DS, HC)\n",
    "        effect_size = (np.mean(DS)-np.mean(HC))/np.std(np.concatenate([DS, HC]), ddof=2)\n",
    "        tb.add_row([f\"{indicator(ttest_res.pvalue)}{diag_lab_mapping[diag_ix]} vs HC\", \n",
    "                      f\"{ttest_res.pvalue:>6.3f}\", \n",
    "                      f\"{effect_size:>6.3f}\"])\n",
    "    \n",
    "    # pool 5 diseases together\n",
    "    DS = res_df[\"metric\"][res_df[\"diagnosis\"]!=6]\n",
    "    ttest_res = ttest_ind(DS, HC)\n",
    "    effect_size = (np.mean(DS)-np.mean(HC))/np.std(np.concatenate([DS, HC]), ddof=2)\n",
    "    tb.add_row([f\"{indicator(ttest_res.pvalue)}Dementia vs HC\", \n",
    "                f\"{ttest_res.pvalue:>6.3f}\", \n",
    "                f\"{effect_size:>6.3f}\"])\n",
    "    \n",
    "    # anova\n",
    "    metric_grp = [res_df[\"metric\"][res_df[\"diagnosis\"]==grp_ix] for grp_ix in range(1, 7)]\n",
    "    anova_res = f_oneway(*metric_grp)\n",
    "    tb.add_row([f\"{indicator(anova_res.pvalue)}ANOVA\", \n",
    "                f\"{anova_res.pvalue:>6.3f}\", \n",
    "                f\"\"])\n",
    "    tb.align[\"Test\"] = \"r\"\n",
    "    tb.align[\"Pval\"] = \"c\"\n",
    "    tb.align[\"Effect size\"] = \"c\"\n",
    "    return tb"
   ]
  },
  {
   "cell_type": "code",
   "execution_count": null,
   "id": "94714b2c-d3be-4815-9d74-20d42f0f3f0f",
   "metadata": {
    "ExecuteTime": {
     "start_time": "2023-12-06T18:54:09.184Z"
    },
    "execution": {
     "iopub.execute_input": "2023-11-07T03:28:00.297583Z",
     "iopub.status.busy": "2023-11-07T03:28:00.297169Z",
     "iopub.status.idle": "2023-11-07T03:28:00.306720Z",
     "shell.execute_reply": "2023-11-07T03:28:00.305969Z",
     "shell.execute_reply.started": "2023-11-07T03:28:00.297547Z"
    }
   },
   "outputs": [],
   "source": [
    "def _preprocess_ts(ts):\n",
    "    \"\"\"preprocessing, \n",
    "        1. detrend\n",
    "        2. resample (len of seq has 235 or 555, I make it consistent to 235)\n",
    "    \"\"\"\n",
    "    ts = signal.detrend(ts);\n",
    "    if ts.shape[-1] > 235:\n",
    "        ts = signal.resample(ts, num=235, axis=-1)\n",
    "    return ts\n",
    "    \n",
    "    \n",
    "def _load_data(n):\n",
    "    \"\"\"Sub idx is from 1, n: the sub idx\n",
    "    \"\"\"\n",
    "    return mat_data['ts_321_273'][np.where(mat_data['subj_321_ts'][:, 0] == n)[0], :].transpose()"
   ]
  },
  {
   "cell_type": "markdown",
   "id": "27ceee6d-65f9-4da7-86e1-17d223e51ae5",
   "metadata": {},
   "source": [
    "## Load data and params"
   ]
  },
  {
   "cell_type": "code",
   "execution_count": 7,
   "id": "1b761799-d66a-441b-98f3-f13a2c1b0f0d",
   "metadata": {
    "ExecuteTime": {
     "end_time": "2023-11-22T18:11:49.505024Z",
     "start_time": "2023-11-22T18:11:47.953373Z"
    },
    "execution": {
     "iopub.execute_input": "2023-11-07T03:28:01.830510Z",
     "iopub.status.busy": "2023-11-07T03:28:01.830068Z",
     "iopub.status.idle": "2023-11-07T03:28:03.022752Z",
     "shell.execute_reply": "2023-11-07T03:28:03.021907Z",
     "shell.execute_reply.started": "2023-11-07T03:28:01.830473Z"
    }
   },
   "outputs": [
    {
     "name": "stdout",
     "output_type": "stream",
     "text": [
      "Load file /data/rajlab1/user_data/jin/MyResearch/jesse_data/notebooks/../mypkg/../data/ad_ftd_hc_fmri_data_7nets.pkl\n"
     ]
    }
   ],
   "source": [
    "# load data\n",
    "mat_data = loadmat(DATA_ROOT/\"ad_ftd_hc_fmri_data.mat\");\n",
    "\n",
    "diag_labs = mat_data[\"dx_321\"].reshape(-1)\n",
    "sex_labs = mat_data[\"sex_321\"].reshape(-1)\n",
    "diag_lab_mapping = {\n",
    " 1: \"AD\",\n",
    " 2: \"bvFTD\",\n",
    " 3: \"CBS\", \n",
    " 4: \"nfvPPA\", \n",
    " 5: \"svPPA\", \n",
    " 6: \"HC\"\n",
    "}\n",
    "\n",
    "# some parameters\n",
    "\n",
    "num_rois = 246 # the BNA has 246 regions\n",
    "num_sps = 321\n",
    "\n",
    "labs = pd.read_csv(DATA_ROOT/\"BN246_RegionList.csv\");\n",
    "yeo_7nets_lab = np.array(labs[\"Yeo_7network\"][:246]);\n",
    "\n",
    "yeo_7nets_dict = pd.read_csv(DATA_ROOT/\"yeo_7nets_dict.txt\");\n",
    "yeo_7nets_dict = {yeo_7nets_dict[\"lab\"][ix]:\"_\".join(yeo_7nets_dict[\"name\"][ix].strip().split(\" \"))\n",
    "                  for ix in range(7)}\n",
    "yeo_7nets_ts = load_pkl(DATA_ROOT/\"ad_ftd_hc_fmri_data_7nets.pkl\");"
   ]
  },
  {
   "cell_type": "code",
   "execution_count": 8,
   "id": "897d6899",
   "metadata": {
    "ExecuteTime": {
     "end_time": "2023-11-22T18:11:49.540382Z",
     "start_time": "2023-11-22T18:11:49.506674Z"
    }
   },
   "outputs": [
    {
     "name": "stdout",
     "output_type": "stream",
     "text": [
      "Load file /data/rajlab1/user_data/jin/MyResearch/jesse_data/notebooks/../mypkg/../results/graph_metrics_fc_fisher_abs_Default.pkl\n",
      "Load file /data/rajlab1/user_data/jin/MyResearch/jesse_data/notebooks/../mypkg/../results/tvdnMaxM20_ranks_Default.pkl\n",
      "Load file /data/rajlab1/user_data/jin/MyResearch/jesse_data/notebooks/../mypkg/../results/tvdnMaxM20_ecptss_kp1647_Default.pkl\n"
     ]
    }
   ],
   "source": [
    "# Load features\n",
    "net_ix = 7\n",
    "graph_metrics = load_pkl(RES_ROOT/f\"graph_metrics_fc_fisher_abs_{yeo_7nets_dict[net_ix]}.pkl\");\n",
    "tvdn_rks = np.array(load_pkl(RES_ROOT/f\"tvdnMaxM20_ranks_{yeo_7nets_dict[net_ix]}.pkl\"));\n",
    "tvdn_ecptss = load_pkl(RES_ROOT/f\"tvdnMaxM20_ecptss_kp1647_{yeo_7nets_dict[net_ix]}.pkl\");"
   ]
  },
  {
   "cell_type": "code",
   "execution_count": 9,
   "id": "1ef8000c",
   "metadata": {
    "ExecuteTime": {
     "end_time": "2023-11-22T18:11:50.989992Z",
     "start_time": "2023-11-22T18:11:50.971799Z"
    }
   },
   "outputs": [],
   "source": [
    "tvdn_ncpts = np.array([len(ecpts) for ecpts in tvdn_ecptss]);\n",
    "graph_C = np.array([metric.network_metrics[\"tmC\"] for metric in graph_metrics])\n",
    "graph_L = np.array([metric.network_metrics[\"tmL\"] for metric in graph_metrics])\n",
    "graph_Q = np.array([metric.network_metrics[\"tQ\"] for metric in graph_metrics]);\n",
    "sgm_res = load_pkl(RES_ROOT/\"sgm_all_res.pkl\");"
   ]
  },
  {
   "cell_type": "code",
   "execution_count": 10,
   "id": "16e95cf0",
   "metadata": {
    "ExecuteTime": {
     "end_time": "2023-11-22T18:11:52.281416Z",
     "start_time": "2023-11-22T18:11:52.264267Z"
    }
   },
   "outputs": [],
   "source": [
    "Xs = np.vstack([tvdn_rks, tvdn_ncpts, \n",
    "                graph_C, graph_L, graph_Q]).T;"
   ]
  },
  {
   "cell_type": "code",
   "execution_count": 11,
   "id": "6b8215d9",
   "metadata": {
    "ExecuteTime": {
     "end_time": "2023-11-22T18:11:58.586956Z",
     "start_time": "2023-11-22T18:11:58.567795Z"
    }
   },
   "outputs": [
    {
     "data": {
      "text/plain": [
       "<function __main__.<lambda>(Xs)>"
      ]
     },
     "execution_count": 11,
     "metadata": {},
     "output_type": "execute_result"
    }
   ],
   "source": [
    "\n",
    "stdX_fn = lambda Xs: (Xs - Xs.mean(axis=0, keepdims=1))/Xs.std(axis=0, keepdims=1)"
   ]
  },
  {
   "cell_type": "code",
   "execution_count": null,
   "id": "ebcf82cc",
   "metadata": {},
   "outputs": [],
   "source": []
  },
  {
   "cell_type": "markdown",
   "id": "31402440",
   "metadata": {},
   "source": [
    "# Regression"
   ]
  },
  {
   "cell_type": "code",
   "execution_count": 11,
   "id": "52fb8e15",
   "metadata": {
    "ExecuteTime": {
     "end_time": "2023-11-22T17:55:14.860513Z",
     "start_time": "2023-11-22T17:55:13.014391Z"
    }
   },
   "outputs": [],
   "source": [
    "from sklearn.linear_model import LogisticRegression, LogisticRegressionCV\n",
    "import statsmodels.api as sm\n",
    "from sklearn.model_selection import LeaveOneOut\n",
    "from sklearn.metrics import roc_auc_score, roc_curve"
   ]
  },
  {
   "cell_type": "code",
   "execution_count": 12,
   "id": "1b68f2b5",
   "metadata": {
    "ExecuteTime": {
     "end_time": "2023-11-22T17:55:17.298826Z",
     "start_time": "2023-11-22T17:55:17.266145Z"
    }
   },
   "outputs": [],
   "source": [
    "def _LOO_CV(Xs, Y, model, verbose=False):\n",
    "    loo = LeaveOneOut()\n",
    "    eprobs = []\n",
    "    if verbose:\n",
    "        pbar = tqdm(loo.split(Xs), total=len(Y))\n",
    "    else:\n",
    "        pbar = loo.split(Xs)\n",
    "    for train_idx, test_idx in pbar:\n",
    "        X_train, X_test = Xs[train_idx], Xs[test_idx]\n",
    "        y_train, y_test = Y[train_idx], Y[test_idx]\n",
    "        \n",
    "        # std X\n",
    "        X_train_m = X_train.mean(axis=0, keepdims=1)\n",
    "        X_train_std = X_train.std(axis=0, keepdims=1)\n",
    "        X_train = (X_train-X_train_m)/X_train_std\n",
    "        X_test = (X_test-X_train_m)/X_train_std\n",
    "        \n",
    "        clf = model.fit(X_train, y_train)\n",
    "        if len(np.unique(Y)) == 2:\n",
    "            eprobs.append(clf.predict_proba(X_test))\n",
    "        else:\n",
    "            eprobs.append(clf.predict(X_test))\n",
    "    return np.concatenate(np.array(eprobs))"
   ]
  },
  {
   "cell_type": "code",
   "execution_count": null,
   "id": "e26ba56e",
   "metadata": {},
   "outputs": [],
   "source": []
  },
  {
   "cell_type": "markdown",
   "id": "8f8042c1",
   "metadata": {
    "ExecuteTime": {
     "end_time": "2023-11-21T18:12:28.796893Z",
     "start_time": "2023-11-21T18:12:28.744649Z"
    }
   },
   "source": [
    "## Logi (All disease vs HC)"
   ]
  },
  {
   "cell_type": "code",
   "execution_count": 17,
   "id": "0cad5a9c",
   "metadata": {
    "ExecuteTime": {
     "end_time": "2023-11-22T17:55:48.539011Z",
     "start_time": "2023-11-22T17:55:48.505765Z"
    }
   },
   "outputs": [
    {
     "data": {
      "text/plain": [
       "LogisticRegression(C=10, random_state=0)"
      ]
     },
     "execution_count": 17,
     "metadata": {},
     "output_type": "execute_result"
    }
   ],
   "source": [
    "Y = np.array(diag_labs);\n",
    "Y[Y==6] = 0\n",
    "Y[Y>0] = 1\n",
    "\n",
    "model = LogisticRegression(random_state=0, C=10)"
   ]
  },
  {
   "cell_type": "code",
   "execution_count": 18,
   "id": "c2deb35f",
   "metadata": {
    "ExecuteTime": {
     "end_time": "2023-11-22T17:55:50.157806Z",
     "start_time": "2023-11-22T17:55:49.200648Z"
    }
   },
   "outputs": [
    {
     "name": "stderr",
     "output_type": "stream",
     "text": [
      "100%|███████████████████████████████████████████████████████████████████████████████████████████████████████████████████████████████████████| 321/321 [00:00<00:00, 344.40it/s]\n"
     ]
    }
   ],
   "source": [
    "eprobs = _LOO_CV(Xs, Y, model, verbose=True);\n",
    "auc = roc_auc_score(Y, eprobs[:, 1])\n",
    "fpr, tpr, thresholds = roc_curve(Y, eprobs[:, 1], pos_label=1)"
   ]
  },
  {
   "cell_type": "code",
   "execution_count": 19,
   "id": "d3fc2add",
   "metadata": {
    "ExecuteTime": {
     "end_time": "2023-11-22T17:55:51.247344Z",
     "start_time": "2023-11-22T17:55:51.128122Z"
    }
   },
   "outputs": [
    {
     "data": {
      "text/plain": [
       "Text(0.5, 1.0, 'Disease vs HC (AUC:0.629)')"
      ]
     },
     "execution_count": 19,
     "metadata": {},
     "output_type": "execute_result"
    },
    {
     "data": {
      "image/png": "[encoded data removed]",
      "text/plain": [
       "<Figure size 500x500 with 1 Axes>"
      ]
     },
     "metadata": {
      "needs_background": "light"
     },
     "output_type": "display_data"
    }
   ],
   "source": [
    "plt.figure(figsize=[5, 5])\n",
    "plt.plot(fpr, tpr)\n",
    "plt.xlabel(\"False positive\")\n",
    "plt.ylabel(\"True positive\")\n",
    "plt.title(f\"Disease vs HC (AUC:{auc:.3f})\")"
   ]
  },
  {
   "cell_type": "markdown",
   "id": "0ba66ec2",
   "metadata": {
    "ExecuteTime": {
     "end_time": "2023-11-21T18:58:40.579171Z",
     "start_time": "2023-11-21T18:58:40.554926Z"
    }
   },
   "source": [
    "## Each vs HC"
   ]
  },
  {
   "cell_type": "code",
   "execution_count": 17,
   "id": "cb04b694",
   "metadata": {
    "ExecuteTime": {
     "end_time": "2023-11-21T19:32:20.864294Z",
     "start_time": "2023-11-21T19:32:17.558013Z"
    }
   },
   "outputs": [
    {
     "name": "stderr",
     "output_type": "stream",
     "text": [
      "100%|███████████████████████████████████████████████████████████████████████████████████████████████████████████████████████████████████████| 182/182 [00:01<00:00, 159.43it/s]\n",
      "100%|███████████████████████████████████████████████████████████████████████████████████████████████████████████████████████████████████████| 141/141 [00:00<00:00, 261.93it/s]\n",
      "100%|███████████████████████████████████████████████████████████████████████████████████████████████████████████████████████████████████████| 127/127 [00:00<00:00, 248.61it/s]\n",
      "100%|███████████████████████████████████████████████████████████████████████████████████████████████████████████████████████████████████████| 134/134 [00:00<00:00, 210.69it/s]\n",
      "100%|███████████████████████████████████████████████████████████████████████████████████████████████████████████████████████████████████████| 137/137 [00:00<00:00, 410.71it/s]\n"
     ]
    }
   ],
   "source": [
    "result_all = {}\n",
    "for disease_ix in range(1, 6):\n",
    "    kp_idxs = np.bitwise_or(diag_labs==disease_ix, diag_labs==6);\n",
    "    cur_Xs = Xs[kp_idxs]\n",
    "    cur_Y = diag_labs[kp_idxs];\n",
    "    cur_Y[cur_Y==disease_ix] = 1\n",
    "    cur_Y[cur_Y==6] = 0\n",
    "    model = LogisticRegression(random_state=0, C=1)\n",
    "    cur_eprobs = _LOO_CV(cur_Xs, cur_Y, model, verbose=True);\n",
    "    auc = roc_auc_score(cur_Y, cur_eprobs[:, 1])\n",
    "    fpr, tpr, thresholds = roc_curve(cur_Y, cur_eprobs[:, 1], pos_label=1)\n",
    "    result_all[disease_ix] = edict()\n",
    "    result_all[disease_ix].eprobs = cur_eprobs\n",
    "    result_all[disease_ix].auc = auc\n",
    "    result_all[disease_ix].fpr = fpr \n",
    "    result_all[disease_ix].tpr = tpr \n",
    "    result_all[disease_ix].thre = thresholds"
   ]
  },
  {
   "cell_type": "code",
   "execution_count": 18,
   "id": "54a10ea7",
   "metadata": {
    "ExecuteTime": {
     "end_time": "2023-11-21T19:32:21.306317Z",
     "start_time": "2023-11-21T19:32:20.865324Z"
    }
   },
   "outputs": [
    {
     "data": {
      "text/plain": [
       "<matplotlib.legend.Legend at 0x7fb0ee6501c0>"
      ]
     },
     "execution_count": 18,
     "metadata": {},
     "output_type": "execute_result"
    },
    {
     "data": {
      "image/png": "[encoded data removed]",
      "text/plain": [
       "<Figure size 800x800 with 1 Axes>"
      ]
     },
     "metadata": {
      "needs_background": "light"
     },
     "output_type": "display_data"
    }
   ],
   "source": [
    "plt.figure(figsize=[8, 8])\n",
    "for disease_ix in range(1, 6):\n",
    "    plt.plot(\n",
    "        result_all[disease_ix].fpr, \n",
    "        result_all[disease_ix].tpr, \n",
    "        label=f\"{diag_lab_mapping[disease_ix]} vs HC (AUC: {result_all[disease_ix].auc:.3f})\"\n",
    "    )\n",
    "    \n",
    "plt.xlabel(\"False positive\")\n",
    "plt.ylabel(\"True positive\")\n",
    "plt.legend(fontsize=10)"
   ]
  },
  {
   "cell_type": "markdown",
   "id": "0930d25f",
   "metadata": {},
   "source": [
    "## Mutinomial regression"
   ]
  },
  {
   "cell_type": "code",
   "execution_count": 19,
   "id": "5bf90460",
   "metadata": {
    "ExecuteTime": {
     "end_time": "2023-11-21T19:32:21.406332Z",
     "start_time": "2023-11-21T19:32:21.337096Z"
    }
   },
   "outputs": [],
   "source": [
    "from sklearn.metrics import confusion_matrix"
   ]
  },
  {
   "cell_type": "code",
   "execution_count": 20,
   "id": "7f9118fb",
   "metadata": {
    "ExecuteTime": {
     "end_time": "2023-11-21T19:32:21.701307Z",
     "start_time": "2023-11-21T19:32:21.407517Z"
    }
   },
   "outputs": [
    {
     "data": {
      "text/plain": [
       "LogisticRegression(C=1, random_state=0)"
      ]
     },
     "execution_count": 20,
     "metadata": {},
     "output_type": "execute_result"
    }
   ],
   "source": [
    "Y = np.array(diag_labs)\n",
    "model = LogisticRegression(random_state=0, C=1)"
   ]
  },
  {
   "cell_type": "code",
   "execution_count": 21,
   "id": "929adea4",
   "metadata": {
    "ExecuteTime": {
     "end_time": "2023-11-21T19:32:40.506288Z",
     "start_time": "2023-11-21T19:32:21.732030Z"
    }
   },
   "outputs": [
    {
     "name": "stderr",
     "output_type": "stream",
     "text": [
      "100%|████████████████████████████████████████████████████████████████████████████████████████████████████████████████████████████████████████| 321/321 [00:18<00:00, 17.34it/s]\n"
     ]
    }
   ],
   "source": [
    "pred_Y = _LOO_CV(Xs, Y, model, verbose=True);"
   ]
  },
  {
   "cell_type": "code",
   "execution_count": 22,
   "id": "90b80d26",
   "metadata": {
    "ExecuteTime": {
     "end_time": "2023-11-21T19:32:40.844309Z",
     "start_time": "2023-11-21T19:32:40.507307Z"
    },
    "scrolled": false
   },
   "outputs": [
    {
     "data": {
      "image/png": "[encoded data removed]",
      "text/plain": [
       "<Figure size 1000x500 with 1 Axes>"
      ]
     },
     "metadata": {
      "needs_background": "light"
     },
     "output_type": "display_data"
    }
   ],
   "source": [
    "cm = confusion_matrix(Y, pred_Y);\n",
    "sns.heatmap(cm, annot=True, square=True, cbar=False)\n",
    "plt.yticks(np.arange(6)+0.5, \n",
    "           [diag_lab_mapping[disease_ix] for disease_ix in range(1, 7)], \n",
    "          rotation=45)\n",
    "plt.xticks(np.arange(6)+0.5, \n",
    "           [diag_lab_mapping[disease_ix] for disease_ix in range(1, 7)], \n",
    "          rotation=45)\n",
    "plt.ylabel(\"True label\")\n",
    "plt.xlabel(\"Predicted label\")\n",
    "plt.title(\"Confusion matrix\");"
   ]
  },
  {
   "cell_type": "markdown",
   "id": "3a1db2de",
   "metadata": {},
   "source": [
    "# Regression inference"
   ]
  },
  {
   "cell_type": "code",
   "execution_count": 12,
   "id": "80d6e886",
   "metadata": {
    "ExecuteTime": {
     "end_time": "2023-11-22T18:49:57.998558Z",
     "start_time": "2023-11-22T18:49:57.760683Z"
    }
   },
   "outputs": [],
   "source": [
    "import statsmodels.api as sm\n",
    "from scipy.stats import ttest_ind, mannwhitneyu"
   ]
  },
  {
   "cell_type": "code",
   "execution_count": 67,
   "id": "ecef8901",
   "metadata": {
    "ExecuteTime": {
     "end_time": "2023-11-22T19:23:55.501644Z",
     "start_time": "2023-11-22T19:23:55.421972Z"
    }
   },
   "outputs": [],
   "source": [
    "Xs = np.vstack([tvdn_ncpts, graph_C, \n",
    "                graph_L, graph_Q]).T;"
   ]
  },
  {
   "cell_type": "code",
   "execution_count": 68,
   "id": "e0331bea",
   "metadata": {
    "ExecuteTime": {
     "end_time": "2023-11-22T19:23:56.643145Z",
     "start_time": "2023-11-22T19:23:56.353192Z"
    }
   },
   "outputs": [
    {
     "data": {
      "image/png": "[encoded data removed]",
      "text/plain": [
       "<Figure size 1000x500 with 2 Axes>"
      ]
     },
     "metadata": {
      "needs_background": "light"
     },
     "output_type": "display_data"
    }
   ],
   "source": [
    "kp_idxs = np.bitwise_or(diag_labs==1, diag_labs==6);\n",
    "cur_Xs = Xs[kp_idxs]\n",
    "sns.heatmap(np.corrcoef(cur_Xs.T), annot=True, square=True, cmap=\"bwr\")\n",
    "plt.xticks(np.arange(4)+0.5, [\"Cpts\", \"C\", \"L\", \"Q\"])\n",
    "plt.yticks(np.arange(4)+0.5, [\"Cpts\", \"C\", \"L\", \"Q\"]);"
   ]
  },
  {
   "cell_type": "code",
   "execution_count": 56,
   "id": "91b59f95",
   "metadata": {
    "ExecuteTime": {
     "end_time": "2023-11-22T19:13:15.008832Z",
     "start_time": "2023-11-22T19:13:14.902682Z"
    },
    "scrolled": true
   },
   "outputs": [
    {
     "name": "stdout",
     "output_type": "stream",
     "text": [
      "Optimization terminated successfully.\n",
      "         Current function value: 72.068711\n",
      "         Iterations 5\n",
      "Optimization terminated successfully.\n",
      "         Current function value: 72.068711\n",
      "         Iterations 5\n",
      "Optimization terminated successfully.\n",
      "         Current function value: 215.559113\n",
      "         Iterations 5\n",
      "Optimization terminated successfully.\n",
      "         Current function value: 215.559113\n",
      "         Iterations 5\n",
      "Optimization terminated successfully.\n",
      "         Current function value: inf\n",
      "         Iterations 6\n",
      "Optimization terminated successfully.\n",
      "         Current function value: inf\n",
      "         Iterations 6\n",
      "Optimization terminated successfully.\n",
      "         Current function value: inf\n",
      "         Iterations 6\n",
      "Optimization terminated successfully.\n",
      "         Current function value: inf\n",
      "         Iterations 6\n",
      "Optimization terminated successfully.\n",
      "         Current function value: inf\n",
      "         Iterations 6\n",
      "Optimization terminated successfully.\n",
      "         Current function value: inf\n",
      "         Iterations 6\n"
     ]
    },
    {
     "name": "stderr",
     "output_type": "stream",
     "text": [
      "/opt/conda/lib/python3.9/site-packages/statsmodels/base/model.py:547: HessianInversionWarning: Inverting hessian failed, no bse or cov_params available\n",
      "  warnings.warn('Inverting hessian failed, no bse or cov_params '\n",
      "/opt/conda/lib/python3.9/site-packages/statsmodels/base/model.py:547: HessianInversionWarning: Inverting hessian failed, no bse or cov_params available\n",
      "  warnings.warn('Inverting hessian failed, no bse or cov_params '\n",
      "/opt/conda/lib/python3.9/site-packages/statsmodels/discrete/discrete_model.py:3500: RuntimeWarning: divide by zero encountered in double_scalars\n",
      "  return 1 - self.llf/self.llnull\n",
      "/opt/conda/lib/python3.9/site-packages/statsmodels/base/model.py:547: HessianInversionWarning: Inverting hessian failed, no bse or cov_params available\n",
      "  warnings.warn('Inverting hessian failed, no bse or cov_params '\n",
      "/opt/conda/lib/python3.9/site-packages/statsmodels/base/model.py:547: HessianInversionWarning: Inverting hessian failed, no bse or cov_params available\n",
      "  warnings.warn('Inverting hessian failed, no bse or cov_params '\n",
      "/opt/conda/lib/python3.9/site-packages/statsmodels/discrete/discrete_model.py:3500: RuntimeWarning: divide by zero encountered in double_scalars\n",
      "  return 1 - self.llf/self.llnull\n",
      "/opt/conda/lib/python3.9/site-packages/statsmodels/discrete/discrete_model.py:1810: RuntimeWarning: overflow encountered in exp\n",
      "  return 1/(1+np.exp(-X))\n",
      "/opt/conda/lib/python3.9/site-packages/statsmodels/discrete/discrete_model.py:1863: RuntimeWarning: divide by zero encountered in log\n",
      "  return np.sum(np.log(self.cdf(q*np.dot(X,params))))\n",
      "/opt/conda/lib/python3.9/site-packages/statsmodels/base/model.py:547: HessianInversionWarning: Inverting hessian failed, no bse or cov_params available\n",
      "  warnings.warn('Inverting hessian failed, no bse or cov_params '\n",
      "/opt/conda/lib/python3.9/site-packages/statsmodels/base/model.py:547: HessianInversionWarning: Inverting hessian failed, no bse or cov_params available\n",
      "  warnings.warn('Inverting hessian failed, no bse or cov_params '\n",
      "/opt/conda/lib/python3.9/site-packages/statsmodels/discrete/discrete_model.py:1810: RuntimeWarning: overflow encountered in exp\n",
      "  return 1/(1+np.exp(-X))\n",
      "/opt/conda/lib/python3.9/site-packages/statsmodels/discrete/discrete_model.py:1863: RuntimeWarning: divide by zero encountered in log\n",
      "  return np.sum(np.log(self.cdf(q*np.dot(X,params))))\n",
      "/opt/conda/lib/python3.9/site-packages/statsmodels/base/model.py:547: HessianInversionWarning: Inverting hessian failed, no bse or cov_params available\n",
      "  warnings.warn('Inverting hessian failed, no bse or cov_params '\n",
      "/opt/conda/lib/python3.9/site-packages/statsmodels/base/model.py:547: HessianInversionWarning: Inverting hessian failed, no bse or cov_params available\n",
      "  warnings.warn('Inverting hessian failed, no bse or cov_params '\n",
      "/opt/conda/lib/python3.9/site-packages/statsmodels/discrete/discrete_model.py:1810: RuntimeWarning: overflow encountered in exp\n",
      "  return 1/(1+np.exp(-X))\n",
      "/opt/conda/lib/python3.9/site-packages/statsmodels/discrete/discrete_model.py:1863: RuntimeWarning: divide by zero encountered in log\n",
      "  return np.sum(np.log(self.cdf(q*np.dot(X,params))))\n",
      "/opt/conda/lib/python3.9/site-packages/statsmodels/base/model.py:547: HessianInversionWarning: Inverting hessian failed, no bse or cov_params available\n",
      "  warnings.warn('Inverting hessian failed, no bse or cov_params '\n",
      "/opt/conda/lib/python3.9/site-packages/statsmodels/base/model.py:547: HessianInversionWarning: Inverting hessian failed, no bse or cov_params available\n",
      "  warnings.warn('Inverting hessian failed, no bse or cov_params '\n",
      "/opt/conda/lib/python3.9/site-packages/statsmodels/discrete/discrete_model.py:1810: RuntimeWarning: overflow encountered in exp\n",
      "  return 1/(1+np.exp(-X))\n",
      "/opt/conda/lib/python3.9/site-packages/statsmodels/discrete/discrete_model.py:1863: RuntimeWarning: divide by zero encountered in log\n",
      "  return np.sum(np.log(self.cdf(q*np.dot(X,params))))\n"
     ]
    }
   ],
   "source": [
    "result_all = {}\n",
    "for disease_ix in range(1, 6):\n",
    "    kp_idxs = np.bitwise_or(diag_labs==disease_ix, diag_labs==6);\n",
    "    cur_Xs = Xs[kp_idxs]\n",
    "    cur_Y = diag_labs[kp_idxs];\n",
    "    cur_Y[cur_Y==disease_ix] = 1\n",
    "    cur_Y[cur_Y==6] = 0\n",
    "    std_cur_Xs = stdX_fn(cur_Xs)\n",
    "    #model = sm.OLS(cur_Y, sm.add_constant(std_cur_Xs))\n",
    "    model = sm.Logit(cur_Y, sm.add_constant(std_cur_Xs))\n",
    "    results = model.fit()\n",
    "    table1 = results.summary().tables[0]\n",
    "    table = results.summary().tables[1]\n",
    "    table_df = pd.DataFrame(table.data[1:], columns=table.data[0])\n",
    "    table_df.iloc[:, 0] =  [\"Constant\"] + [\"CPT\", \"C\", \"L\", \"Q\"]\n",
    "    #table_df.iloc[:, 0] =  [\"Constant\"] + [\"Rank\", \"CPT\", \"C\", \"L\", \"Q\"]\n",
    "    \n",
    "    results = model.fit()\n",
    "    result_all[disease_ix] = edict()\n",
    "    result_all[disease_ix].table1 = pd.DataFrame(table1)\n",
    "    result_all[disease_ix].table2 = table_df\n"
   ]
  },
  {
   "cell_type": "code",
   "execution_count": 57,
   "id": "708e59c4",
   "metadata": {
    "ExecuteTime": {
     "end_time": "2023-11-22T19:13:15.961866Z",
     "start_time": "2023-11-22T19:13:15.913731Z"
    }
   },
   "outputs": [
    {
     "name": "stdout",
     "output_type": "stream",
     "text": [
      "AD\n"
     ]
    },
    {
     "data": {
      "text/html": [
       "<div>\n",
       "<style scoped>\n",
       "    .dataframe tbody tr th:only-of-type {\n",
       "        vertical-align: middle;\n",
       "    }\n",
       "\n",
       "    .dataframe tbody tr th {\n",
       "        vertical-align: top;\n",
       "    }\n",
       "\n",
       "    .dataframe thead th {\n",
       "        text-align: right;\n",
       "    }\n",
       "</style>\n",
       "<table border=\"1\" class=\"dataframe\">\n",
       "  <thead>\n",
       "    <tr style=\"text-align: right;\">\n",
       "      <th></th>\n",
       "      <th></th>\n",
       "      <th>coef</th>\n",
       "      <th>std err</th>\n",
       "      <th>z</th>\n",
       "      <th>P&gt;|z|</th>\n",
       "      <th>[0.025</th>\n",
       "      <th>0.975]</th>\n",
       "    </tr>\n",
       "  </thead>\n",
       "  <tbody>\n",
       "    <tr>\n",
       "      <th>0</th>\n",
       "      <td>Constant</td>\n",
       "      <td>-0.2050</td>\n",
       "      <td>0.157</td>\n",
       "      <td>-1.304</td>\n",
       "      <td>0.192</td>\n",
       "      <td>-0.513</td>\n",
       "      <td>0.103</td>\n",
       "    </tr>\n",
       "    <tr>\n",
       "      <th>1</th>\n",
       "      <td>CPT</td>\n",
       "      <td>-0.3479</td>\n",
       "      <td>0.169</td>\n",
       "      <td>-2.062</td>\n",
       "      <td>0.039</td>\n",
       "      <td>-0.679</td>\n",
       "      <td>-0.017</td>\n",
       "    </tr>\n",
       "    <tr>\n",
       "      <th>2</th>\n",
       "      <td>C</td>\n",
       "      <td>0.3839</td>\n",
       "      <td>0.229</td>\n",
       "      <td>1.676</td>\n",
       "      <td>0.094</td>\n",
       "      <td>-0.065</td>\n",
       "      <td>0.833</td>\n",
       "    </tr>\n",
       "    <tr>\n",
       "      <th>3</th>\n",
       "      <td>L</td>\n",
       "      <td>0.2395</td>\n",
       "      <td>0.186</td>\n",
       "      <td>1.290</td>\n",
       "      <td>0.197</td>\n",
       "      <td>-0.125</td>\n",
       "      <td>0.604</td>\n",
       "    </tr>\n",
       "    <tr>\n",
       "      <th>4</th>\n",
       "      <td>Q</td>\n",
       "      <td>-0.0488</td>\n",
       "      <td>0.199</td>\n",
       "      <td>-0.246</td>\n",
       "      <td>0.806</td>\n",
       "      <td>-0.438</td>\n",
       "      <td>0.340</td>\n",
       "    </tr>\n",
       "  </tbody>\n",
       "</table>\n",
       "</div>"
      ],
      "text/plain": [
       "                   coef    std err          z   P>|z|     [0.025     0.975]\n",
       "0  Constant     -0.2050      0.157     -1.304   0.192     -0.513      0.103\n",
       "1       CPT     -0.3479      0.169     -2.062   0.039     -0.679     -0.017\n",
       "2         C      0.3839      0.229      1.676   0.094     -0.065      0.833\n",
       "3         L      0.2395      0.186      1.290   0.197     -0.125      0.604\n",
       "4         Q     -0.0488      0.199     -0.246   0.806     -0.438      0.340"
      ]
     },
     "metadata": {},
     "output_type": "display_data"
    },
    {
     "name": "stdout",
     "output_type": "stream",
     "text": [
      "bvFTD\n"
     ]
    },
    {
     "data": {
      "text/html": [
       "<div>\n",
       "<style scoped>\n",
       "    .dataframe tbody tr th:only-of-type {\n",
       "        vertical-align: middle;\n",
       "    }\n",
       "\n",
       "    .dataframe tbody tr th {\n",
       "        vertical-align: top;\n",
       "    }\n",
       "\n",
       "    .dataframe thead th {\n",
       "        text-align: right;\n",
       "    }\n",
       "</style>\n",
       "<table border=\"1\" class=\"dataframe\">\n",
       "  <thead>\n",
       "    <tr style=\"text-align: right;\">\n",
       "      <th></th>\n",
       "      <th></th>\n",
       "      <th>coef</th>\n",
       "      <th>std err</th>\n",
       "      <th>z</th>\n",
       "      <th>P&gt;|z|</th>\n",
       "      <th>[0.025</th>\n",
       "      <th>0.975]</th>\n",
       "    </tr>\n",
       "  </thead>\n",
       "  <tbody>\n",
       "    <tr>\n",
       "      <th>0</th>\n",
       "      <td>Constant</td>\n",
       "      <td>-0.9956</td>\n",
       "      <td>0.204</td>\n",
       "      <td>-4.889</td>\n",
       "      <td>0.000</td>\n",
       "      <td>-1.395</td>\n",
       "      <td>-0.597</td>\n",
       "    </tr>\n",
       "    <tr>\n",
       "      <th>1</th>\n",
       "      <td>CPT</td>\n",
       "      <td>-0.0962</td>\n",
       "      <td>0.188</td>\n",
       "      <td>-0.512</td>\n",
       "      <td>0.608</td>\n",
       "      <td>-0.464</td>\n",
       "      <td>0.272</td>\n",
       "    </tr>\n",
       "    <tr>\n",
       "      <th>2</th>\n",
       "      <td>C</td>\n",
       "      <td>0.4907</td>\n",
       "      <td>0.264</td>\n",
       "      <td>1.855</td>\n",
       "      <td>0.064</td>\n",
       "      <td>-0.028</td>\n",
       "      <td>1.009</td>\n",
       "    </tr>\n",
       "    <tr>\n",
       "      <th>3</th>\n",
       "      <td>L</td>\n",
       "      <td>0.3976</td>\n",
       "      <td>0.239</td>\n",
       "      <td>1.666</td>\n",
       "      <td>0.096</td>\n",
       "      <td>-0.070</td>\n",
       "      <td>0.865</td>\n",
       "    </tr>\n",
       "    <tr>\n",
       "      <th>4</th>\n",
       "      <td>Q</td>\n",
       "      <td>-0.0666</td>\n",
       "      <td>0.235</td>\n",
       "      <td>-0.283</td>\n",
       "      <td>0.777</td>\n",
       "      <td>-0.528</td>\n",
       "      <td>0.395</td>\n",
       "    </tr>\n",
       "  </tbody>\n",
       "</table>\n",
       "</div>"
      ],
      "text/plain": [
       "                   coef    std err          z   P>|z|     [0.025     0.975]\n",
       "0  Constant     -0.9956      0.204     -4.889   0.000     -1.395     -0.597\n",
       "1       CPT     -0.0962      0.188     -0.512   0.608     -0.464      0.272\n",
       "2         C      0.4907      0.264      1.855   0.064     -0.028      1.009\n",
       "3         L      0.3976      0.239      1.666   0.096     -0.070      0.865\n",
       "4         Q     -0.0666      0.235     -0.283   0.777     -0.528      0.395"
      ]
     },
     "metadata": {},
     "output_type": "display_data"
    },
    {
     "name": "stdout",
     "output_type": "stream",
     "text": [
      "CBS\n"
     ]
    },
    {
     "data": {
      "text/html": [
       "<div>\n",
       "<style scoped>\n",
       "    .dataframe tbody tr th:only-of-type {\n",
       "        vertical-align: middle;\n",
       "    }\n",
       "\n",
       "    .dataframe tbody tr th {\n",
       "        vertical-align: top;\n",
       "    }\n",
       "\n",
       "    .dataframe thead th {\n",
       "        text-align: right;\n",
       "    }\n",
       "</style>\n",
       "<table border=\"1\" class=\"dataframe\">\n",
       "  <thead>\n",
       "    <tr style=\"text-align: right;\">\n",
       "      <th></th>\n",
       "      <th></th>\n",
       "      <th>coef</th>\n",
       "      <th>std err</th>\n",
       "      <th>z</th>\n",
       "      <th>P&gt;|z|</th>\n",
       "      <th>[0.025</th>\n",
       "      <th>0.975]</th>\n",
       "    </tr>\n",
       "  </thead>\n",
       "  <tbody>\n",
       "    <tr>\n",
       "      <th>0</th>\n",
       "      <td>Constant</td>\n",
       "      <td>-1.5365</td>\n",
       "      <td>0.257</td>\n",
       "      <td>-5.979</td>\n",
       "      <td>0.000</td>\n",
       "      <td>-2.040</td>\n",
       "      <td>-1.033</td>\n",
       "    </tr>\n",
       "    <tr>\n",
       "      <th>1</th>\n",
       "      <td>CPT</td>\n",
       "      <td>0.1272</td>\n",
       "      <td>0.249</td>\n",
       "      <td>0.512</td>\n",
       "      <td>0.609</td>\n",
       "      <td>-0.360</td>\n",
       "      <td>0.615</td>\n",
       "    </tr>\n",
       "    <tr>\n",
       "      <th>2</th>\n",
       "      <td>C</td>\n",
       "      <td>-0.0930</td>\n",
       "      <td>0.296</td>\n",
       "      <td>-0.314</td>\n",
       "      <td>0.753</td>\n",
       "      <td>-0.673</td>\n",
       "      <td>0.487</td>\n",
       "    </tr>\n",
       "    <tr>\n",
       "      <th>3</th>\n",
       "      <td>L</td>\n",
       "      <td>0.8401</td>\n",
       "      <td>0.285</td>\n",
       "      <td>2.947</td>\n",
       "      <td>0.003</td>\n",
       "      <td>0.281</td>\n",
       "      <td>1.399</td>\n",
       "    </tr>\n",
       "    <tr>\n",
       "      <th>4</th>\n",
       "      <td>Q</td>\n",
       "      <td>-0.5188</td>\n",
       "      <td>0.291</td>\n",
       "      <td>-1.780</td>\n",
       "      <td>0.075</td>\n",
       "      <td>-1.090</td>\n",
       "      <td>0.052</td>\n",
       "    </tr>\n",
       "  </tbody>\n",
       "</table>\n",
       "</div>"
      ],
      "text/plain": [
       "                   coef    std err          z   P>|z|     [0.025     0.975]\n",
       "0  Constant     -1.5365      0.257     -5.979   0.000     -2.040     -1.033\n",
       "1       CPT      0.1272      0.249      0.512   0.609     -0.360      0.615\n",
       "2         C     -0.0930      0.296     -0.314   0.753     -0.673      0.487\n",
       "3         L      0.8401      0.285      2.947   0.003      0.281      1.399\n",
       "4         Q     -0.5188      0.291     -1.780   0.075     -1.090      0.052"
      ]
     },
     "metadata": {},
     "output_type": "display_data"
    },
    {
     "name": "stdout",
     "output_type": "stream",
     "text": [
      "nfvPPA\n"
     ]
    },
    {
     "data": {
      "text/html": [
       "<div>\n",
       "<style scoped>\n",
       "    .dataframe tbody tr th:only-of-type {\n",
       "        vertical-align: middle;\n",
       "    }\n",
       "\n",
       "    .dataframe tbody tr th {\n",
       "        vertical-align: top;\n",
       "    }\n",
       "\n",
       "    .dataframe thead th {\n",
       "        text-align: right;\n",
       "    }\n",
       "</style>\n",
       "<table border=\"1\" class=\"dataframe\">\n",
       "  <thead>\n",
       "    <tr style=\"text-align: right;\">\n",
       "      <th></th>\n",
       "      <th></th>\n",
       "      <th>coef</th>\n",
       "      <th>std err</th>\n",
       "      <th>z</th>\n",
       "      <th>P&gt;|z|</th>\n",
       "      <th>[0.025</th>\n",
       "      <th>0.975]</th>\n",
       "    </tr>\n",
       "  </thead>\n",
       "  <tbody>\n",
       "    <tr>\n",
       "      <th>0</th>\n",
       "      <td>Constant</td>\n",
       "      <td>-1.1948</td>\n",
       "      <td>0.218</td>\n",
       "      <td>-5.471</td>\n",
       "      <td>0.000</td>\n",
       "      <td>-1.623</td>\n",
       "      <td>-0.767</td>\n",
       "    </tr>\n",
       "    <tr>\n",
       "      <th>1</th>\n",
       "      <td>CPT</td>\n",
       "      <td>0.1505</td>\n",
       "      <td>0.218</td>\n",
       "      <td>0.690</td>\n",
       "      <td>0.490</td>\n",
       "      <td>-0.277</td>\n",
       "      <td>0.578</td>\n",
       "    </tr>\n",
       "    <tr>\n",
       "      <th>2</th>\n",
       "      <td>C</td>\n",
       "      <td>0.1660</td>\n",
       "      <td>0.274</td>\n",
       "      <td>0.605</td>\n",
       "      <td>0.545</td>\n",
       "      <td>-0.372</td>\n",
       "      <td>0.703</td>\n",
       "    </tr>\n",
       "    <tr>\n",
       "      <th>3</th>\n",
       "      <td>L</td>\n",
       "      <td>0.5970</td>\n",
       "      <td>0.252</td>\n",
       "      <td>2.366</td>\n",
       "      <td>0.018</td>\n",
       "      <td>0.103</td>\n",
       "      <td>1.092</td>\n",
       "    </tr>\n",
       "    <tr>\n",
       "      <th>4</th>\n",
       "      <td>Q</td>\n",
       "      <td>-0.1425</td>\n",
       "      <td>0.254</td>\n",
       "      <td>-0.561</td>\n",
       "      <td>0.575</td>\n",
       "      <td>-0.640</td>\n",
       "      <td>0.355</td>\n",
       "    </tr>\n",
       "  </tbody>\n",
       "</table>\n",
       "</div>"
      ],
      "text/plain": [
       "                   coef    std err          z   P>|z|     [0.025     0.975]\n",
       "0  Constant     -1.1948      0.218     -5.471   0.000     -1.623     -0.767\n",
       "1       CPT      0.1505      0.218      0.690   0.490     -0.277      0.578\n",
       "2         C      0.1660      0.274      0.605   0.545     -0.372      0.703\n",
       "3         L      0.5970      0.252      2.366   0.018      0.103      1.092\n",
       "4         Q     -0.1425      0.254     -0.561   0.575     -0.640      0.355"
      ]
     },
     "metadata": {},
     "output_type": "display_data"
    },
    {
     "name": "stdout",
     "output_type": "stream",
     "text": [
      "svPPA\n"
     ]
    },
    {
     "data": {
      "text/html": [
       "<div>\n",
       "<style scoped>\n",
       "    .dataframe tbody tr th:only-of-type {\n",
       "        vertical-align: middle;\n",
       "    }\n",
       "\n",
       "    .dataframe tbody tr th {\n",
       "        vertical-align: top;\n",
       "    }\n",
       "\n",
       "    .dataframe thead th {\n",
       "        text-align: right;\n",
       "    }\n",
       "</style>\n",
       "<table border=\"1\" class=\"dataframe\">\n",
       "  <thead>\n",
       "    <tr style=\"text-align: right;\">\n",
       "      <th></th>\n",
       "      <th></th>\n",
       "      <th>coef</th>\n",
       "      <th>std err</th>\n",
       "      <th>z</th>\n",
       "      <th>P&gt;|z|</th>\n",
       "      <th>[0.025</th>\n",
       "      <th>0.975]</th>\n",
       "    </tr>\n",
       "  </thead>\n",
       "  <tbody>\n",
       "    <tr>\n",
       "      <th>0</th>\n",
       "      <td>Constant</td>\n",
       "      <td>-1.1190</td>\n",
       "      <td>0.214</td>\n",
       "      <td>-5.222</td>\n",
       "      <td>0.000</td>\n",
       "      <td>-1.539</td>\n",
       "      <td>-0.699</td>\n",
       "    </tr>\n",
       "    <tr>\n",
       "      <th>1</th>\n",
       "      <td>CPT</td>\n",
       "      <td>0.3940</td>\n",
       "      <td>0.255</td>\n",
       "      <td>1.543</td>\n",
       "      <td>0.123</td>\n",
       "      <td>-0.107</td>\n",
       "      <td>0.895</td>\n",
       "    </tr>\n",
       "    <tr>\n",
       "      <th>2</th>\n",
       "      <td>C</td>\n",
       "      <td>-0.1577</td>\n",
       "      <td>0.282</td>\n",
       "      <td>-0.559</td>\n",
       "      <td>0.576</td>\n",
       "      <td>-0.711</td>\n",
       "      <td>0.395</td>\n",
       "    </tr>\n",
       "    <tr>\n",
       "      <th>3</th>\n",
       "      <td>L</td>\n",
       "      <td>0.7352</td>\n",
       "      <td>0.260</td>\n",
       "      <td>2.830</td>\n",
       "      <td>0.005</td>\n",
       "      <td>0.226</td>\n",
       "      <td>1.244</td>\n",
       "    </tr>\n",
       "    <tr>\n",
       "      <th>4</th>\n",
       "      <td>Q</td>\n",
       "      <td>-0.4162</td>\n",
       "      <td>0.263</td>\n",
       "      <td>-1.585</td>\n",
       "      <td>0.113</td>\n",
       "      <td>-0.931</td>\n",
       "      <td>0.098</td>\n",
       "    </tr>\n",
       "  </tbody>\n",
       "</table>\n",
       "</div>"
      ],
      "text/plain": [
       "                   coef    std err          z   P>|z|     [0.025     0.975]\n",
       "0  Constant     -1.1190      0.214     -5.222   0.000     -1.539     -0.699\n",
       "1       CPT      0.3940      0.255      1.543   0.123     -0.107      0.895\n",
       "2         C     -0.1577      0.282     -0.559   0.576     -0.711      0.395\n",
       "3         L      0.7352      0.260      2.830   0.005      0.226      1.244\n",
       "4         Q     -0.4162      0.263     -1.585   0.113     -0.931      0.098"
      ]
     },
     "metadata": {},
     "output_type": "display_data"
    }
   ],
   "source": [
    "for disease_ix in range(1, 6):\n",
    "    print(diag_lab_mapping[disease_ix])\n",
    "    display(result_all[disease_ix].table2)"
   ]
  },
  {
   "cell_type": "code",
   "execution_count": 24,
   "id": "75d304a0",
   "metadata": {
    "ExecuteTime": {
     "end_time": "2023-11-22T18:53:46.769686Z",
     "start_time": "2023-11-22T18:53:46.748213Z"
    }
   },
   "outputs": [
    {
     "data": {
      "text/plain": [
       "MannwhitneyuResult(statistic=5051.0, pvalue=0.007190670322924517)"
      ]
     },
     "execution_count": 24,
     "metadata": {},
     "output_type": "execute_result"
    }
   ],
   "source": [
    "kp_idxs = np.bitwise_or(diag_labs==1, diag_labs==6);\n",
    "cur_Y = diag_labs[kp_idxs];\n",
    "cur_Xs = Xs[kp_idxs];\n",
    "cur_X = cur_Xs[:, 3]\n",
    "vec1, vec2 = cur_X[cur_Y==1], cur_X[cur_Y==6]\n",
    "test_res = mannwhitneyu(vec1, vec2)\n",
    "#test_res2 = ttest_ind(vec1, vec2)"
   ]
  },
  {
   "cell_type": "code",
   "execution_count": null,
   "id": "9dda6d21",
   "metadata": {},
   "outputs": [],
   "source": []
  }
 ],
 "metadata": {
  "kernelspec": {
   "display_name": "Python 3 (ipykernel)",
   "language": "python",
   "name": "python3"
  },
  "language_info": {
   "codemirror_mode": {
    "name": "ipython",
    "version": 3
   },
   "file_extension": ".py",
   "mimetype": "text/x-python",
   "name": "python",
   "nbconvert_exporter": "python",
   "pygments_lexer": "ipython3",
   "version": "3.9.7"
  },
  "toc": {
   "base_numbering": 1,
   "nav_menu": {},
   "number_sections": true,
   "sideBar": true,
   "skip_h1_title": false,
   "title_cell": "Table of Contents",
   "title_sidebar": "Contents",
   "toc_cell": false,
   "toc_position": {
    "height": "calc(100% - 180px)",
    "left": "10px",
    "top": "150px",
    "width": "165px"
   },
   "toc_section_display": true,
   "toc_window_display": true
  }
 },
 "nbformat": 4,
 "nbformat_minor": 5
}
