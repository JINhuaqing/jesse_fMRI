{
 "cells": [
  {
   "cell_type": "markdown",
   "id": "55950736-4778-4461-a7e4-6a9323a8d9f5",
   "metadata": {},
   "source": [
    "Regression for TVDN\n"
   ]
  },
  {
   "cell_type": "code",
   "execution_count": 1,
   "id": "f6316349-3e91-4ded-92a2-dd20ed6b1b17",
   "metadata": {
    "ExecuteTime": {
     "end_time": "2023-11-22T18:17:40.709504Z",
     "start_time": "2023-11-22T18:17:40.703248Z"
    },
    "execution": {
     "iopub.execute_input": "2023-11-07T03:27:56.995235Z",
     "iopub.status.busy": "2023-11-07T03:27:56.993748Z",
     "iopub.status.idle": "2023-11-07T03:27:57.007205Z",
     "shell.execute_reply": "2023-11-07T03:27:57.005890Z",
     "shell.execute_reply.started": "2023-11-07T03:27:56.995197Z"
    }
   },
   "outputs": [],
   "source": [
    "import sys\n",
    "sys.path.append(\"../mypkg\")"
   ]
  },
  {
   "cell_type": "code",
   "execution_count": 2,
   "id": "761d4b55-4cb4-44a5-a408-1b9cbbc946b7",
   "metadata": {
    "ExecuteTime": {
     "end_time": "2023-11-22T18:17:41.890062Z",
     "start_time": "2023-11-22T18:17:41.064330Z"
    },
    "execution": {
     "iopub.execute_input": "2023-11-07T03:27:57.142525Z",
     "iopub.status.busy": "2023-11-07T03:27:57.142147Z",
     "iopub.status.idle": "2023-11-07T03:27:57.209843Z",
     "shell.execute_reply": "2023-11-07T03:27:57.208993Z",
     "shell.execute_reply.started": "2023-11-07T03:27:57.142490Z"
    }
   },
   "outputs": [],
   "source": [
    "from constants import RES_ROOT, FIG_ROOT, DATA_ROOT\n",
    "from utils.misc import load_pkl, save_pkl, get_ball_cor\n",
    "from utils.colors import qual_cmap"
   ]
  },
  {
   "cell_type": "code",
   "execution_count": 3,
   "id": "3b79c385",
   "metadata": {
    "ExecuteTime": {
     "end_time": "2023-11-22T18:17:41.905175Z",
     "start_time": "2023-11-22T18:17:41.892057Z"
    }
   },
   "outputs": [],
   "source": [
    "%load_ext autoreload\n",
    "%autoreload 2\n",
    "# 0,1, 2, 3, be careful about the space"
   ]
  },
  {
   "cell_type": "code",
   "execution_count": 22,
   "id": "dd91ad51-fb83-4993-85e0-f089b427c9d6",
   "metadata": {
    "ExecuteTime": {
     "end_time": "2023-11-22T18:21:32.750677Z",
     "start_time": "2023-11-22T18:21:32.698863Z"
    },
    "execution": {
     "iopub.execute_input": "2023-11-07T03:27:57.462107Z",
     "iopub.status.busy": "2023-11-07T03:27:57.461635Z",
     "iopub.status.idle": "2023-11-07T03:27:58.146009Z",
     "shell.execute_reply": "2023-11-07T03:27:58.145200Z",
     "shell.execute_reply.started": "2023-11-07T03:27:57.462070Z"
    }
   },
   "outputs": [],
   "source": [
    "import numpy as np\n",
    "import scipy\n",
    "from scipy.io import loadmat\n",
    "from scipy import signal\n",
    "import matplotlib.pyplot as plt\n",
    "import seaborn as sns\n",
    "from tqdm import tqdm, trange\n",
    "import bct # the pkg to get graph features\n",
    "from joblib import Parallel, delayed\n",
    "from easydict import EasyDict as edict\n",
    "import pandas as pd\n",
    "from IPython.display import display\n",
    "\n",
    "plt.style.use(FIG_ROOT/'base.mplstyle')"
   ]
  },
  {
   "cell_type": "code",
   "execution_count": null,
   "id": "62ebe37d",
   "metadata": {},
   "outputs": [],
   "source": []
  },
  {
   "cell_type": "markdown",
   "id": "cd61ced4-9e45-453a-9c53-8a270823a8b2",
   "metadata": {},
   "source": [
    "# Fns and params"
   ]
  },
  {
   "cell_type": "markdown",
   "id": "2a3e0512-46ab-4f06-8b52-05216ec7ec7a",
   "metadata": {},
   "source": [
    "## Some fns"
   ]
  },
  {
   "cell_type": "code",
   "execution_count": 5,
   "id": "6028fd38",
   "metadata": {
    "ExecuteTime": {
     "end_time": "2023-11-22T18:17:43.011329Z",
     "start_time": "2023-11-22T18:17:42.977356Z"
    }
   },
   "outputs": [],
   "source": [
    "from prettytable import PrettyTable as PT\n",
    "from scipy.stats import f_oneway, ttest_ind \n",
    "\n",
    "def _get_test_tb(res_df):\n",
    "    tb = PT()\n",
    "    tb.field_names = [\"Test\", \"Pval\", \"Effect size\"]\n",
    "    \n",
    "    HC = res_df[\"metric\"][res_df[\"diagnosis\"]==6]\n",
    "    \n",
    "    def indicator(pval):\n",
    "        if pval < 0.05:\n",
    "            return \"*\"\n",
    "        else:\n",
    "            return \"\"\n",
    "    # list all disease\n",
    "    for diag_ix in range(1, 6):\n",
    "        DS = res_df[\"metric\"][res_df[\"diagnosis\"]==diag_ix]\n",
    "        ttest_res = ttest_ind(DS, HC)\n",
    "        effect_size = (np.mean(DS)-np.mean(HC))/np.std(np.concatenate([DS, HC]), ddof=2)\n",
    "        tb.add_row([f\"{indicator(ttest_res.pvalue)}{diag_lab_mapping[diag_ix]} vs HC\", \n",
    "                      f\"{ttest_res.pvalue:>6.3f}\", \n",
    "                      f\"{effect_size:>6.3f}\"])\n",
    "    \n",
    "    # pool 5 diseases together\n",
    "    DS = res_df[\"metric\"][res_df[\"diagnosis\"]!=6]\n",
    "    ttest_res = ttest_ind(DS, HC)\n",
    "    effect_size = (np.mean(DS)-np.mean(HC))/np.std(np.concatenate([DS, HC]), ddof=2)\n",
    "    tb.add_row([f\"{indicator(ttest_res.pvalue)}Dementia vs HC\", \n",
    "                f\"{ttest_res.pvalue:>6.3f}\", \n",
    "                f\"{effect_size:>6.3f}\"])\n",
    "    \n",
    "    # anova\n",
    "    metric_grp = [res_df[\"metric\"][res_df[\"diagnosis\"]==grp_ix] for grp_ix in range(1, 7)]\n",
    "    anova_res = f_oneway(*metric_grp)\n",
    "    tb.add_row([f\"{indicator(anova_res.pvalue)}ANOVA\", \n",
    "                f\"{anova_res.pvalue:>6.3f}\", \n",
    "                f\"\"])\n",
    "    tb.align[\"Test\"] = \"r\"\n",
    "    tb.align[\"Pval\"] = \"c\"\n",
    "    tb.align[\"Effect size\"] = \"c\"\n",
    "    return tb"
   ]
  },
  {
   "cell_type": "code",
   "execution_count": 6,
   "id": "94714b2c-d3be-4815-9d74-20d42f0f3f0f",
   "metadata": {
    "ExecuteTime": {
     "end_time": "2023-11-22T18:17:43.422829Z",
     "start_time": "2023-11-22T18:17:43.405053Z"
    },
    "execution": {
     "iopub.execute_input": "2023-11-07T03:28:00.297583Z",
     "iopub.status.busy": "2023-11-07T03:28:00.297169Z",
     "iopub.status.idle": "2023-11-07T03:28:00.306720Z",
     "shell.execute_reply": "2023-11-07T03:28:00.305969Z",
     "shell.execute_reply.started": "2023-11-07T03:28:00.297547Z"
    }
   },
   "outputs": [],
   "source": [
    "def _preprocess_ts(ts):\n",
    "    \"\"\"preprocessing, \n",
    "        1. detrend\n",
    "        2. resample (len of seq has 235 or 555, I make it consistent to 235)\n",
    "    \"\"\"\n",
    "    ts = signal.detrend(ts);\n",
    "    if ts.shape[-1] > 235:\n",
    "        ts = signal.resample(ts, num=235, axis=-1)\n",
    "    return ts\n",
    "    \n",
    "    \n",
    "def _load_data(n):\n",
    "    \"\"\"Sub idx is from 1, n: the sub idx\n",
    "    \"\"\"\n",
    "    return mat_data['ts_321_273'][np.where(mat_data['subj_321_ts'][:, 0] == n)[0], :].transpose()"
   ]
  },
  {
   "cell_type": "markdown",
   "id": "27ceee6d-65f9-4da7-86e1-17d223e51ae5",
   "metadata": {},
   "source": [
    "## Load data and params"
   ]
  },
  {
   "cell_type": "code",
   "execution_count": 7,
   "id": "1b761799-d66a-441b-98f3-f13a2c1b0f0d",
   "metadata": {
    "ExecuteTime": {
     "end_time": "2023-11-22T18:17:45.825006Z",
     "start_time": "2023-11-22T18:17:44.282221Z"
    },
    "execution": {
     "iopub.execute_input": "2023-11-07T03:28:01.830510Z",
     "iopub.status.busy": "2023-11-07T03:28:01.830068Z",
     "iopub.status.idle": "2023-11-07T03:28:03.022752Z",
     "shell.execute_reply": "2023-11-07T03:28:03.021907Z",
     "shell.execute_reply.started": "2023-11-07T03:28:01.830473Z"
    }
   },
   "outputs": [
    {
     "name": "stdout",
     "output_type": "stream",
     "text": [
      "Load file /data/rajlab1/user_data/jin/MyResearch/jesse_data/notebooks/../mypkg/../data/ad_ftd_hc_fmri_data_7nets.pkl\n"
     ]
    }
   ],
   "source": [
    "# load data\n",
    "mat_data = loadmat(DATA_ROOT/\"ad_ftd_hc_fmri_data.mat\");\n",
    "\n",
    "diag_labs = mat_data[\"dx_321\"].reshape(-1)\n",
    "sex_labs = mat_data[\"sex_321\"].reshape(-1)\n",
    "diag_lab_mapping = {\n",
    " 1: \"AD\",\n",
    " 2: \"bvFTD\",\n",
    " 3: \"CBS\", \n",
    " 4: \"nfvPPA\", \n",
    " 5: \"svPPA\", \n",
    " 6: \"HC\"\n",
    "}\n",
    "\n",
    "# some parameters\n",
    "\n",
    "num_rois = 246 # the BNA has 246 regions\n",
    "num_sps = 321\n",
    "\n",
    "labs = pd.read_csv(DATA_ROOT/\"BN246_RegionList.csv\");\n",
    "yeo_7nets_lab = np.array(labs[\"Yeo_7network\"][:246]);\n",
    "\n",
    "yeo_7nets_dict = pd.read_csv(DATA_ROOT/\"yeo_7nets_dict.txt\");\n",
    "yeo_7nets_dict = {yeo_7nets_dict[\"lab\"][ix]:\"_\".join(yeo_7nets_dict[\"name\"][ix].strip().split(\" \"))\n",
    "                  for ix in range(7)}\n",
    "yeo_7nets_ts = load_pkl(DATA_ROOT/\"ad_ftd_hc_fmri_data_7nets.pkl\");"
   ]
  },
  {
   "cell_type": "code",
   "execution_count": 8,
   "id": "def92da2",
   "metadata": {
    "ExecuteTime": {
     "end_time": "2023-11-22T18:17:46.754707Z",
     "start_time": "2023-11-22T18:17:46.717201Z"
    }
   },
   "outputs": [
    {
     "name": "stdout",
     "output_type": "stream",
     "text": [
      "Load file /data/rajlab1/user_data/jin/MyResearch/jesse_data/notebooks/../mypkg/../results/tvdnMaxM20_ecptss_kp1647_Visual.pkl\n",
      "Load file /data/rajlab1/user_data/jin/MyResearch/jesse_data/notebooks/../mypkg/../results/tvdnMaxM20_ecptss_kp1647_Somatomotor.pkl\n",
      "Load file /data/rajlab1/user_data/jin/MyResearch/jesse_data/notebooks/../mypkg/../results/tvdnMaxM20_ecptss_kp1647_Dorsal_Attention.pkl\n",
      "Load file /data/rajlab1/user_data/jin/MyResearch/jesse_data/notebooks/../mypkg/../results/tvdnMaxM20_ecptss_kp1647_Ventral_Attention.pkl\n",
      "Load file /data/rajlab1/user_data/jin/MyResearch/jesse_data/notebooks/../mypkg/../results/tvdnMaxM20_ecptss_kp1647_Limbic.pkl\n",
      "Load file /data/rajlab1/user_data/jin/MyResearch/jesse_data/notebooks/../mypkg/../results/tvdnMaxM20_ecptss_kp1647_Frontoparietal.pkl\n",
      "Load file /data/rajlab1/user_data/jin/MyResearch/jesse_data/notebooks/../mypkg/../results/tvdnMaxM20_ecptss_kp1647_Default.pkl\n"
     ]
    }
   ],
   "source": [
    "# Load features\n",
    "net_ix = 7\n",
    "ecptss_all = {}\n",
    "for net_ix in range(1, 8):\n",
    "    ecptss_all[net_ix] = load_pkl(RES_ROOT/f\"tvdnMaxM20_ecptss_kp1647_{yeo_7nets_dict[net_ix]}.pkl\")"
   ]
  },
  {
   "cell_type": "code",
   "execution_count": 9,
   "id": "916883c5",
   "metadata": {
    "ExecuteTime": {
     "end_time": "2023-11-22T18:17:48.360185Z",
     "start_time": "2023-11-22T18:17:48.342546Z"
    }
   },
   "outputs": [],
   "source": [
    "Xs = []\n",
    "for net_ix in range(1, 8):\n",
    "    tvdn_ncpts = np.array([len(ecpts) for ecpts in ecptss_all[net_ix]]);\n",
    "    Xs.append(tvdn_ncpts)\n",
    "Xs = np.vstack(Xs).T;"
   ]
  },
  {
   "cell_type": "code",
   "execution_count": null,
   "id": "3f53618c",
   "metadata": {},
   "outputs": [],
   "source": []
  },
  {
   "cell_type": "code",
   "execution_count": 10,
   "id": "9ac9ca4a",
   "metadata": {
    "ExecuteTime": {
     "end_time": "2023-11-22T18:17:49.137297Z",
     "start_time": "2023-11-22T18:17:49.118111Z"
    }
   },
   "outputs": [
    {
     "data": {
      "text/plain": [
       "<function __main__.<lambda>(Xs)>"
      ]
     },
     "execution_count": 10,
     "metadata": {},
     "output_type": "execute_result"
    }
   ],
   "source": [
    "stdX_fn = lambda Xs: (Xs - Xs.mean(axis=0, keepdims=1))/Xs.std(axis=0, keepdims=1)"
   ]
  },
  {
   "cell_type": "code",
   "execution_count": null,
   "id": "4f41ebad",
   "metadata": {},
   "outputs": [],
   "source": []
  },
  {
   "cell_type": "markdown",
   "id": "1a4d030e",
   "metadata": {},
   "source": [
    "# Regression"
   ]
  },
  {
   "cell_type": "code",
   "execution_count": 21,
   "id": "bcb5537d",
   "metadata": {
    "ExecuteTime": {
     "end_time": "2023-11-22T03:26:12.441284Z",
     "start_time": "2023-11-22T03:26:10.032272Z"
    }
   },
   "outputs": [],
   "source": [
    "from sklearn.linear_model import LogisticRegression, LogisticRegressionCV\n",
    "import statsmodels.api as sm\n",
    "from sklearn.model_selection import LeaveOneOut\n",
    "from sklearn.metrics import roc_auc_score, roc_curve"
   ]
  },
  {
   "cell_type": "code",
   "execution_count": 22,
   "id": "aa4aa905",
   "metadata": {
    "ExecuteTime": {
     "end_time": "2023-11-22T03:26:13.636908Z",
     "start_time": "2023-11-22T03:26:13.613026Z"
    }
   },
   "outputs": [],
   "source": [
    "def _LOO_CV(Xs, Y, model, verbose=False):\n",
    "    loo = LeaveOneOut()\n",
    "    eprobs = []\n",
    "    if verbose:\n",
    "        pbar = tqdm(loo.split(Xs), total=len(Y))\n",
    "    else:\n",
    "        pbar = loo.split(Xs)\n",
    "    for train_idx, test_idx in pbar:\n",
    "        X_train, X_test = Xs[train_idx], Xs[test_idx]\n",
    "        y_train, y_test = Y[train_idx], Y[test_idx]\n",
    "        \n",
    "        # std X\n",
    "        X_train_m = X_train.mean(axis=0, keepdims=1)\n",
    "        X_train_std = X_train.std(axis=0, keepdims=1)\n",
    "        X_train = (X_train-X_train_m)/X_train_std\n",
    "        X_test = (X_test-X_train_m)/X_train_std\n",
    "        \n",
    "        clf = model.fit(X_train, y_train)\n",
    "        if len(np.unique(Y)) == 2:\n",
    "            eprobs.append(clf.predict_proba(X_test))\n",
    "        else:\n",
    "            eprobs.append(clf.predict(X_test))\n",
    "    return np.concatenate(np.array(eprobs))"
   ]
  },
  {
   "cell_type": "markdown",
   "id": "951f671d",
   "metadata": {},
   "source": [
    "## Logi (All diease vs HC for each network)"
   ]
  },
  {
   "cell_type": "code",
   "execution_count": 53,
   "id": "ded064d7",
   "metadata": {
    "ExecuteTime": {
     "end_time": "2023-11-22T03:36:23.101404Z",
     "start_time": "2023-11-22T03:36:23.029323Z"
    }
   },
   "outputs": [
    {
     "data": {
      "text/plain": [
       "LogisticRegression(C=1000, random_state=0)"
      ]
     },
     "execution_count": 53,
     "metadata": {},
     "output_type": "execute_result"
    }
   ],
   "source": [
    "Y = np.array(diag_labs);\n",
    "Y[Y==6] = 0\n",
    "Y[Y>0] = 1\n",
    "\n",
    "model = LogisticRegression(random_state=0, C=1)\n"
   ]
  },
  {
   "cell_type": "code",
   "execution_count": 54,
   "id": "83f8862e",
   "metadata": {
    "ExecuteTime": {
     "end_time": "2023-11-22T03:36:28.511647Z",
     "start_time": "2023-11-22T03:36:23.739177Z"
    }
   },
   "outputs": [
    {
     "name": "stderr",
     "output_type": "stream",
     "text": [
      "100%|███████████████████████████████████████████████████████████████████████████████████████████████████████████████████████████████████████| 321/321 [00:00<00:00, 487.27it/s]\n",
      "100%|███████████████████████████████████████████████████████████████████████████████████████████████████████████████████████████████████████| 321/321 [00:00<00:00, 453.05it/s]\n",
      "100%|███████████████████████████████████████████████████████████████████████████████████████████████████████████████████████████████████████| 321/321 [00:00<00:00, 484.60it/s]\n",
      "100%|███████████████████████████████████████████████████████████████████████████████████████████████████████████████████████████████████████| 321/321 [00:00<00:00, 485.82it/s]\n",
      "100%|███████████████████████████████████████████████████████████████████████████████████████████████████████████████████████████████████████| 321/321 [00:00<00:00, 454.18it/s]\n",
      "100%|███████████████████████████████████████████████████████████████████████████████████████████████████████████████████████████████████████| 321/321 [00:00<00:00, 485.59it/s]\n",
      "100%|███████████████████████████████████████████████████████████████████████████████████████████████████████████████████████████████████████| 321/321 [00:00<00:00, 485.06it/s]\n"
     ]
    }
   ],
   "source": [
    "result_all = {}\n",
    "for net_ix in range(1, 8):\n",
    "    eprobs = _LOO_CV(Xs[:, net_ix-1].reshape(-1, 1), Y, model, verbose=True);\n",
    "    auc = roc_auc_score(Y, eprobs[:, 1])\n",
    "    fpr, tpr, thresholds = roc_curve(Y, eprobs[:, 1], pos_label=1)\n",
    "    result_all[net_ix] = edict()\n",
    "    result_all[net_ix].eprobs = cur_eprobs\n",
    "    result_all[net_ix].auc = auc\n",
    "    result_all[net_ix].fpr = fpr \n",
    "    result_all[net_ix].tpr = tpr \n",
    "    result_all[net_ix].thre = thresholds"
   ]
  },
  {
   "cell_type": "code",
   "execution_count": 55,
   "id": "7e7c0140",
   "metadata": {
    "ExecuteTime": {
     "end_time": "2023-11-22T03:36:29.818933Z",
     "start_time": "2023-11-22T03:36:29.639019Z"
    }
   },
   "outputs": [
    {
     "data": {
      "text/plain": [
       "<matplotlib.legend.Legend at 0x7fa26f4c6100>"
      ]
     },
     "execution_count": 55,
     "metadata": {},
     "output_type": "execute_result"
    },
    {
     "data": {
      "image/png": "[encoded data removed]",
      "text/plain": [
       "<Figure size 800x800 with 1 Axes>"
      ]
     },
     "metadata": {
      "needs_background": "light"
     },
     "output_type": "display_data"
    }
   ],
   "source": [
    "plt.figure(figsize=[8, 8])\n",
    "for net_ix in range(1, 8):\n",
    "    plt.plot(\n",
    "        result_all[net_ix].fpr, \n",
    "        result_all[net_ix].tpr, \n",
    "        label=f\"{yeo_7nets_dict[net_ix]} (AUC: {result_all[net_ix].auc:.3f})\"\n",
    "    )\n",
    "    \n",
    "plt.xlabel(\"False positive\")\n",
    "plt.ylabel(\"True positive\")\n",
    "plt.legend(fontsize=10)"
   ]
  },
  {
   "cell_type": "code",
   "execution_count": null,
   "id": "372ce08b",
   "metadata": {},
   "outputs": [],
   "source": []
  },
  {
   "cell_type": "code",
   "execution_count": null,
   "id": "04d24f15",
   "metadata": {},
   "outputs": [],
   "source": []
  },
  {
   "cell_type": "markdown",
   "id": "5a4e55ad",
   "metadata": {
    "ExecuteTime": {
     "end_time": "2023-11-21T18:12:28.796893Z",
     "start_time": "2023-11-21T18:12:28.744649Z"
    }
   },
   "source": [
    "## Logi (All disease vs HC)"
   ]
  },
  {
   "cell_type": "code",
   "execution_count": 23,
   "id": "515ce82e",
   "metadata": {
    "ExecuteTime": {
     "end_time": "2023-11-22T03:26:15.923923Z",
     "start_time": "2023-11-22T03:26:15.900253Z"
    }
   },
   "outputs": [
    {
     "data": {
      "text/plain": [
       "LogisticRegression(C=1, random_state=0)"
      ]
     },
     "execution_count": 23,
     "metadata": {},
     "output_type": "execute_result"
    }
   ],
   "source": [
    "Y = np.array(diag_labs);\n",
    "Y[Y==6] = 0\n",
    "Y[Y>0] = 1\n",
    "\n",
    "model = LogisticRegression(random_state=0, C=1)"
   ]
  },
  {
   "cell_type": "code",
   "execution_count": 24,
   "id": "9f6ffbe2",
   "metadata": {
    "ExecuteTime": {
     "end_time": "2023-11-22T03:26:19.481091Z",
     "start_time": "2023-11-22T03:26:18.655747Z"
    }
   },
   "outputs": [
    {
     "name": "stderr",
     "output_type": "stream",
     "text": [
      "100%|███████████████████████████████████████████████████████████████████████████████████████████████████████████████████████████████████████| 321/321 [00:00<00:00, 402.31it/s]\n"
     ]
    }
   ],
   "source": [
    "eprobs = _LOO_CV(Xs, Y, model, verbose=True);"
   ]
  },
  {
   "cell_type": "code",
   "execution_count": 25,
   "id": "abd67622",
   "metadata": {
    "ExecuteTime": {
     "end_time": "2023-11-22T03:26:20.236049Z",
     "start_time": "2023-11-22T03:26:20.211318Z"
    }
   },
   "outputs": [],
   "source": [
    "auc = roc_auc_score(Y, eprobs[:, 1])\n",
    "fpr, tpr, thresholds = roc_curve(Y, eprobs[:, 1], pos_label=1)"
   ]
  },
  {
   "cell_type": "code",
   "execution_count": 26,
   "id": "e2e202cf",
   "metadata": {
    "ExecuteTime": {
     "end_time": "2023-11-22T03:26:21.375411Z",
     "start_time": "2023-11-22T03:26:20.989681Z"
    }
   },
   "outputs": [
    {
     "data": {
      "text/plain": [
       "Text(0.5, 1.0, 'Disease vs HC (AUC:0.538)')"
      ]
     },
     "execution_count": 26,
     "metadata": {},
     "output_type": "execute_result"
    },
    {
     "data": {
      "image/png": "[encoded data removed]",
      "text/plain": [
       "<Figure size 500x500 with 1 Axes>"
      ]
     },
     "metadata": {
      "needs_background": "light"
     },
     "output_type": "display_data"
    }
   ],
   "source": [
    "plt.figure(figsize=[5, 5])\n",
    "plt.plot(fpr, tpr)\n",
    "plt.xlabel(\"False positive\")\n",
    "plt.ylabel(\"True positive\")\n",
    "plt.title(f\"Disease vs HC (AUC:{auc:.3f})\")"
   ]
  },
  {
   "cell_type": "markdown",
   "id": "f248a6d3",
   "metadata": {
    "ExecuteTime": {
     "end_time": "2023-11-21T18:58:40.579171Z",
     "start_time": "2023-11-21T18:58:40.554926Z"
    }
   },
   "source": [
    "## Each vs HC"
   ]
  },
  {
   "cell_type": "code",
   "execution_count": 27,
   "id": "b806867b",
   "metadata": {
    "ExecuteTime": {
     "end_time": "2023-11-22T03:26:34.936287Z",
     "start_time": "2023-11-22T03:26:33.183946Z"
    }
   },
   "outputs": [
    {
     "name": "stderr",
     "output_type": "stream",
     "text": [
      "100%|███████████████████████████████████████████████████████████████████████████████████████████████████████████████████████████████████████| 182/182 [00:00<00:00, 409.72it/s]\n",
      "100%|███████████████████████████████████████████████████████████████████████████████████████████████████████████████████████████████████████| 141/141 [00:00<00:00, 445.99it/s]\n",
      "100%|███████████████████████████████████████████████████████████████████████████████████████████████████████████████████████████████████████| 127/127 [00:00<00:00, 422.09it/s]\n",
      "100%|███████████████████████████████████████████████████████████████████████████████████████████████████████████████████████████████████████| 134/134 [00:00<00:00, 418.48it/s]\n",
      "100%|███████████████████████████████████████████████████████████████████████████████████████████████████████████████████████████████████████| 137/137 [00:00<00:00, 431.97it/s]\n"
     ]
    }
   ],
   "source": [
    "result_all = {}\n",
    "for disease_ix in range(1, 6):\n",
    "    kp_idxs = np.bitwise_or(diag_labs==disease_ix, diag_labs==6);\n",
    "    cur_Xs = Xs[kp_idxs]\n",
    "    cur_Y = diag_labs[kp_idxs];\n",
    "    cur_Y[cur_Y==disease_ix] = 1\n",
    "    cur_Y[cur_Y==6] = 0\n",
    "    model = LogisticRegression(random_state=0, C=1)\n",
    "    cur_eprobs = _LOO_CV(cur_Xs, cur_Y, model, verbose=True);\n",
    "    auc = roc_auc_score(cur_Y, cur_eprobs[:, 1])\n",
    "    fpr, tpr, thresholds = roc_curve(cur_Y, cur_eprobs[:, 1], pos_label=1)\n",
    "    result_all[disease_ix] = edict()\n",
    "    result_all[disease_ix].eprobs = cur_eprobs\n",
    "    result_all[disease_ix].auc = auc\n",
    "    result_all[disease_ix].fpr = fpr \n",
    "    result_all[disease_ix].tpr = tpr \n",
    "    result_all[disease_ix].thre = thresholds"
   ]
  },
  {
   "cell_type": "code",
   "execution_count": 28,
   "id": "fdddacf9",
   "metadata": {
    "ExecuteTime": {
     "end_time": "2023-11-22T03:26:35.870845Z",
     "start_time": "2023-11-22T03:26:35.698564Z"
    }
   },
   "outputs": [
    {
     "data": {
      "text/plain": [
       "<matplotlib.legend.Legend at 0x7fa27db66e50>"
      ]
     },
     "execution_count": 28,
     "metadata": {},
     "output_type": "execute_result"
    },
    {
     "data": {
      "image/png": "[encoded data removed]",
      "text/plain": [
       "<Figure size 800x800 with 1 Axes>"
      ]
     },
     "metadata": {
      "needs_background": "light"
     },
     "output_type": "display_data"
    }
   ],
   "source": [
    "plt.figure(figsize=[8, 8])\n",
    "for disease_ix in range(1, 6):\n",
    "    plt.plot(\n",
    "        result_all[disease_ix].fpr, \n",
    "        result_all[disease_ix].tpr, \n",
    "        label=f\"{diag_lab_mapping[disease_ix]} vs HC (AUC: {result_all[disease_ix].auc:.3f})\"\n",
    "    )\n",
    "    \n",
    "plt.xlabel(\"False positive\")\n",
    "plt.ylabel(\"True positive\")\n",
    "plt.legend(fontsize=10)"
   ]
  },
  {
   "cell_type": "markdown",
   "id": "dd16c367",
   "metadata": {},
   "source": [
    "## Mutinomial regression"
   ]
  },
  {
   "cell_type": "code",
   "execution_count": 29,
   "id": "11af9a4f",
   "metadata": {
    "ExecuteTime": {
     "end_time": "2023-11-22T03:26:40.631427Z",
     "start_time": "2023-11-22T03:26:40.610553Z"
    }
   },
   "outputs": [],
   "source": [
    "from sklearn.metrics import confusion_matrix"
   ]
  },
  {
   "cell_type": "code",
   "execution_count": 30,
   "id": "1223568f",
   "metadata": {
    "ExecuteTime": {
     "end_time": "2023-11-22T03:26:41.074500Z",
     "start_time": "2023-11-22T03:26:41.052291Z"
    }
   },
   "outputs": [
    {
     "data": {
      "text/plain": [
       "LogisticRegression(C=1, random_state=0)"
      ]
     },
     "execution_count": 30,
     "metadata": {},
     "output_type": "execute_result"
    }
   ],
   "source": [
    "Y = np.array(diag_labs)\n",
    "model = LogisticRegression(random_state=0, C=1)"
   ]
  },
  {
   "cell_type": "code",
   "execution_count": 31,
   "id": "6a5068b2",
   "metadata": {
    "ExecuteTime": {
     "end_time": "2023-11-22T03:26:44.068472Z",
     "start_time": "2023-11-22T03:26:41.628904Z"
    }
   },
   "outputs": [
    {
     "name": "stderr",
     "output_type": "stream",
     "text": [
      "100%|███████████████████████████████████████████████████████████████████████████████████████████████████████████████████████████████████████| 321/321 [00:02<00:00, 134.72it/s]\n"
     ]
    }
   ],
   "source": [
    "pred_Y = _LOO_CV(Xs, Y, model, verbose=True);"
   ]
  },
  {
   "cell_type": "code",
   "execution_count": 32,
   "id": "61658871",
   "metadata": {
    "ExecuteTime": {
     "end_time": "2023-11-22T03:26:44.910470Z",
     "start_time": "2023-11-22T03:26:44.736598Z"
    },
    "scrolled": false
   },
   "outputs": [
    {
     "data": {
      "image/png": "[encoded data removed]",
      "text/plain": [
       "<Figure size 1000x500 with 1 Axes>"
      ]
     },
     "metadata": {
      "needs_background": "light"
     },
     "output_type": "display_data"
    }
   ],
   "source": [
    "cm = confusion_matrix(Y, pred_Y);\n",
    "sns.heatmap(cm, annot=True, square=True, cbar=False)\n",
    "plt.yticks(np.arange(6)+0.5, \n",
    "           [diag_lab_mapping[disease_ix] for disease_ix in range(1, 7)], \n",
    "          rotation=45)\n",
    "plt.xticks(np.arange(6)+0.5, \n",
    "           [diag_lab_mapping[disease_ix] for disease_ix in range(1, 7)], \n",
    "          rotation=45)\n",
    "plt.ylabel(\"True label\")\n",
    "plt.xlabel(\"Predicted label\")\n",
    "plt.title(\"Confusion matrix\");"
   ]
  },
  {
   "cell_type": "markdown",
   "id": "16d1ef3f",
   "metadata": {},
   "source": [
    "# Regression inference"
   ]
  },
  {
   "cell_type": "code",
   "execution_count": 59,
   "id": "cfaaf3bb",
   "metadata": {
    "ExecuteTime": {
     "end_time": "2023-11-22T18:34:54.729318Z",
     "start_time": "2023-11-22T18:34:54.662891Z"
    }
   },
   "outputs": [],
   "source": [
    "import statsmodels.api as sm\n",
    "from scipy.stats import ttest_ind, mannwhitneyu"
   ]
  },
  {
   "cell_type": "code",
   "execution_count": null,
   "id": "7f73f7a9",
   "metadata": {},
   "outputs": [],
   "source": []
  },
  {
   "cell_type": "markdown",
   "id": "6697df1c",
   "metadata": {},
   "source": [
    "## Logi (All vs HC)"
   ]
  },
  {
   "cell_type": "code",
   "execution_count": 27,
   "id": "43151a9d",
   "metadata": {
    "ExecuteTime": {
     "end_time": "2023-11-22T18:22:52.580957Z",
     "start_time": "2023-11-22T18:22:52.554622Z"
    }
   },
   "outputs": [
    {
     "name": "stdout",
     "output_type": "stream",
     "text": [
      "Optimization terminated successfully.\n",
      "         Current function value: 2.729481\n",
      "         Iterations 5\n"
     ]
    },
    {
     "data": {
      "text/plain": [
       "<statsmodels.discrete.discrete_model.BinaryResultsWrapper at 0x7f49a47c3370>"
      ]
     },
     "execution_count": 27,
     "metadata": {},
     "output_type": "execute_result"
    }
   ],
   "source": [
    "Y = np.array(diag_labs);\n",
    "Y[Y==6] = 0\n",
    "Y[Y>0] = 1\n",
    "stdXs = stdX_fn(Xs);\n",
    "\n",
    "model = sm.Logit(Y, sm.add_constant(stdXs))\n",
    "results = model.fit()"
   ]
  },
  {
   "cell_type": "code",
   "execution_count": 29,
   "id": "c56018de",
   "metadata": {
    "ExecuteTime": {
     "end_time": "2023-11-22T18:22:59.269764Z",
     "start_time": "2023-11-22T18:22:59.247164Z"
    }
   },
   "outputs": [
    {
     "data": {
      "text/html": [
       "<table class=\"simpletable\">\n",
       "<caption>Logit Regression Results</caption>\n",
       "<tr>\n",
       "  <th>Dep. Variable:</th>           <td>y</td>        <th>  No. Observations:  </th>  <td>   321</td> \n",
       "</tr>\n",
       "<tr>\n",
       "  <th>Model:</th>                 <td>Logit</td>      <th>  Df Residuals:      </th>  <td>   313</td> \n",
       "</tr>\n",
       "<tr>\n",
       "  <th>Method:</th>                 <td>MLE</td>       <th>  Df Model:          </th>  <td>     7</td> \n",
       "</tr>\n",
       "<tr>\n",
       "  <th>Date:</th>            <td>Wed, 22 Nov 2023</td> <th>  Pseudo R-squ.:     </th>  <td>   inf</td> \n",
       "</tr>\n",
       "<tr>\n",
       "  <th>Time:</th>                <td>10:22:59</td>     <th>  Log-Likelihood:    </th> <td> -876.16</td>\n",
       "</tr>\n",
       "<tr>\n",
       "  <th>converged:</th>             <td>True</td>       <th>  LL-Null:           </th> <td>  0.0000</td>\n",
       "</tr>\n",
       "<tr>\n",
       "  <th>Covariance Type:</th>     <td>nonrobust</td>    <th>  LLR p-value:       </th>  <td> 1.000</td> \n",
       "</tr>\n",
       "</table>"
      ],
      "text/plain": [
       "<class 'statsmodels.iolib.table.SimpleTable'>"
      ]
     },
     "execution_count": 29,
     "metadata": {},
     "output_type": "execute_result"
    }
   ],
   "source": [
    "table1 = results.summary().tables[0]"
   ]
  },
  {
   "cell_type": "code",
   "execution_count": 31,
   "id": "fae9e9a4",
   "metadata": {
    "ExecuteTime": {
     "end_time": "2023-11-22T18:23:09.495525Z",
     "start_time": "2023-11-22T18:23:09.465676Z"
    }
   },
   "outputs": [
    {
     "data": {
      "text/html": [
       "<div>\n",
       "<style scoped>\n",
       "    .dataframe tbody tr th:only-of-type {\n",
       "        vertical-align: middle;\n",
       "    }\n",
       "\n",
       "    .dataframe tbody tr th {\n",
       "        vertical-align: top;\n",
       "    }\n",
       "\n",
       "    .dataframe thead th {\n",
       "        text-align: right;\n",
       "    }\n",
       "</style>\n",
       "<table border=\"1\" class=\"dataframe\">\n",
       "  <thead>\n",
       "    <tr style=\"text-align: right;\">\n",
       "      <th></th>\n",
       "      <th></th>\n",
       "      <th>coef</th>\n",
       "      <th>std err</th>\n",
       "      <th>z</th>\n",
       "      <th>P&gt;|z|</th>\n",
       "      <th>[0.025</th>\n",
       "      <th>0.975]</th>\n",
       "    </tr>\n",
       "  </thead>\n",
       "  <tbody>\n",
       "    <tr>\n",
       "      <th>0</th>\n",
       "      <td>Constant</td>\n",
       "      <td>0.8277</td>\n",
       "      <td>0.125</td>\n",
       "      <td>6.646</td>\n",
       "      <td>0.000</td>\n",
       "      <td>0.584</td>\n",
       "      <td>1.072</td>\n",
       "    </tr>\n",
       "    <tr>\n",
       "      <th>1</th>\n",
       "      <td>Visual</td>\n",
       "      <td>-0.0499</td>\n",
       "      <td>0.132</td>\n",
       "      <td>-0.377</td>\n",
       "      <td>0.706</td>\n",
       "      <td>-0.309</td>\n",
       "      <td>0.209</td>\n",
       "    </tr>\n",
       "    <tr>\n",
       "      <th>2</th>\n",
       "      <td>Somatomotor</td>\n",
       "      <td>0.3213</td>\n",
       "      <td>0.136</td>\n",
       "      <td>2.355</td>\n",
       "      <td>0.019</td>\n",
       "      <td>0.054</td>\n",
       "      <td>0.589</td>\n",
       "    </tr>\n",
       "    <tr>\n",
       "      <th>3</th>\n",
       "      <td>Dorsal_Attention</td>\n",
       "      <td>-0.1119</td>\n",
       "      <td>0.137</td>\n",
       "      <td>-0.816</td>\n",
       "      <td>0.415</td>\n",
       "      <td>-0.381</td>\n",
       "      <td>0.157</td>\n",
       "    </tr>\n",
       "    <tr>\n",
       "      <th>4</th>\n",
       "      <td>Ventral_Attention</td>\n",
       "      <td>0.1182</td>\n",
       "      <td>0.137</td>\n",
       "      <td>0.866</td>\n",
       "      <td>0.387</td>\n",
       "      <td>-0.149</td>\n",
       "      <td>0.386</td>\n",
       "    </tr>\n",
       "    <tr>\n",
       "      <th>5</th>\n",
       "      <td>Limbic</td>\n",
       "      <td>0.2188</td>\n",
       "      <td>0.119</td>\n",
       "      <td>1.836</td>\n",
       "      <td>0.066</td>\n",
       "      <td>-0.015</td>\n",
       "      <td>0.452</td>\n",
       "    </tr>\n",
       "    <tr>\n",
       "      <th>6</th>\n",
       "      <td>Frontoparietal</td>\n",
       "      <td>-0.1469</td>\n",
       "      <td>0.141</td>\n",
       "      <td>-1.042</td>\n",
       "      <td>0.297</td>\n",
       "      <td>-0.423</td>\n",
       "      <td>0.129</td>\n",
       "    </tr>\n",
       "    <tr>\n",
       "      <th>7</th>\n",
       "      <td>Default</td>\n",
       "      <td>-0.2581</td>\n",
       "      <td>0.151</td>\n",
       "      <td>-1.708</td>\n",
       "      <td>0.088</td>\n",
       "      <td>-0.554</td>\n",
       "      <td>0.038</td>\n",
       "    </tr>\n",
       "  </tbody>\n",
       "</table>\n",
       "</div>"
      ],
      "text/plain": [
       "                            coef    std err          z   P>|z|     [0.025  \\\n",
       "0           Constant      0.8277      0.125      6.646   0.000      0.584   \n",
       "1             Visual     -0.0499      0.132     -0.377   0.706     -0.309   \n",
       "2        Somatomotor      0.3213      0.136      2.355   0.019      0.054   \n",
       "3   Dorsal_Attention     -0.1119      0.137     -0.816   0.415     -0.381   \n",
       "4  Ventral_Attention      0.1182      0.137      0.866   0.387     -0.149   \n",
       "5             Limbic      0.2188      0.119      1.836   0.066     -0.015   \n",
       "6     Frontoparietal     -0.1469      0.141     -1.042   0.297     -0.423   \n",
       "7            Default     -0.2581      0.151     -1.708   0.088     -0.554   \n",
       "\n",
       "      0.975]  \n",
       "0      1.072  \n",
       "1      0.209  \n",
       "2      0.589  \n",
       "3      0.157  \n",
       "4      0.386  \n",
       "5      0.452  \n",
       "6      0.129  \n",
       "7      0.038  "
      ]
     },
     "execution_count": 31,
     "metadata": {},
     "output_type": "execute_result"
    }
   ],
   "source": [
    "table = results.summary().tables[1]\n",
    "table_df = pd.DataFrame(table.data[1:], columns=table.data[0])\n",
    "table_df.iloc[:, 0] =  [\"Constant\"] + [yeo_7nets_dict[net_ix] for net_ix in range(1, 8)]\n",
    "table_df"
   ]
  },
  {
   "cell_type": "code",
   "execution_count": null,
   "id": "1d46f9fa",
   "metadata": {},
   "outputs": [],
   "source": []
  },
  {
   "cell_type": "markdown",
   "id": "a3eda64a",
   "metadata": {},
   "source": [
    "## Logi (Each vs HC)"
   ]
  },
  {
   "cell_type": "code",
   "execution_count": 39,
   "id": "1ecccc26",
   "metadata": {
    "ExecuteTime": {
     "end_time": "2023-11-22T18:25:19.809407Z",
     "start_time": "2023-11-22T18:25:19.665211Z"
    },
    "scrolled": true
   },
   "outputs": [
    {
     "name": "stdout",
     "output_type": "stream",
     "text": [
      "Optimization terminated successfully.\n",
      "         Current function value: 64.664001\n",
      "         Iterations 5\n",
      "Optimization terminated successfully.\n",
      "         Current function value: 64.664001\n",
      "         Iterations 5\n",
      "Optimization terminated successfully.\n",
      "         Current function value: 182.618782\n",
      "         Iterations 5\n",
      "Optimization terminated successfully.\n",
      "         Current function value: 182.618782\n",
      "         Iterations 5\n",
      "Optimization terminated successfully.\n",
      "         Current function value: inf\n",
      "         Iterations 6\n",
      "Optimization terminated successfully.\n",
      "         Current function value: inf\n",
      "         Iterations 6\n",
      "Optimization terminated successfully.\n",
      "         Current function value: inf\n",
      "         Iterations 6\n",
      "Optimization terminated successfully.\n",
      "         Current function value: inf\n",
      "         Iterations 6\n",
      "Optimization terminated successfully.\n",
      "         Current function value: inf\n",
      "         Iterations 6\n",
      "Optimization terminated successfully.\n",
      "         Current function value: inf\n",
      "         Iterations 6\n"
     ]
    },
    {
     "name": "stderr",
     "output_type": "stream",
     "text": [
      "/opt/conda/lib/python3.9/site-packages/statsmodels/base/model.py:547: HessianInversionWarning: Inverting hessian failed, no bse or cov_params available\n",
      "  warnings.warn('Inverting hessian failed, no bse or cov_params '\n",
      "/opt/conda/lib/python3.9/site-packages/statsmodels/base/model.py:547: HessianInversionWarning: Inverting hessian failed, no bse or cov_params available\n",
      "  warnings.warn('Inverting hessian failed, no bse or cov_params '\n",
      "/opt/conda/lib/python3.9/site-packages/statsmodels/discrete/discrete_model.py:3500: RuntimeWarning: divide by zero encountered in double_scalars\n",
      "  return 1 - self.llf/self.llnull\n",
      "/opt/conda/lib/python3.9/site-packages/statsmodels/base/model.py:547: HessianInversionWarning: Inverting hessian failed, no bse or cov_params available\n",
      "  warnings.warn('Inverting hessian failed, no bse or cov_params '\n",
      "/opt/conda/lib/python3.9/site-packages/statsmodels/base/model.py:547: HessianInversionWarning: Inverting hessian failed, no bse or cov_params available\n",
      "  warnings.warn('Inverting hessian failed, no bse or cov_params '\n",
      "/opt/conda/lib/python3.9/site-packages/statsmodels/discrete/discrete_model.py:3500: RuntimeWarning: divide by zero encountered in double_scalars\n",
      "  return 1 - self.llf/self.llnull\n",
      "/opt/conda/lib/python3.9/site-packages/statsmodels/discrete/discrete_model.py:1810: RuntimeWarning: overflow encountered in exp\n",
      "  return 1/(1+np.exp(-X))\n",
      "/opt/conda/lib/python3.9/site-packages/statsmodels/discrete/discrete_model.py:1863: RuntimeWarning: divide by zero encountered in log\n",
      "  return np.sum(np.log(self.cdf(q*np.dot(X,params))))\n",
      "/opt/conda/lib/python3.9/site-packages/statsmodels/base/model.py:547: HessianInversionWarning: Inverting hessian failed, no bse or cov_params available\n",
      "  warnings.warn('Inverting hessian failed, no bse or cov_params '\n",
      "/opt/conda/lib/python3.9/site-packages/statsmodels/base/model.py:547: HessianInversionWarning: Inverting hessian failed, no bse or cov_params available\n",
      "  warnings.warn('Inverting hessian failed, no bse or cov_params '\n",
      "/opt/conda/lib/python3.9/site-packages/statsmodels/discrete/discrete_model.py:1810: RuntimeWarning: overflow encountered in exp\n",
      "  return 1/(1+np.exp(-X))\n",
      "/opt/conda/lib/python3.9/site-packages/statsmodels/discrete/discrete_model.py:1863: RuntimeWarning: divide by zero encountered in log\n",
      "  return np.sum(np.log(self.cdf(q*np.dot(X,params))))\n",
      "/opt/conda/lib/python3.9/site-packages/statsmodels/base/model.py:547: HessianInversionWarning: Inverting hessian failed, no bse or cov_params available\n",
      "  warnings.warn('Inverting hessian failed, no bse or cov_params '\n",
      "/opt/conda/lib/python3.9/site-packages/statsmodels/base/model.py:547: HessianInversionWarning: Inverting hessian failed, no bse or cov_params available\n",
      "  warnings.warn('Inverting hessian failed, no bse or cov_params '\n",
      "/opt/conda/lib/python3.9/site-packages/statsmodels/discrete/discrete_model.py:1810: RuntimeWarning: overflow encountered in exp\n",
      "  return 1/(1+np.exp(-X))\n",
      "/opt/conda/lib/python3.9/site-packages/statsmodels/discrete/discrete_model.py:1863: RuntimeWarning: divide by zero encountered in log\n",
      "  return np.sum(np.log(self.cdf(q*np.dot(X,params))))\n",
      "/opt/conda/lib/python3.9/site-packages/statsmodels/base/model.py:547: HessianInversionWarning: Inverting hessian failed, no bse or cov_params available\n",
      "  warnings.warn('Inverting hessian failed, no bse or cov_params '\n",
      "/opt/conda/lib/python3.9/site-packages/statsmodels/base/model.py:547: HessianInversionWarning: Inverting hessian failed, no bse or cov_params available\n",
      "  warnings.warn('Inverting hessian failed, no bse or cov_params '\n",
      "/opt/conda/lib/python3.9/site-packages/statsmodels/discrete/discrete_model.py:1810: RuntimeWarning: overflow encountered in exp\n",
      "  return 1/(1+np.exp(-X))\n",
      "/opt/conda/lib/python3.9/site-packages/statsmodels/discrete/discrete_model.py:1863: RuntimeWarning: divide by zero encountered in log\n",
      "  return np.sum(np.log(self.cdf(q*np.dot(X,params))))\n"
     ]
    }
   ],
   "source": [
    "result_all = {}\n",
    "for disease_ix in range(1, 6):\n",
    "    kp_idxs = np.bitwise_or(diag_labs==disease_ix, diag_labs==6);\n",
    "    cur_Xs = Xs[kp_idxs]\n",
    "    cur_Y = diag_labs[kp_idxs];\n",
    "    cur_Y[cur_Y==disease_ix] = 1\n",
    "    cur_Y[cur_Y==6] = 0\n",
    "    std_cur_Xs = stdX_fn(cur_Xs)\n",
    "    model = sm.Logit(cur_Y, sm.add_constant(std_cur_Xs))\n",
    "    results = model.fit()\n",
    "    table1 = results.summary().tables[0]\n",
    "    table = results.summary().tables[1]\n",
    "    table_df = pd.DataFrame(table.data[1:], columns=table.data[0])\n",
    "    table_df.iloc[:, 0] =  [\"Constant\"] + [yeo_7nets_dict[net_ix] for net_ix in range(1, 8)]\n",
    "    \n",
    "    results = model.fit()\n",
    "    result_all[disease_ix] = edict()\n",
    "    result_all[disease_ix].table1 = pd.DataFrame(table1)\n",
    "    result_all[disease_ix].table2 = table_df\n"
   ]
  },
  {
   "cell_type": "code",
   "execution_count": 40,
   "id": "4ff98ccc",
   "metadata": {
    "ExecuteTime": {
     "end_time": "2023-11-22T18:25:22.983127Z",
     "start_time": "2023-11-22T18:25:22.933042Z"
    }
   },
   "outputs": [
    {
     "name": "stdout",
     "output_type": "stream",
     "text": [
      "AD\n"
     ]
    },
    {
     "data": {
      "text/html": [
       "<div>\n",
       "<style scoped>\n",
       "    .dataframe tbody tr th:only-of-type {\n",
       "        vertical-align: middle;\n",
       "    }\n",
       "\n",
       "    .dataframe tbody tr th {\n",
       "        vertical-align: top;\n",
       "    }\n",
       "\n",
       "    .dataframe thead th {\n",
       "        text-align: right;\n",
       "    }\n",
       "</style>\n",
       "<table border=\"1\" class=\"dataframe\">\n",
       "  <thead>\n",
       "    <tr style=\"text-align: right;\">\n",
       "      <th></th>\n",
       "      <th></th>\n",
       "      <th>coef</th>\n",
       "      <th>std err</th>\n",
       "      <th>z</th>\n",
       "      <th>P&gt;|z|</th>\n",
       "      <th>[0.025</th>\n",
       "      <th>0.975]</th>\n",
       "    </tr>\n",
       "  </thead>\n",
       "  <tbody>\n",
       "    <tr>\n",
       "      <th>0</th>\n",
       "      <td>Constant</td>\n",
       "      <td>-0.2107</td>\n",
       "      <td>0.156</td>\n",
       "      <td>-1.349</td>\n",
       "      <td>0.177</td>\n",
       "      <td>-0.517</td>\n",
       "      <td>0.095</td>\n",
       "    </tr>\n",
       "    <tr>\n",
       "      <th>1</th>\n",
       "      <td>Visual</td>\n",
       "      <td>-0.2500</td>\n",
       "      <td>0.167</td>\n",
       "      <td>-1.497</td>\n",
       "      <td>0.135</td>\n",
       "      <td>-0.577</td>\n",
       "      <td>0.077</td>\n",
       "    </tr>\n",
       "    <tr>\n",
       "      <th>2</th>\n",
       "      <td>Somatomotor</td>\n",
       "      <td>0.3263</td>\n",
       "      <td>0.178</td>\n",
       "      <td>1.833</td>\n",
       "      <td>0.067</td>\n",
       "      <td>-0.023</td>\n",
       "      <td>0.675</td>\n",
       "    </tr>\n",
       "    <tr>\n",
       "      <th>3</th>\n",
       "      <td>Dorsal_Attention</td>\n",
       "      <td>-0.1329</td>\n",
       "      <td>0.166</td>\n",
       "      <td>-0.800</td>\n",
       "      <td>0.424</td>\n",
       "      <td>-0.459</td>\n",
       "      <td>0.193</td>\n",
       "    </tr>\n",
       "    <tr>\n",
       "      <th>4</th>\n",
       "      <td>Ventral_Attention</td>\n",
       "      <td>0.0288</td>\n",
       "      <td>0.175</td>\n",
       "      <td>0.164</td>\n",
       "      <td>0.869</td>\n",
       "      <td>-0.314</td>\n",
       "      <td>0.372</td>\n",
       "    </tr>\n",
       "    <tr>\n",
       "      <th>5</th>\n",
       "      <td>Limbic</td>\n",
       "      <td>0.3102</td>\n",
       "      <td>0.172</td>\n",
       "      <td>1.798</td>\n",
       "      <td>0.072</td>\n",
       "      <td>-0.028</td>\n",
       "      <td>0.648</td>\n",
       "    </tr>\n",
       "    <tr>\n",
       "      <th>6</th>\n",
       "      <td>Frontoparietal</td>\n",
       "      <td>-0.0775</td>\n",
       "      <td>0.172</td>\n",
       "      <td>-0.451</td>\n",
       "      <td>0.652</td>\n",
       "      <td>-0.415</td>\n",
       "      <td>0.260</td>\n",
       "    </tr>\n",
       "    <tr>\n",
       "      <th>7</th>\n",
       "      <td>Default</td>\n",
       "      <td>-0.4661</td>\n",
       "      <td>0.190</td>\n",
       "      <td>-2.459</td>\n",
       "      <td>0.014</td>\n",
       "      <td>-0.838</td>\n",
       "      <td>-0.095</td>\n",
       "    </tr>\n",
       "  </tbody>\n",
       "</table>\n",
       "</div>"
      ],
      "text/plain": [
       "                            coef    std err          z   P>|z|     [0.025  \\\n",
       "0           Constant     -0.2107      0.156     -1.349   0.177     -0.517   \n",
       "1             Visual     -0.2500      0.167     -1.497   0.135     -0.577   \n",
       "2        Somatomotor      0.3263      0.178      1.833   0.067     -0.023   \n",
       "3   Dorsal_Attention     -0.1329      0.166     -0.800   0.424     -0.459   \n",
       "4  Ventral_Attention      0.0288      0.175      0.164   0.869     -0.314   \n",
       "5             Limbic      0.3102      0.172      1.798   0.072     -0.028   \n",
       "6     Frontoparietal     -0.0775      0.172     -0.451   0.652     -0.415   \n",
       "7            Default     -0.4661      0.190     -2.459   0.014     -0.838   \n",
       "\n",
       "      0.975]  \n",
       "0      0.095  \n",
       "1      0.077  \n",
       "2      0.675  \n",
       "3      0.193  \n",
       "4      0.372  \n",
       "5      0.648  \n",
       "6      0.260  \n",
       "7     -0.095  "
      ]
     },
     "metadata": {},
     "output_type": "display_data"
    },
    {
     "name": "stdout",
     "output_type": "stream",
     "text": [
      "bvFTD\n"
     ]
    },
    {
     "data": {
      "text/html": [
       "<div>\n",
       "<style scoped>\n",
       "    .dataframe tbody tr th:only-of-type {\n",
       "        vertical-align: middle;\n",
       "    }\n",
       "\n",
       "    .dataframe tbody tr th {\n",
       "        vertical-align: top;\n",
       "    }\n",
       "\n",
       "    .dataframe thead th {\n",
       "        text-align: right;\n",
       "    }\n",
       "</style>\n",
       "<table border=\"1\" class=\"dataframe\">\n",
       "  <thead>\n",
       "    <tr style=\"text-align: right;\">\n",
       "      <th></th>\n",
       "      <th></th>\n",
       "      <th>coef</th>\n",
       "      <th>std err</th>\n",
       "      <th>z</th>\n",
       "      <th>P&gt;|z|</th>\n",
       "      <th>[0.025</th>\n",
       "      <th>0.975]</th>\n",
       "    </tr>\n",
       "  </thead>\n",
       "  <tbody>\n",
       "    <tr>\n",
       "      <th>0</th>\n",
       "      <td>Constant</td>\n",
       "      <td>-0.9391</td>\n",
       "      <td>0.194</td>\n",
       "      <td>-4.850</td>\n",
       "      <td>0.000</td>\n",
       "      <td>-1.319</td>\n",
       "      <td>-0.560</td>\n",
       "    </tr>\n",
       "    <tr>\n",
       "      <th>1</th>\n",
       "      <td>Visual</td>\n",
       "      <td>-0.0685</td>\n",
       "      <td>0.194</td>\n",
       "      <td>-0.353</td>\n",
       "      <td>0.724</td>\n",
       "      <td>-0.449</td>\n",
       "      <td>0.312</td>\n",
       "    </tr>\n",
       "    <tr>\n",
       "      <th>2</th>\n",
       "      <td>Somatomotor</td>\n",
       "      <td>0.3312</td>\n",
       "      <td>0.223</td>\n",
       "      <td>1.484</td>\n",
       "      <td>0.138</td>\n",
       "      <td>-0.106</td>\n",
       "      <td>0.769</td>\n",
       "    </tr>\n",
       "    <tr>\n",
       "      <th>3</th>\n",
       "      <td>Dorsal_Attention</td>\n",
       "      <td>-0.0215</td>\n",
       "      <td>0.201</td>\n",
       "      <td>-0.107</td>\n",
       "      <td>0.915</td>\n",
       "      <td>-0.416</td>\n",
       "      <td>0.373</td>\n",
       "    </tr>\n",
       "    <tr>\n",
       "      <th>4</th>\n",
       "      <td>Ventral_Attention</td>\n",
       "      <td>0.1522</td>\n",
       "      <td>0.210</td>\n",
       "      <td>0.724</td>\n",
       "      <td>0.469</td>\n",
       "      <td>-0.260</td>\n",
       "      <td>0.564</td>\n",
       "    </tr>\n",
       "    <tr>\n",
       "      <th>5</th>\n",
       "      <td>Limbic</td>\n",
       "      <td>0.1578</td>\n",
       "      <td>0.209</td>\n",
       "      <td>0.756</td>\n",
       "      <td>0.450</td>\n",
       "      <td>-0.251</td>\n",
       "      <td>0.567</td>\n",
       "    </tr>\n",
       "    <tr>\n",
       "      <th>6</th>\n",
       "      <td>Frontoparietal</td>\n",
       "      <td>-0.2351</td>\n",
       "      <td>0.199</td>\n",
       "      <td>-1.183</td>\n",
       "      <td>0.237</td>\n",
       "      <td>-0.625</td>\n",
       "      <td>0.154</td>\n",
       "    </tr>\n",
       "    <tr>\n",
       "      <th>7</th>\n",
       "      <td>Default</td>\n",
       "      <td>-0.2248</td>\n",
       "      <td>0.204</td>\n",
       "      <td>-1.100</td>\n",
       "      <td>0.271</td>\n",
       "      <td>-0.625</td>\n",
       "      <td>0.176</td>\n",
       "    </tr>\n",
       "  </tbody>\n",
       "</table>\n",
       "</div>"
      ],
      "text/plain": [
       "                            coef    std err          z   P>|z|     [0.025  \\\n",
       "0           Constant     -0.9391      0.194     -4.850   0.000     -1.319   \n",
       "1             Visual     -0.0685      0.194     -0.353   0.724     -0.449   \n",
       "2        Somatomotor      0.3312      0.223      1.484   0.138     -0.106   \n",
       "3   Dorsal_Attention     -0.0215      0.201     -0.107   0.915     -0.416   \n",
       "4  Ventral_Attention      0.1522      0.210      0.724   0.469     -0.260   \n",
       "5             Limbic      0.1578      0.209      0.756   0.450     -0.251   \n",
       "6     Frontoparietal     -0.2351      0.199     -1.183   0.237     -0.625   \n",
       "7            Default     -0.2248      0.204     -1.100   0.271     -0.625   \n",
       "\n",
       "      0.975]  \n",
       "0     -0.560  \n",
       "1      0.312  \n",
       "2      0.769  \n",
       "3      0.373  \n",
       "4      0.564  \n",
       "5      0.567  \n",
       "6      0.154  \n",
       "7      0.176  "
      ]
     },
     "metadata": {},
     "output_type": "display_data"
    },
    {
     "name": "stdout",
     "output_type": "stream",
     "text": [
      "CBS\n"
     ]
    },
    {
     "data": {
      "text/html": [
       "<div>\n",
       "<style scoped>\n",
       "    .dataframe tbody tr th:only-of-type {\n",
       "        vertical-align: middle;\n",
       "    }\n",
       "\n",
       "    .dataframe tbody tr th {\n",
       "        vertical-align: top;\n",
       "    }\n",
       "\n",
       "    .dataframe thead th {\n",
       "        text-align: right;\n",
       "    }\n",
       "</style>\n",
       "<table border=\"1\" class=\"dataframe\">\n",
       "  <thead>\n",
       "    <tr style=\"text-align: right;\">\n",
       "      <th></th>\n",
       "      <th></th>\n",
       "      <th>coef</th>\n",
       "      <th>std err</th>\n",
       "      <th>z</th>\n",
       "      <th>P&gt;|z|</th>\n",
       "      <th>[0.025</th>\n",
       "      <th>0.975]</th>\n",
       "    </tr>\n",
       "  </thead>\n",
       "  <tbody>\n",
       "    <tr>\n",
       "      <th>0</th>\n",
       "      <td>Constant</td>\n",
       "      <td>-1.4656</td>\n",
       "      <td>0.249</td>\n",
       "      <td>-5.891</td>\n",
       "      <td>0.000</td>\n",
       "      <td>-1.953</td>\n",
       "      <td>-0.978</td>\n",
       "    </tr>\n",
       "    <tr>\n",
       "      <th>1</th>\n",
       "      <td>Visual</td>\n",
       "      <td>0.4179</td>\n",
       "      <td>0.316</td>\n",
       "      <td>1.321</td>\n",
       "      <td>0.187</td>\n",
       "      <td>-0.202</td>\n",
       "      <td>1.038</td>\n",
       "    </tr>\n",
       "    <tr>\n",
       "      <th>2</th>\n",
       "      <td>Somatomotor</td>\n",
       "      <td>0.2920</td>\n",
       "      <td>0.287</td>\n",
       "      <td>1.016</td>\n",
       "      <td>0.310</td>\n",
       "      <td>-0.271</td>\n",
       "      <td>0.856</td>\n",
       "    </tr>\n",
       "    <tr>\n",
       "      <th>3</th>\n",
       "      <td>Dorsal_Attention</td>\n",
       "      <td>-0.0075</td>\n",
       "      <td>0.247</td>\n",
       "      <td>-0.030</td>\n",
       "      <td>0.976</td>\n",
       "      <td>-0.491</td>\n",
       "      <td>0.476</td>\n",
       "    </tr>\n",
       "    <tr>\n",
       "      <th>4</th>\n",
       "      <td>Ventral_Attention</td>\n",
       "      <td>0.4266</td>\n",
       "      <td>0.275</td>\n",
       "      <td>1.553</td>\n",
       "      <td>0.120</td>\n",
       "      <td>-0.112</td>\n",
       "      <td>0.965</td>\n",
       "    </tr>\n",
       "    <tr>\n",
       "      <th>5</th>\n",
       "      <td>Limbic</td>\n",
       "      <td>-0.0402</td>\n",
       "      <td>0.242</td>\n",
       "      <td>-0.166</td>\n",
       "      <td>0.868</td>\n",
       "      <td>-0.515</td>\n",
       "      <td>0.434</td>\n",
       "    </tr>\n",
       "    <tr>\n",
       "      <th>6</th>\n",
       "      <td>Frontoparietal</td>\n",
       "      <td>-0.3603</td>\n",
       "      <td>0.232</td>\n",
       "      <td>-1.550</td>\n",
       "      <td>0.121</td>\n",
       "      <td>-0.816</td>\n",
       "      <td>0.095</td>\n",
       "    </tr>\n",
       "    <tr>\n",
       "      <th>7</th>\n",
       "      <td>Default</td>\n",
       "      <td>-0.1225</td>\n",
       "      <td>0.274</td>\n",
       "      <td>-0.448</td>\n",
       "      <td>0.654</td>\n",
       "      <td>-0.659</td>\n",
       "      <td>0.414</td>\n",
       "    </tr>\n",
       "  </tbody>\n",
       "</table>\n",
       "</div>"
      ],
      "text/plain": [
       "                            coef    std err          z   P>|z|     [0.025  \\\n",
       "0           Constant     -1.4656      0.249     -5.891   0.000     -1.953   \n",
       "1             Visual      0.4179      0.316      1.321   0.187     -0.202   \n",
       "2        Somatomotor      0.2920      0.287      1.016   0.310     -0.271   \n",
       "3   Dorsal_Attention     -0.0075      0.247     -0.030   0.976     -0.491   \n",
       "4  Ventral_Attention      0.4266      0.275      1.553   0.120     -0.112   \n",
       "5             Limbic     -0.0402      0.242     -0.166   0.868     -0.515   \n",
       "6     Frontoparietal     -0.3603      0.232     -1.550   0.121     -0.816   \n",
       "7            Default     -0.1225      0.274     -0.448   0.654     -0.659   \n",
       "\n",
       "      0.975]  \n",
       "0     -0.978  \n",
       "1      1.038  \n",
       "2      0.856  \n",
       "3      0.476  \n",
       "4      0.965  \n",
       "5      0.434  \n",
       "6      0.095  \n",
       "7      0.414  "
      ]
     },
     "metadata": {},
     "output_type": "display_data"
    },
    {
     "name": "stdout",
     "output_type": "stream",
     "text": [
      "nfvPPA\n"
     ]
    },
    {
     "data": {
      "text/html": [
       "<div>\n",
       "<style scoped>\n",
       "    .dataframe tbody tr th:only-of-type {\n",
       "        vertical-align: middle;\n",
       "    }\n",
       "\n",
       "    .dataframe tbody tr th {\n",
       "        vertical-align: top;\n",
       "    }\n",
       "\n",
       "    .dataframe thead th {\n",
       "        text-align: right;\n",
       "    }\n",
       "</style>\n",
       "<table border=\"1\" class=\"dataframe\">\n",
       "  <thead>\n",
       "    <tr style=\"text-align: right;\">\n",
       "      <th></th>\n",
       "      <th></th>\n",
       "      <th>coef</th>\n",
       "      <th>std err</th>\n",
       "      <th>z</th>\n",
       "      <th>P&gt;|z|</th>\n",
       "      <th>[0.025</th>\n",
       "      <th>0.975]</th>\n",
       "    </tr>\n",
       "  </thead>\n",
       "  <tbody>\n",
       "    <tr>\n",
       "      <th>0</th>\n",
       "      <td>Constant</td>\n",
       "      <td>-1.2117</td>\n",
       "      <td>0.226</td>\n",
       "      <td>-5.360</td>\n",
       "      <td>0.000</td>\n",
       "      <td>-1.655</td>\n",
       "      <td>-0.769</td>\n",
       "    </tr>\n",
       "    <tr>\n",
       "      <th>1</th>\n",
       "      <td>Visual</td>\n",
       "      <td>0.0124</td>\n",
       "      <td>0.222</td>\n",
       "      <td>0.056</td>\n",
       "      <td>0.955</td>\n",
       "      <td>-0.422</td>\n",
       "      <td>0.447</td>\n",
       "    </tr>\n",
       "    <tr>\n",
       "      <th>2</th>\n",
       "      <td>Somatomotor</td>\n",
       "      <td>0.2785</td>\n",
       "      <td>0.258</td>\n",
       "      <td>1.080</td>\n",
       "      <td>0.280</td>\n",
       "      <td>-0.227</td>\n",
       "      <td>0.784</td>\n",
       "    </tr>\n",
       "    <tr>\n",
       "      <th>3</th>\n",
       "      <td>Dorsal_Attention</td>\n",
       "      <td>0.2914</td>\n",
       "      <td>0.271</td>\n",
       "      <td>1.076</td>\n",
       "      <td>0.282</td>\n",
       "      <td>-0.239</td>\n",
       "      <td>0.822</td>\n",
       "    </tr>\n",
       "    <tr>\n",
       "      <th>4</th>\n",
       "      <td>Ventral_Attention</td>\n",
       "      <td>0.5193</td>\n",
       "      <td>0.272</td>\n",
       "      <td>1.911</td>\n",
       "      <td>0.056</td>\n",
       "      <td>-0.013</td>\n",
       "      <td>1.052</td>\n",
       "    </tr>\n",
       "    <tr>\n",
       "      <th>5</th>\n",
       "      <td>Limbic</td>\n",
       "      <td>0.0745</td>\n",
       "      <td>0.223</td>\n",
       "      <td>0.334</td>\n",
       "      <td>0.738</td>\n",
       "      <td>-0.363</td>\n",
       "      <td>0.512</td>\n",
       "    </tr>\n",
       "    <tr>\n",
       "      <th>6</th>\n",
       "      <td>Frontoparietal</td>\n",
       "      <td>0.0640</td>\n",
       "      <td>0.235</td>\n",
       "      <td>0.273</td>\n",
       "      <td>0.785</td>\n",
       "      <td>-0.396</td>\n",
       "      <td>0.524</td>\n",
       "    </tr>\n",
       "    <tr>\n",
       "      <th>7</th>\n",
       "      <td>Default</td>\n",
       "      <td>-0.3132</td>\n",
       "      <td>0.246</td>\n",
       "      <td>-1.275</td>\n",
       "      <td>0.202</td>\n",
       "      <td>-0.795</td>\n",
       "      <td>0.168</td>\n",
       "    </tr>\n",
       "  </tbody>\n",
       "</table>\n",
       "</div>"
      ],
      "text/plain": [
       "                            coef    std err          z   P>|z|     [0.025  \\\n",
       "0           Constant     -1.2117      0.226     -5.360   0.000     -1.655   \n",
       "1             Visual      0.0124      0.222      0.056   0.955     -0.422   \n",
       "2        Somatomotor      0.2785      0.258      1.080   0.280     -0.227   \n",
       "3   Dorsal_Attention      0.2914      0.271      1.076   0.282     -0.239   \n",
       "4  Ventral_Attention      0.5193      0.272      1.911   0.056     -0.013   \n",
       "5             Limbic      0.0745      0.223      0.334   0.738     -0.363   \n",
       "6     Frontoparietal      0.0640      0.235      0.273   0.785     -0.396   \n",
       "7            Default     -0.3132      0.246     -1.275   0.202     -0.795   \n",
       "\n",
       "      0.975]  \n",
       "0     -0.769  \n",
       "1      0.447  \n",
       "2      0.784  \n",
       "3      0.822  \n",
       "4      1.052  \n",
       "5      0.512  \n",
       "6      0.524  \n",
       "7      0.168  "
      ]
     },
     "metadata": {},
     "output_type": "display_data"
    },
    {
     "name": "stdout",
     "output_type": "stream",
     "text": [
      "svPPA\n"
     ]
    },
    {
     "data": {
      "text/html": [
       "<div>\n",
       "<style scoped>\n",
       "    .dataframe tbody tr th:only-of-type {\n",
       "        vertical-align: middle;\n",
       "    }\n",
       "\n",
       "    .dataframe tbody tr th {\n",
       "        vertical-align: top;\n",
       "    }\n",
       "\n",
       "    .dataframe thead th {\n",
       "        text-align: right;\n",
       "    }\n",
       "</style>\n",
       "<table border=\"1\" class=\"dataframe\">\n",
       "  <thead>\n",
       "    <tr style=\"text-align: right;\">\n",
       "      <th></th>\n",
       "      <th></th>\n",
       "      <th>coef</th>\n",
       "      <th>std err</th>\n",
       "      <th>z</th>\n",
       "      <th>P&gt;|z|</th>\n",
       "      <th>[0.025</th>\n",
       "      <th>0.975]</th>\n",
       "    </tr>\n",
       "  </thead>\n",
       "  <tbody>\n",
       "    <tr>\n",
       "      <th>0</th>\n",
       "      <td>Constant</td>\n",
       "      <td>-1.1537</td>\n",
       "      <td>0.225</td>\n",
       "      <td>-5.123</td>\n",
       "      <td>0.000</td>\n",
       "      <td>-1.595</td>\n",
       "      <td>-0.712</td>\n",
       "    </tr>\n",
       "    <tr>\n",
       "      <th>1</th>\n",
       "      <td>Visual</td>\n",
       "      <td>0.1212</td>\n",
       "      <td>0.231</td>\n",
       "      <td>0.524</td>\n",
       "      <td>0.600</td>\n",
       "      <td>-0.332</td>\n",
       "      <td>0.575</td>\n",
       "    </tr>\n",
       "    <tr>\n",
       "      <th>2</th>\n",
       "      <td>Somatomotor</td>\n",
       "      <td>0.3641</td>\n",
       "      <td>0.238</td>\n",
       "      <td>1.528</td>\n",
       "      <td>0.127</td>\n",
       "      <td>-0.103</td>\n",
       "      <td>0.831</td>\n",
       "    </tr>\n",
       "    <tr>\n",
       "      <th>3</th>\n",
       "      <td>Dorsal_Attention</td>\n",
       "      <td>-0.2135</td>\n",
       "      <td>0.204</td>\n",
       "      <td>-1.045</td>\n",
       "      <td>0.296</td>\n",
       "      <td>-0.614</td>\n",
       "      <td>0.187</td>\n",
       "    </tr>\n",
       "    <tr>\n",
       "      <th>4</th>\n",
       "      <td>Ventral_Attention</td>\n",
       "      <td>-0.1897</td>\n",
       "      <td>0.216</td>\n",
       "      <td>-0.878</td>\n",
       "      <td>0.380</td>\n",
       "      <td>-0.613</td>\n",
       "      <td>0.234</td>\n",
       "    </tr>\n",
       "    <tr>\n",
       "      <th>5</th>\n",
       "      <td>Limbic</td>\n",
       "      <td>0.7143</td>\n",
       "      <td>0.327</td>\n",
       "      <td>2.186</td>\n",
       "      <td>0.029</td>\n",
       "      <td>0.074</td>\n",
       "      <td>1.355</td>\n",
       "    </tr>\n",
       "    <tr>\n",
       "      <th>6</th>\n",
       "      <td>Frontoparietal</td>\n",
       "      <td>-0.1749</td>\n",
       "      <td>0.215</td>\n",
       "      <td>-0.813</td>\n",
       "      <td>0.416</td>\n",
       "      <td>-0.597</td>\n",
       "      <td>0.247</td>\n",
       "    </tr>\n",
       "    <tr>\n",
       "      <th>7</th>\n",
       "      <td>Default</td>\n",
       "      <td>0.0977</td>\n",
       "      <td>0.257</td>\n",
       "      <td>0.381</td>\n",
       "      <td>0.704</td>\n",
       "      <td>-0.406</td>\n",
       "      <td>0.601</td>\n",
       "    </tr>\n",
       "  </tbody>\n",
       "</table>\n",
       "</div>"
      ],
      "text/plain": [
       "                            coef    std err          z   P>|z|     [0.025  \\\n",
       "0           Constant     -1.1537      0.225     -5.123   0.000     -1.595   \n",
       "1             Visual      0.1212      0.231      0.524   0.600     -0.332   \n",
       "2        Somatomotor      0.3641      0.238      1.528   0.127     -0.103   \n",
       "3   Dorsal_Attention     -0.2135      0.204     -1.045   0.296     -0.614   \n",
       "4  Ventral_Attention     -0.1897      0.216     -0.878   0.380     -0.613   \n",
       "5             Limbic      0.7143      0.327      2.186   0.029      0.074   \n",
       "6     Frontoparietal     -0.1749      0.215     -0.813   0.416     -0.597   \n",
       "7            Default      0.0977      0.257      0.381   0.704     -0.406   \n",
       "\n",
       "      0.975]  \n",
       "0     -0.712  \n",
       "1      0.575  \n",
       "2      0.831  \n",
       "3      0.187  \n",
       "4      0.234  \n",
       "5      1.355  \n",
       "6      0.247  \n",
       "7      0.601  "
      ]
     },
     "metadata": {},
     "output_type": "display_data"
    }
   ],
   "source": [
    "for disease_ix in range(1, 6):\n",
    "    print(diag_lab_mapping[disease_ix])\n",
    "    display(result_all[disease_ix].table2)"
   ]
  },
  {
   "cell_type": "code",
   "execution_count": 45,
   "id": "6ea11451",
   "metadata": {
    "ExecuteTime": {
     "end_time": "2023-11-22T18:26:36.503824Z",
     "start_time": "2023-11-22T18:26:36.483615Z"
    }
   },
   "outputs": [
    {
     "data": {
      "text/plain": [
       "({1: 'AD', 2: 'bvFTD', 3: 'CBS', 4: 'nfvPPA', 5: 'svPPA', 6: 'HC'},\n",
       " {1: 'Visual',\n",
       "  2: 'Somatomotor',\n",
       "  3: 'Dorsal_Attention',\n",
       "  4: 'Ventral_Attention',\n",
       "  5: 'Limbic',\n",
       "  6: 'Frontoparietal',\n",
       "  7: 'Default'})"
      ]
     },
     "execution_count": 45,
     "metadata": {},
     "output_type": "execute_result"
    }
   ],
   "source": [
    "diag_lab_mapping, yeo_7nets_dict"
   ]
  },
  {
   "cell_type": "code",
   "execution_count": 65,
   "id": "2a6e2f1c",
   "metadata": {
    "ExecuteTime": {
     "end_time": "2023-11-22T18:45:09.333121Z",
     "start_time": "2023-11-22T18:45:08.650278Z"
    },
    "scrolled": false
   },
   "outputs": [
    {
     "data": {
      "image/png": "[encoded data removed]",
      "text/plain": [
       "<Figure size 1000x500 with 1 Axes>"
      ]
     },
     "metadata": {
      "needs_background": "light"
     },
     "output_type": "display_data"
    },
    {
     "data": {
      "image/png": "[encoded data removed]",
      "text/plain": [
       "<Figure size 1000x500 with 1 Axes>"
      ]
     },
     "metadata": {
      "needs_background": "light"
     },
     "output_type": "display_data"
    },
    {
     "data": {
      "image/png": "[encoded data removed]",
      "text/plain": [
       "<Figure size 1000x500 with 1 Axes>"
      ]
     },
     "metadata": {
      "needs_background": "light"
     },
     "output_type": "display_data"
    },
    {
     "data": {
      "image/png": "[encoded data removed]",
      "text/plain": [
       "<Figure size 1000x500 with 1 Axes>"
      ]
     },
     "metadata": {
      "needs_background": "light"
     },
     "output_type": "display_data"
    },
    {
     "data": {
      "image/png": "[encoded data removed]",
      "text/plain": [
       "<Figure size 1000x500 with 1 Axes>"
      ]
     },
     "metadata": {
      "needs_background": "light"
     },
     "output_type": "display_data"
    },
    {
     "data": {
      "image/png": "[encoded data removed]",
      "text/plain": [
       "<Figure size 1000x500 with 1 Axes>"
      ]
     },
     "metadata": {
      "needs_background": "light"
     },
     "output_type": "display_data"
    },
    {
     "data": {
      "image/png": "[encoded data removed]",
      "text/plain": [
       "<Figure size 1000x500 with 1 Axes>"
      ]
     },
     "metadata": {
      "needs_background": "light"
     },
     "output_type": "display_data"
    }
   ],
   "source": [
    "disease_ix =1\n",
    "net_ix = 7\n",
    "for net_ix in range(1, 8):\n",
    "    kp_idxs = np.bitwise_or(diag_labs==1, diag_labs==6);\n",
    "    cur_Y = diag_labs[kp_idxs];\n",
    "    cur_Xs = Xs[kp_idxs];\n",
    "    cur_X = cur_Xs[:, net_ix-1]\n",
    "    vec1, vec2 = cur_X[cur_Y==1], cur_X[cur_Y==6]\n",
    "    test_res = mannwhitneyu(vec1, vec2)\n",
    "    test_res2 = ttest_ind(vec1, vec2);\n",
    "    \n",
    "    plt.boxplot([vec1, vec2]);\n",
    "    plt.xticks([1, 2], [\"AD\", \"HC\"])\n",
    "    plt.title(f\"{yeo_7nets_dict[net_ix]} (Pval:{test_res.pvalue:.3f})\")\n",
    "    plt.show()\n",
    "    plt.close()"
   ]
  },
  {
   "cell_type": "code",
   "execution_count": null,
   "id": "20760433",
   "metadata": {},
   "outputs": [],
   "source": []
  }
 ],
 "metadata": {
  "kernelspec": {
   "display_name": "Python 3 (ipykernel)",
   "language": "python",
   "name": "python3"
  },
  "language_info": {
   "codemirror_mode": {
    "name": "ipython",
    "version": 3
   },
   "file_extension": ".py",
   "mimetype": "text/x-python",
   "name": "python",
   "nbconvert_exporter": "python",
   "pygments_lexer": "ipython3",
   "version": "3.9.7"
  },
  "toc": {
   "base_numbering": 1,
   "nav_menu": {},
   "number_sections": true,
   "sideBar": true,
   "skip_h1_title": false,
   "title_cell": "Table of Contents",
   "title_sidebar": "Contents",
   "toc_cell": false,
   "toc_position": {
    "height": "calc(100% - 180px)",
    "left": "10px",
    "top": "150px",
    "width": "165px"
   },
   "toc_section_display": true,
   "toc_window_display": true
  }
 },
 "nbformat": 4,
 "nbformat_minor": 5
}
