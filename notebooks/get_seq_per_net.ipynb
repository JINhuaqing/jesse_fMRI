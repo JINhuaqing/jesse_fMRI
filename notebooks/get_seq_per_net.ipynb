{
 "cells": [
  {
   "cell_type": "markdown",
   "id": "55950736-4778-4461-a7e4-6a9323a8d9f5",
   "metadata": {},
   "source": [
    "I divide the seq into 7 networks"
   ]
  },
  {
   "cell_type": "code",
   "execution_count": 13,
   "id": "f6316349-3e91-4ded-92a2-dd20ed6b1b17",
   "metadata": {
    "ExecuteTime": {
     "end_time": "2023-11-16T23:35:36.617392Z",
     "start_time": "2023-11-16T23:35:36.596032Z"
    },
    "execution": {
     "iopub.execute_input": "2023-11-07T03:32:34.768417Z",
     "iopub.status.busy": "2023-11-07T03:32:34.767625Z",
     "iopub.status.idle": "2023-11-07T03:32:34.780452Z",
     "shell.execute_reply": "2023-11-07T03:32:34.778461Z",
     "shell.execute_reply.started": "2023-11-07T03:32:34.768377Z"
    }
   },
   "outputs": [],
   "source": [
    "import sys\n",
    "sys.path.append(\"../mypkg\")"
   ]
  },
  {
   "cell_type": "code",
   "execution_count": 14,
   "id": "761d4b55-4cb4-44a5-a408-1b9cbbc946b7",
   "metadata": {
    "ExecuteTime": {
     "end_time": "2023-11-16T23:35:36.861590Z",
     "start_time": "2023-11-16T23:35:36.843976Z"
    },
    "execution": {
     "iopub.execute_input": "2023-11-07T03:32:34.781850Z",
     "iopub.status.busy": "2023-11-07T03:32:34.781630Z",
     "iopub.status.idle": "2023-11-07T03:32:35.089801Z",
     "shell.execute_reply": "2023-11-07T03:32:35.088893Z",
     "shell.execute_reply.started": "2023-11-07T03:32:34.781825Z"
    }
   },
   "outputs": [],
   "source": [
    "from constants import RES_ROOT, FIG_ROOT, DATA_ROOT\n",
    "from utils.misc import load_pkl, save_pkl, get_ball_cor\n",
    "from utils.colors import qual_cmap"
   ]
  },
  {
   "cell_type": "code",
   "execution_count": 15,
   "id": "2d26dacb",
   "metadata": {
    "ExecuteTime": {
     "end_time": "2023-11-16T23:35:37.077922Z",
     "start_time": "2023-11-16T23:35:37.059462Z"
    }
   },
   "outputs": [
    {
     "name": "stdout",
     "output_type": "stream",
     "text": [
      "The autoreload extension is already loaded. To reload it, use:\n",
      "  %reload_ext autoreload\n"
     ]
    }
   ],
   "source": [
    "%load_ext autoreload\n",
    "%autoreload 2\n",
    "# 0,1, 2, 3, be careful about the space"
   ]
  },
  {
   "cell_type": "code",
   "execution_count": 16,
   "id": "dd91ad51-fb83-4993-85e0-f089b427c9d6",
   "metadata": {
    "ExecuteTime": {
     "end_time": "2023-11-16T23:35:37.298481Z",
     "start_time": "2023-11-16T23:35:37.276246Z"
    },
    "execution": {
     "iopub.execute_input": "2023-11-07T03:32:35.090987Z",
     "iopub.status.busy": "2023-11-07T03:32:35.090684Z",
     "iopub.status.idle": "2023-11-07T03:32:35.553352Z",
     "shell.execute_reply": "2023-11-07T03:32:35.552456Z",
     "shell.execute_reply.started": "2023-11-07T03:32:35.090966Z"
    }
   },
   "outputs": [],
   "source": [
    "import numpy as np\n",
    "import scipy\n",
    "from scipy.io import loadmat\n",
    "from scipy import signal\n",
    "import matplotlib.pyplot as plt\n",
    "import seaborn as sns\n",
    "from tqdm import tqdm, trange\n",
    "import bct # the pkg to get graph features\n",
    "from joblib import Parallel, delayed\n",
    "from easydict import EasyDict as edict\n",
    "import pandas as pd\n",
    "\n",
    "plt.style.use(FIG_ROOT/'base.mplstyle')"
   ]
  },
  {
   "cell_type": "markdown",
   "id": "cd61ced4-9e45-453a-9c53-8a270823a8b2",
   "metadata": {},
   "source": [
    "# Fns and params"
   ]
  },
  {
   "cell_type": "markdown",
   "id": "2a3e0512-46ab-4f06-8b52-05216ec7ec7a",
   "metadata": {},
   "source": [
    "## Some fns"
   ]
  },
  {
   "cell_type": "code",
   "execution_count": 17,
   "id": "94714b2c-d3be-4815-9d74-20d42f0f3f0f",
   "metadata": {
    "ExecuteTime": {
     "end_time": "2023-11-16T23:35:38.549985Z",
     "start_time": "2023-11-16T23:35:38.530845Z"
    },
    "execution": {
     "iopub.execute_input": "2023-11-07T03:32:35.555130Z",
     "iopub.status.busy": "2023-11-07T03:32:35.554810Z",
     "iopub.status.idle": "2023-11-07T03:32:35.560867Z",
     "shell.execute_reply": "2023-11-07T03:32:35.560094Z",
     "shell.execute_reply.started": "2023-11-07T03:32:35.555107Z"
    }
   },
   "outputs": [],
   "source": [
    "def _preprocess_ts(ts):\n",
    "    \"\"\"preprocessing, \n",
    "        1. detrend\n",
    "        2. resample (len of seq has 235 or 555, I make it consistent to 235)\n",
    "    \"\"\"\n",
    "    ts = signal.detrend(ts);\n",
    "    if ts.shape[-1] > 235:\n",
    "        ts = signal.resample(ts, num=235, axis=-1)\n",
    "    return ts\n",
    "    \n",
    "\n",
    "    \n",
    "def _load_data(n):\n",
    "    \"\"\"Sub idx is from 1, n: the sub idx\n",
    "    \"\"\"\n",
    "    return mat_data['ts_321_273'][np.where(mat_data['subj_321_ts'][:, 0] == n)[0], :].transpose()"
   ]
  },
  {
   "cell_type": "markdown",
   "id": "27ceee6d-65f9-4da7-86e1-17d223e51ae5",
   "metadata": {},
   "source": [
    "## Load data and params"
   ]
  },
  {
   "cell_type": "code",
   "execution_count": 18,
   "id": "1b761799-d66a-441b-98f3-f13a2c1b0f0d",
   "metadata": {
    "ExecuteTime": {
     "end_time": "2023-11-16T23:35:55.162299Z",
     "start_time": "2023-11-16T23:35:53.569018Z"
    },
    "execution": {
     "iopub.execute_input": "2023-11-07T03:32:36.451229Z",
     "iopub.status.busy": "2023-11-07T03:32:36.450802Z",
     "iopub.status.idle": "2023-11-07T03:32:37.643145Z",
     "shell.execute_reply": "2023-11-07T03:32:37.642270Z",
     "shell.execute_reply.started": "2023-11-07T03:32:36.451192Z"
    }
   },
   "outputs": [
    {
     "data": {
      "text/plain": [
       "{1: 'Visual',\n",
       " 2: 'Somatomotor',\n",
       " 3: 'Dorsal_Attention',\n",
       " 4: 'Ventral_Attention',\n",
       " 5: 'Limbic',\n",
       " 6: 'Frontoparietal',\n",
       " 7: 'Default'}"
      ]
     },
     "execution_count": 18,
     "metadata": {},
     "output_type": "execute_result"
    }
   ],
   "source": [
    "# load data\n",
    "mat_data = loadmat(DATA_ROOT/\"ad_ftd_hc_fmri_data.mat\");\n",
    "\n",
    "# some parameters\n",
    "\n",
    "num_rois = 246 # the BNA has 246 regions\n",
    "num_sps = 321\n",
    "\n",
    "# get the 7 nets index\n",
    "import pandas as pd\n",
    "labs = pd.read_csv(DATA_ROOT/\"BN246_RegionList.csv\");\n",
    "yeo_7nets_lab = np.array(labs[\"Yeo_7network\"][:246]);\n",
    "\n",
    "yeo_7nets_dict = pd.read_csv(DATA_ROOT/\"yeo_7nets_dict.txt\");\n",
    "yeo_7nets_dict = {yeo_7nets_dict[\"lab\"][ix]:\"_\".join(yeo_7nets_dict[\"name\"][ix].strip().split(\" \"))\n",
    "                  for ix in range(7)}"
   ]
  },
  {
   "cell_type": "code",
   "execution_count": 44,
   "id": "153c4246",
   "metadata": {
    "ExecuteTime": {
     "end_time": "2023-11-17T01:01:30.982200Z",
     "start_time": "2023-11-17T01:01:30.901258Z"
    }
   },
   "outputs": [],
   "source": [
    "jesse_org_order = np.loadtxt(DATA_ROOT/\"jesse_org_order.txt\", dtype=str, delimiter=\",\")[:246];\n",
    "my_file_order = np.array(labs[\"Unnamed: 0\"][:246]);\n",
    "df = pd.DataFrame([jesse_org_order, my_file_order]).T;\n",
    "df.columns = [\"Jesse's\", \"BN official web\"];"
   ]
  },
  {
   "cell_type": "code",
   "execution_count": null,
   "id": "dca6d668",
   "metadata": {},
   "outputs": [],
   "source": []
  },
  {
   "cell_type": "markdown",
   "id": "4b642524",
   "metadata": {},
   "source": [
    "# Get the data\n",
    "\n",
    "divide the ts into 7 nets (with detrend and resample)"
   ]
  },
  {
   "cell_type": "code",
   "execution_count": 7,
   "id": "fa09d724",
   "metadata": {
    "ExecuteTime": {
     "end_time": "2023-11-16T04:16:23.234447Z",
     "start_time": "2023-11-16T04:16:21.801307Z"
    }
   },
   "outputs": [],
   "source": [
    "from collections import defaultdict as ddict\n",
    "sub_ix = 1\n",
    "yeo_7nets_ts = ddict(list)\n",
    "for sub_ix in range(1, num_sps+1):\n",
    "    ts = _load_data(sub_ix)[:num_rois]\n",
    "    ts = _preprocess_ts(ts)\n",
    "    for net_ix in range(1, 8):\n",
    "        yeo_7nets_ts[yeo_7nets_dict[net_ix]].append(ts[yeo_7nets_lab==net_ix])"
   ]
  },
  {
   "cell_type": "code",
   "execution_count": 8,
   "id": "018830cd",
   "metadata": {
    "ExecuteTime": {
     "end_time": "2023-11-16T04:17:16.138662Z",
     "start_time": "2023-11-16T04:17:15.245681Z"
    }
   },
   "outputs": [
    {
     "name": "stdout",
     "output_type": "stream",
     "text": [
      "Save to /data/rajlab1/user_data/jin/MyResearch/jesse_data/notebooks/../mypkg/../data/ad_ftd_hc_fmri_data_7nets.pkl\n"
     ]
    }
   ],
   "source": [
    "save_pkl(DATA_ROOT/\"ad_ftd_hc_fmri_data_7nets.pkl\", yeo_7nets_ts)"
   ]
  },
  {
   "cell_type": "code",
   "execution_count": null,
   "id": "7dc0ffbf",
   "metadata": {},
   "outputs": [],
   "source": []
  }
 ],
 "metadata": {
  "kernelspec": {
   "display_name": "Python 3 (ipykernel)",
   "language": "python",
   "name": "python3"
  },
  "language_info": {
   "codemirror_mode": {
    "name": "ipython",
    "version": 3
   },
   "file_extension": ".py",
   "mimetype": "text/x-python",
   "name": "python",
   "nbconvert_exporter": "python",
   "pygments_lexer": "ipython3",
   "version": "3.9.7"
  },
  "toc": {
   "base_numbering": 1,
   "nav_menu": {},
   "number_sections": true,
   "sideBar": true,
   "skip_h1_title": false,
   "title_cell": "Table of Contents",
   "title_sidebar": "Contents",
   "toc_cell": false,
   "toc_position": {
    "height": "calc(100% - 180px)",
    "left": "10px",
    "top": "150px",
    "width": "345.797px"
   },
   "toc_section_display": true,
   "toc_window_display": true
  }
 },
 "nbformat": 4,
 "nbformat_minor": 5
}
