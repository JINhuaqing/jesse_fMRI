{
 "cells": [
  {
   "cell_type": "markdown",
   "id": "55950736-4778-4461-a7e4-6a9323a8d9f5",
   "metadata": {},
   "source": [
    "Extract PSD feature and also include 7 nets analysis"
   ]
  },
  {
   "cell_type": "code",
   "execution_count": 1,
   "id": "f6316349-3e91-4ded-92a2-dd20ed6b1b17",
   "metadata": {
    "ExecuteTime": {
     "end_time": "2023-11-17T22:17:02.030411Z",
     "start_time": "2023-11-17T22:17:02.014258Z"
    },
    "execution": {
     "iopub.execute_input": "2023-11-07T18:49:31.819632Z",
     "iopub.status.busy": "2023-11-07T18:49:31.819168Z",
     "iopub.status.idle": "2023-11-07T18:49:31.832121Z",
     "shell.execute_reply": "2023-11-07T18:49:31.830850Z",
     "shell.execute_reply.started": "2023-11-07T18:49:31.819592Z"
    }
   },
   "outputs": [],
   "source": [
    "import sys\n",
    "sys.path.append(\"../mypkg\")"
   ]
  },
  {
   "cell_type": "code",
   "execution_count": 2,
   "id": "761d4b55-4cb4-44a5-a408-1b9cbbc946b7",
   "metadata": {
    "ExecuteTime": {
     "end_time": "2023-11-17T22:17:07.921425Z",
     "start_time": "2023-11-17T22:17:02.606392Z"
    },
    "execution": {
     "iopub.execute_input": "2023-11-07T18:49:31.833327Z",
     "iopub.status.busy": "2023-11-07T18:49:31.833025Z",
     "iopub.status.idle": "2023-11-07T18:49:32.147077Z",
     "shell.execute_reply": "2023-11-07T18:49:32.146390Z",
     "shell.execute_reply.started": "2023-11-07T18:49:31.833301Z"
    }
   },
   "outputs": [],
   "source": [
    "from constants import RES_ROOT, FIG_ROOT, DATA_ROOT\n",
    "from utils.misc import load_pkl, save_pkl\n",
    "from utils.colors import qual_cmap"
   ]
  },
  {
   "cell_type": "code",
   "execution_count": 3,
   "id": "dd91ad51-fb83-4993-85e0-f089b427c9d6",
   "metadata": {
    "ExecuteTime": {
     "end_time": "2023-11-17T22:17:10.234391Z",
     "start_time": "2023-11-17T22:17:07.923194Z"
    },
    "execution": {
     "iopub.execute_input": "2023-11-07T18:49:32.148231Z",
     "iopub.status.busy": "2023-11-07T18:49:32.147913Z",
     "iopub.status.idle": "2023-11-07T18:49:32.608337Z",
     "shell.execute_reply": "2023-11-07T18:49:32.607525Z",
     "shell.execute_reply.started": "2023-11-07T18:49:32.148208Z"
    }
   },
   "outputs": [],
   "source": [
    "import numpy as np\n",
    "import scipy\n",
    "from scipy.io import loadmat\n",
    "from scipy import signal\n",
    "import matplotlib.pyplot as plt\n",
    "import seaborn as sns\n",
    "from tqdm import tqdm, trange\n",
    "import bct # the pkg to get graph features\n",
    "from joblib import Parallel, delayed\n",
    "from easydict import EasyDict as edict\n",
    "import pandas as pd\n",
    "\n",
    "plt.style.use(FIG_ROOT/'base.mplstyle')"
   ]
  },
  {
   "cell_type": "markdown",
   "id": "cd61ced4-9e45-453a-9c53-8a270823a8b2",
   "metadata": {},
   "source": [
    "# Fns and params"
   ]
  },
  {
   "cell_type": "markdown",
   "id": "2a3e0512-46ab-4f06-8b52-05216ec7ec7a",
   "metadata": {},
   "source": [
    "## Some fns"
   ]
  },
  {
   "cell_type": "code",
   "execution_count": 4,
   "id": "d29d1acc",
   "metadata": {
    "ExecuteTime": {
     "end_time": "2023-11-17T22:17:10.357329Z",
     "start_time": "2023-11-17T22:17:10.286085Z"
    }
   },
   "outputs": [],
   "source": [
    "from prettytable import PrettyTable as PT\n",
    "from scipy.stats import f_oneway, ttest_ind \n",
    "\n",
    "def _get_test_tb(res_df):\n",
    "    tb = PT()\n",
    "    tb.field_names = [\"Test\", \"Pval\", \"Effect size\"]\n",
    "    \n",
    "    HC = res_df[\"metric\"][res_df[\"diagnosis\"]==6]\n",
    "    \n",
    "    def indicator(pval):\n",
    "        if pval < 0.05:\n",
    "            return \"*\"\n",
    "        else:\n",
    "            return \"\"\n",
    "    # list all disease\n",
    "    for diag_ix in range(1, 6):\n",
    "        DS = res_df[\"metric\"][res_df[\"diagnosis\"]==diag_ix]\n",
    "        ttest_res = ttest_ind(DS, HC)\n",
    "        effect_size = (np.mean(DS)-np.mean(HC))/np.std(np.concatenate([DS, HC]), ddof=2)\n",
    "        tb.add_row([f\"{indicator(ttest_res.pvalue)}{diag_lab_mapping[diag_ix]} vs HC\", \n",
    "                      f\"{ttest_res.pvalue:>6.3f}\", \n",
    "                      f\"{effect_size:>6.3f}\"])\n",
    "    \n",
    "    # pool 5 diseases together\n",
    "    DS = res_df[\"metric\"][res_df[\"diagnosis\"]!=6]\n",
    "    ttest_res = ttest_ind(DS, HC)\n",
    "    effect_size = (np.mean(DS)-np.mean(HC))/np.std(np.concatenate([DS, HC]), ddof=2)\n",
    "    tb.add_row([f\"{indicator(ttest_res.pvalue)}Dementia vs HC\", \n",
    "                f\"{ttest_res.pvalue:>6.3f}\", \n",
    "                f\"{effect_size:>6.3f}\"])\n",
    "    \n",
    "    # anova\n",
    "    metric_grp = [res_df[\"metric\"][res_df[\"diagnosis\"]==grp_ix] for grp_ix in range(1, 7)]\n",
    "    anova_res = f_oneway(*metric_grp)\n",
    "    tb.add_row([f\"{indicator(anova_res.pvalue)}ANOVA\", \n",
    "                f\"{anova_res.pvalue:>6.3f}\", \n",
    "                f\"\"])\n",
    "    tb.align[\"Test\"] = \"r\"\n",
    "    tb.align[\"Pval\"] = \"c\"\n",
    "    tb.align[\"Effect size\"] = \"c\"\n",
    "    return tb"
   ]
  },
  {
   "cell_type": "code",
   "execution_count": 5,
   "id": "94714b2c-d3be-4815-9d74-20d42f0f3f0f",
   "metadata": {
    "ExecuteTime": {
     "end_time": "2023-11-17T22:17:10.368307Z",
     "start_time": "2023-11-17T22:17:10.359536Z"
    },
    "execution": {
     "iopub.execute_input": "2023-11-07T18:49:32.610133Z",
     "iopub.status.busy": "2023-11-07T18:49:32.609812Z",
     "iopub.status.idle": "2023-11-07T18:49:32.614945Z",
     "shell.execute_reply": "2023-11-07T18:49:32.614233Z",
     "shell.execute_reply.started": "2023-11-07T18:49:32.610110Z"
    }
   },
   "outputs": [],
   "source": [
    "def _preprocess_ts(ts):\n",
    "    \"\"\"preprocessing, \n",
    "        1. detrend\n",
    "        2. resample (len of seq has 235 or 555, I make it consistent to 235)\n",
    "    \"\"\"\n",
    "    ts = signal.detrend(ts);\n",
    "    if ts.shape[-1] > 235:\n",
    "        ts = signal.resample(ts, num=235, axis=-1)\n",
    "    return ts\n",
    "    \n",
    "\n",
    "    \n",
    "def _load_data(n):\n",
    "    \"\"\"Sub idx is from 1, n: the sub idx\n",
    "    \"\"\"\n",
    "    return mat_data['ts_321_273'][np.where(mat_data['subj_321_ts'][:, 0] == n)[0], :].transpose()"
   ]
  },
  {
   "cell_type": "code",
   "execution_count": 6,
   "id": "cc4cbd77-e97c-4c08-af98-0795a8151a49",
   "metadata": {
    "ExecuteTime": {
     "end_time": "2023-11-17T22:17:10.657568Z",
     "start_time": "2023-11-17T22:17:10.401164Z"
    },
    "execution": {
     "iopub.execute_input": "2023-11-07T18:49:32.616004Z",
     "iopub.status.busy": "2023-11-07T18:49:32.615750Z",
     "iopub.status.idle": "2023-11-07T18:49:32.622548Z",
     "shell.execute_reply": "2023-11-07T18:49:32.621868Z",
     "shell.execute_reply.started": "2023-11-07T18:49:32.615982Z"
    }
   },
   "outputs": [],
   "source": [
    "def get_psd(ts, freq_lmts=[0.008, 0.08]):\n",
    "    \"\"\"\n",
    "    Computes the power spectral density (PSD) of a given time series using Welch's method.\n",
    "    \n",
    "    Parameters:\n",
    "    -----------\n",
    "    ts : numpy.ndarray\n",
    "        The time series data. Shape: (n_channels, n_samples).\n",
    "    freq_lmts : list, optional\n",
    "        The frequency limits (in Hz) to compute the PSD. Default: [0.008, 0.08].\n",
    "    \n",
    "    Returns:\n",
    "    --------\n",
    "    fs : numpy.ndarray\n",
    "        The frequency values (in Hz) of the PSD. Shape: (n_freqs,).\n",
    "    psds_dB_sm : numpy.ndarray\n",
    "        The PSD values (in dB) of the time series data after smoothing. Shape: (n_channels, n_freqs).\n",
    "    \"\"\"\n",
    "    lpf = np.array([1, 2, 5, 2, 1]) \n",
    "    lpf = lpf/np.sum(lpf)\n",
    "    ac_time = 485\n",
    "    fs, psds = welch(ts, fs=ts.shape[1]/ac_time, nperseg=int(ts.shape[1]/2))\n",
    "    psds_dB = 10*np.log10(psds) # to dB\n",
    "    psds_dB_sm = []\n",
    "    for roi_ix in range(ts.shape[0]):\n",
    "        psds_dB_sm.append(np.convolve(psds_dB[roi_ix],lpf,'same'))\n",
    "    psds_dB_sm = np.array(psds_dB_sm)\n",
    "    kpidxs = np.bitwise_and(fs>=freq_lmts[0], fs<=freq_lmts[1])\n",
    "    return fs[kpidxs], psds_dB_sm[:, kpidxs]\n",
    "    "
   ]
  },
  {
   "cell_type": "markdown",
   "id": "27ceee6d-65f9-4da7-86e1-17d223e51ae5",
   "metadata": {},
   "source": [
    "## Load data and params"
   ]
  },
  {
   "cell_type": "code",
   "execution_count": 21,
   "id": "1b761799-d66a-441b-98f3-f13a2c1b0f0d",
   "metadata": {
    "ExecuteTime": {
     "end_time": "2023-11-18T05:28:41.955948Z",
     "start_time": "2023-11-18T05:28:40.311679Z"
    },
    "execution": {
     "iopub.execute_input": "2023-11-07T18:49:33.268372Z",
     "iopub.status.busy": "2023-11-07T18:49:33.267972Z",
     "iopub.status.idle": "2023-11-07T18:49:34.451643Z",
     "shell.execute_reply": "2023-11-07T18:49:34.450810Z",
     "shell.execute_reply.started": "2023-11-07T18:49:33.268336Z"
    }
   },
   "outputs": [
    {
     "data": {
      "text/plain": [
       "{1: 'AD', 2: 'bvFTD', 3: 'CBS', 4: 'nfvPPA', 5: 'svPPA', 6: 'HC'}"
      ]
     },
     "execution_count": 21,
     "metadata": {},
     "output_type": "execute_result"
    }
   ],
   "source": [
    "# load data\n",
    "mat_data = loadmat(DATA_ROOT/\"ad_ftd_hc_fmri_data.mat\");\n",
    "\n",
    "# some parameters\n",
    "\n",
    "num_rois = 246 # the BNA has 246 regions\n",
    "num_sps = 321\n",
    "ac_time = 485\n",
    "\n",
    "labs = pd.read_csv(DATA_ROOT/\"BN246_RegionList.csv\");\n",
    "yeo_7nets_lab = np.array(labs[\"Yeo_7network\"][:246]);\n",
    "\n",
    "yeo_7nets_dict = pd.read_csv(DATA_ROOT/\"yeo_7nets_dict.txt\");\n",
    "yeo_7nets_dict = {yeo_7nets_dict[\"lab\"][ix]:\"_\".join(yeo_7nets_dict[\"name\"][ix].strip().split(\" \"))\n",
    "                  for ix in range(7)}\n",
    "\n",
    "diag_labs = mat_data[\"dx_321\"].reshape(-1)\n",
    "sex_labs = mat_data[\"sex_321\"].reshape(-1)\n",
    "mmse_scores = mat_data[\"mmse_321\"].reshape(-1)\n",
    "diag_lab_mapping = {\n",
    " 1: \"AD\",\n",
    " 2: \"bvFTD\",\n",
    " 3: \"CBS\", \n",
    " 4: \"nfvPPA\", \n",
    " 5: \"svPPA\", \n",
    " 6: \"HC\"\n",
    "}"
   ]
  },
  {
   "cell_type": "markdown",
   "id": "fda00dcf-e4a1-42e8-bac6-d064a08a8c6b",
   "metadata": {},
   "source": [
    "# Get features"
   ]
  },
  {
   "cell_type": "code",
   "execution_count": 8,
   "id": "04020b8d-df63-4a9c-bd5b-dacf65419958",
   "metadata": {
    "ExecuteTime": {
     "end_time": "2023-11-18T05:23:39.234522Z",
     "start_time": "2023-11-18T05:23:39.230049Z"
    },
    "execution": {
     "iopub.execute_input": "2023-11-07T06:53:20.753159Z",
     "iopub.status.busy": "2023-11-07T06:53:20.752700Z",
     "iopub.status.idle": "2023-11-07T06:53:20.757361Z",
     "shell.execute_reply": "2023-11-07T06:53:20.756431Z",
     "shell.execute_reply.started": "2023-11-07T06:53:20.753122Z"
    }
   },
   "outputs": [
    {
     "data": {
      "text/plain": [
       "0.08"
      ]
     },
     "execution_count": 8,
     "metadata": {},
     "output_type": "execute_result"
    }
   ],
   "source": [
    "from scipy.signal import welch\n",
    "\n",
    "lfreq = 0.008\n",
    "hfreq = 0.08"
   ]
  },
  {
   "cell_type": "code",
   "execution_count": 11,
   "id": "1f642529-6b5f-4b5c-8b0d-a7c4848b25bf",
   "metadata": {
    "execution": {
     "iopub.execute_input": "2023-11-07T06:53:35.400945Z",
     "iopub.status.busy": "2023-11-07T06:53:35.400378Z",
     "iopub.status.idle": "2023-11-07T06:53:37.252387Z",
     "shell.execute_reply": "2023-11-07T06:53:37.251810Z",
     "shell.execute_reply.started": "2023-11-07T06:53:35.400908Z"
    }
   },
   "outputs": [
    {
     "name": "stderr",
     "output_type": "stream",
     "text": [
      "100%|███████████████████████████████████████████████████████████████████████████████████████████████████████████████████████████████████████| 321/321 [00:01<00:00, 174.16it/s]\n"
     ]
    }
   ],
   "source": [
    "all_psds_dB = []\n",
    "for sub_ix in trange(1, num_sps+1):\n",
    "    ts = _load_data(sub_ix)[:num_rois]\n",
    "    ts = _preprocess_ts(ts);\n",
    "    fs, psds_dB = get_psd(ts)\n",
    "    all_psds_dB.append([fs, psds_dB])\n",
    "save_pkl(RES_ROOT/\"psds.pkl\", all_psds_dB)"
   ]
  },
  {
   "cell_type": "code",
   "execution_count": null,
   "id": "e43adf72-efaf-4db4-9bf1-57fff06d11fb",
   "metadata": {},
   "outputs": [],
   "source": []
  },
  {
   "cell_type": "markdown",
   "id": "841c0eb2-264a-4f7a-be32-15836a9c914d",
   "metadata": {},
   "source": [
    "# Analysis"
   ]
  },
  {
   "cell_type": "code",
   "execution_count": 9,
   "id": "2627bcb7-72f5-4742-b31a-eb4549c9c06a",
   "metadata": {
    "ExecuteTime": {
     "end_time": "2023-11-18T05:23:43.525298Z",
     "start_time": "2023-11-18T05:23:43.299180Z"
    },
    "execution": {
     "iopub.execute_input": "2023-11-07T18:49:38.518279Z",
     "iopub.status.busy": "2023-11-07T18:49:38.517879Z",
     "iopub.status.idle": "2023-11-07T18:49:38.532380Z",
     "shell.execute_reply": "2023-11-07T18:49:38.531536Z",
     "shell.execute_reply.started": "2023-11-07T18:49:38.518243Z"
    }
   },
   "outputs": [
    {
     "name": "stdout",
     "output_type": "stream",
     "text": [
      "Load file /data/rajlab1/user_data/jin/MyResearch/jesse_data/notebooks/../mypkg/../results/psds.pkl\n"
     ]
    }
   ],
   "source": [
    "all_psds_dB = load_pkl(RES_ROOT/\"psds.pkl\");"
   ]
  },
  {
   "cell_type": "code",
   "execution_count": 11,
   "id": "b59e42fb-51d3-4a0b-add2-1f0758f729d5",
   "metadata": {
    "ExecuteTime": {
     "end_time": "2023-11-18T05:23:47.760648Z",
     "start_time": "2023-11-18T05:23:47.757650Z"
    },
    "execution": {
     "iopub.execute_input": "2023-11-07T18:49:38.808119Z",
     "iopub.status.busy": "2023-11-07T18:49:38.807723Z",
     "iopub.status.idle": "2023-11-07T18:49:38.812173Z",
     "shell.execute_reply": "2023-11-07T18:49:38.811307Z",
     "shell.execute_reply.started": "2023-11-07T18:49:38.808083Z"
    }
   },
   "outputs": [],
   "source": [
    "fs = all_psds_dB[0][0];"
   ]
  },
  {
   "cell_type": "code",
   "execution_count": null,
   "id": "3c2e9b31-3050-4165-8a2a-d43bbf8735d2",
   "metadata": {},
   "outputs": [],
   "source": []
  },
  {
   "cell_type": "markdown",
   "id": "6f23f61c",
   "metadata": {},
   "source": [
    "## In a whole"
   ]
  },
  {
   "cell_type": "markdown",
   "id": "741e53f3-dde2-47f4-adf9-f54c85d6f2b2",
   "metadata": {},
   "source": [
    "### Mean power across freq"
   ]
  },
  {
   "cell_type": "code",
   "execution_count": 19,
   "id": "657d6b00-b4ab-4123-8283-0e71e0eb029b",
   "metadata": {
    "ExecuteTime": {
     "end_time": "2023-11-18T05:27:32.387583Z",
     "start_time": "2023-11-18T05:27:32.377142Z"
    },
    "execution": {
     "iopub.execute_input": "2023-11-07T17:56:55.963386Z",
     "iopub.status.busy": "2023-11-07T17:56:55.963005Z",
     "iopub.status.idle": "2023-11-07T17:56:55.975191Z",
     "shell.execute_reply": "2023-11-07T17:56:55.974560Z",
     "shell.execute_reply.started": "2023-11-07T17:56:55.963349Z"
    }
   },
   "outputs": [],
   "source": [
    "mpsds_dB = np.array([ psds_dB[1].mean(axis=-1) for psds_dB in all_psds_dB]);"
   ]
  },
  {
   "cell_type": "code",
   "execution_count": 32,
   "id": "f8059be7-f602-492a-9508-91bc2ad678ec",
   "metadata": {
    "ExecuteTime": {
     "end_time": "2023-11-18T05:31:50.061751Z",
     "start_time": "2023-11-18T05:31:50.046842Z"
    },
    "execution": {
     "iopub.execute_input": "2023-11-07T06:57:47.757047Z",
     "iopub.status.busy": "2023-11-07T06:57:47.756596Z",
     "iopub.status.idle": "2023-11-07T06:57:47.913156Z",
     "shell.execute_reply": "2023-11-07T06:57:47.912388Z",
     "shell.execute_reply.started": "2023-11-07T06:57:47.757009Z"
    }
   },
   "outputs": [
    {
     "name": "stdout",
     "output_type": "stream",
     "text": [
      "Mean power\n"
     ]
    },
    {
     "data": {
      "text/html": [
       "<table>\n",
       "    <thead>\n",
       "        <tr>\n",
       "            <th>Test</th>\n",
       "            <th>Pval</th>\n",
       "            <th>Effect size</th>\n",
       "        </tr>\n",
       "    </thead>\n",
       "    <tbody>\n",
       "        <tr>\n",
       "            <td>AD vs HC</td>\n",
       "            <td> 0.417</td>\n",
       "            <td> 0.121</td>\n",
       "        </tr>\n",
       "        <tr>\n",
       "            <td>bvFTD vs HC</td>\n",
       "            <td> 0.354</td>\n",
       "            <td>-0.172</td>\n",
       "        </tr>\n",
       "        <tr>\n",
       "            <td>CBS vs HC</td>\n",
       "            <td> 0.169</td>\n",
       "            <td>-0.298</td>\n",
       "        </tr>\n",
       "        <tr>\n",
       "            <td>nfvPPA vs HC</td>\n",
       "            <td> 0.091</td>\n",
       "            <td>-0.334</td>\n",
       "        </tr>\n",
       "        <tr>\n",
       "            <td>svPPA vs HC</td>\n",
       "            <td> 0.190</td>\n",
       "            <td>-0.252</td>\n",
       "        </tr>\n",
       "        <tr>\n",
       "            <td>Dementia vs HC</td>\n",
       "            <td> 0.302</td>\n",
       "            <td>-0.124</td>\n",
       "        </tr>\n",
       "        <tr>\n",
       "            <td>ANOVA</td>\n",
       "            <td> 0.083</td>\n",
       "            <td></td>\n",
       "        </tr>\n",
       "    </tbody>\n",
       "</table>"
      ],
      "text/plain": [
       "+----------------+--------+-------------+\n",
       "|           Test |  Pval  | Effect size |\n",
       "+----------------+--------+-------------+\n",
       "|       AD vs HC |  0.417 |     0.121   |\n",
       "|    bvFTD vs HC |  0.354 |    -0.172   |\n",
       "|      CBS vs HC |  0.169 |    -0.298   |\n",
       "|   nfvPPA vs HC |  0.091 |    -0.334   |\n",
       "|    svPPA vs HC |  0.190 |    -0.252   |\n",
       "| Dementia vs HC |  0.302 |    -0.124   |\n",
       "|          ANOVA |  0.083 |             |\n",
       "+----------------+--------+-------------+"
      ]
     },
     "execution_count": 32,
     "metadata": {},
     "output_type": "execute_result"
    }
   ],
   "source": [
    "metrics = mpsds_dB.mean(axis=-1)\n",
    "\n",
    "res_df = pd.DataFrame({\n",
    "    \"metric\": metrics, \n",
    "    \"sex\": sex_labs, \n",
    "    \"diagnosis\": diag_labs\n",
    "})\n",
    "res_df[\"diagnosis1\"] = res_df[\"diagnosis\"].map(diag_lab_mapping)\n",
    "print(\"Mean power\")\n",
    "_get_test_tb(res_df)"
   ]
  },
  {
   "cell_type": "code",
   "execution_count": 33,
   "id": "429e3422-8334-4681-9f10-9e72b422ccea",
   "metadata": {
    "ExecuteTime": {
     "end_time": "2023-11-18T05:31:50.761367Z",
     "start_time": "2023-11-18T05:31:50.747205Z"
    },
    "execution": {
     "iopub.execute_input": "2023-11-07T06:58:07.056334Z",
     "iopub.status.busy": "2023-11-07T06:58:07.055922Z",
     "iopub.status.idle": "2023-11-07T06:58:07.203968Z",
     "shell.execute_reply": "2023-11-07T06:58:07.203422Z",
     "shell.execute_reply.started": "2023-11-07T06:58:07.056297Z"
    }
   },
   "outputs": [
    {
     "name": "stdout",
     "output_type": "stream",
     "text": [
      "Power std\n"
     ]
    },
    {
     "data": {
      "text/html": [
       "<table>\n",
       "    <thead>\n",
       "        <tr>\n",
       "            <th>Test</th>\n",
       "            <th>Pval</th>\n",
       "            <th>Effect size</th>\n",
       "        </tr>\n",
       "    </thead>\n",
       "    <tbody>\n",
       "        <tr>\n",
       "            <td>AD vs HC</td>\n",
       "            <td> 0.199</td>\n",
       "            <td> 0.191</td>\n",
       "        </tr>\n",
       "        <tr>\n",
       "            <td>bvFTD vs HC</td>\n",
       "            <td> 0.058</td>\n",
       "            <td> 0.350</td>\n",
       "        </tr>\n",
       "        <tr>\n",
       "            <td>CBS vs HC</td>\n",
       "            <td> 0.529</td>\n",
       "            <td> 0.137</td>\n",
       "        </tr>\n",
       "        <tr>\n",
       "            <td>nfvPPA vs HC</td>\n",
       "            <td> 0.619</td>\n",
       "            <td>-0.099</td>\n",
       "        </tr>\n",
       "        <tr>\n",
       "            <td>svPPA vs HC</td>\n",
       "            <td> 0.718</td>\n",
       "            <td> 0.069</td>\n",
       "        </tr>\n",
       "        <tr>\n",
       "            <td>Dementia vs HC</td>\n",
       "            <td> 0.235</td>\n",
       "            <td> 0.143</td>\n",
       "        </tr>\n",
       "        <tr>\n",
       "            <td>ANOVA</td>\n",
       "            <td> 0.355</td>\n",
       "            <td></td>\n",
       "        </tr>\n",
       "    </tbody>\n",
       "</table>"
      ],
      "text/plain": [
       "+----------------+--------+-------------+\n",
       "|           Test |  Pval  | Effect size |\n",
       "+----------------+--------+-------------+\n",
       "|       AD vs HC |  0.199 |     0.191   |\n",
       "|    bvFTD vs HC |  0.058 |     0.350   |\n",
       "|      CBS vs HC |  0.529 |     0.137   |\n",
       "|   nfvPPA vs HC |  0.619 |    -0.099   |\n",
       "|    svPPA vs HC |  0.718 |     0.069   |\n",
       "| Dementia vs HC |  0.235 |     0.143   |\n",
       "|          ANOVA |  0.355 |             |\n",
       "+----------------+--------+-------------+"
      ]
     },
     "execution_count": 33,
     "metadata": {},
     "output_type": "execute_result"
    }
   ],
   "source": [
    "metrics = mpsds_dB.std(axis=-1)\n",
    "\n",
    "res_df = pd.DataFrame({\n",
    "    \"metric\": metrics, \n",
    "    \"sex\": sex_labs, \n",
    "    \"diagnosis\": diag_labs\n",
    "})\n",
    "res_df[\"diagnosis1\"] = res_df[\"diagnosis\"].map(diag_lab_mapping)\n",
    "print(\"Power std\")\n",
    "_get_test_tb(res_df)"
   ]
  },
  {
   "cell_type": "code",
   "execution_count": 34,
   "id": "0705de33-75cc-4f45-9b95-fc4048c4ea35",
   "metadata": {
    "ExecuteTime": {
     "end_time": "2023-11-18T05:31:53.435892Z",
     "start_time": "2023-11-18T05:31:52.806885Z"
    },
    "execution": {
     "iopub.execute_input": "2023-11-07T07:00:44.841582Z",
     "iopub.status.busy": "2023-11-07T07:00:44.841243Z",
     "iopub.status.idle": "2023-11-07T07:00:45.103133Z",
     "shell.execute_reply": "2023-11-07T07:00:45.102395Z",
     "shell.execute_reply.started": "2023-11-07T07:00:44.841559Z"
    }
   },
   "outputs": [
    {
     "data": {
      "text/plain": [
       "Text(0.5, 0, 'ROI')"
      ]
     },
     "execution_count": 34,
     "metadata": {},
     "output_type": "execute_result"
    },
    {
     "data": {
      "image/png": "[encoded data removed]",
      "text/plain": [
       "<Figure size 1000x500 with 1 Axes>"
      ]
     },
     "metadata": {
      "needs_background": "light"
     },
     "output_type": "display_data"
    }
   ],
   "source": [
    "pvals = []\n",
    "tpvals = []\n",
    "for roi_ix in range(num_rois):\n",
    "    metrics = mpsds_dB[:, roi_ix]\n",
    "    metric_grp = [metrics[diag_labs==grp_ix] for grp_ix in range(1, 7)]\n",
    "    anova_res = f_oneway(*metric_grp)\n",
    "    metric_t = [metrics[diag_labs==grp_ix] for grp_ix in [1, 6]]\n",
    "    ttest_res = ttest_ind(*metric_t)\n",
    "    pvals.append(anova_res.pvalue)\n",
    "    tpvals.append(ttest_res.pvalue)\n",
    "pvals = np.array(pvals)\n",
    "tpvals = np.array(tpvals)\n",
    "\n",
    "plt.plot(pvals, \"r.\")\n",
    "plt.yscale(\"log\")\n",
    "plt.axhline(y=0.05/num_rois)\n",
    "plt.title(\"ANOVA for regional PSD power\")\n",
    "plt.ylabel(\"Pval \")\n",
    "plt.xlabel(\"ROI\")"
   ]
  },
  {
   "cell_type": "code",
   "execution_count": 35,
   "id": "e48c9fd6-49ae-4cfb-a69c-ffa640b4af15",
   "metadata": {
    "ExecuteTime": {
     "end_time": "2023-11-18T05:31:54.801770Z",
     "start_time": "2023-11-18T05:31:54.500768Z"
    },
    "execution": {
     "iopub.execute_input": "2023-11-07T07:01:06.490026Z",
     "iopub.status.busy": "2023-11-07T07:01:06.489615Z",
     "iopub.status.idle": "2023-11-07T07:01:06.797667Z",
     "shell.execute_reply": "2023-11-07T07:01:06.796959Z",
     "shell.execute_reply.started": "2023-11-07T07:01:06.489988Z"
    }
   },
   "outputs": [
    {
     "data": {
      "text/plain": [
       "Text(0.5, 0, 'ROI')"
      ]
     },
     "execution_count": 35,
     "metadata": {},
     "output_type": "execute_result"
    },
    {
     "data": {
      "image/png": "[encoded data removed]",
      "text/plain": [
       "<Figure size 1000x500 with 1 Axes>"
      ]
     },
     "metadata": {
      "needs_background": "light"
     },
     "output_type": "display_data"
    }
   ],
   "source": [
    "plt.plot(tpvals, \"r.\")\n",
    "plt.yscale(\"log\")\n",
    "plt.axhline(y=0.05/num_rois)\n",
    "plt.title(\"ttest for AD vs Ctrl\")\n",
    "plt.ylabel(\"Pval\")\n",
    "plt.xlabel(\"ROI\")"
   ]
  },
  {
   "cell_type": "code",
   "execution_count": null,
   "id": "1c33f545",
   "metadata": {},
   "outputs": [],
   "source": []
  },
  {
   "cell_type": "code",
   "execution_count": 42,
   "id": "7a82d22c",
   "metadata": {
    "ExecuteTime": {
     "end_time": "2023-11-18T05:33:51.223787Z",
     "start_time": "2023-11-18T05:33:51.216470Z"
    }
   },
   "outputs": [
    {
     "name": "stdout",
     "output_type": "stream",
     "text": [
      "0.18332068132735035\n",
      "0.020373154045538504\n",
      "0.3271983924086475\n",
      "0.06051222083877772\n",
      "0.25084080231743444\n",
      "0.3482074769453217\n",
      "0.2738733933625558\n"
     ]
    }
   ],
   "source": [
    "for net_ix in range(1, 8):\n",
    "    print(np.median(pvals[yeo_7nets_lab==net_ix]))"
   ]
  },
  {
   "cell_type": "code",
   "execution_count": 43,
   "id": "8e9dc265",
   "metadata": {
    "ExecuteTime": {
     "end_time": "2023-11-18T05:33:59.085719Z",
     "start_time": "2023-11-18T05:33:59.080681Z"
    }
   },
   "outputs": [
    {
     "name": "stdout",
     "output_type": "stream",
     "text": [
      "0.1253382345070683\n",
      "0.27244231979897604\n",
      "0.4078748085781653\n",
      "0.5462621622733151\n",
      "0.5541364611158385\n",
      "0.472679227006269\n",
      "0.46420657537216553\n"
     ]
    }
   ],
   "source": [
    "for net_ix in range(1, 8):\n",
    "    print(np.median(tpvals[yeo_7nets_lab==net_ix]))"
   ]
  },
  {
   "cell_type": "code",
   "execution_count": null,
   "id": "3c7ef341",
   "metadata": {},
   "outputs": [],
   "source": []
  },
  {
   "cell_type": "markdown",
   "id": "b45bdfc9-4357-4140-a1a4-1a3ba9dfae96",
   "metadata": {
    "execution": {
     "iopub.execute_input": "2023-11-07T18:37:24.973312Z",
     "iopub.status.busy": "2023-11-07T18:37:24.972968Z",
     "iopub.status.idle": "2023-11-07T18:37:24.976194Z",
     "shell.execute_reply": "2023-11-07T18:37:24.975605Z",
     "shell.execute_reply.started": "2023-11-07T18:37:24.973289Z"
    }
   },
   "source": [
    "### Mean power across ROI"
   ]
  },
  {
   "cell_type": "code",
   "execution_count": 13,
   "id": "86ddc981-6543-42f8-b1f7-ed75b5f88937",
   "metadata": {
    "ExecuteTime": {
     "end_time": "2023-11-18T05:24:49.697705Z",
     "start_time": "2023-11-18T05:24:49.688603Z"
    },
    "execution": {
     "iopub.execute_input": "2023-11-07T18:49:47.838538Z",
     "iopub.status.busy": "2023-11-07T18:49:47.838149Z",
     "iopub.status.idle": "2023-11-07T18:49:47.850923Z",
     "shell.execute_reply": "2023-11-07T18:49:47.850101Z",
     "shell.execute_reply.started": "2023-11-07T18:49:47.838501Z"
    }
   },
   "outputs": [],
   "source": [
    "mpsds_dB_roi = np.array([psds[1].mean(axis=0) for psds in all_psds_dB]);"
   ]
  },
  {
   "cell_type": "code",
   "execution_count": 14,
   "id": "6a1096c0-38f3-41f7-a3b5-0255fa8ef67b",
   "metadata": {
    "ExecuteTime": {
     "end_time": "2023-11-09T23:44:02.166292Z",
     "start_time": "2023-11-09T23:44:01.987177Z"
    },
    "execution": {
     "iopub.execute_input": "2023-11-07T18:49:51.768499Z",
     "iopub.status.busy": "2023-11-07T18:49:51.768045Z",
     "iopub.status.idle": "2023-11-07T18:49:51.945963Z",
     "shell.execute_reply": "2023-11-07T18:49:51.945120Z",
     "shell.execute_reply.started": "2023-11-07T18:49:51.768461Z"
    }
   },
   "outputs": [
    {
     "data": {
      "text/plain": [
       "<matplotlib.legend.Legend at 0x7fceb31212b0>"
      ]
     },
     "execution_count": 14,
     "metadata": {},
     "output_type": "execute_result"
    },
    {
     "data": {
      "image/png": "[encoded data removed]",
      "text/plain": [
       "<Figure size 1000x500 with 1 Axes>"
      ]
     },
     "metadata": {
      "needs_background": "light"
     },
     "output_type": "display_data"
    }
   ],
   "source": [
    "for grp_ix in range(1, 7):\n",
    "    grp_data = mpsds_dB_roi[diag_labs==grp_ix]\n",
    "    plt.plot(fs, grp_data.mean(axis=0), label=diag_lab_mapping[grp_ix])\n",
    "plt.legend(fontsize=10)"
   ]
  },
  {
   "cell_type": "code",
   "execution_count": 15,
   "id": "fe41f7e8-6072-4d45-b5f7-ad9dc142b0ae",
   "metadata": {
    "ExecuteTime": {
     "end_time": "2023-11-09T23:44:02.835367Z",
     "start_time": "2023-11-09T23:44:02.818298Z"
    },
    "execution": {
     "iopub.execute_input": "2023-11-07T18:49:53.686596Z",
     "iopub.status.busy": "2023-11-07T18:49:53.686195Z",
     "iopub.status.idle": "2023-11-07T18:49:53.701474Z",
     "shell.execute_reply": "2023-11-07T18:49:53.700645Z",
     "shell.execute_reply.started": "2023-11-07T18:49:53.686571Z"
    }
   },
   "outputs": [],
   "source": [
    "pvals = []\n",
    "tpvals = []\n",
    "for fs_ix in range(len(fs)):\n",
    "    metrics = mpsds_dB_roi[:, fs_ix]\n",
    "    metric_grp = [metrics[diag_labs==grp_ix] for grp_ix in range(1, 7)]\n",
    "    anova_res = f_oneway(*metric_grp)\n",
    "    metric_t = [metrics[diag_labs==grp_ix] for grp_ix in [1, 6]]\n",
    "    ttest_res = ttest_ind(*metric_t)\n",
    "    pvals.append(anova_res.pvalue)\n",
    "    tpvals.append(ttest_res.pvalue)\n",
    "pvals = np.array(pvals)\n",
    "tpvals = np.array(tpvals)"
   ]
  },
  {
   "cell_type": "code",
   "execution_count": 16,
   "id": "185f6610-752c-430f-b6fc-865275c4c945",
   "metadata": {
    "ExecuteTime": {
     "end_time": "2023-11-09T23:44:03.833475Z",
     "start_time": "2023-11-09T23:44:03.718015Z"
    },
    "execution": {
     "iopub.execute_input": "2023-11-07T18:49:55.082555Z",
     "iopub.status.busy": "2023-11-07T18:49:55.082208Z",
     "iopub.status.idle": "2023-11-07T18:49:55.201149Z",
     "shell.execute_reply": "2023-11-07T18:49:55.200349Z",
     "shell.execute_reply.started": "2023-11-07T18:49:55.082532Z"
    }
   },
   "outputs": [
    {
     "data": {
      "text/plain": [
       "Text(0.5, 0, 'Freq')"
      ]
     },
     "execution_count": 16,
     "metadata": {},
     "output_type": "execute_result"
    },
    {
     "data": {
      "image/png": "[encoded data removed]",
      "text/plain": [
       "<Figure size 1000x500 with 1 Axes>"
      ]
     },
     "metadata": {
      "needs_background": "light"
     },
     "output_type": "display_data"
    }
   ],
   "source": [
    "plt.plot(fs, pvals)\n",
    "plt.axhline(y=0.05, color=\"red\", ls=\"--\")\n",
    "plt.ylabel(\"Pvals\")\n",
    "plt.xlabel(\"Freq\")"
   ]
  },
  {
   "cell_type": "code",
   "execution_count": 17,
   "id": "fb25a29d-ecf2-44f0-b198-93db3e550dac",
   "metadata": {
    "ExecuteTime": {
     "end_time": "2023-11-09T23:44:13.049129Z",
     "start_time": "2023-11-09T23:44:13.034121Z"
    },
    "execution": {
     "iopub.execute_input": "2023-11-07T18:49:56.708325Z",
     "iopub.status.busy": "2023-11-07T18:49:56.707977Z",
     "iopub.status.idle": "2023-11-07T18:49:56.856625Z",
     "shell.execute_reply": "2023-11-07T18:49:56.855740Z",
     "shell.execute_reply.started": "2023-11-07T18:49:56.708301Z"
    }
   },
   "outputs": [
    {
     "data": {
      "text/html": [
       "<table>\n",
       "    <thead>\n",
       "        <tr>\n",
       "            <th>Test</th>\n",
       "            <th>Pval</th>\n",
       "            <th>Effect size</th>\n",
       "        </tr>\n",
       "    </thead>\n",
       "    <tbody>\n",
       "        <tr>\n",
       "            <td>AD vs HC</td>\n",
       "            <td> 0.479</td>\n",
       "            <td> 0.105</td>\n",
       "        </tr>\n",
       "        <tr>\n",
       "            <td>bvFTD vs HC</td>\n",
       "            <td> 0.250</td>\n",
       "            <td>-0.213</td>\n",
       "        </tr>\n",
       "        <tr>\n",
       "            <td>CBS vs HC</td>\n",
       "            <td> 0.062</td>\n",
       "            <td>-0.403</td>\n",
       "        </tr>\n",
       "        <tr>\n",
       "            <td>nfvPPA vs HC</td>\n",
       "            <td> 0.078</td>\n",
       "            <td>-0.349</td>\n",
       "        </tr>\n",
       "        <tr>\n",
       "            <td>svPPA vs HC</td>\n",
       "            <td> 0.161</td>\n",
       "            <td>-0.269</td>\n",
       "        </tr>\n",
       "        <tr>\n",
       "            <td>Dementia vs HC</td>\n",
       "            <td> 0.207</td>\n",
       "            <td>-0.152</td>\n",
       "        </tr>\n",
       "        <tr>\n",
       "            <td>*ANOVA</td>\n",
       "            <td> 0.049</td>\n",
       "            <td></td>\n",
       "        </tr>\n",
       "    </tbody>\n",
       "</table>"
      ],
      "text/plain": [
       "+----------------+--------+-------------+\n",
       "|           Test |  Pval  | Effect size |\n",
       "+----------------+--------+-------------+\n",
       "|       AD vs HC |  0.479 |     0.105   |\n",
       "|    bvFTD vs HC |  0.250 |    -0.213   |\n",
       "|      CBS vs HC |  0.062 |    -0.403   |\n",
       "|   nfvPPA vs HC |  0.078 |    -0.349   |\n",
       "|    svPPA vs HC |  0.161 |    -0.269   |\n",
       "| Dementia vs HC |  0.207 |    -0.152   |\n",
       "|         *ANOVA |  0.049 |             |\n",
       "+----------------+--------+-------------+"
      ]
     },
     "execution_count": 17,
     "metadata": {},
     "output_type": "execute_result"
    }
   ],
   "source": [
    "# based on last plot, let us limit to [0.02, 0.035]\n",
    "metrics = mpsds_dB_roi[:, np.bitwise_and(fs>=0.02, fs<=0.035)].mean(axis=1)\n",
    "res_df = pd.DataFrame({\n",
    "    \"metric\": metrics, \n",
    "    \"sex\": sex_labs, \n",
    "    \"diagnosis\": diag_labs\n",
    "})\n",
    "res_df[\"diagnosis1\"] = res_df[\"diagnosis\"].map(diag_lab_mapping)\n",
    "_get_test_tb(res_df)"
   ]
  },
  {
   "cell_type": "code",
   "execution_count": 16,
   "id": "6c4a95a6-aa7e-4c0d-8748-1a36de93160e",
   "metadata": {
    "execution": {
     "iopub.execute_input": "2023-11-07T18:49:58.696132Z",
     "iopub.status.busy": "2023-11-07T18:49:58.695776Z",
     "iopub.status.idle": "2023-11-07T18:49:58.817228Z",
     "shell.execute_reply": "2023-11-07T18:49:58.816307Z",
     "shell.execute_reply.started": "2023-11-07T18:49:58.696109Z"
    }
   },
   "outputs": [
    {
     "data": {
      "text/plain": [
       "Text(0.5, 0, 'Freq')"
      ]
     },
     "execution_count": 16,
     "metadata": {},
     "output_type": "execute_result"
    },
    {
     "data": {
      "image/png": "[encoded data removed]",
      "text/plain": [
       "<Figure size 1000x500 with 1 Axes>"
      ]
     },
     "metadata": {
      "needs_background": "light"
     },
     "output_type": "display_data"
    }
   ],
   "source": [
    "plt.plot(fs, tpvals)\n",
    "plt.axhline(y=0.05, color=\"red\", ls=\"--\")\n",
    "plt.ylabel(\"Pvals\")\n",
    "plt.xlabel(\"Freq\")"
   ]
  },
  {
   "cell_type": "markdown",
   "id": "30c84e40",
   "metadata": {},
   "source": [
    "## In 7 networks"
   ]
  },
  {
   "cell_type": "code",
   "execution_count": 25,
   "id": "52970fd3-960e-4390-9419-dc01bee56498",
   "metadata": {
    "ExecuteTime": {
     "end_time": "2023-11-18T05:29:49.930529Z",
     "start_time": "2023-11-18T05:29:49.913903Z"
    }
   },
   "outputs": [],
   "source": [
    "psds_dB = np.array([foo[1] for foo in all_psds_dB]);\n"
   ]
  },
  {
   "cell_type": "code",
   "execution_count": 31,
   "id": "d506d67a",
   "metadata": {
    "ExecuteTime": {
     "end_time": "2023-11-18T05:31:22.109925Z",
     "start_time": "2023-11-18T05:31:22.044722Z"
    }
   },
   "outputs": [
    {
     "name": "stdout",
     "output_type": "stream",
     "text": [
      "Visual\n",
      "+----------------+--------+-------------+\n",
      "|           Test |  Pval  | Effect size |\n",
      "+----------------+--------+-------------+\n",
      "|       AD vs HC |  0.087 |     0.254   |\n",
      "|    bvFTD vs HC |  0.641 |     0.087   |\n",
      "|      CBS vs HC |  0.731 |    -0.075   |\n",
      "|   nfvPPA vs HC |  0.276 |    -0.216   |\n",
      "|    svPPA vs HC |  0.493 |    -0.132   |\n",
      "| Dementia vs HC |  0.705 |     0.046   |\n",
      "|          ANOVA |  0.136 |             |\n",
      "+----------------+--------+-------------+\n",
      "Somatomotor\n",
      "+----------------+--------+-------------+\n",
      "|           Test |  Pval  | Effect size |\n",
      "+----------------+--------+-------------+\n",
      "|       AD vs HC |  0.295 |     0.156   |\n",
      "|    bvFTD vs HC |  0.156 |    -0.262   |\n",
      "|     *CBS vs HC |  0.019 |    -0.503   |\n",
      "|   nfvPPA vs HC |  0.060 |    -0.372   |\n",
      "|    svPPA vs HC |  0.189 |    -0.252   |\n",
      "| Dementia vs HC |  0.179 |    -0.162   |\n",
      "|         *ANOVA |  0.004 |             |\n",
      "+----------------+--------+-------------+\n",
      "Dorsal_Attention\n",
      "+----------------+--------+-------------+\n",
      "|           Test |  Pval  | Effect size |\n",
      "+----------------+--------+-------------+\n",
      "|       AD vs HC |  0.569 |     0.085   |\n",
      "|    bvFTD vs HC |  0.853 |    -0.034   |\n",
      "|      CBS vs HC |  0.152 |    -0.310   |\n",
      "|   nfvPPA vs HC |  0.151 |    -0.285   |\n",
      "|    svPPA vs HC |  0.454 |    -0.144   |\n",
      "| Dementia vs HC |  0.503 |    -0.081   |\n",
      "|          ANOVA |  0.329 |             |\n",
      "+----------------+--------+-------------+\n",
      "Ventral_Attention\n",
      "+----------------+--------+-------------+\n",
      "|           Test |  Pval  | Effect size |\n",
      "+----------------+--------+-------------+\n",
      "|       AD vs HC |  0.489 |     0.103   |\n",
      "|    bvFTD vs HC |  0.073 |    -0.331   |\n",
      "|     *CBS vs HC |  0.047 |    -0.428   |\n",
      "|  *nfvPPA vs HC |  0.022 |    -0.453   |\n",
      "|    svPPA vs HC |  0.086 |    -0.330   |\n",
      "| Dementia vs HC |  0.086 |    -0.207   |\n",
      "|         *ANOVA |  0.006 |             |\n",
      "+----------------+--------+-------------+\n",
      "Limbic\n",
      "+----------------+--------+-------------+\n",
      "|           Test |  Pval  | Effect size |\n",
      "+----------------+--------+-------------+\n",
      "|       AD vs HC |  0.419 |    -0.121   |\n",
      "|    bvFTD vs HC |  0.245 |    -0.215   |\n",
      "|      CBS vs HC |  0.683 |     0.089   |\n",
      "|   nfvPPA vs HC |  0.354 |    -0.184   |\n",
      "|    svPPA vs HC |  0.240 |    -0.226   |\n",
      "| Dementia vs HC |  0.228 |    -0.145   |\n",
      "|          ANOVA |  0.587 |             |\n",
      "+----------------+--------+-------------+\n",
      "Frontoparietal\n",
      "+----------------+--------+-------------+\n",
      "|           Test |  Pval  | Effect size |\n",
      "+----------------+--------+-------------+\n",
      "|       AD vs HC |  0.773 |     0.043   |\n",
      "|    bvFTD vs HC |  0.670 |     0.079   |\n",
      "|      CBS vs HC |  0.605 |    -0.112   |\n",
      "|   nfvPPA vs HC |  0.307 |    -0.203   |\n",
      "|    svPPA vs HC |  0.253 |    -0.220   |\n",
      "| Dementia vs HC |  0.684 |    -0.049   |\n",
      "|          ANOVA |  0.633 |             |\n",
      "+----------------+--------+-------------+\n",
      "Default\n",
      "+----------------+--------+-------------+\n",
      "|           Test |  Pval  | Effect size |\n",
      "+----------------+--------+-------------+\n",
      "|       AD vs HC |  0.545 |     0.090   |\n",
      "|    bvFTD vs HC |  0.730 |    -0.064   |\n",
      "|      CBS vs HC |  0.524 |    -0.138   |\n",
      "|   nfvPPA vs HC |  0.356 |    -0.183   |\n",
      "|    svPPA vs HC |  0.051 |    -0.373   |\n",
      "| Dementia vs HC |  0.454 |    -0.090   |\n",
      "|          ANOVA |  0.197 |             |\n",
      "+----------------+--------+-------------+\n"
     ]
    }
   ],
   "source": [
    "net_ix = 1\n",
    "for net_ix in range(1, 8):\n",
    "    sub_mpsds_dB = psds_dB[:, yeo_7nets_lab==net_ix].mean(axis=-1);\n",
    "    metrics = sub_mpsds_dB.mean(axis=-1)\n",
    "    \n",
    "    res_df = pd.DataFrame({\n",
    "        \"metric\": metrics, \n",
    "        \"sex\": sex_labs, \n",
    "        \"diagnosis\": diag_labs\n",
    "    })\n",
    "    res_df[\"diagnosis1\"] = res_df[\"diagnosis\"].map(diag_lab_mapping)\n",
    "    print(f\"{yeo_7nets_dict[net_ix]}\")\n",
    "    print(_get_test_tb(res_df))"
   ]
  },
  {
   "cell_type": "code",
   "execution_count": null,
   "id": "db1a6b7b",
   "metadata": {},
   "outputs": [],
   "source": []
  }
 ],
 "metadata": {
  "kernelspec": {
   "display_name": "Python 3 (ipykernel)",
   "language": "python",
   "name": "python3"
  },
  "language_info": {
   "codemirror_mode": {
    "name": "ipython",
    "version": 3
   },
   "file_extension": ".py",
   "mimetype": "text/x-python",
   "name": "python",
   "nbconvert_exporter": "python",
   "pygments_lexer": "ipython3",
   "version": "3.9.7"
  },
  "toc": {
   "base_numbering": 1,
   "nav_menu": {},
   "number_sections": true,
   "sideBar": true,
   "skip_h1_title": false,
   "title_cell": "Table of Contents",
   "title_sidebar": "Contents",
   "toc_cell": false,
   "toc_position": {},
   "toc_section_display": true,
   "toc_window_display": false
  }
 },
 "nbformat": 4,
 "nbformat_minor": 5
}
