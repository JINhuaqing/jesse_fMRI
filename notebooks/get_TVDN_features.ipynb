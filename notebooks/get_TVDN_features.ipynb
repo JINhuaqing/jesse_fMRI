{
 "cells": [
  {
   "cell_type": "markdown",
   "id": "55950736-4778-4461-a7e4-6a9323a8d9f5",
   "metadata": {},
   "source": [
    "Extract feature from TVDN. \n"
   ]
  },
  {
   "cell_type": "code",
   "execution_count": 2,
   "id": "f6316349-3e91-4ded-92a2-dd20ed6b1b17",
   "metadata": {
    "ExecuteTime": {
     "end_time": "2023-11-09T23:44:42.752052Z",
     "start_time": "2023-11-09T23:44:42.749209Z"
    },
    "execution": {
     "iopub.execute_input": "2023-11-07T03:36:12.616334Z",
     "iopub.status.busy": "2023-11-07T03:36:12.614662Z",
     "iopub.status.idle": "2023-11-07T03:36:12.628632Z",
     "shell.execute_reply": "2023-11-07T03:36:12.627384Z",
     "shell.execute_reply.started": "2023-11-07T03:36:12.616294Z"
    }
   },
   "outputs": [],
   "source": [
    "import sys\n",
    "sys.path.append(\"../mypkg\")"
   ]
  },
  {
   "cell_type": "code",
   "execution_count": 3,
   "id": "761d4b55-4cb4-44a5-a408-1b9cbbc946b7",
   "metadata": {
    "ExecuteTime": {
     "end_time": "2023-11-09T23:44:44.115043Z",
     "start_time": "2023-11-09T23:44:43.014516Z"
    },
    "execution": {
     "iopub.execute_input": "2023-11-07T03:36:12.631245Z",
     "iopub.status.busy": "2023-11-07T03:36:12.630767Z",
     "iopub.status.idle": "2023-11-07T03:36:13.750291Z",
     "shell.execute_reply": "2023-11-07T03:36:13.749520Z",
     "shell.execute_reply.started": "2023-11-07T03:36:12.631217Z"
    }
   },
   "outputs": [],
   "source": [
    "from constants import RES_ROOT, FIG_ROOT, DATA_ROOT\n",
    "from utils.misc import load_pkl, save_pkl\n",
    "from utils.colors import qual_cmap\n",
    "from pyTVDN import TVDNDetect"
   ]
  },
  {
   "cell_type": "code",
   "execution_count": 4,
   "id": "e60111a4-1bbb-46e0-974d-dfd801f3cde6",
   "metadata": {
    "ExecuteTime": {
     "end_time": "2023-11-09T23:44:44.136231Z",
     "start_time": "2023-11-09T23:44:44.116805Z"
    },
    "execution": {
     "iopub.execute_input": "2023-11-07T03:36:13.751449Z",
     "iopub.status.busy": "2023-11-07T03:36:13.751115Z",
     "iopub.status.idle": "2023-11-07T03:36:13.774652Z",
     "shell.execute_reply": "2023-11-07T03:36:13.773902Z",
     "shell.execute_reply.started": "2023-11-07T03:36:13.751426Z"
    }
   },
   "outputs": [],
   "source": [
    "%load_ext autoreload\n",
    "%autoreload 2\n",
    "# 0,1, 2, 3, be careful about the space"
   ]
  },
  {
   "cell_type": "code",
   "execution_count": 5,
   "id": "dd91ad51-fb83-4993-85e0-f089b427c9d6",
   "metadata": {
    "ExecuteTime": {
     "end_time": "2023-11-09T23:44:44.185025Z",
     "start_time": "2023-11-09T23:44:44.137489Z"
    },
    "execution": {
     "iopub.execute_input": "2023-11-07T03:36:13.779243Z",
     "iopub.status.busy": "2023-11-07T03:36:13.778947Z",
     "iopub.status.idle": "2023-11-07T03:36:13.833675Z",
     "shell.execute_reply": "2023-11-07T03:36:13.832985Z",
     "shell.execute_reply.started": "2023-11-07T03:36:13.779216Z"
    }
   },
   "outputs": [],
   "source": [
    "import numpy as np\n",
    "import scipy\n",
    "from scipy.io import loadmat\n",
    "from scipy import signal\n",
    "import matplotlib.pyplot as plt\n",
    "import seaborn as sns\n",
    "from tqdm import tqdm, trange\n",
    "import bct # the pkg to get graph features\n",
    "from joblib import Parallel, delayed\n",
    "from easydict import EasyDict as edict\n",
    "import pandas as pd\n",
    "\n",
    "plt.style.use(FIG_ROOT/'base.mplstyle')"
   ]
  },
  {
   "cell_type": "code",
   "execution_count": null,
   "id": "50be24b9-28de-4d07-a489-8482b89e9e6a",
   "metadata": {},
   "outputs": [],
   "source": []
  },
  {
   "cell_type": "markdown",
   "id": "cd61ced4-9e45-453a-9c53-8a270823a8b2",
   "metadata": {},
   "source": [
    "# Fns and params"
   ]
  },
  {
   "cell_type": "markdown",
   "id": "2a3e0512-46ab-4f06-8b52-05216ec7ec7a",
   "metadata": {},
   "source": [
    "## Some fns"
   ]
  },
  {
   "cell_type": "code",
   "execution_count": 6,
   "id": "483e0418",
   "metadata": {
    "ExecuteTime": {
     "end_time": "2023-11-09T23:44:45.045554Z",
     "start_time": "2023-11-09T23:44:45.021043Z"
    }
   },
   "outputs": [],
   "source": [
    "from prettytable import PrettyTable as PT\n",
    "from scipy.stats import f_oneway, ttest_ind \n",
    "\n",
    "def _get_test_tb(res_df):\n",
    "    tb = PT()\n",
    "    tb.field_names = [\"Test\", \"Pval\", \"Effect size\"]\n",
    "    \n",
    "    HC = res_df[\"metric\"][res_df[\"diagnosis\"]==6]\n",
    "    \n",
    "    def indicator(pval):\n",
    "        if pval < 0.05:\n",
    "            return \"*\"\n",
    "        else:\n",
    "            return \"\"\n",
    "    # list all disease\n",
    "    for diag_ix in range(1, 6):\n",
    "        DS = res_df[\"metric\"][res_df[\"diagnosis\"]==diag_ix]\n",
    "        ttest_res = ttest_ind(DS, HC)\n",
    "        effect_size = (np.mean(DS)-np.mean(HC))/np.std(np.concatenate([DS, HC]), ddof=2)\n",
    "        tb.add_row([f\"{indicator(ttest_res.pvalue)}{diag_lab_mapping[diag_ix]} vs HC\", \n",
    "                      f\"{ttest_res.pvalue:>6.3f}\", \n",
    "                      f\"{effect_size:>6.3f}\"])\n",
    "    \n",
    "    # pool 5 diseases together\n",
    "    DS = res_df[\"metric\"][res_df[\"diagnosis\"]!=6]\n",
    "    ttest_res = ttest_ind(DS, HC)\n",
    "    effect_size = (np.mean(DS)-np.mean(HC))/np.std(np.concatenate([DS, HC]), ddof=2)\n",
    "    tb.add_row([f\"{indicator(ttest_res.pvalue)}Dementia vs HC\", \n",
    "                f\"{ttest_res.pvalue:>6.3f}\", \n",
    "                f\"{effect_size:>6.3f}\"])\n",
    "    \n",
    "    # anova\n",
    "    metric_grp = [res_df[\"metric\"][res_df[\"diagnosis\"]==grp_ix] for grp_ix in range(1, 7)]\n",
    "    anova_res = f_oneway(*metric_grp)\n",
    "    tb.add_row([f\"{indicator(anova_res.pvalue)}ANOVA\", \n",
    "                f\"{anova_res.pvalue:>6.3f}\", \n",
    "                f\"\"])\n",
    "    tb.align[\"Test\"] = \"r\"\n",
    "    tb.align[\"Pval\"] = \"c\"\n",
    "    tb.align[\"Effect size\"] = \"c\"\n",
    "    return tb"
   ]
  },
  {
   "cell_type": "code",
   "execution_count": 7,
   "id": "94714b2c-d3be-4815-9d74-20d42f0f3f0f",
   "metadata": {
    "ExecuteTime": {
     "end_time": "2023-11-09T23:44:45.703636Z",
     "start_time": "2023-11-09T23:44:45.681779Z"
    },
    "execution": {
     "iopub.execute_input": "2023-11-07T03:36:13.834760Z",
     "iopub.status.busy": "2023-11-07T03:36:13.834440Z",
     "iopub.status.idle": "2023-11-07T03:36:13.856145Z",
     "shell.execute_reply": "2023-11-07T03:36:13.855385Z",
     "shell.execute_reply.started": "2023-11-07T03:36:13.834738Z"
    }
   },
   "outputs": [],
   "source": [
    "def _preprocess_ts(ts):\n",
    "    \"\"\"preprocessing, \n",
    "        1. detrend\n",
    "        2. resample (len of seq has 235 or 555, I make it consistent to 235)\n",
    "    \"\"\"\n",
    "    ts = signal.detrend(ts);\n",
    "    if ts.shape[-1] > 235:\n",
    "        ts = signal.resample(ts, num=235, axis=-1)\n",
    "    return ts\n",
    "    \n",
    "    \n",
    "def _load_data(n):\n",
    "    \"\"\"Sub idx is from 1, n: the sub idx\n",
    "    \"\"\"\n",
    "    return mat_data['ts_321_273'][np.where(mat_data['subj_321_ts'][:, 0] == n)[0], :].transpose()"
   ]
  },
  {
   "cell_type": "markdown",
   "id": "27ceee6d-65f9-4da7-86e1-17d223e51ae5",
   "metadata": {},
   "source": [
    "## Load data and params"
   ]
  },
  {
   "cell_type": "code",
   "execution_count": 8,
   "id": "1b761799-d66a-441b-98f3-f13a2c1b0f0d",
   "metadata": {
    "ExecuteTime": {
     "end_time": "2023-11-09T23:44:48.230563Z",
     "start_time": "2023-11-09T23:44:47.032456Z"
    },
    "execution": {
     "iopub.execute_input": "2023-11-07T03:36:13.857232Z",
     "iopub.status.busy": "2023-11-07T03:36:13.856980Z",
     "iopub.status.idle": "2023-11-07T03:36:15.067488Z",
     "shell.execute_reply": "2023-11-07T03:36:15.066722Z",
     "shell.execute_reply.started": "2023-11-07T03:36:13.857209Z"
    }
   },
   "outputs": [],
   "source": [
    "# load data\n",
    "mat_data = loadmat(DATA_ROOT/\"ad_ftd_hc_fmri_data.mat\");\n",
    "\n",
    "# some parameters\n",
    "\n",
    "num_rois = 246 # the BNA has 246 regions\n",
    "num_sps = 321\n",
    "ac_time = 485"
   ]
  },
  {
   "cell_type": "code",
   "execution_count": 9,
   "id": "ccdd12a5-df3d-49ec-b197-380b5b28f999",
   "metadata": {
    "ExecuteTime": {
     "end_time": "2023-11-09T23:44:48.590014Z",
     "start_time": "2023-11-09T23:44:48.568894Z"
    },
    "execution": {
     "iopub.execute_input": "2023-11-07T03:37:02.549789Z",
     "iopub.status.busy": "2023-11-07T03:37:02.549391Z",
     "iopub.status.idle": "2023-11-07T03:37:02.570507Z",
     "shell.execute_reply": "2023-11-07T03:37:02.569750Z",
     "shell.execute_reply.started": "2023-11-07T03:37:02.549753Z"
    }
   },
   "outputs": [],
   "source": [
    "diag_labs = mat_data[\"dx_321\"].reshape(-1)\n",
    "sex_labs = mat_data[\"sex_321\"].reshape(-1)\n",
    "mmse_scores = mat_data[\"mmse_321\"].reshape(-1)\n",
    "diag_lab_mapping = {\n",
    " 1: \"AD\",\n",
    " 2: \"bvFTD\",\n",
    " 3: \"CBS\", \n",
    " 4: \"nfvPPA\", \n",
    " 5: \"svPPA\", \n",
    " 6: \"HC\"\n",
    "}"
   ]
  },
  {
   "cell_type": "code",
   "execution_count": null,
   "id": "e448d9c8-e56e-44a9-a147-dd2afa2436c7",
   "metadata": {},
   "outputs": [],
   "source": []
  },
  {
   "cell_type": "markdown",
   "id": "d0cda321-53cd-4e7e-92fc-8f3857f4d226",
   "metadata": {},
   "source": [
    "# Run TVDN"
   ]
  },
  {
   "cell_type": "code",
   "execution_count": 7,
   "id": "2bdb8864-47dd-4b50-85cd-eb52da7d18cc",
   "metadata": {
    "execution": {
     "iopub.execute_input": "2023-11-07T03:36:20.413137Z",
     "iopub.status.busy": "2023-11-07T03:36:20.412669Z",
     "iopub.status.idle": "2023-11-07T03:36:20.434207Z",
     "shell.execute_reply": "2023-11-07T03:36:20.433444Z",
     "shell.execute_reply.started": "2023-11-07T03:36:20.413099Z"
    }
   },
   "outputs": [],
   "source": [
    "tvdn_paras = edict()\n",
    "# these two are most influential\n",
    "tvdn_paras.fct = 0.1\n",
    "tvdn_paras.lamb = 5e-5\n",
    "# r is moderately influential\n",
    "tvdn_paras.r = 8\n",
    "# not very important\n",
    "tvdn_paras.Lmin = 10\n",
    "tvdn_paras.MaxM = 15\n",
    "\n",
    "tvdn_paras.kappas = np.linspace(1, 2, 100)\n"
   ]
  },
  {
   "cell_type": "markdown",
   "id": "7b821257-caaa-4c17-a1a7-ab301783b549",
   "metadata": {},
   "source": [
    "## Get results\n"
   ]
  },
  {
   "cell_type": "code",
   "execution_count": 8,
   "id": "4e38866b-546b-442b-99c7-3803ca71be34",
   "metadata": {
    "execution": {
     "iopub.execute_input": "2023-11-06T17:49:31.985206Z",
     "iopub.status.busy": "2023-11-06T17:49:31.984810Z",
     "iopub.status.idle": "2023-11-06T17:49:32.006264Z",
     "shell.execute_reply": "2023-11-06T17:49:32.005520Z",
     "shell.execute_reply.started": "2023-11-06T17:49:31.985171Z"
    }
   },
   "outputs": [],
   "source": [
    "def _run_fn(sub_ix):\n",
    "    ts = _load_data(sub_ix)[:num_rois]\n",
    "    ts = _preprocess_ts(ts)\n",
    "    det = TVDNDetect(Ymat=ts,\n",
    "                     showProgress=False,\n",
    "                     saveDir=RES_ROOT/\"tvdn_res\",\n",
    "                     fName=f\"sub_{sub_ix}\",\n",
    "                     dataType=\"fMRI\", \n",
    "                     MaxM=tvdn_paras.MaxM, \n",
    "                     Lmin=tvdn_paras.Lmin, \n",
    "                     fct=tvdn_paras.fct, \n",
    "                     lamb=tvdn_paras.lamb, \n",
    "                     r=tvdn_paras.r); \n",
    "    #det.Screening(wh=5)\n",
    "    det()\n",
    "    det.TuningKappa(tvdn_paras.kappas)\n",
    "    det.UpdateEcpts()\n",
    "    return det\n"
   ]
  },
  {
   "cell_type": "code",
   "execution_count": null,
   "id": "276a59c3-f8e1-404c-b952-b2c0204ac391",
   "metadata": {
    "execution": {
     "iopub.execute_input": "2023-11-06T17:49:34.375497Z",
     "iopub.status.busy": "2023-11-06T17:49:34.375115Z"
    }
   },
   "outputs": [
    {
     "name": "stderr",
     "output_type": "stream",
     "text": [
      " 37%|██████████████████████████████████████████████████▊                                                                                     | 120/321 [01:17<02:27,  1.36it/s]"
     ]
    }
   ],
   "source": [
    "with Parallel(n_jobs=15) as parallel:\n",
    "    res = parallel(delayed(_run_fn)(sub_ix) for sub_ix in tqdm(range(1, num_sps+1), total=num_sps))"
   ]
  },
  {
   "cell_type": "code",
   "execution_count": null,
   "id": "c437cb6f-1c98-49d3-8d26-3d6f2b576a6d",
   "metadata": {},
   "outputs": [],
   "source": []
  },
  {
   "cell_type": "markdown",
   "id": "0792822e-fbfe-476f-9ad0-7cc97fbfaadb",
   "metadata": {},
   "source": [
    "## Kappa find"
   ]
  },
  {
   "cell_type": "code",
   "execution_count": 14,
   "id": "81ee1196-7dc8-47b8-a318-f60ce7e7634b",
   "metadata": {
    "execution": {
     "iopub.execute_input": "2023-11-07T18:56:59.338858Z",
     "iopub.status.busy": "2023-11-07T18:56:59.338454Z",
     "iopub.status.idle": "2023-11-07T18:56:59.357648Z",
     "shell.execute_reply": "2023-11-07T18:56:59.356833Z",
     "shell.execute_reply.started": "2023-11-07T18:56:59.338833Z"
    }
   },
   "outputs": [],
   "source": [
    "def _run_fn(sub_ix):\n",
    "    ts = _load_data(sub_ix)[:num_rois]\n",
    "    ts = _preprocess_ts(ts)\n",
    "    det = TVDNDetect(Ymat=ts,\n",
    "                     showProgress=False,\n",
    "                     saveDir=RES_ROOT/\"tvdn_res\",\n",
    "                     fName=f\"sub_{sub_ix}\",\n",
    "                     dataType=\"fMRI\", \n",
    "                     MaxM=tvdn_paras.MaxM, \n",
    "                     Lmin=tvdn_paras.Lmin, \n",
    "                     fct=tvdn_paras.fct, \n",
    "                     lamb=tvdn_paras.lamb, \n",
    "                     r=tvdn_paras.r); \n",
    "    #det.Screening(wh=5)\n",
    "    det()\n",
    "    det.TuningKappa(tvdn_paras.kappas)\n",
    "    det.UpdateEcpts()\n",
    "    return det\n"
   ]
  },
  {
   "cell_type": "code",
   "execution_count": 15,
   "id": "1ccaef26-bcf6-4756-8853-5b1cc03353d7",
   "metadata": {
    "execution": {
     "iopub.execute_input": "2023-11-07T18:57:00.342765Z",
     "iopub.status.busy": "2023-11-07T18:57:00.342437Z",
     "iopub.status.idle": "2023-11-07T18:57:49.884111Z",
     "shell.execute_reply": "2023-11-07T18:57:49.883405Z",
     "shell.execute_reply.started": "2023-11-07T18:57:00.342741Z"
    }
   },
   "outputs": [
    {
     "name": "stderr",
     "output_type": "stream",
     "text": [
      "  0%|                                                                                                                                                  | 0/100 [00:00<?, ?it/s]/MyResearch/jesse_data/notebooks/../mypkg/pyTVDN/TVDNclass.py:348: UserWarning: As loading the saved results, kappa will be ignored\n",
      "  warnings.warn(\"As loading the saved results, kappa will be ignored\", UserWarning)\n",
      "100%|████████████████████████████████████████████████████████████████████████████████████████████████████████████████████████████████████████| 100/100 [00:49<00:00,  2.02it/s]\n"
     ]
    }
   ],
   "source": [
    "numchgss = []\n",
    "for sub_ix in tqdm(np.where(diag_labs==6)[0]):\n",
    "    det = _run_fn(sub_ix)\n",
    "    numchgss.append(det.numchgs)\n",
    "numchgss = np.array(numchgss);"
   ]
  },
  {
   "cell_type": "code",
   "execution_count": 16,
   "id": "becd206b-6273-4177-aa92-f8dda16ada69",
   "metadata": {
    "execution": {
     "iopub.execute_input": "2023-11-07T18:58:20.002688Z",
     "iopub.status.busy": "2023-11-07T18:58:20.002292Z",
     "iopub.status.idle": "2023-11-07T18:58:20.237950Z",
     "shell.execute_reply": "2023-11-07T18:58:20.237131Z",
     "shell.execute_reply.started": "2023-11-07T18:58:20.002662Z"
    }
   },
   "outputs": [
    {
     "data": {
      "text/plain": [
       "[<matplotlib.lines.Line2D at 0x7f966c2531c0>]"
      ]
     },
     "execution_count": 16,
     "metadata": {},
     "output_type": "execute_result"
    },
    {
     "data": {
      "image/png": "[encoded data removed]",
      "text/plain": [
       "<Figure size 1000x500 with 2 Axes>"
      ]
     },
     "metadata": {
      "needs_background": "light"
     },
     "output_type": "display_data"
    }
   ],
   "source": [
    "plt.subplot(121)\n",
    "plt.plot(tvdn_paras.kappas, numchgss.mean(axis=0))\n",
    "plt.axhline(y=3.5, color=\"red\")\n",
    "plt.subplot(122)\n",
    "plt.plot(tvdn_paras.kappas, numchgss.std(axis=0))"
   ]
  },
  {
   "cell_type": "code",
   "execution_count": 17,
   "id": "d2554834-7a19-4cd0-a3be-046f366d7a5f",
   "metadata": {
    "execution": {
     "iopub.execute_input": "2023-11-07T18:58:29.996080Z",
     "iopub.status.busy": "2023-11-07T18:58:29.995808Z",
     "iopub.status.idle": "2023-11-07T18:58:30.015416Z",
     "shell.execute_reply": "2023-11-07T18:58:30.014551Z",
     "shell.execute_reply.started": "2023-11-07T18:58:29.996056Z"
    }
   },
   "outputs": [
    {
     "name": "stdout",
     "output_type": "stream",
     "text": [
      "The optimal kp is 1.646.\n"
     ]
    }
   ],
   "source": [
    "# I choose 12 based on TVDN paper (in that paper, 8 pts for 310 second, we should have 12.5)\n",
    "optkp = tvdn_paras.kappas[np.argmin(np.abs(numchgss.mean(axis=0)-12.5))]\n",
    "print(f\"The optimal kp is {optkp:.3f}.\")"
   ]
  },
  {
   "cell_type": "markdown",
   "id": "c0fa7159-4e9b-4fad-9d5d-9b78985a17b4",
   "metadata": {},
   "source": [
    "## Get features"
   ]
  },
  {
   "cell_type": "code",
   "execution_count": 18,
   "id": "5c145a33-fc53-43b6-9ba7-4895417f25ff",
   "metadata": {
    "execution": {
     "iopub.execute_input": "2023-11-07T18:58:34.930808Z",
     "iopub.status.busy": "2023-11-07T18:58:34.930422Z",
     "iopub.status.idle": "2023-11-07T19:01:14.279851Z",
     "shell.execute_reply": "2023-11-07T19:01:14.279107Z",
     "shell.execute_reply.started": "2023-11-07T18:58:34.930785Z"
    }
   },
   "outputs": [
    {
     "name": "stderr",
     "output_type": "stream",
     "text": [
      "  0%|                                                                                                                                                  | 0/321 [00:00<?, ?it/s]/MyResearch/jesse_data/notebooks/../mypkg/pyTVDN/TVDNclass.py:348: UserWarning: As loading the saved results, kappa will be ignored\n",
      "  warnings.warn(\"As loading the saved results, kappa will be ignored\", UserWarning)\n",
      "100%|████████████████████████████████████████████████████████████████████████████████████████████████████████████████████████████████████████| 321/321 [02:39<00:00,  2.01it/s]"
     ]
    },
    {
     "name": "stdout",
     "output_type": "stream",
     "text": [
      "Save to /MyResearch/jesse_data/notebooks/../mypkg/../results/tvdn_ecptss_kp1646.pkl\n"
     ]
    },
    {
     "name": "stderr",
     "output_type": "stream",
     "text": [
      "\n"
     ]
    }
   ],
   "source": [
    "ecptss = []\n",
    "for sub_ix in trange(1, num_sps+1):\n",
    "    det = _run_fn(sub_ix)\n",
    "    det.UpdateEcpts(det.numchgs[tvdn_paras.kappas==optkp][0])\n",
    "    ecptss.append(det.ecpts)\n",
    "save_pkl(RES_ROOT/f\"tvdn_ecptss_kp{optkp*1000:.0f}.pkl\", ecptss)"
   ]
  },
  {
   "cell_type": "code",
   "execution_count": null,
   "id": "b69b007d-b64d-4c4c-8bed-480904abfeea",
   "metadata": {},
   "outputs": [],
   "source": []
  },
  {
   "cell_type": "markdown",
   "id": "e141423b-fad1-46ee-8c22-668d70273a2e",
   "metadata": {},
   "source": [
    "# Analyze"
   ]
  },
  {
   "cell_type": "code",
   "execution_count": 10,
   "id": "622e71bd-6bad-4d9f-bda7-c7d613151175",
   "metadata": {
    "ExecuteTime": {
     "end_time": "2023-11-09T23:44:58.313202Z",
     "start_time": "2023-11-09T23:44:58.278754Z"
    },
    "execution": {
     "iopub.execute_input": "2023-11-07T19:01:46.081657Z",
     "iopub.status.busy": "2023-11-07T19:01:46.081437Z",
     "iopub.status.idle": "2023-11-07T19:01:46.101427Z",
     "shell.execute_reply": "2023-11-07T19:01:46.100458Z",
     "shell.execute_reply.started": "2023-11-07T19:01:46.081635Z"
    }
   },
   "outputs": [
    {
     "name": "stdout",
     "output_type": "stream",
     "text": [
      "Load file /MyResearch/jesse_data/notebooks/../mypkg/../results/tvdn_ecptss_kp1646.pkl\n"
     ]
    }
   ],
   "source": [
    "ecptss = load_pkl(RES_ROOT/f\"tvdn_ecptss_kp1646.pkl\")\n",
    "ncpts = np.array([len(ecpts) for ecpts in ecptss])"
   ]
  },
  {
   "cell_type": "code",
   "execution_count": 11,
   "id": "ce8b95dc-0f98-4429-a701-11383bb2e335",
   "metadata": {
    "ExecuteTime": {
     "end_time": "2023-11-09T23:45:07.552974Z",
     "start_time": "2023-11-09T23:45:07.522064Z"
    },
    "execution": {
     "iopub.execute_input": "2023-11-07T19:01:47.568898Z",
     "iopub.status.busy": "2023-11-07T19:01:47.568533Z",
     "iopub.status.idle": "2023-11-07T19:01:47.730060Z",
     "shell.execute_reply": "2023-11-07T19:01:47.729204Z",
     "shell.execute_reply.started": "2023-11-07T19:01:47.568873Z"
    }
   },
   "outputs": [
    {
     "data": {
      "text/html": [
       "<table>\n",
       "    <thead>\n",
       "        <tr>\n",
       "            <th>Test</th>\n",
       "            <th>Pval</th>\n",
       "            <th>Effect size</th>\n",
       "        </tr>\n",
       "    </thead>\n",
       "    <tbody>\n",
       "        <tr>\n",
       "            <td>AD vs HC</td>\n",
       "            <td> 0.179</td>\n",
       "            <td> 0.200</td>\n",
       "        </tr>\n",
       "        <tr>\n",
       "            <td>bvFTD vs HC</td>\n",
       "            <td> 0.907</td>\n",
       "            <td> 0.022</td>\n",
       "        </tr>\n",
       "        <tr>\n",
       "            <td>CBS vs HC</td>\n",
       "            <td> 0.891</td>\n",
       "            <td> 0.030</td>\n",
       "        </tr>\n",
       "        <tr>\n",
       "            <td>nfvPPA vs HC</td>\n",
       "            <td> 0.241</td>\n",
       "            <td> 0.233</td>\n",
       "        </tr>\n",
       "        <tr>\n",
       "            <td>svPPA vs HC</td>\n",
       "            <td> 0.149</td>\n",
       "            <td> 0.277</td>\n",
       "        </tr>\n",
       "        <tr>\n",
       "            <td>Dementia vs HC</td>\n",
       "            <td> 0.170</td>\n",
       "            <td> 0.165</td>\n",
       "        </tr>\n",
       "        <tr>\n",
       "            <td>ANOVA</td>\n",
       "            <td> 0.551</td>\n",
       "            <td></td>\n",
       "        </tr>\n",
       "    </tbody>\n",
       "</table>"
      ],
      "text/plain": [
       "+----------------+--------+-------------+\n",
       "|           Test |  Pval  | Effect size |\n",
       "+----------------+--------+-------------+\n",
       "|       AD vs HC |  0.179 |     0.200   |\n",
       "|    bvFTD vs HC |  0.907 |     0.022   |\n",
       "|      CBS vs HC |  0.891 |     0.030   |\n",
       "|   nfvPPA vs HC |  0.241 |     0.233   |\n",
       "|    svPPA vs HC |  0.149 |     0.277   |\n",
       "| Dementia vs HC |  0.170 |     0.165   |\n",
       "|          ANOVA |  0.551 |             |\n",
       "+----------------+--------+-------------+"
      ]
     },
     "execution_count": 11,
     "metadata": {},
     "output_type": "execute_result"
    }
   ],
   "source": [
    "res_df = pd.DataFrame({\n",
    "    \"metric\": ncpts, \n",
    "    \"sex\": sex_labs, \n",
    "    \"diagnosis\": diag_labs\n",
    "})\n",
    "res_df[\"diagnosis1\"] = res_df[\"diagnosis\"].map(diag_lab_mapping)\n",
    "_get_test_tb(res_df)"
   ]
  },
  {
   "cell_type": "code",
   "execution_count": 12,
   "id": "0ce72569-ff39-4bc9-800a-92d8a736d450",
   "metadata": {
    "ExecuteTime": {
     "end_time": "2023-11-09T23:45:26.043567Z",
     "start_time": "2023-11-09T23:45:26.006708Z"
    },
    "execution": {
     "iopub.execute_input": "2023-11-07T19:01:50.174674Z",
     "iopub.status.busy": "2023-11-07T19:01:50.174319Z",
     "iopub.status.idle": "2023-11-07T19:01:50.209503Z",
     "shell.execute_reply": "2023-11-07T19:01:50.208740Z",
     "shell.execute_reply.started": "2023-11-07T19:01:50.174650Z"
    }
   },
   "outputs": [
    {
     "data": {
      "text/html": [
       "<div>\n",
       "<style scoped>\n",
       "    .dataframe tbody tr th:only-of-type {\n",
       "        vertical-align: middle;\n",
       "    }\n",
       "\n",
       "    .dataframe tbody tr th {\n",
       "        vertical-align: top;\n",
       "    }\n",
       "\n",
       "    .dataframe thead th {\n",
       "        text-align: right;\n",
       "    }\n",
       "</style>\n",
       "<table border=\"1\" class=\"dataframe\">\n",
       "  <thead>\n",
       "    <tr style=\"text-align: right;\">\n",
       "      <th></th>\n",
       "      <th>count</th>\n",
       "      <th>mean</th>\n",
       "      <th>std</th>\n",
       "      <th>min</th>\n",
       "      <th>25%</th>\n",
       "      <th>50%</th>\n",
       "      <th>75%</th>\n",
       "      <th>max</th>\n",
       "    </tr>\n",
       "    <tr>\n",
       "      <th>diagnosis1</th>\n",
       "      <th></th>\n",
       "      <th></th>\n",
       "      <th></th>\n",
       "      <th></th>\n",
       "      <th></th>\n",
       "      <th></th>\n",
       "      <th></th>\n",
       "      <th></th>\n",
       "    </tr>\n",
       "  </thead>\n",
       "  <tbody>\n",
       "    <tr>\n",
       "      <th>AD</th>\n",
       "      <td>82.0</td>\n",
       "      <td>12.963415</td>\n",
       "      <td>1.190965</td>\n",
       "      <td>10.0</td>\n",
       "      <td>12.0</td>\n",
       "      <td>13.0</td>\n",
       "      <td>14.0</td>\n",
       "      <td>15.0</td>\n",
       "    </tr>\n",
       "    <tr>\n",
       "      <th>CBS</th>\n",
       "      <td>27.0</td>\n",
       "      <td>12.740741</td>\n",
       "      <td>1.227649</td>\n",
       "      <td>9.0</td>\n",
       "      <td>12.0</td>\n",
       "      <td>13.0</td>\n",
       "      <td>13.5</td>\n",
       "      <td>15.0</td>\n",
       "    </tr>\n",
       "    <tr>\n",
       "      <th>HC</th>\n",
       "      <td>100.0</td>\n",
       "      <td>12.700000</td>\n",
       "      <td>1.403459</td>\n",
       "      <td>8.0</td>\n",
       "      <td>12.0</td>\n",
       "      <td>13.0</td>\n",
       "      <td>14.0</td>\n",
       "      <td>15.0</td>\n",
       "    </tr>\n",
       "    <tr>\n",
       "      <th>bvFTD</th>\n",
       "      <td>41.0</td>\n",
       "      <td>12.731707</td>\n",
       "      <td>1.581524</td>\n",
       "      <td>7.0</td>\n",
       "      <td>12.0</td>\n",
       "      <td>13.0</td>\n",
       "      <td>14.0</td>\n",
       "      <td>15.0</td>\n",
       "    </tr>\n",
       "    <tr>\n",
       "      <th>nfvPPA</th>\n",
       "      <td>34.0</td>\n",
       "      <td>13.029412</td>\n",
       "      <td>1.424574</td>\n",
       "      <td>7.0</td>\n",
       "      <td>13.0</td>\n",
       "      <td>13.0</td>\n",
       "      <td>14.0</td>\n",
       "      <td>15.0</td>\n",
       "    </tr>\n",
       "    <tr>\n",
       "      <th>svPPA</th>\n",
       "      <td>37.0</td>\n",
       "      <td>13.081081</td>\n",
       "      <td>1.255618</td>\n",
       "      <td>10.0</td>\n",
       "      <td>12.0</td>\n",
       "      <td>13.0</td>\n",
       "      <td>14.0</td>\n",
       "      <td>15.0</td>\n",
       "    </tr>\n",
       "  </tbody>\n",
       "</table>\n",
       "</div>"
      ],
      "text/plain": [
       "            count       mean       std   min   25%   50%   75%   max\n",
       "diagnosis1                                                          \n",
       "AD           82.0  12.963415  1.190965  10.0  12.0  13.0  14.0  15.0\n",
       "CBS          27.0  12.740741  1.227649   9.0  12.0  13.0  13.5  15.0\n",
       "HC          100.0  12.700000  1.403459   8.0  12.0  13.0  14.0  15.0\n",
       "bvFTD        41.0  12.731707  1.581524   7.0  12.0  13.0  14.0  15.0\n",
       "nfvPPA       34.0  13.029412  1.424574   7.0  13.0  13.0  14.0  15.0\n",
       "svPPA        37.0  13.081081  1.255618  10.0  12.0  13.0  14.0  15.0"
      ]
     },
     "execution_count": 12,
     "metadata": {},
     "output_type": "execute_result"
    }
   ],
   "source": [
    "res_df.groupby(\"diagnosis1\")[\"metric\"].describe()"
   ]
  },
  {
   "cell_type": "code",
   "execution_count": null,
   "id": "6b32dca9-0431-49c7-b12a-ccf627a11a93",
   "metadata": {},
   "outputs": [],
   "source": []
  }
 ],
 "metadata": {
  "kernelspec": {
   "display_name": "Python 3 (ipykernel)",
   "language": "python",
   "name": "python3"
  },
  "language_info": {
   "codemirror_mode": {
    "name": "ipython",
    "version": 3
   },
   "file_extension": ".py",
   "mimetype": "text/x-python",
   "name": "python",
   "nbconvert_exporter": "python",
   "pygments_lexer": "ipython3",
   "version": "3.9.7"
  },
  "toc": {
   "base_numbering": 1,
   "nav_menu": {},
   "number_sections": true,
   "sideBar": true,
   "skip_h1_title": false,
   "title_cell": "Table of Contents",
   "title_sidebar": "Contents",
   "toc_cell": false,
   "toc_position": {},
   "toc_section_display": true,
   "toc_window_display": true
  }
 },
 "nbformat": 4,
 "nbformat_minor": 5
}
