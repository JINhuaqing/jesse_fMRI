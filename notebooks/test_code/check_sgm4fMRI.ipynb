{
 "cells": [
  {
   "cell_type": "markdown",
   "id": "55950736-4778-4461-a7e4-6a9323a8d9f5",
   "metadata": {},
   "source": [
    "This file is to convert Ben's sgm4fMRI matlab code to python\n",
    "\n",
    "also including testing part."
   ]
  },
  {
   "cell_type": "code",
   "execution_count": 1,
   "id": "f6316349-3e91-4ded-92a2-dd20ed6b1b17",
   "metadata": {
    "ExecuteTime": {
     "end_time": "2023-11-28T23:33:16.583476Z",
     "start_time": "2023-11-28T23:33:16.577996Z"
    },
    "execution": {
     "iopub.execute_input": "2023-11-07T03:32:34.768417Z",
     "iopub.status.busy": "2023-11-07T03:32:34.767625Z",
     "iopub.status.idle": "2023-11-07T03:32:34.780452Z",
     "shell.execute_reply": "2023-11-07T03:32:34.778461Z",
     "shell.execute_reply.started": "2023-11-07T03:32:34.768377Z"
    }
   },
   "outputs": [],
   "source": [
    "import sys\n",
    "sys.path.append(\"../../mypkg\")"
   ]
  },
  {
   "cell_type": "code",
   "execution_count": 2,
   "id": "761d4b55-4cb4-44a5-a408-1b9cbbc946b7",
   "metadata": {
    "ExecuteTime": {
     "end_time": "2023-11-28T23:33:17.482850Z",
     "start_time": "2023-11-28T23:33:16.584572Z"
    },
    "execution": {
     "iopub.execute_input": "2023-11-07T03:32:34.781850Z",
     "iopub.status.busy": "2023-11-07T03:32:34.781630Z",
     "iopub.status.idle": "2023-11-07T03:32:35.089801Z",
     "shell.execute_reply": "2023-11-07T03:32:35.088893Z",
     "shell.execute_reply.started": "2023-11-07T03:32:34.781825Z"
    }
   },
   "outputs": [],
   "source": [
    "from constants import RES_ROOT, FIG_ROOT, DATA_ROOT\n",
    "from utils.misc import load_pkl, save_pkl, get_ball_cor\n",
    "from utils.colors import qual_cmap\n",
    "from utils.measures import reg_R_fn"
   ]
  },
  {
   "cell_type": "code",
   "execution_count": 3,
   "id": "2d26dacb",
   "metadata": {
    "ExecuteTime": {
     "end_time": "2023-11-28T23:33:17.499059Z",
     "start_time": "2023-11-28T23:33:17.484595Z"
    }
   },
   "outputs": [],
   "source": [
    "%load_ext autoreload\n",
    "%autoreload 2\n",
    "# 0,1, 2, 3, be careful about the space"
   ]
  },
  {
   "cell_type": "code",
   "execution_count": 4,
   "id": "dd91ad51-fb83-4993-85e0-f089b427c9d6",
   "metadata": {
    "ExecuteTime": {
     "end_time": "2023-11-28T23:33:18.196909Z",
     "start_time": "2023-11-28T23:33:17.500945Z"
    },
    "execution": {
     "iopub.execute_input": "2023-11-07T03:32:35.090987Z",
     "iopub.status.busy": "2023-11-07T03:32:35.090684Z",
     "iopub.status.idle": "2023-11-07T03:32:35.553352Z",
     "shell.execute_reply": "2023-11-07T03:32:35.552456Z",
     "shell.execute_reply.started": "2023-11-07T03:32:35.090966Z"
    }
   },
   "outputs": [],
   "source": [
    "import numpy as np\n",
    "import scipy\n",
    "from scipy.io import loadmat\n",
    "from scipy import signal\n",
    "import matplotlib.pyplot as plt\n",
    "import seaborn as sns\n",
    "from tqdm import tqdm, trange\n",
    "import bct # the pkg to get graph features\n",
    "from joblib import Parallel, delayed\n",
    "from easydict import EasyDict as edict\n",
    "import pandas as pd\n",
    "\n",
    "plt.style.use(FIG_ROOT/'base.mplstyle')"
   ]
  },
  {
   "cell_type": "code",
   "execution_count": 5,
   "id": "8941fd49",
   "metadata": {
    "ExecuteTime": {
     "end_time": "2023-11-28T23:33:18.218140Z",
     "start_time": "2023-11-28T23:33:18.200736Z"
    }
   },
   "outputs": [],
   "source": [
    "import logging\n",
    "logger = logging.getLogger(__name__)\n",
    "logger.setLevel(logging.DEBUG)\n",
    "\n",
    "if not logger.hasHandlers():\n",
    "    ch = logging.StreamHandler() # for console. \n",
    "    ch.setLevel(logging.DEBUG)\n",
    "    formatter = logging.Formatter('%(asctime)s - %(name)s - %(levelname)s - %(message)s')\n",
    "    \n",
    "    # add formatter to ch\n",
    "    ch.setFormatter(formatter)\n",
    "    \n",
    "    logger.addHandler(ch)"
   ]
  },
  {
   "cell_type": "code",
   "execution_count": null,
   "id": "9cf4579c",
   "metadata": {},
   "outputs": [],
   "source": []
  },
  {
   "cell_type": "markdown",
   "id": "cd61ced4-9e45-453a-9c53-8a270823a8b2",
   "metadata": {},
   "source": [
    "# Fns and params"
   ]
  },
  {
   "cell_type": "markdown",
   "id": "2a3e0512-46ab-4f06-8b52-05216ec7ec7a",
   "metadata": {},
   "source": [
    "## Some fns"
   ]
  },
  {
   "cell_type": "code",
   "execution_count": 6,
   "id": "94714b2c-d3be-4815-9d74-20d42f0f3f0f",
   "metadata": {
    "ExecuteTime": {
     "end_time": "2023-11-28T23:33:18.240983Z",
     "start_time": "2023-11-28T23:33:18.220443Z"
    },
    "execution": {
     "iopub.execute_input": "2023-11-07T03:32:35.555130Z",
     "iopub.status.busy": "2023-11-07T03:32:35.554810Z",
     "iopub.status.idle": "2023-11-07T03:32:35.560867Z",
     "shell.execute_reply": "2023-11-07T03:32:35.560094Z",
     "shell.execute_reply.started": "2023-11-07T03:32:35.555107Z"
    }
   },
   "outputs": [],
   "source": [
    "def _preprocess_ts(ts):\n",
    "    \"\"\"preprocessing, \n",
    "        1. detrend\n",
    "        2. resample (len of seq has 235 or 555, I make it consistent to 235)\n",
    "    \"\"\"\n",
    "    ts = signal.detrend(ts);\n",
    "    if ts.shape[-1] > 235:\n",
    "        ts = signal.resample(ts, num=235, axis=-1)\n",
    "    return ts\n",
    "    \n",
    "def _get_fc(ts, is_fisher=True):\n",
    "    \"\"\"Get FC from ts, including \n",
    "        1. Pearsons'r \n",
    "        2. fisher transform\n",
    "        3. abs value\n",
    "    \"\"\"\n",
    "    fc = np.corrcoef(ts)\n",
    "    fc = fc - np.diag(np.diag(fc))\n",
    "    return fc\n",
    "\n",
    "    \n",
    "def _load_data(n):\n",
    "    \"\"\"Sub idx is from 1, n: the sub idx\n",
    "    \"\"\"\n",
    "    return mat_data['ts_321_273'][np.where(mat_data['subj_321_ts'][:, 0] == n)[0], :].transpose()"
   ]
  },
  {
   "cell_type": "markdown",
   "id": "27ceee6d-65f9-4da7-86e1-17d223e51ae5",
   "metadata": {},
   "source": [
    "## Load data and params"
   ]
  },
  {
   "cell_type": "code",
   "execution_count": 7,
   "id": "1b761799-d66a-441b-98f3-f13a2c1b0f0d",
   "metadata": {
    "ExecuteTime": {
     "end_time": "2023-11-28T23:33:19.681957Z",
     "start_time": "2023-11-28T23:33:18.242501Z"
    },
    "execution": {
     "iopub.execute_input": "2023-11-07T03:32:36.451229Z",
     "iopub.status.busy": "2023-11-07T03:32:36.450802Z",
     "iopub.status.idle": "2023-11-07T03:32:37.643145Z",
     "shell.execute_reply": "2023-11-07T03:32:37.642270Z",
     "shell.execute_reply.started": "2023-11-07T03:32:36.451192Z"
    }
   },
   "outputs": [],
   "source": [
    "# load data\n",
    "mat_data = loadmat(DATA_ROOT/\"ad_ftd_hc_fmri_data.mat\");\n",
    "\n",
    "# some parameters\n",
    "\n",
    "num_rois = 246 # the BNA has 246 regions\n",
    "num_sps = 321\n",
    "SC_mat = loadmat(DATA_ROOT/\"SC_HC_BN_template_nature_order.mat\")[\"SC_template\"];"
   ]
  },
  {
   "cell_type": "code",
   "execution_count": 106,
   "id": "2a9467fb",
   "metadata": {
    "ExecuteTime": {
     "end_time": "2023-11-28T23:43:29.440873Z",
     "start_time": "2023-11-28T23:43:29.419050Z"
    }
   },
   "outputs": [
    {
     "data": {
      "text/plain": [
       "1e-10"
      ]
     },
     "execution_count": 106,
     "metadata": {},
     "output_type": "execute_result"
    }
   ],
   "source": [
    "sub_ix = 4\n",
    "ts = _load_data(sub_ix)[:num_rois]\n",
    "data = _preprocess_ts(ts).T; # num of time pts x num of ROIs\n",
    "eps = 1e-10"
   ]
  },
  {
   "cell_type": "code",
   "execution_count": 107,
   "id": "fb8dc823",
   "metadata": {
    "ExecuteTime": {
     "end_time": "2023-11-28T23:43:29.868012Z",
     "start_time": "2023-11-28T23:43:29.816891Z"
    }
   },
   "outputs": [],
   "source": [
    "# Get Laplacian and eigmode\n",
    "SC = SC_mat.copy()\n",
    "SC = SC/np.sum(SC)\n",
    "cd, rd = SC.sum(axis=0), SC.sum(axis=1);\n",
    "L = np.eye(num_rois) - np.diag(1/(np.sqrt(rd)+eps))@SC@np.diag(1/(np.sqrt(cd)+eps));\n",
    "ev, U = np.linalg.eig(L);\n",
    "sorted_idx = np.argsort(np.abs(ev)) # ascending\n",
    "ev = ev[sorted_idx]\n",
    "U = U[:, sorted_idx];"
   ]
  },
  {
   "cell_type": "code",
   "execution_count": 108,
   "id": "f60cf751",
   "metadata": {
    "ExecuteTime": {
     "end_time": "2023-11-28T23:43:30.134544Z",
     "start_time": "2023-11-28T23:43:30.116448Z"
    }
   },
   "outputs": [],
   "source": [
    "params = edict()\n",
    "params.TR = 2 # \n",
    "params.fband = [0.008, 0.08]\n",
    "params.pwelch_windows = []\n",
    "params.costtype = \"corr\"\n",
    "params.perc_thresh = False\n",
    "params.eig_weights = True\n",
    "params.deconvHRF = False\n",
    "params.is_ann = False\n",
    "params.model_focus = \"FX\"\n",
    "params.fitmean = False\n",
    "params.theta = []"
   ]
  },
  {
   "cell_type": "code",
   "execution_count": 109,
   "id": "9aa65ddd",
   "metadata": {
    "ExecuteTime": {
     "end_time": "2023-11-28T23:43:30.411604Z",
     "start_time": "2023-11-28T23:43:30.392684Z"
    }
   },
   "outputs": [],
   "source": [
    "num_pts, num_rois = data.shape\n",
    "if num_pts < 64:\n",
    "    logger.warning(f\"Not enough timepoints ({num_pts}) for a good FFT; \"\n",
    "                   f\"therefore SGM is only fitting to FC.\")\n",
    "    params.model_focus = \"FC\"\n",
    "elif num_pts < 128:\n",
    "    nfft = 64\n",
    "else: \n",
    "    nfft = 128\n",
    "    \n",
    "fvec = np.linspace(params.fband[0], params.fband[1], nfft);\n",
    "omegavec = 2 * np.pi * fvec\n",
    "fs = 1/params.TR;"
   ]
  },
  {
   "cell_type": "code",
   "execution_count": 110,
   "id": "cebd8349",
   "metadata": {
    "ExecuteTime": {
     "end_time": "2023-11-28T23:43:30.656043Z",
     "start_time": "2023-11-28T23:43:30.631500Z"
    }
   },
   "outputs": [],
   "source": [
    "import scipy.signal as signal\n",
    "# Preprocessing time series\n",
    "# demean\n",
    "input_data = data - data.mean(axis=0, keepdims=True);\n",
    "# detrend along the time axis\n",
    "input_data = signal.detrend(input_data, axis=0);\n",
    "# lowpass filter\n",
    "sos = signal.butter(N=5, Wn=params.fband[1], btype=\"low\", fs=fs, output=\"sos\")\n",
    "input_data = signal.sosfilt(sos, input_data, axis=0);\n",
    "\n",
    "if params.deconvHRF:\n",
    "    # current not defined this function. \n",
    "    # difficult to know the definition. \n",
    "    input_data = deconv_HRF(input_data)"
   ]
  },
  {
   "cell_type": "code",
   "execution_count": 111,
   "id": "1c12ce9f",
   "metadata": {
    "ExecuteTime": {
     "end_time": "2023-11-28T23:43:30.861070Z",
     "start_time": "2023-11-28T23:43:30.840878Z"
    }
   },
   "outputs": [],
   "source": [
    "# Get empirical FC\n",
    "# get empirical FC, diagonal term is 0    \n",
    "emp_fc = np.corrcoef(input_data.T)\n",
    "np.fill_diagonal(emp_fc, 0);\n",
    "\n",
    "if params.perc_thresh:\n",
    "    # not definied, refer to Ben's github\n",
    "    emp_fc = perc_thresh(emp_fc)\n",
    "    \n",
    "# make it symmetric\n",
    "emp_fc =  np.triu(emp_fc, 1) + np.triu(emp_fc).T;"
   ]
  },
  {
   "cell_type": "code",
   "execution_count": 112,
   "id": "00f48358",
   "metadata": {
    "ExecuteTime": {
     "end_time": "2023-11-28T23:43:31.118779Z",
     "start_time": "2023-11-28T23:43:31.077902Z"
    }
   },
   "outputs": [],
   "source": [
    "# Get PSD\n",
    "from scipy.interpolate import interp1d\n",
    "def obt_psd_at_freqs(psd_raw, f, fvec):\n",
    "    \"\"\"\n",
    "    Calculate the power spectral density (PSD) at given frequency points.\n",
    "\n",
    "    Parameters:\n",
    "    psd_raw (array-like): The estimated PSD from Welch's method.\n",
    "    f (array-like): The frequency vector corresponding to the PSD.\n",
    "    fvec (array-like): The frequency points at which to calculate the PSD.\n",
    "\n",
    "    Returns:\n",
    "    array-like: The PSD values at the given frequency points (not in dB)\n",
    "\n",
    "    Notes:\n",
    "    - The input PSD is expected to be in linear scale, i.e., not in dB\n",
    "    - The PSD values are converted to dB scale using a small epsilon value to avoid taking the logarithm of zero.\n",
    "    - The PSD is smoothed using a 5-point symmetric linear-phase FIR filter.\n",
    "    - The PSD values at the given frequency points are obtained using linear interpolation.\n",
    "\n",
    "    \"\"\"\n",
    "    eps = 1e-10\n",
    "    psd_dB = 10*np.log10(psd_raw+eps)\n",
    "    \n",
    "    # Smooth the PSD\n",
    "    lpf = np.array([1, 2, 5, 2, 1]) \n",
    "    lpf = lpf/np.sum(lpf)\n",
    "    psd_dB = np.convolve(psd_dB, lpf, 'same')\n",
    "    \n",
    "    fit_psd = interp1d(f, psd_dB)\n",
    "    return 10**(fit_psd(fvec)/10)\n",
    "f, Pxx = signal.welch(input_data, fs=fs, nperseg=64, axis=0);\n",
    "# not in dB\n",
    "PSD = np.sqrt(np.array([obt_psd_at_freqs(Pxx[:, roi_ix], f, fvec) for roi_ix in range(num_rois)]).T);\n",
    "\n",
    "f_at_max = fvec[np.argmax(PSD, axis=0)];\n",
    "omega = 2*np.pi*f_at_max.mean();"
   ]
  },
  {
   "cell_type": "code",
   "execution_count": 113,
   "id": "6a3f0f48",
   "metadata": {
    "ExecuteTime": {
     "end_time": "2023-11-28T23:43:31.336644Z",
     "start_time": "2023-11-28T23:43:31.317441Z"
    }
   },
   "outputs": [
    {
     "data": {
      "text/plain": [
       "0.24553051921714494"
      ]
     },
     "execution_count": 113,
     "metadata": {},
     "output_type": "execute_result"
    }
   ],
   "source": [
    "omega"
   ]
  },
  {
   "cell_type": "code",
   "execution_count": 114,
   "id": "abed02e3",
   "metadata": {
    "ExecuteTime": {
     "end_time": "2023-11-28T23:43:31.597626Z",
     "start_time": "2023-11-28T23:43:31.546189Z"
    }
   },
   "outputs": [],
   "source": [
    "if params.eig_weights:\n",
    "    ev_weight = np.abs(np.diag(U.T @ emp_fc @ U))\n",
    "else:\n",
    "    ev_weight = np.ones(num_rois)\n",
    "ev_weight[0] = 0;"
   ]
  },
  {
   "cell_type": "code",
   "execution_count": 115,
   "id": "5a0f20e6",
   "metadata": {
    "ExecuteTime": {
     "end_time": "2023-11-28T23:43:31.816272Z",
     "start_time": "2023-11-28T23:43:31.795095Z"
    }
   },
   "outputs": [],
   "source": [
    "def _forward_FC(theta_star):\n",
    "    \"\"\"Checked with matlab code.\n",
    "    \"\"\"\n",
    "    alpha = np.tanh(theta_star[0])\n",
    "    tau = theta_star[1]\n",
    "    He = 1/tau**2/(1/tau+omega*1j)**2\n",
    "    newev = 1/(1j*omega + 1/tau*He*(1-alpha*(1-ev)));\n",
    "    newev = (np.abs(newev))**2 * ev_weight;\n",
    "    out_fc = U @ (newev.reshape(-1, 1) * np.conjugate(U).T);\n",
    "    dg = 1/(1e-4+np.sqrt(np.diag(out_fc)));\n",
    "    out_fc = out_fc * dg.reshape(-1, 1) * dg.reshape(1, -1)\n",
    "    return out_fc\n",
    "def _myfun_FC(theta_star):\n",
    "    out_fc = _forward_FC(theta_star);\n",
    "    kp_idxs = np.where(np.triu(out_fc, 1) != 0);\n",
    "    r = np.corrcoef(out_fc[kp_idxs], emp_fc[kp_idxs])[0, 1]\n",
    "    err = np.abs(1-r)\n",
    "    return err, r"
   ]
  },
  {
   "cell_type": "code",
   "execution_count": 116,
   "id": "27c1d4d4",
   "metadata": {
    "ExecuteTime": {
     "end_time": "2023-11-28T23:43:32.090655Z",
     "start_time": "2023-11-28T23:43:32.067656Z"
    }
   },
   "outputs": [],
   "source": [
    "def _forward_FX(theta_star):\n",
    "    alpha = np.tanh(theta_star[0])\n",
    "    tau = theta_star[1]\n",
    "    He = 1/tau**2/(1/tau+1j*omegavec)**2;\n",
    "    tmp_vec = 1j * omegavec;\n",
    "    tmp_mat = (1/tau*(1-alpha*(1-ev))).reshape(-1, 1) * He.reshape(1, -1)\n",
    "    frequency_response = ev_weight.reshape(-1, 1)/(tmp_mat + tmp_vec.reshape(1, -1));\n",
    "    \n",
    "    UtP = U.conj().T @ np.ones(ev.shape[0]);\n",
    "    out_fx = (U@(frequency_response * UtP[:, np.newaxis])).T;\n",
    "    return out_fx\n",
    "\n",
    "# theta_star = [0.2, 1]\n",
    "# omegavec1 = np.array([1, 2, 3, 4]);\n",
    "# ev1 = np.array([1, 2, 3])\n",
    "# ev_weight1 = np.array([3, 4, 5])\n",
    "# U1 = np.arange(1, 10).reshape(3, 3)\n",
    "# U2 = U1+4\n",
    "# UU = U1 + U2*1j\n",
    "# _forward_FX(theta_star, omegavec1, ev_weight1, ev1, UU)\n",
    "def minmax_fn(x, byrow=False):\n",
    "    if x.ndim == 1:\n",
    "        minmax_x = (x-x.min())/(x.max()-x.min())\n",
    "    elif x.ndim == 2:\n",
    "        if not byrow:\n",
    "            x = x.T\n",
    "        minmax_x = ((x - x.min(axis=1, keepdims=1))/(x.max(axis=1, keepdims=1) - x.min(axis=1, keepdims=1)))\n",
    "        \n",
    "        if not byrow:\n",
    "            minmax_x = minmax_x.T\n",
    "    return minmax_x\n",
    "\n",
    "def _myfun_FX(theta_star):\n",
    "    out_fx = _forward_FX(theta_star);\n",
    "    \n",
    "    if params.fitmean:\n",
    "        qdata = np.abs(PSD.mean(axis=1))[np.newaxis];\n",
    "        qmodel = np.abs(out_fx.mean(axis=1))[np.newaxis];\n",
    "        rvec = reg_R_fn(qdata, qmodel)\n",
    "    else:\n",
    "        qdata = np.abs(PSD).T\n",
    "        qmodel = np.abs(out_fx).T\n",
    "        rvec = reg_R_fn(qdata, qmodel)\n",
    "        \n",
    "        \n",
    "    if params.costtype.lower().startswith(\"corr\"):\n",
    "        errvec = np.abs(1-rvec)\n",
    "            \n",
    "    elif params.costtype.lower().startswith(\"mse\"):\n",
    "        qdata = minmax_fn(qdata, byrow=True)\n",
    "        qmodel = minmax_fn(qmodel, byrow=True)\n",
    "        errvec = np.mean((qdata-qmodel)**2, axis=1)\n",
    "        \n",
    "    rvec[np.isnan(rvec)] = 0\n",
    "    errvec[np.isnan(errvec)] = 0\n",
    "    return np.nanmean(errvec), rvec"
   ]
  },
  {
   "cell_type": "code",
   "execution_count": 117,
   "id": "53920fe4",
   "metadata": {
    "ExecuteTime": {
     "end_time": "2023-11-28T23:43:32.331065Z",
     "start_time": "2023-11-28T23:43:32.314179Z"
    },
    "code_folding": []
   },
   "outputs": [],
   "source": [
    "def _myfun_both(theta_star):\n",
    "    err_FC, r_FC = _myfun_FC(theta_star)\n",
    "    err_FX, rvec = _myfun_FX(theta_star)\n",
    "    r_FX = np.nanmean(rvec)\n",
    "    \n",
    "    err_b = err_FC + err_FX\n",
    "    return err_b, r_FC, r_FX"
   ]
  },
  {
   "cell_type": "code",
   "execution_count": 118,
   "id": "b06e5594",
   "metadata": {
    "ExecuteTime": {
     "end_time": "2023-11-28T23:43:32.609552Z",
     "start_time": "2023-11-28T23:43:32.590376Z"
    }
   },
   "outputs": [],
   "source": [
    "maxiter = 1000;\n",
    "theta0 = [0.5, 1]\n",
    "ll = [0.1, 0.1]\n",
    "ul = [10, 5]\n",
    "bds = [[0.1, 10], [0.1, 5]]\n",
    "\n",
    "if params.model_focus.lower().startswith(\"both\"):\n",
    "    obj_fn1 = _myfun_both\n",
    "elif params.model_focus.lower().startswith(\"fc\"):\n",
    "    obj_fn1 = _myfun_FC\n",
    "elif params.model_focus.lower().startswith(\"fx\"):\n",
    "    obj_fn1 = _myfun_FX\n",
    "obj_fn = lambda x: obj_fn1(x)[0];"
   ]
  },
  {
   "cell_type": "code",
   "execution_count": 119,
   "id": "1ce59447",
   "metadata": {
    "ExecuteTime": {
     "end_time": "2023-11-28T23:43:32.899245Z",
     "start_time": "2023-11-28T23:43:32.882441Z"
    }
   },
   "outputs": [],
   "source": [
    "from scipy.optimize import dual_annealing, minimize"
   ]
  },
  {
   "cell_type": "code",
   "execution_count": 120,
   "id": "077263ae",
   "metadata": {
    "ExecuteTime": {
     "end_time": "2023-11-28T23:43:33.331682Z",
     "start_time": "2023-11-28T23:43:33.208658Z"
    }
   },
   "outputs": [],
   "source": [
    "if not params.is_ann:\n",
    "    fit_res = minimize(obj_fn, x0=theta0, bounds=bds, options={\"maxiter\":maxiter})\n",
    "else:\n",
    "    fit_res = dual_annealing(obj_fn, x0=theta0, bounds=bds, maxiter=maxiter)\n",
    "    \n",
    "model_fc = _forward_FC(fit_res.x)\n",
    "model_psd = np.abs(_forward_FX(fit_res.x));"
   ]
  },
  {
   "cell_type": "code",
   "execution_count": 121,
   "id": "6334814e",
   "metadata": {
    "ExecuteTime": {
     "end_time": "2023-11-28T23:43:33.607109Z",
     "start_time": "2023-11-28T23:43:33.588531Z"
    }
   },
   "outputs": [
    {
     "data": {
      "text/plain": [
       "{'TR': 2,\n",
       " 'fband': [0.008, 0.08],\n",
       " 'pwelch_windows': [],\n",
       " 'costtype': 'corr',\n",
       " 'perc_thresh': False,\n",
       " 'eig_weights': True,\n",
       " 'deconvHRF': False,\n",
       " 'is_ann': False,\n",
       " 'model_focus': 'FX',\n",
       " 'fitmean': False,\n",
       " 'theta': []}"
      ]
     },
     "execution_count": 121,
     "metadata": {},
     "output_type": "execute_result"
    }
   ],
   "source": [
    "params"
   ]
  },
  {
   "cell_type": "code",
   "execution_count": 122,
   "id": "4acd3fd7",
   "metadata": {
    "ExecuteTime": {
     "end_time": "2023-11-28T23:43:34.261525Z",
     "start_time": "2023-11-28T23:43:34.242435Z"
    }
   },
   "outputs": [
    {
     "data": {
      "text/plain": [
       "      fun: 0.28685200426413276\n",
       " hess_inv: <2x2 LbfgsInvHessProduct with dtype=float64>\n",
       "      jac: array([-6.56141808e-06, -1.14352972e-06])\n",
       "  message: 'CONVERGENCE: NORM_OF_PROJECTED_GRADIENT_<=_PGTOL'\n",
       "     nfev: 51\n",
       "      nit: 10\n",
       "     njev: 17\n",
       "   status: 0\n",
       "  success: True\n",
       "        x: array([0.48911888, 2.39446794])"
      ]
     },
     "execution_count": 122,
     "metadata": {},
     "output_type": "execute_result"
    }
   ],
   "source": [
    "fit_res"
   ]
  },
  {
   "cell_type": "code",
   "execution_count": 123,
   "id": "58cd1cea",
   "metadata": {
    "ExecuteTime": {
     "end_time": "2023-11-28T23:43:35.499446Z",
     "start_time": "2023-11-28T23:43:35.479046Z"
    }
   },
   "outputs": [
    {
     "data": {
      "text/plain": [
       "array([[0.43013009+0.00960486j, 0.40650881+0.00723866j,\n",
       "        0.49101263+0.0103583j , ..., 0.25268883+0.00936384j,\n",
       "        0.37688604+0.01061218j, 0.3628753 +0.01465389j],\n",
       "       [0.43057321+0.01027282j, 0.40694624+0.00773636j,\n",
       "        0.49152557+0.01107689j, ..., 0.25291379+0.01002685j,\n",
       "        0.37725892+0.01135781j, 0.36318667+0.01569379j],\n",
       "       [0.43104739+0.01093809j, 0.40741433+0.00823085j,\n",
       "        0.49207447+0.01179222j, ..., 0.25315453+0.01068972j,\n",
       "        0.37765796+0.01210208j, 0.36351987+0.01673397j],\n",
       "       ...,\n",
       "       [0.79825266-0.21075211j, 0.75182024-0.26697848j,\n",
       "        0.91511109-0.26245697j, ..., 0.48652774+0.01386596j,\n",
       "        0.73679084-0.10096268j, 0.7025108 +0.06868837j],\n",
       "       [0.8009927 -0.22091763j, 0.75336961-0.27818884j,\n",
       "        0.91811097-0.27466266j, ..., 0.49079407+0.01088866j,\n",
       "        0.7419641 -0.10854173j, 0.70951479+0.06567877j],\n",
       "       [0.80346801-0.23131289j, 0.75459525-0.28963032j,\n",
       "        0.92079222-0.28714568j, ..., 0.49507116+0.00777289j,\n",
       "        0.7470442 -0.11638441j, 0.71660154+0.06248665j]])"
      ]
     },
     "execution_count": 123,
     "metadata": {},
     "output_type": "execute_result"
    }
   ],
   "source": [
    "_forward_FX([0.5, 1])"
   ]
  },
  {
   "cell_type": "code",
   "execution_count": null,
   "id": "fad38241",
   "metadata": {},
   "outputs": [],
   "source": []
  },
  {
   "cell_type": "code",
   "execution_count": null,
   "id": "909fe7c7",
   "metadata": {},
   "outputs": [],
   "source": []
  }
 ],
 "metadata": {
  "kernelspec": {
   "display_name": "Python 3 (ipykernel)",
   "language": "python",
   "name": "python3"
  },
  "language_info": {
   "codemirror_mode": {
    "name": "ipython",
    "version": 3
   },
   "file_extension": ".py",
   "mimetype": "text/x-python",
   "name": "python",
   "nbconvert_exporter": "python",
   "pygments_lexer": "ipython3",
   "version": "3.9.7"
  },
  "toc": {
   "base_numbering": 1,
   "nav_menu": {},
   "number_sections": true,
   "sideBar": true,
   "skip_h1_title": false,
   "title_cell": "Table of Contents",
   "title_sidebar": "Contents",
   "toc_cell": false,
   "toc_position": {
    "height": "calc(100% - 180px)",
    "left": "10px",
    "top": "150px",
    "width": "219.797px"
   },
   "toc_section_display": true,
   "toc_window_display": false
  }
 },
 "nbformat": 4,
 "nbformat_minor": 5
}
