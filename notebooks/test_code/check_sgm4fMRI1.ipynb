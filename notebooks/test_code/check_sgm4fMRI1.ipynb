{
 "cells": [
  {
   "cell_type": "markdown",
   "id": "55950736-4778-4461-a7e4-6a9323a8d9f5",
   "metadata": {},
   "source": [
    "This file is to convert Ben's sgm4fMRI matlab code to python\n",
    "\n",
    "also including testing part.\n",
    "\n",
    "Checked with Ben's matlab code ,refer to obsidian. (on Nov 30, 2023)"
   ]
  },
  {
   "cell_type": "code",
   "execution_count": 1,
   "id": "f6316349-3e91-4ded-92a2-dd20ed6b1b17",
   "metadata": {
    "ExecuteTime": {
     "end_time": "2023-11-30T23:16:25.905981Z",
     "start_time": "2023-11-30T23:16:25.899839Z"
    },
    "execution": {
     "iopub.execute_input": "2023-11-07T03:32:34.768417Z",
     "iopub.status.busy": "2023-11-07T03:32:34.767625Z",
     "iopub.status.idle": "2023-11-07T03:32:34.780452Z",
     "shell.execute_reply": "2023-11-07T03:32:34.778461Z",
     "shell.execute_reply.started": "2023-11-07T03:32:34.768377Z"
    }
   },
   "outputs": [],
   "source": [
    "import sys\n",
    "sys.path.append(\"../../mypkg\")"
   ]
  },
  {
   "cell_type": "code",
   "execution_count": 2,
   "id": "761d4b55-4cb4-44a5-a408-1b9cbbc946b7",
   "metadata": {
    "ExecuteTime": {
     "end_time": "2023-11-30T23:16:27.219778Z",
     "start_time": "2023-11-30T23:16:25.907561Z"
    },
    "execution": {
     "iopub.execute_input": "2023-11-07T03:32:34.781850Z",
     "iopub.status.busy": "2023-11-07T03:32:34.781630Z",
     "iopub.status.idle": "2023-11-07T03:32:35.089801Z",
     "shell.execute_reply": "2023-11-07T03:32:35.088893Z",
     "shell.execute_reply.started": "2023-11-07T03:32:34.781825Z"
    }
   },
   "outputs": [],
   "source": [
    "from constants import RES_ROOT, FIG_ROOT, DATA_ROOT, MIDRES_ROOT\n",
    "from utils.misc import load_pkl, save_pkl, get_ball_cor\n",
    "from utils.colors import qual_cmap\n",
    "from utils.measures import reg_R_fn\n",
    "from sgm_fMRI.utils import minmax_fn, obt_psd_at_freqs\n",
    "from sgm_fMRI.sgm import sgm_fMRI"
   ]
  },
  {
   "cell_type": "code",
   "execution_count": 3,
   "id": "2d26dacb",
   "metadata": {
    "ExecuteTime": {
     "end_time": "2023-11-30T23:16:27.238986Z",
     "start_time": "2023-11-30T23:16:27.221436Z"
    }
   },
   "outputs": [],
   "source": [
    "%load_ext autoreload\n",
    "%autoreload 2\n",
    "# 0,1, 2, 3, be careful about the space"
   ]
  },
  {
   "cell_type": "code",
   "execution_count": 4,
   "id": "dd91ad51-fb83-4993-85e0-f089b427c9d6",
   "metadata": {
    "ExecuteTime": {
     "end_time": "2023-11-30T23:16:27.678443Z",
     "start_time": "2023-11-30T23:16:27.241221Z"
    },
    "execution": {
     "iopub.execute_input": "2023-11-07T03:32:35.090987Z",
     "iopub.status.busy": "2023-11-07T03:32:35.090684Z",
     "iopub.status.idle": "2023-11-07T03:32:35.553352Z",
     "shell.execute_reply": "2023-11-07T03:32:35.552456Z",
     "shell.execute_reply.started": "2023-11-07T03:32:35.090966Z"
    }
   },
   "outputs": [],
   "source": [
    "import numpy as np\n",
    "import scipy\n",
    "from scipy.io import loadmat\n",
    "from scipy import signal\n",
    "import matplotlib.pyplot as plt\n",
    "import seaborn as sns\n",
    "from tqdm import tqdm, trange\n",
    "import bct # the pkg to get graph features\n",
    "from joblib import Parallel, delayed\n",
    "from easydict import EasyDict as edict\n",
    "import pandas as pd\n",
    "\n",
    "plt.style.use(FIG_ROOT/'base.mplstyle')"
   ]
  },
  {
   "cell_type": "code",
   "execution_count": 5,
   "id": "8941fd49",
   "metadata": {
    "ExecuteTime": {
     "end_time": "2023-11-30T23:16:27.698777Z",
     "start_time": "2023-11-30T23:16:27.679965Z"
    }
   },
   "outputs": [],
   "source": [
    "import logging\n",
    "logger = logging.getLogger(__name__)\n",
    "logger.setLevel(logging.DEBUG)\n",
    "\n",
    "if not logger.hasHandlers():\n",
    "    ch = logging.StreamHandler() # for console. \n",
    "    ch.setLevel(logging.DEBUG)\n",
    "    formatter = logging.Formatter('%(asctime)s - %(name)s - %(levelname)s - %(message)s')\n",
    "    \n",
    "    # add formatter to ch\n",
    "    ch.setFormatter(formatter)\n",
    "    \n",
    "    logger.addHandler(ch)"
   ]
  },
  {
   "cell_type": "code",
   "execution_count": 6,
   "id": "1d9107c2",
   "metadata": {
    "ExecuteTime": {
     "end_time": "2023-11-30T23:16:27.723168Z",
     "start_time": "2023-11-30T23:16:27.700612Z"
    }
   },
   "outputs": [],
   "source": [
    "logger.handlers[0].setLevel(logging.WARNING)"
   ]
  },
  {
   "cell_type": "code",
   "execution_count": null,
   "id": "9cf4579c",
   "metadata": {},
   "outputs": [],
   "source": []
  },
  {
   "cell_type": "markdown",
   "id": "cd61ced4-9e45-453a-9c53-8a270823a8b2",
   "metadata": {},
   "source": [
    "# Fns and params"
   ]
  },
  {
   "cell_type": "markdown",
   "id": "2a3e0512-46ab-4f06-8b52-05216ec7ec7a",
   "metadata": {},
   "source": [
    "## Some fns"
   ]
  },
  {
   "cell_type": "code",
   "execution_count": 7,
   "id": "94714b2c-d3be-4815-9d74-20d42f0f3f0f",
   "metadata": {
    "ExecuteTime": {
     "end_time": "2023-11-30T23:16:27.745462Z",
     "start_time": "2023-11-30T23:16:27.725262Z"
    },
    "execution": {
     "iopub.execute_input": "2023-11-07T03:32:35.555130Z",
     "iopub.status.busy": "2023-11-07T03:32:35.554810Z",
     "iopub.status.idle": "2023-11-07T03:32:35.560867Z",
     "shell.execute_reply": "2023-11-07T03:32:35.560094Z",
     "shell.execute_reply.started": "2023-11-07T03:32:35.555107Z"
    }
   },
   "outputs": [],
   "source": [
    "def _preprocess_ts(ts):\n",
    "    \"\"\"preprocessing, \n",
    "        1. detrend\n",
    "        2. resample (len of seq has 235 or 555, I make it consistent to 235)\n",
    "    \"\"\"\n",
    "    ts = signal.detrend(ts);\n",
    "    if ts.shape[-1] > 235:\n",
    "        ts = signal.resample(ts, num=235, axis=-1)\n",
    "    return ts\n",
    "    \n",
    "def _get_fc(ts, is_fisher=True):\n",
    "    \"\"\"Get FC from ts, including \n",
    "        1. Pearsons'r \n",
    "        2. fisher transform\n",
    "        3. abs value\n",
    "    \"\"\"\n",
    "    fc = np.corrcoef(ts)\n",
    "    fc = fc - np.diag(np.diag(fc))\n",
    "    return fc\n",
    "\n",
    "    \n",
    "def _load_data(n):\n",
    "    \"\"\"Sub idx is from 1, n: the sub idx\n",
    "    \"\"\"\n",
    "    return mat_data['ts_321_273'][np.where(mat_data['subj_321_ts'][:, 0] == n)[0], :].transpose()"
   ]
  },
  {
   "cell_type": "markdown",
   "id": "27ceee6d-65f9-4da7-86e1-17d223e51ae5",
   "metadata": {},
   "source": [
    "## Load data and params"
   ]
  },
  {
   "cell_type": "code",
   "execution_count": 8,
   "id": "1b761799-d66a-441b-98f3-f13a2c1b0f0d",
   "metadata": {
    "ExecuteTime": {
     "end_time": "2023-11-30T23:16:29.296769Z",
     "start_time": "2023-11-30T23:16:27.813603Z"
    },
    "execution": {
     "iopub.execute_input": "2023-11-07T03:32:36.451229Z",
     "iopub.status.busy": "2023-11-07T03:32:36.450802Z",
     "iopub.status.idle": "2023-11-07T03:32:37.643145Z",
     "shell.execute_reply": "2023-11-07T03:32:37.642270Z",
     "shell.execute_reply.started": "2023-11-07T03:32:36.451192Z"
    }
   },
   "outputs": [],
   "source": [
    "# load data\n",
    "mat_data = loadmat(DATA_ROOT/\"ad_ftd_hc_fmri_data.mat\");\n",
    "\n",
    "# some parameters\n",
    "\n",
    "num_rois = 246 # the BNA has 246 regions\n",
    "num_sps = 321\n",
    "SC_mat = loadmat(DATA_ROOT/\"SC_HC_BN_template_nature_order.mat\")[\"SC_template\"];\n",
    "#np.savetxt(MIDRES_ROOT/\"sc.txt\", SC_mat)"
   ]
  },
  {
   "cell_type": "code",
   "execution_count": 48,
   "id": "2a9467fb",
   "metadata": {
    "ExecuteTime": {
     "end_time": "2023-11-30T23:20:40.378674Z",
     "start_time": "2023-11-30T23:20:40.231215Z"
    }
   },
   "outputs": [],
   "source": [
    "sub_ix = 3\n",
    "ts = _load_data(sub_ix)[:num_rois]\n",
    "data = _preprocess_ts(ts).T; # num of time pts x num of ROIs\n",
    "np.savetxt(MIDRES_ROOT/\"data.txt\", data)"
   ]
  },
  {
   "cell_type": "code",
   "execution_count": null,
   "id": "b715757a",
   "metadata": {
    "ExecuteTime": {
     "end_time": "2023-11-30T22:18:43.031949Z",
     "start_time": "2023-11-30T22:18:42.892186Z"
    }
   },
   "outputs": [],
   "source": []
  },
  {
   "cell_type": "code",
   "execution_count": 55,
   "id": "18b4b100",
   "metadata": {
    "ExecuteTime": {
     "end_time": "2023-11-30T23:26:32.952552Z",
     "start_time": "2023-11-30T23:26:32.672483Z"
    }
   },
   "outputs": [
    {
     "name": "stderr",
     "output_type": "stream",
     "text": [
      "2023-11-30 15:26:32,727 - sgm_fMRI.sgm - DEBUG - {'TR': 2, 'fband': [0.008, 0.08], 'costtype': 'corr', 'perc_thresh': False, 'eig_weights': False, 'deconvHRF': False, 'is_ann': False, 'model_focus': 'both', 'fitmean': False}\n",
      "2023-11-30 15:26:32,727 - sgm_fMRI.sgm - DEBUG - {'TR': 2, 'fband': [0.008, 0.08], 'costtype': 'corr', 'perc_thresh': False, 'eig_weights': False, 'deconvHRF': False, 'is_ann': False, 'model_focus': 'both', 'fitmean': False}\n",
      "2023-11-30 15:26:32,756 - sgm_fMRI.sgm - DEBUG - {'theta0': [0.5, 1], 'maxiter': 1000, 'bds': [[0.1, 10], [0.1, 5]]}\n",
      "2023-11-30 15:26:32,756 - sgm_fMRI.sgm - DEBUG - {'theta0': [0.5, 1], 'maxiter': 1000, 'bds': [[0.1, 10], [0.1, 5]]}\n"
     ]
    }
   ],
   "source": [
    "fit_instance = sgm_fMRI(SC_mat);\n",
    "fit_instance.add_data(data, model_focus=\"both\", perc_thresh=False, fitmean=False, eig_weights=False)\n",
    "fit_instance.fit()"
   ]
  },
  {
   "cell_type": "code",
   "execution_count": 56,
   "id": "c0ef92c4",
   "metadata": {
    "ExecuteTime": {
     "end_time": "2023-11-30T23:26:33.410663Z",
     "start_time": "2023-11-30T23:26:33.387812Z"
    }
   },
   "outputs": [
    {
     "data": {
      "text/plain": [
       "(      fun: 1.3378362744653831\n",
       "  hess_inv: <2x2 LbfgsInvHessProduct with dtype=float64>\n",
       "       jac: array([-0.00000000e+00,  4.44089213e-08])\n",
       "   message: 'CONVERGENCE: NORM_OF_PROJECTED_GRADIENT_<=_PGTOL'\n",
       "      nfev: 42\n",
       "       nit: 7\n",
       "      njev: 14\n",
       "    status: 0\n",
       "   success: True\n",
       "         x: array([10.        ,  2.51802195]),\n",
       " 9067.59621821769)"
      ]
     },
     "execution_count": 56,
     "metadata": {},
     "output_type": "execute_result"
    }
   ],
   "source": [
    "fit_instance.fit_res, fit_instance.emp_fc.sum()"
   ]
  },
  {
   "cell_type": "code",
   "execution_count": 57,
   "id": "ee25de91",
   "metadata": {
    "ExecuteTime": {
     "end_time": "2023-11-30T23:26:34.485624Z",
     "start_time": "2023-11-30T23:26:34.357286Z"
    }
   },
   "outputs": [
    {
     "data": {
      "text/plain": [
       "[<matplotlib.lines.Line2D at 0x7f8a345eed30>]"
      ]
     },
     "execution_count": 57,
     "metadata": {},
     "output_type": "execute_result"
    },
    {
     "data": {
      "image/png": "[encoded data removed]",
      "text/plain": [
       "<Figure size 1000x500 with 1 Axes>"
      ]
     },
     "metadata": {
      "needs_background": "light"
     },
     "output_type": "display_data"
    }
   ],
   "source": [
    "plt.plot(fit_instance.omegavec/np.pi/2, fit_instance.emp_psd[:, 0])"
   ]
  },
  {
   "cell_type": "code",
   "execution_count": 58,
   "id": "1bb6014f",
   "metadata": {
    "ExecuteTime": {
     "end_time": "2023-11-30T23:26:36.039125Z",
     "start_time": "2023-11-30T23:26:36.012252Z"
    }
   },
   "outputs": [
    {
     "data": {
      "text/plain": [
       "array([[0.22351842, 0.0447422 , 0.20173269, ..., 0.12593917, 0.31976714,\n",
       "        0.57984049],\n",
       "       [0.22373308, 0.04479975, 0.20192919, ..., 0.12606059, 0.32008605,\n",
       "        0.580392  ],\n",
       "       [0.22396269, 0.04486134, 0.20213938, ..., 0.12619048, 0.32042723,\n",
       "        0.58098197],\n",
       "       ...,\n",
       "       [0.42684251, 0.10624804, 0.38668662, ..., 0.23959391, 0.64451122,\n",
       "        1.14093766],\n",
       "       [0.43077247, 0.10744132, 0.39016972, ..., 0.24165714, 0.65134299,\n",
       "        1.15309833],\n",
       "       [0.43475789, 0.10864432, 0.39369473, ..., 0.2437347 , 0.65828581,\n",
       "        1.16548856]])"
      ]
     },
     "execution_count": 58,
     "metadata": {},
     "output_type": "execute_result"
    }
   ],
   "source": [
    "fit_instance.forward_FX([0.5, 1])"
   ]
  },
  {
   "cell_type": "code",
   "execution_count": 59,
   "id": "a567f8b5",
   "metadata": {
    "ExecuteTime": {
     "end_time": "2023-11-30T23:27:12.673091Z",
     "start_time": "2023-11-30T23:27:12.613215Z"
    }
   },
   "outputs": [
    {
     "data": {
      "text/plain": [
       "array([[ 0.99982318,  0.07236566,  0.07593912, ..., -0.00151899,\n",
       "         0.00696423, -0.00157782],\n",
       "       [ 0.07236566,  0.99982245,  0.01759664, ...,  0.00202336,\n",
       "        -0.00395009,  0.00210689],\n",
       "       [ 0.07593912,  0.01759664,  0.99982305, ..., -0.00453408,\n",
       "         0.00873459, -0.00289573],\n",
       "       ...,\n",
       "       [-0.00151899,  0.00202336, -0.00453408, ...,  0.99982148,\n",
       "        -0.00243152,  0.01638759],\n",
       "       [ 0.00696423, -0.00395009,  0.00873459, ..., -0.00243152,\n",
       "         0.99982179, -0.00113304],\n",
       "       [-0.00157782,  0.00210689, -0.00289573, ...,  0.01638759,\n",
       "        -0.00113304,  0.99982189]])"
      ]
     },
     "execution_count": 59,
     "metadata": {},
     "output_type": "execute_result"
    }
   ],
   "source": [
    "fit_instance.forward_FC([0.5, 1])"
   ]
  },
  {
   "cell_type": "code",
   "execution_count": null,
   "id": "788e05b6",
   "metadata": {},
   "outputs": [],
   "source": []
  }
 ],
 "metadata": {
  "kernelspec": {
   "display_name": "Python 3 (ipykernel)",
   "language": "python",
   "name": "python3"
  },
  "language_info": {
   "codemirror_mode": {
    "name": "ipython",
    "version": 3
   },
   "file_extension": ".py",
   "mimetype": "text/x-python",
   "name": "python",
   "nbconvert_exporter": "python",
   "pygments_lexer": "ipython3",
   "version": "3.9.7"
  },
  "toc": {
   "base_numbering": 1,
   "nav_menu": {},
   "number_sections": true,
   "sideBar": true,
   "skip_h1_title": false,
   "title_cell": "Table of Contents",
   "title_sidebar": "Contents",
   "toc_cell": false,
   "toc_position": {
    "height": "calc(100% - 180px)",
    "left": "10px",
    "top": "150px",
    "width": "219.797px"
   },
   "toc_section_display": true,
   "toc_window_display": false
  }
 },
 "nbformat": 4,
 "nbformat_minor": 5
}
