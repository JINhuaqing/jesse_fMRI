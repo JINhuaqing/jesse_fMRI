{
 "cells": [
  {
   "cell_type": "markdown",
   "id": "55950736-4778-4461-a7e4-6a9323a8d9f5",
   "metadata": {},
   "source": [
    "In this file I analysis fMRI data with graph metrics. \n",
    "\n",
    "I consider two types\n",
    "\n",
    "1. corr FC with fisher transform and taking abs\n",
    "\n",
    "2. binary FC via MST. \n",
    "\n",
    "with yeo's 7 networks\n"
   ]
  },
  {
   "cell_type": "code",
   "execution_count": 1,
   "id": "f6316349-3e91-4ded-92a2-dd20ed6b1b17",
   "metadata": {
    "ExecuteTime": {
     "end_time": "2023-11-17T17:28:05.424580Z",
     "start_time": "2023-11-17T17:28:05.418474Z"
    },
    "execution": {
     "iopub.execute_input": "2023-11-07T03:27:56.995235Z",
     "iopub.status.busy": "2023-11-07T03:27:56.993748Z",
     "iopub.status.idle": "2023-11-07T03:27:57.007205Z",
     "shell.execute_reply": "2023-11-07T03:27:57.005890Z",
     "shell.execute_reply.started": "2023-11-07T03:27:56.995197Z"
    }
   },
   "outputs": [],
   "source": [
    "import sys\n",
    "sys.path.append(\"../mypkg\")"
   ]
  },
  {
   "cell_type": "code",
   "execution_count": 2,
   "id": "761d4b55-4cb4-44a5-a408-1b9cbbc946b7",
   "metadata": {
    "ExecuteTime": {
     "end_time": "2023-11-17T17:28:06.562541Z",
     "start_time": "2023-11-17T17:28:05.679605Z"
    },
    "execution": {
     "iopub.execute_input": "2023-11-07T03:27:57.142525Z",
     "iopub.status.busy": "2023-11-07T03:27:57.142147Z",
     "iopub.status.idle": "2023-11-07T03:27:57.209843Z",
     "shell.execute_reply": "2023-11-07T03:27:57.208993Z",
     "shell.execute_reply.started": "2023-11-07T03:27:57.142490Z"
    }
   },
   "outputs": [],
   "source": [
    "from constants import RES_ROOT, FIG_ROOT, DATA_ROOT\n",
    "from utils.misc import load_pkl, save_pkl, get_ball_cor\n",
    "from utils.colors import qual_cmap"
   ]
  },
  {
   "cell_type": "code",
   "execution_count": 3,
   "id": "3b79c385",
   "metadata": {
    "ExecuteTime": {
     "end_time": "2023-11-17T17:28:06.579722Z",
     "start_time": "2023-11-17T17:28:06.564509Z"
    }
   },
   "outputs": [],
   "source": [
    "%load_ext autoreload\n",
    "%autoreload 2\n",
    "# 0,1, 2, 3, be careful about the space"
   ]
  },
  {
   "cell_type": "code",
   "execution_count": 4,
   "id": "dd91ad51-fb83-4993-85e0-f089b427c9d6",
   "metadata": {
    "ExecuteTime": {
     "end_time": "2023-11-17T17:28:07.306485Z",
     "start_time": "2023-11-17T17:28:06.580998Z"
    },
    "execution": {
     "iopub.execute_input": "2023-11-07T03:27:57.462107Z",
     "iopub.status.busy": "2023-11-07T03:27:57.461635Z",
     "iopub.status.idle": "2023-11-07T03:27:58.146009Z",
     "shell.execute_reply": "2023-11-07T03:27:58.145200Z",
     "shell.execute_reply.started": "2023-11-07T03:27:57.462070Z"
    }
   },
   "outputs": [],
   "source": [
    "import numpy as np\n",
    "import scipy\n",
    "from scipy.io import loadmat\n",
    "from scipy import signal\n",
    "import matplotlib.pyplot as plt\n",
    "import seaborn as sns\n",
    "from tqdm import tqdm, trange\n",
    "import bct # the pkg to get graph features\n",
    "from joblib import Parallel, delayed\n",
    "from easydict import EasyDict as edict\n",
    "import pandas as pd\n",
    "\n",
    "plt.style.use(FIG_ROOT/'base.mplstyle')"
   ]
  },
  {
   "cell_type": "code",
   "execution_count": null,
   "id": "62ebe37d",
   "metadata": {},
   "outputs": [],
   "source": []
  },
  {
   "cell_type": "markdown",
   "id": "cd61ced4-9e45-453a-9c53-8a270823a8b2",
   "metadata": {},
   "source": [
    "# Fns and params"
   ]
  },
  {
   "cell_type": "markdown",
   "id": "2a3e0512-46ab-4f06-8b52-05216ec7ec7a",
   "metadata": {},
   "source": [
    "## Some fns"
   ]
  },
  {
   "cell_type": "code",
   "execution_count": 5,
   "id": "6028fd38",
   "metadata": {
    "ExecuteTime": {
     "end_time": "2023-11-17T17:28:07.536209Z",
     "start_time": "2023-11-17T17:28:07.498351Z"
    }
   },
   "outputs": [],
   "source": [
    "from prettytable import PrettyTable as PT\n",
    "from scipy.stats import f_oneway, ttest_ind \n",
    "\n",
    "def _get_test_tb(res_df):\n",
    "    tb = PT()\n",
    "    tb.field_names = [\"Test\", \"Pval\", \"Effect size\"]\n",
    "    \n",
    "    HC = res_df[\"metric\"][res_df[\"diagnosis\"]==6]\n",
    "    \n",
    "    def indicator(pval):\n",
    "        if pval < 0.05:\n",
    "            return \"*\"\n",
    "        else:\n",
    "            return \"\"\n",
    "    # list all disease\n",
    "    for diag_ix in range(1, 6):\n",
    "        DS = res_df[\"metric\"][res_df[\"diagnosis\"]==diag_ix]\n",
    "        ttest_res = ttest_ind(DS, HC)\n",
    "        effect_size = (np.mean(DS)-np.mean(HC))/np.std(np.concatenate([DS, HC]), ddof=2)\n",
    "        tb.add_row([f\"{indicator(ttest_res.pvalue)}{diag_lab_mapping[diag_ix]} vs HC\", \n",
    "                      f\"{ttest_res.pvalue:>6.3f}\", \n",
    "                      f\"{effect_size:>6.3f}\"])\n",
    "    \n",
    "    # pool 5 diseases together\n",
    "    DS = res_df[\"metric\"][res_df[\"diagnosis\"]!=6]\n",
    "    ttest_res = ttest_ind(DS, HC)\n",
    "    effect_size = (np.mean(DS)-np.mean(HC))/np.std(np.concatenate([DS, HC]), ddof=2)\n",
    "    tb.add_row([f\"{indicator(ttest_res.pvalue)}Dementia vs HC\", \n",
    "                f\"{ttest_res.pvalue:>6.3f}\", \n",
    "                f\"{effect_size:>6.3f}\"])\n",
    "    \n",
    "    # anova\n",
    "    metric_grp = [res_df[\"metric\"][res_df[\"diagnosis\"]==grp_ix] for grp_ix in range(1, 7)]\n",
    "    anova_res = f_oneway(*metric_grp)\n",
    "    tb.add_row([f\"{indicator(anova_res.pvalue)}ANOVA\", \n",
    "                f\"{anova_res.pvalue:>6.3f}\", \n",
    "                f\"\"])\n",
    "    tb.align[\"Test\"] = \"r\"\n",
    "    tb.align[\"Pval\"] = \"c\"\n",
    "    tb.align[\"Effect size\"] = \"c\"\n",
    "    return tb"
   ]
  },
  {
   "cell_type": "code",
   "execution_count": 6,
   "id": "d3012575-c6a8-41b8-af68-a2f6183b22c9",
   "metadata": {
    "ExecuteTime": {
     "end_time": "2023-11-17T17:28:08.062607Z",
     "start_time": "2023-11-17T17:28:08.042031Z"
    },
    "execution": {
     "iopub.execute_input": "2023-11-07T03:27:58.853219Z",
     "iopub.status.busy": "2023-11-07T03:27:58.852715Z",
     "iopub.status.idle": "2023-11-07T03:27:58.864403Z",
     "shell.execute_reply": "2023-11-07T03:27:58.863651Z",
     "shell.execute_reply.started": "2023-11-07T03:27:58.853181Z"
    }
   },
   "outputs": [],
   "source": [
    "def bin_fc(M, threshold_density=.1):\n",
    "    \"\"\"Binarize a fc to keep threshold_density of all edges and with MST\n",
    "    \"\"\"\n",
    "    assert type(M) == np.ndarray, \"Wrong type\"\n",
    "    # M = np.absolute(M) # We want negative correlations to be edges, too.\n",
    "    # Set diagonal to -1.  This makes sure it is added last, and thus\n",
    "    # will not screw up the algorithm below for adding edges.  We have\n",
    "    # ndarrays, so this is component-wise multiplication, not actual\n",
    "    # matrix multiplication.\n",
    "    M = (1-np.eye(M.shape[0], dtype='int'))*M + -1*np.eye(M.shape[0])\n",
    "    # Now we threshold it.  We start with a minimum spanning tree to\n",
    "    # ensure there are no disconnected nodes.  The cryptic square root\n",
    "    # stuff gives it ultrametricity.\n",
    "    MST = (np.asarray(scipy.sparse.csgraph.minimum_spanning_tree(np.sqrt(2*(1-M+1e-6))).todense()) != 0).astype(int)\n",
    "    MST = MST + MST.T # Numpy routine doesn't make the result symmetric\n",
    "    M = (1-MST)*M + -1*MST # Set MST to -1, like above w/ diagonal.\n",
    "    Tri = np.triu(M) # Remove duplicate elements for symmetric matrix\n",
    "    Rks = np.reshape(scipy.stats.rankdata(Tri, method='min'), Tri.shape) #Order them\n",
    "    Rks = 1+np.max(Rks)-Rks # +1 so they start at 1, not 0\n",
    "    # Correct for MST edges, the absence of a diagonal.  Divide by 2\n",
    "    # for undirected graph, since we are only considering a triangular\n",
    "    # matrix.\n",
    "    conns_to_add = (M.shape[0]*(M.shape[0]-1)/2)*threshold_density - (M.shape[0]-1)\n",
    "    newconns = Rks<=conns_to_add\n",
    "    newconns = np.logical_or(newconns, newconns.T)\n",
    "    Gmat = np.logical_or(MST, newconns)\n",
    "    return np.asarray(Gmat).astype(int)"
   ]
  },
  {
   "cell_type": "code",
   "execution_count": 7,
   "id": "7bde86ec-79f5-4c88-82f2-734a96a1220d",
   "metadata": {
    "ExecuteTime": {
     "end_time": "2023-11-17T17:28:08.518981Z",
     "start_time": "2023-11-17T17:28:08.492475Z"
    },
    "execution": {
     "iopub.execute_input": "2023-11-07T03:27:59.682726Z",
     "iopub.status.busy": "2023-11-07T03:27:59.682220Z",
     "iopub.status.idle": "2023-11-07T03:27:59.701742Z",
     "shell.execute_reply": "2023-11-07T03:27:59.700975Z",
     "shell.execute_reply.started": "2023-11-07T03:27:59.682689Z"
    }
   },
   "outputs": [],
   "source": [
    "def _get_dmat(mat):\n",
    "    dmat = mat + np.eye(mat.shape[0])\n",
    "    dmat = 1/dmat\n",
    "    np.fill_diagonal(dmat, np.inf)\n",
    "    return dmat\n",
    "    \n",
    "def shuffle_sysmat(mat):\n",
    "    \"\"\"\n",
    "    Shuffles the lower triangular elements of a matrix and returns a symmetric matrix with shuffled elements.\n",
    "\n",
    "    Parameters:\n",
    "    mat (numpy.ndarray): The input matrix.\n",
    "\n",
    "    Returns:\n",
    "    numpy.ndarray: A symmetric matrix with shuffled lower triangular elements and shuffled diagonal elements.\n",
    "    \"\"\"\n",
    "    mat = mat.copy()\n",
    "    trlMask1 = np.tril(np.ones_like(mat), k=-1)\n",
    "    eles = mat[trlMask1==1]\n",
    "    np.random.shuffle(eles)\n",
    "    sMat = np.zeros_like(mat)\n",
    "    sMat[trlMask1==1] = eles\n",
    "    diag_vs = np.diag(mat)\n",
    "    np.random.shuffle(diag_vs)\n",
    "    sMat = sMat + sMat.T + np.diag(diag_vs)\n",
    "    return sMat\n",
    "    \n",
    "def get_netmetrics(mat, nrep=50, show_prog=False):\n",
    "    \"\"\"\n",
    "    Calculates various network measures for a given adjacency matrix.\n",
    "\n",
    "    Parameters:\n",
    "    mat (numpy.ndarray): The adjacency matrix of the network.\n",
    "    nrep (int): The number of times to shuffle the matrix to calculate random measures.\n",
    "    show_prog (bool): Whether to show a progress bar during the shuffling process.\n",
    "\n",
    "    Returns:\n",
    "    dict: A dictionary containing the following network measures:\n",
    "        - tmC: The ratio of the mean clustering coefficient of the network to the mean clustering coefficient of the shuffled networks.\n",
    "        - tmL: The ratio of the mean shortest path length of the network to the mean shortest path length of the shuffled networks.\n",
    "        - tQ: The ratio of the modularity of the network to the modularity of the shuffled networks.\n",
    "        - mC: The mean clustering coefficient of the network.\n",
    "        - mL: The mean shortest path length of the network.\n",
    "        - Q: The modularity of the network.\n",
    "    \"\"\"\n",
    "    Cs = bct.clustering_coef_wu(mat)\n",
    "    mC = np.mean(Cs)\n",
    "    Ls = bct.distance_wei(_get_dmat(mat))[0]\n",
    "    mL = 1/np.mean(1/Ls[np.eye(Ls.shape[0])!=1])\n",
    "    _, Q = bct.modularity_und(mat)\n",
    "    \n",
    "    ranLs = []\n",
    "    ranQs = []\n",
    "    ranCs = []\n",
    "    if show_prog:\n",
    "        pbar = trange(nrep)\n",
    "    else:\n",
    "        pbar = range(nrep)\n",
    "    for i in pbar:\n",
    "        sMat = shuffle_sysmat(mat)\n",
    "        Cs = bct.clustering_coef_wu(sMat)\n",
    "        mCi = np.mean(Cs)\n",
    "        ranCs.append(mCi)\n",
    "        Ls = bct.distance_wei(_get_dmat(sMat))[0]\n",
    "        mLi = 1/np.mean(1/Ls[np.eye(Ls.shape[0])!=1])\n",
    "        ranLs.append(mLi)\n",
    "        _, Qi = bct.modularity_und(sMat)\n",
    "        ranQs.append(Qi)\n",
    "    \n",
    "    tQ = Q/np.mean(ranQs)\n",
    "    tmL  = mL/np.mean(ranLs)\n",
    "    tmC  = mC/np.mean(ranCs)\n",
    "    return {\n",
    "        \"tmC\": tmC, \n",
    "        \"tmL\": tmL, \n",
    "        \"tQ\": tQ, \n",
    "        \"mC\": mC, \n",
    "        \"mL\": mL, \n",
    "        \"Q\": Q, }\n",
    "    \n",
    "def get_netmetrics_bin(mat, nrep=50, show_prog=False):\n",
    "    \"\"\"\n",
    "    Calculates various network measures for a given binary adjacency matrix.\n",
    "\n",
    "    Parameters:\n",
    "    mat (numpy.ndarray): The adjacency matrix of the network.\n",
    "    nrep (int): The number of times to shuffle the matrix to calculate random measures.\n",
    "    show_prog (bool): Whether to show a progress bar during the shuffling process.\n",
    "\n",
    "    Returns:\n",
    "    dict: A dictionary containing the following network measures:\n",
    "        - tmC: The ratio of the mean clustering coefficient of the network to the mean clustering coefficient of the shuffled networks.\n",
    "        - tmL: The ratio of the mean shortest path length of the network to the mean shortest path length of the shuffled networks.\n",
    "        - tQ: The ratio of the modularity of the network to the modularity of the shuffled networks.\n",
    "        - mC: The mean clustering coefficient of the network.\n",
    "        - mL: The mean shortest path length of the network.\n",
    "        - Q: The modularity of the network.\n",
    "    \"\"\"\n",
    "    Cs = bct.clustering_coef_bu(mat)\n",
    "    mC = np.mean(Cs)\n",
    "    Ls = bct.distance_bin(mat)\n",
    "    mL = 1/np.mean(1/Ls[np.eye(Ls.shape[0])!=1])\n",
    "    _, Q = bct.modularity_und(mat)\n",
    "    \n",
    "    ranLs = []\n",
    "    ranQs = []\n",
    "    ranCs = []\n",
    "    if show_prog:\n",
    "        pbar = trange(nrep)\n",
    "    else:\n",
    "        pbar = range(nrep)\n",
    "    for i in pbar:\n",
    "        sMat = shuffle_sysmat(mat)\n",
    "        Cs = bct.clustering_coef_bu(sMat)\n",
    "        mCi = np.mean(Cs)\n",
    "        ranCs.append(mCi)\n",
    "        Ls = bct.distance_bin(sMat)\n",
    "        mLi = 1/np.mean(1/Ls[np.eye(Ls.shape[0])!=1])\n",
    "        ranLs.append(mLi)\n",
    "        _, Qi = bct.modularity_und(sMat)\n",
    "        ranQs.append(Qi)\n",
    "    \n",
    "    tQ = Q/np.mean(ranQs)\n",
    "    tmL  = mL/np.mean(ranLs)\n",
    "    tmC  = mC/np.mean(ranCs)\n",
    "    return {\n",
    "        \"tmC\": tmC, \n",
    "        \"tmL\": tmL, \n",
    "        \"tQ\": tQ, \n",
    "        \"mC\": mC, \n",
    "        \"mL\": mL, \n",
    "        \"Q\": Q, }"
   ]
  },
  {
   "cell_type": "code",
   "execution_count": 8,
   "id": "94714b2c-d3be-4815-9d74-20d42f0f3f0f",
   "metadata": {
    "ExecuteTime": {
     "end_time": "2023-11-17T17:28:09.063680Z",
     "start_time": "2023-11-17T17:28:09.042747Z"
    },
    "execution": {
     "iopub.execute_input": "2023-11-07T03:28:00.297583Z",
     "iopub.status.busy": "2023-11-07T03:28:00.297169Z",
     "iopub.status.idle": "2023-11-07T03:28:00.306720Z",
     "shell.execute_reply": "2023-11-07T03:28:00.305969Z",
     "shell.execute_reply.started": "2023-11-07T03:28:00.297547Z"
    }
   },
   "outputs": [],
   "source": [
    "def _preprocess_ts(ts):\n",
    "    \"\"\"preprocessing, \n",
    "        1. detrend\n",
    "        2. resample (len of seq has 235 or 555, I make it consistent to 235)\n",
    "    \"\"\"\n",
    "    ts = signal.detrend(ts);\n",
    "    if ts.shape[-1] > 235:\n",
    "        ts = signal.resample(ts, num=235, axis=-1)\n",
    "    return ts\n",
    "    \n",
    "def _get_fc(ts, is_fisher=True):\n",
    "    \"\"\"Get FC from ts, including \n",
    "        1. Pearsons'r \n",
    "        2. fisher transform\n",
    "        3. abs value\n",
    "    \"\"\"\n",
    "    fc = np.corrcoef(ts)\n",
    "    fc = fc - np.diag(np.diag(fc))\n",
    "    if is_fisher:\n",
    "        fc = np.arctanh(fc)\n",
    "    fc = np.abs(fc)\n",
    "    return fc\n",
    "\n",
    "def _get_binfc(ts):\n",
    "    \"\"\"Get FC from ts, including \n",
    "        1. Pearsons'r \n",
    "    \"\"\"\n",
    "    fc = np.corrcoef(ts)\n",
    "    fc = fc - np.diag(np.diag(fc))\n",
    "    return bin_fc(fc)\n",
    "    \n",
    "def _load_data(n):\n",
    "    \"\"\"Sub idx is from 1, n: the sub idx\n",
    "    \"\"\"\n",
    "    return mat_data['ts_321_273'][np.where(mat_data['subj_321_ts'][:, 0] == n)[0], :].transpose()"
   ]
  },
  {
   "cell_type": "markdown",
   "id": "27ceee6d-65f9-4da7-86e1-17d223e51ae5",
   "metadata": {},
   "source": [
    "## Load data and params"
   ]
  },
  {
   "cell_type": "code",
   "execution_count": 9,
   "id": "1b761799-d66a-441b-98f3-f13a2c1b0f0d",
   "metadata": {
    "ExecuteTime": {
     "end_time": "2023-11-17T17:28:12.125799Z",
     "start_time": "2023-11-17T17:28:10.436024Z"
    },
    "execution": {
     "iopub.execute_input": "2023-11-07T03:28:01.830510Z",
     "iopub.status.busy": "2023-11-07T03:28:01.830068Z",
     "iopub.status.idle": "2023-11-07T03:28:03.022752Z",
     "shell.execute_reply": "2023-11-07T03:28:03.021907Z",
     "shell.execute_reply.started": "2023-11-07T03:28:01.830473Z"
    }
   },
   "outputs": [
    {
     "name": "stdout",
     "output_type": "stream",
     "text": [
      "Load file /data/rajlab1/user_data/jin/MyResearch/jesse_data/notebooks/../mypkg/../data/ad_ftd_hc_fmri_data_7nets.pkl\n"
     ]
    }
   ],
   "source": [
    "# load data\n",
    "mat_data = loadmat(DATA_ROOT/\"ad_ftd_hc_fmri_data.mat\");\n",
    "\n",
    "# some parameters\n",
    "\n",
    "num_rois = 246 # the BNA has 246 regions\n",
    "num_sps = 321\n",
    "\n",
    "labs = pd.read_csv(DATA_ROOT/\"BN246_RegionList.csv\");\n",
    "yeo_7nets_lab = np.array(labs[\"Yeo_7network\"][:246]);\n",
    "\n",
    "yeo_7nets_dict = pd.read_csv(DATA_ROOT/\"yeo_7nets_dict.txt\");\n",
    "yeo_7nets_dict = {yeo_7nets_dict[\"lab\"][ix]:\"_\".join(yeo_7nets_dict[\"name\"][ix].strip().split(\" \"))\n",
    "                  for ix in range(7)}\n",
    "yeo_7nets_ts = load_pkl(DATA_ROOT/\"ad_ftd_hc_fmri_data_7nets.pkl\");"
   ]
  },
  {
   "cell_type": "code",
   "execution_count": null,
   "id": "a98ee28e-ce45-46b2-806b-3db54e6dcadc",
   "metadata": {},
   "outputs": [],
   "source": []
  },
  {
   "cell_type": "markdown",
   "id": "5b89b07e-98df-4093-9eb0-05405bcff530",
   "metadata": {},
   "source": [
    "# Get network(graph) metrics"
   ]
  },
  {
   "cell_type": "code",
   "execution_count": 13,
   "id": "70227244-6802-4a3a-94ad-361698faf7da",
   "metadata": {
    "ExecuteTime": {
     "end_time": "2023-11-17T04:14:55.204271Z",
     "start_time": "2023-11-17T04:14:55.135514Z"
    },
    "execution": {
     "iopub.execute_input": "2023-11-03T00:44:53.392636Z",
     "iopub.status.busy": "2023-11-03T00:44:53.392272Z",
     "iopub.status.idle": "2023-11-03T00:44:53.398542Z",
     "shell.execute_reply": "2023-11-03T00:44:53.397624Z",
     "shell.execute_reply.started": "2023-11-03T00:44:53.392600Z"
    }
   },
   "outputs": [],
   "source": [
    "def _run_fn(sub_ix):\n",
    "    ts = cur_tss[sub_ix-1]\n",
    "    fc = _get_fc(ts, is_fisher=True);\n",
    "    res = edict()\n",
    "    res.sub_ix = sub_ix \n",
    "    res.fc = fc\n",
    "    res.network_metrics = get_netmetrics(fc)\n",
    "    return res\n"
   ]
  },
  {
   "cell_type": "code",
   "execution_count": 14,
   "id": "0f4e6845-968a-4f0c-a5b1-375f6e989da5",
   "metadata": {
    "ExecuteTime": {
     "end_time": "2023-11-17T04:28:58.764100Z",
     "start_time": "2023-11-17T04:14:56.138733Z"
    },
    "execution": {
     "iopub.execute_input": "2023-11-03T00:45:13.358230Z",
     "iopub.status.busy": "2023-11-03T00:45:13.357830Z",
     "iopub.status.idle": "2023-11-03T02:09:50.280466Z",
     "shell.execute_reply": "2023-11-03T02:09:50.279489Z",
     "shell.execute_reply.started": "2023-11-03T00:45:13.358193Z"
    },
    "scrolled": true
   },
   "outputs": [
    {
     "name": "stderr",
     "output_type": "stream",
     "text": [
      "  5%|██████▍                                                                                                                                  | 15/321 [00:00<00:06, 43.91it/s]/opt/conda/lib/python3.9/site-packages/numpy/core/_asarray.py:102: VisibleDeprecationWarning: Creating an ndarray from ragged nested sequences (which is a list-or-tuple of lists-or-tuples-or ndarrays with different lengths or shapes) is deprecated. If you meant to do this, you must specify 'dtype=object' when creating the ndarray.\n",
      "  return array(a, dtype, copy=False, order=order)\n",
      "/opt/conda/lib/python3.9/site-packages/numpy/core/_asarray.py:102: VisibleDeprecationWarning: Creating an ndarray from ragged nested sequences (which is a list-or-tuple of lists-or-tuples-or ndarrays with different lengths or shapes) is deprecated. If you meant to do this, you must specify 'dtype=object' when creating the ndarray.\n",
      "  return array(a, dtype, copy=False, order=order)\n",
      "/opt/conda/lib/python3.9/site-packages/numpy/core/_asarray.py:102: VisibleDeprecationWarning: Creating an ndarray from ragged nested sequences (which is a list-or-tuple of lists-or-tuples-or ndarrays with different lengths or shapes) is deprecated. If you meant to do this, you must specify 'dtype=object' when creating the ndarray.\n",
      "  return array(a, dtype, copy=False, order=order)\n",
      "/opt/conda/lib/python3.9/site-packages/numpy/core/_asarray.py:102: VisibleDeprecationWarning: Creating an ndarray from ragged nested sequences (which is a list-or-tuple of lists-or-tuples-or ndarrays with different lengths or shapes) is deprecated. If you meant to do this, you must specify 'dtype=object' when creating the ndarray.\n",
      "  return array(a, dtype, copy=False, order=order)\n",
      "/opt/conda/lib/python3.9/site-packages/numpy/core/_asarray.py:102: VisibleDeprecationWarning: Creating an ndarray from ragged nested sequences (which is a list-or-tuple of lists-or-tuples-or ndarrays with different lengths or shapes) is deprecated. If you meant to do this, you must specify 'dtype=object' when creating the ndarray.\n",
      "  return array(a, dtype, copy=False, order=order)\n",
      "/opt/conda/lib/python3.9/site-packages/numpy/core/_asarray.py:102: VisibleDeprecationWarning: Creating an ndarray from ragged nested sequences (which is a list-or-tuple of lists-or-tuples-or ndarrays with different lengths or shapes) is deprecated. If you meant to do this, you must specify 'dtype=object' when creating the ndarray.\n",
      "  return array(a, dtype, copy=False, order=order)\n",
      "/opt/conda/lib/python3.9/site-packages/numpy/core/_asarray.py:102: VisibleDeprecationWarning: Creating an ndarray from ragged nested sequences (which is a list-or-tuple of lists-or-tuples-or ndarrays with different lengths or shapes) is deprecated. If you meant to do this, you must specify 'dtype=object' when creating the ndarray.\n",
      "  return array(a, dtype, copy=False, order=order)\n",
      "/opt/conda/lib/python3.9/site-packages/numpy/core/_asarray.py:102: VisibleDeprecationWarning: Creating an ndarray from ragged nested sequences (which is a list-or-tuple of lists-or-tuples-or ndarrays with different lengths or shapes) is deprecated. If you meant to do this, you must specify 'dtype=object' when creating the ndarray.\n",
      "  return array(a, dtype, copy=False, order=order)\n",
      "/opt/conda/lib/python3.9/site-packages/numpy/core/_asarray.py:102: VisibleDeprecationWarning: Creating an ndarray from ragged nested sequences (which is a list-or-tuple of lists-or-tuples-or ndarrays with different lengths or shapes) is deprecated. If you meant to do this, you must specify 'dtype=object' when creating the ndarray.\n",
      "  return array(a, dtype, copy=False, order=order)\n",
      "/opt/conda/lib/python3.9/site-packages/numpy/core/_asarray.py:102: VisibleDeprecationWarning: Creating an ndarray from ragged nested sequences (which is a list-or-tuple of lists-or-tuples-or ndarrays with different lengths or shapes) is deprecated. If you meant to do this, you must specify 'dtype=object' when creating the ndarray.\n",
      "  return array(a, dtype, copy=False, order=order)\n",
      "/opt/conda/lib/python3.9/site-packages/numpy/core/_asarray.py:102: VisibleDeprecationWarning: Creating an ndarray from ragged nested sequences (which is a list-or-tuple of lists-or-tuples-or ndarrays with different lengths or shapes) is deprecated. If you meant to do this, you must specify 'dtype=object' when creating the ndarray.\n",
      "  return array(a, dtype, copy=False, order=order)\n",
      "/opt/conda/lib/python3.9/site-packages/numpy/core/_asarray.py:102: VisibleDeprecationWarning: Creating an ndarray from ragged nested sequences (which is a list-or-tuple of lists-or-tuples-or ndarrays with different lengths or shapes) is deprecated. If you meant to do this, you must specify 'dtype=object' when creating the ndarray.\n",
      "  return array(a, dtype, copy=False, order=order)\n",
      "/opt/conda/lib/python3.9/site-packages/numpy/core/_asarray.py:102: VisibleDeprecationWarning: Creating an ndarray from ragged nested sequences (which is a list-or-tuple of lists-or-tuples-or ndarrays with different lengths or shapes) is deprecated. If you meant to do this, you must specify 'dtype=object' when creating the ndarray.\n",
      "  return array(a, dtype, copy=False, order=order)\n",
      "  9%|████████████▊                                                                                                                            | 30/321 [00:04<00:48,  5.94it/s]/opt/conda/lib/python3.9/site-packages/numpy/core/_asarray.py:102: VisibleDeprecationWarning: Creating an ndarray from ragged nested sequences (which is a list-or-tuple of lists-or-tuples-or ndarrays with different lengths or shapes) is deprecated. If you meant to do this, you must specify 'dtype=object' when creating the ndarray.\n",
      "  return array(a, dtype, copy=False, order=order)\n",
      "/opt/conda/lib/python3.9/site-packages/numpy/core/_asarray.py:102: VisibleDeprecationWarning: Creating an ndarray from ragged nested sequences (which is a list-or-tuple of lists-or-tuples-or ndarrays with different lengths or shapes) is deprecated. If you meant to do this, you must specify 'dtype=object' when creating the ndarray.\n",
      "  return array(a, dtype, copy=False, order=order)\n",
      "100%|████████████████████████████████████████████████████████████████████████████████████████████████████████████████████████████████████████| 321/321 [02:18<00:00,  2.32it/s]\n"
     ]
    },
    {
     "name": "stdout",
     "output_type": "stream",
     "text": [
      "Save to /data/rajlab1/user_data/jin/MyResearch/jesse_data/notebooks/../mypkg/../results/graph_metrics_fc_fisher_abs_Visual.pkl\n"
     ]
    },
    {
     "name": "stderr",
     "output_type": "stream",
     "text": [
      "100%|████████████████████████████████████████████████████████████████████████████████████████████████████████████████████████████████████████| 321/321 [02:08<00:00,  2.50it/s]\n"
     ]
    },
    {
     "name": "stdout",
     "output_type": "stream",
     "text": [
      "Save to /data/rajlab1/user_data/jin/MyResearch/jesse_data/notebooks/../mypkg/../results/graph_metrics_fc_fisher_abs_Somatomotor.pkl\n"
     ]
    },
    {
     "name": "stderr",
     "output_type": "stream",
     "text": [
      " 56%|████████████████████████████████████████████████████████████████████████████▎                                                           | 180/321 [00:59<00:53,  2.66it/s]/opt/conda/lib/python3.9/site-packages/joblib/externals/loky/process_executor.py:702: UserWarning: A worker stopped while some jobs were given to the executor. This can be caused by a too short worker timeout or by a memory leak.\n",
      "  warnings.warn(\n",
      " 61%|██████████████████████████████████████████████████████████████████████████████████▌                                                     | 195/321 [01:05<00:47,  2.65it/s]/opt/conda/lib/python3.9/site-packages/numpy/core/_asarray.py:102: VisibleDeprecationWarning: Creating an ndarray from ragged nested sequences (which is a list-or-tuple of lists-or-tuples-or ndarrays with different lengths or shapes) is deprecated. If you meant to do this, you must specify 'dtype=object' when creating the ndarray.\n",
      "  return array(a, dtype, copy=False, order=order)\n",
      "100%|████████████████████████████████████████████████████████████████████████████████████████████████████████████████████████████████████████| 321/321 [01:50<00:00,  2.91it/s]\n"
     ]
    },
    {
     "name": "stdout",
     "output_type": "stream",
     "text": [
      "Save to /data/rajlab1/user_data/jin/MyResearch/jesse_data/notebooks/../mypkg/../results/graph_metrics_fc_fisher_abs_Dorsal_Attention.pkl\n"
     ]
    },
    {
     "name": "stderr",
     "output_type": "stream",
     "text": [
      "100%|████████████████████████████████████████████████████████████████████████████████████████████████████████████████████████████████████████| 321/321 [01:02<00:00,  5.12it/s]\n"
     ]
    },
    {
     "name": "stdout",
     "output_type": "stream",
     "text": [
      "Save to /data/rajlab1/user_data/jin/MyResearch/jesse_data/notebooks/../mypkg/../results/graph_metrics_fc_fisher_abs_Ventral_Attention.pkl\n"
     ]
    },
    {
     "name": "stderr",
     "output_type": "stream",
     "text": [
      " 23%|████████████████████████████████                                                                                                         | 75/321 [00:15<00:58,  4.20it/s]/opt/conda/lib/python3.9/site-packages/numpy/core/_asarray.py:102: VisibleDeprecationWarning: Creating an ndarray from ragged nested sequences (which is a list-or-tuple of lists-or-tuples-or ndarrays with different lengths or shapes) is deprecated. If you meant to do this, you must specify 'dtype=object' when creating the ndarray.\n",
      "  return array(a, dtype, copy=False, order=order)\n",
      " 37%|██████████████████████████████████████████████████▊                                                                                     | 120/321 [00:29<00:57,  3.50it/s]/opt/conda/lib/python3.9/site-packages/numpy/core/_asarray.py:102: VisibleDeprecationWarning: Creating an ndarray from ragged nested sequences (which is a list-or-tuple of lists-or-tuples-or ndarrays with different lengths or shapes) is deprecated. If you meant to do this, you must specify 'dtype=object' when creating the ndarray.\n",
      "  return array(a, dtype, copy=False, order=order)\n",
      " 47%|███████████████████████████████████████████████████████████████▌                                                                        | 150/321 [00:38<00:49,  3.48it/s]/opt/conda/lib/python3.9/site-packages/numpy/core/_asarray.py:102: VisibleDeprecationWarning: Creating an ndarray from ragged nested sequences (which is a list-or-tuple of lists-or-tuples-or ndarrays with different lengths or shapes) is deprecated. If you meant to do this, you must specify 'dtype=object' when creating the ndarray.\n",
      "  return array(a, dtype, copy=False, order=order)\n",
      "100%|████████████████████████████████████████████████████████████████████████████████████████████████████████████████████████████████████████| 321/321 [01:26<00:00,  3.69it/s]\n"
     ]
    },
    {
     "name": "stdout",
     "output_type": "stream",
     "text": [
      "Save to /data/rajlab1/user_data/jin/MyResearch/jesse_data/notebooks/../mypkg/../results/graph_metrics_fc_fisher_abs_Limbic.pkl\n"
     ]
    },
    {
     "name": "stderr",
     "output_type": "stream",
     "text": [
      "100%|████████████████████████████████████████████████████████████████████████████████████████████████████████████████████████████████████████| 321/321 [01:25<00:00,  3.77it/s]\n"
     ]
    },
    {
     "name": "stdout",
     "output_type": "stream",
     "text": [
      "Save to /data/rajlab1/user_data/jin/MyResearch/jesse_data/notebooks/../mypkg/../results/graph_metrics_fc_fisher_abs_Frontoparietal.pkl\n"
     ]
    },
    {
     "name": "stderr",
     "output_type": "stream",
     "text": [
      "100%|████████████████████████████████████████████████████████████████████████████████████████████████████████████████████████████████████████| 321/321 [02:33<00:00,  2.09it/s]\n"
     ]
    },
    {
     "name": "stdout",
     "output_type": "stream",
     "text": [
      "Save to /data/rajlab1/user_data/jin/MyResearch/jesse_data/notebooks/../mypkg/../results/graph_metrics_fc_fisher_abs_Default.pkl\n"
     ]
    }
   ],
   "source": [
    "for net_ix in range(1, 8):\n",
    "    with Parallel(n_jobs=15) as parallel:\n",
    "        cur_tss = yeo_7nets_ts[yeo_7nets_dict[net_ix]]\n",
    "        res = parallel(delayed(_run_fn)(sub_ix) for sub_ix in tqdm(range(1, num_sps+1), total=num_sps))\n",
    "    save_pkl(RES_ROOT/f\"graph_metrics_fc_fisher_abs_{yeo_7nets_dict[net_ix]}.pkl\", res, is_force=True)"
   ]
  },
  {
   "cell_type": "code",
   "execution_count": 9,
   "id": "f5e3db4e-21e0-48dd-91f4-0961166ec02d",
   "metadata": {
    "execution": {
     "iopub.execute_input": "2023-11-03T02:31:39.571255Z",
     "iopub.status.busy": "2023-11-03T02:31:39.570840Z",
     "iopub.status.idle": "2023-11-03T02:31:40.742624Z",
     "shell.execute_reply": "2023-11-03T02:31:40.741706Z",
     "shell.execute_reply.started": "2023-11-03T02:31:39.571218Z"
    }
   },
   "outputs": [
    {
     "name": "stdout",
     "output_type": "stream",
     "text": [
      "Save to /MyResearch/jesse_data/notebooks/../mypkg/../results/graph_metrics_fc_fisher_abs.pkl\n"
     ]
    }
   ],
   "source": []
  },
  {
   "cell_type": "markdown",
   "id": "f6e9f461-c1ac-4e0f-838b-881380ce73ce",
   "metadata": {
    "execution": {
     "iopub.execute_input": "2023-11-02T20:40:04.977404Z",
     "iopub.status.busy": "2023-11-02T20:40:04.976878Z",
     "iopub.status.idle": "2023-11-02T20:40:04.981001Z",
     "shell.execute_reply": "2023-11-02T20:40:04.980136Z",
     "shell.execute_reply.started": "2023-11-02T20:40:04.977366Z"
    }
   },
   "source": [
    "## Analyasis"
   ]
  },
  {
   "cell_type": "code",
   "execution_count": 26,
   "id": "7f3b1994",
   "metadata": {
    "ExecuteTime": {
     "end_time": "2023-11-17T05:24:41.696672Z",
     "start_time": "2023-11-17T05:24:41.621022Z"
    },
    "execution": {
     "iopub.execute_input": "2023-11-07T03:28:19.070541Z",
     "iopub.status.busy": "2023-11-07T03:28:19.070082Z",
     "iopub.status.idle": "2023-11-07T03:28:19.076036Z",
     "shell.execute_reply": "2023-11-07T03:28:19.074991Z",
     "shell.execute_reply.started": "2023-11-07T03:28:19.070505Z"
    }
   },
   "outputs": [
    {
     "data": {
      "text/plain": [
       "{1: 'AD', 2: 'bvFTD', 3: 'CBS', 4: 'nfvPPA', 5: 'svPPA', 6: 'HC'}"
      ]
     },
     "execution_count": 26,
     "metadata": {},
     "output_type": "execute_result"
    }
   ],
   "source": [
    "from scipy.stats import f_oneway, ttest_ind \n",
    "diag_labs = mat_data[\"dx_321\"].reshape(-1)\n",
    "sex_labs = mat_data[\"sex_321\"].reshape(-1)\n",
    "diag_lab_mapping = {\n",
    " 1: \"AD\",\n",
    " 2: \"bvFTD\",\n",
    " 3: \"CBS\", \n",
    " 4: \"nfvPPA\", \n",
    " 5: \"svPPA\", \n",
    " 6: \"HC\"\n",
    "}"
   ]
  },
  {
   "cell_type": "code",
   "execution_count": 96,
   "id": "eaeb6081-2b8e-45c8-b468-18a8fccfea03",
   "metadata": {
    "ExecuteTime": {
     "end_time": "2023-11-17T06:54:04.431707Z",
     "start_time": "2023-11-17T06:54:04.353848Z"
    },
    "execution": {
     "iopub.execute_input": "2023-11-07T03:28:12.289180Z",
     "iopub.status.busy": "2023-11-07T03:28:12.288749Z",
     "iopub.status.idle": "2023-11-07T03:28:12.361847Z",
     "shell.execute_reply": "2023-11-07T03:28:12.360984Z",
     "shell.execute_reply.started": "2023-11-07T03:28:12.289143Z"
    }
   },
   "outputs": [
    {
     "name": "stdout",
     "output_type": "stream",
     "text": [
      "Load file /data/rajlab1/user_data/jin/MyResearch/jesse_data/notebooks/../mypkg/../results/graph_metrics_fc_fisher_abs_Somatomotor.pkl\n"
     ]
    }
   ],
   "source": [
    "net_ix =2\n",
    "res = load_pkl(RES_ROOT/f\"graph_metrics_fc_fisher_abs_{yeo_7nets_dict[net_ix]}.pkl\");"
   ]
  },
  {
   "cell_type": "code",
   "execution_count": 97,
   "id": "2b96be52-264b-4c22-a8b7-5f3e80667539",
   "metadata": {
    "ExecuteTime": {
     "end_time": "2023-11-17T06:54:06.299766Z",
     "start_time": "2023-11-17T06:54:06.061531Z"
    },
    "execution": {
     "iopub.execute_input": "2023-11-03T21:38:13.677111Z",
     "iopub.status.busy": "2023-11-03T21:38:13.676629Z",
     "iopub.status.idle": "2023-11-03T21:38:14.299917Z",
     "shell.execute_reply": "2023-11-03T21:38:14.299373Z",
     "shell.execute_reply.started": "2023-11-03T21:38:13.677073Z"
    }
   },
   "outputs": [
    {
     "data": {
      "text/plain": [
       "<AxesSubplot:>"
      ]
     },
     "execution_count": 97,
     "metadata": {},
     "output_type": "execute_result"
    },
    {
     "data": {
      "image/png": "[encoded data removed]",
      "text/plain": [
       "<Figure size 1000x500 with 2 Axes>"
      ]
     },
     "metadata": {
      "needs_background": "light"
     },
     "output_type": "display_data"
    }
   ],
   "source": [
    "# let check fc, the order should be left-right-alternative\n",
    "fcs = np.array([re[\"fc\"] for re in res])\n",
    "\n",
    "mfc = fcs.mean(axis=0)\n",
    "sns.heatmap(mfc, square=1)"
   ]
  },
  {
   "cell_type": "code",
   "execution_count": 98,
   "id": "36a4b84b",
   "metadata": {
    "ExecuteTime": {
     "end_time": "2023-11-17T06:54:07.080550Z",
     "start_time": "2023-11-17T06:54:06.902656Z"
    }
   },
   "outputs": [
    {
     "name": "stdout",
     "output_type": "stream",
     "text": [
      "Metric is tmC\n",
      "+-----------------+--------+-------------+\n",
      "|            Test |  Pval  | Effect size |\n",
      "+-----------------+--------+-------------+\n",
      "|        AD vs HC |  0.134 |     0.223   |\n",
      "|    *bvFTD vs HC |  0.038 |     0.382   |\n",
      "|       CBS vs HC |  0.372 |     0.194   |\n",
      "|   *nfvPPA vs HC |  0.002 |     0.616   |\n",
      "|    *svPPA vs HC |  0.000 |     0.947   |\n",
      "| *Dementia vs HC |  0.000 |     0.430   |\n",
      "|          *ANOVA |  0.000 |             |\n",
      "+-----------------+--------+-------------+\n"
     ]
    },
    {
     "data": {
      "image/png": "[encoded data removed]",
      "text/plain": [
       "<Figure size 1000x500 with 1 Axes>"
      ]
     },
     "metadata": {
      "needs_background": "light"
     },
     "output_type": "display_data"
    }
   ],
   "source": [
    "metric = \"tmC\"\n",
    "sub_ixs = np.array([re[\"sub_ix\"] for re in res])\n",
    "metrics = np.array([re[\"network_metrics\"][metric] for re in res])\n",
    "metrics = metrics[np.argsort(sub_ixs)]\n",
    "res_df = pd.DataFrame({\n",
    "    \"metric\": metrics, \n",
    "    \"sex\": sex_labs, \n",
    "    \"diagnosis\": diag_labs\n",
    "})\n",
    "res_df[\"diagnosis1\"] = res_df[\"diagnosis\"].map(diag_lab_mapping)\n",
    "sns.boxplot(data=res_df, x=\"diagnosis1\", y=\"metric\")\n",
    "plt.xlabel(\"Group\")\n",
    "plt.ylabel(f\"{metric}\")\n",
    "print(f\"Metric is {metric}\")\n",
    "print(_get_test_tb(res_df))"
   ]
  },
  {
   "cell_type": "code",
   "execution_count": 99,
   "id": "88a73b9b",
   "metadata": {
    "ExecuteTime": {
     "end_time": "2023-11-17T06:54:12.259055Z",
     "start_time": "2023-11-17T06:54:12.084036Z"
    }
   },
   "outputs": [
    {
     "name": "stdout",
     "output_type": "stream",
     "text": [
      "Metric is tmL\n",
      "+-----------------+--------+-------------+\n",
      "|            Test |  Pval  | Effect size |\n",
      "+-----------------+--------+-------------+\n",
      "|       *AD vs HC |  0.043 |     0.300   |\n",
      "|    *bvFTD vs HC |  0.027 |     0.408   |\n",
      "|       CBS vs HC |  0.081 |     0.377   |\n",
      "|   *nfvPPA vs HC |  0.017 |     0.470   |\n",
      "|    *svPPA vs HC |  0.000 |     0.845   |\n",
      "| *Dementia vs HC |  0.000 |     0.456   |\n",
      "|          *ANOVA |  0.000 |             |\n",
      "+-----------------+--------+-------------+\n"
     ]
    },
    {
     "data": {
      "image/png": "[encoded data removed]",
      "text/plain": [
       "<Figure size 1000x500 with 1 Axes>"
      ]
     },
     "metadata": {
      "needs_background": "light"
     },
     "output_type": "display_data"
    }
   ],
   "source": [
    "metric = \"tmL\"\n",
    "sub_ixs = np.array([re[\"sub_ix\"] for re in res])\n",
    "metrics = np.array([re[\"network_metrics\"][metric] for re in res])\n",
    "metrics = metrics[np.argsort(sub_ixs)]\n",
    "res_df = pd.DataFrame({\n",
    "    \"metric\": metrics, \n",
    "    \"sex\": sex_labs, \n",
    "    \"diagnosis\": diag_labs\n",
    "})\n",
    "res_df[\"diagnosis1\"] = res_df[\"diagnosis\"].map(diag_lab_mapping)\n",
    "sns.boxplot(data=res_df, x=\"diagnosis1\", y=\"metric\")\n",
    "plt.xlabel(\"Group\")\n",
    "plt.ylabel(f\"{metric}\")\n",
    "print(f\"Metric is {metric}\")\n",
    "print(_get_test_tb(res_df))"
   ]
  },
  {
   "cell_type": "code",
   "execution_count": 100,
   "id": "45ec2c7e",
   "metadata": {
    "ExecuteTime": {
     "end_time": "2023-11-17T06:54:15.749522Z",
     "start_time": "2023-11-17T06:54:15.577201Z"
    }
   },
   "outputs": [
    {
     "name": "stdout",
     "output_type": "stream",
     "text": [
      "Metric is tQ\n",
      "+-----------------+--------+-------------+\n",
      "|            Test |  Pval  | Effect size |\n",
      "+-----------------+--------+-------------+\n",
      "|        AD vs HC |  0.301 |    -0.154   |\n",
      "|     bvFTD vs HC |  0.124 |    -0.285   |\n",
      "|       CBS vs HC |  0.313 |    -0.219   |\n",
      "|   *nfvPPA vs HC |  0.026 |    -0.438   |\n",
      "|    *svPPA vs HC |  0.003 |    -0.558   |\n",
      "| *Dementia vs HC |  0.008 |    -0.318   |\n",
      "|          *ANOVA |  0.023 |             |\n",
      "+-----------------+--------+-------------+\n"
     ]
    },
    {
     "data": {
      "image/png": "[encoded data removed]",
      "text/plain": [
       "<Figure size 1000x500 with 1 Axes>"
      ]
     },
     "metadata": {
      "needs_background": "light"
     },
     "output_type": "display_data"
    }
   ],
   "source": [
    "metric = \"tQ\"\n",
    "sub_ixs = np.array([re[\"sub_ix\"] for re in res])\n",
    "metrics = np.array([re[\"network_metrics\"][metric] for re in res])\n",
    "metrics = metrics[np.argsort(sub_ixs)]\n",
    "res_df = pd.DataFrame({\n",
    "    \"metric\": metrics, \n",
    "    \"sex\": sex_labs, \n",
    "    \"diagnosis\": diag_labs\n",
    "})\n",
    "res_df[\"diagnosis1\"] = res_df[\"diagnosis\"].map(diag_lab_mapping)\n",
    "sns.boxplot(data=res_df, x=\"diagnosis1\", y=\"metric\")\n",
    "plt.xlabel(\"Group\")\n",
    "plt.ylabel(f\"{metric}\")\n",
    "print(f\"Metric is {metric}\")\n",
    "print(_get_test_tb(res_df))"
   ]
  },
  {
   "cell_type": "code",
   "execution_count": 24,
   "id": "06fa9a0b-95c2-424a-bde2-46b72c733984",
   "metadata": {
    "ExecuteTime": {
     "end_time": "2023-11-17T05:23:58.583891Z",
     "start_time": "2023-11-17T05:23:58.551408Z"
    },
    "execution": {
     "iopub.execute_input": "2023-11-03T17:47:43.724690Z",
     "iopub.status.busy": "2023-11-03T17:47:43.724349Z",
     "iopub.status.idle": "2023-11-03T17:47:43.730404Z",
     "shell.execute_reply": "2023-11-03T17:47:43.729683Z",
     "shell.execute_reply.started": "2023-11-03T17:47:43.724667Z"
    }
   },
   "outputs": [
    {
     "data": {
      "text/plain": [
       "['tmC', 'tmL', 'tQ']"
      ]
     },
     "execution_count": 24,
     "metadata": {},
     "output_type": "execute_result"
    }
   ],
   "source": [
    "sub_ixs = np.array([re[\"sub_ix\"] for re in res])\n",
    "metricss = np.array([(re[\"network_metrics\"][\"tmC\"], re[\"network_metrics\"][\"tmL\"], re[\"network_metrics\"][\"tQ\"])\n",
    "                     for re in res])\n",
    "metricss = metricss[np.argsort(sub_ixs)]\n",
    "cmap = plt.cm.get_cmap('Set1')\n",
    "cols = cmap(np.linspace(0, 1, len(set(diag_labs))))\n",
    "graph_metric_labs = [\"tmC\", \"tmL\", \"tQ\"]"
   ]
  },
  {
   "cell_type": "code",
   "execution_count": 25,
   "id": "91aa5bd8-ef9f-436e-9e0f-eea8c9e47e2a",
   "metadata": {
    "ExecuteTime": {
     "end_time": "2023-11-17T05:24:00.942430Z",
     "start_time": "2023-11-17T05:24:00.702549Z"
    },
    "execution": {
     "iopub.execute_input": "2023-11-03T17:50:33.206531Z",
     "iopub.status.busy": "2023-11-03T17:50:33.206203Z",
     "iopub.status.idle": "2023-11-03T17:50:33.409604Z",
     "shell.execute_reply": "2023-11-03T17:50:33.408774Z",
     "shell.execute_reply.started": "2023-11-03T17:50:33.206508Z"
    }
   },
   "outputs": [
    {
     "data": {
      "text/plain": [
       "<matplotlib.legend.Legend at 0x7f0d90726880>"
      ]
     },
     "execution_count": 25,
     "metadata": {},
     "output_type": "execute_result"
    },
    {
     "data": {
      "image/png": "[encoded data removed]",
      "text/plain": [
       "<Figure size 1000x500 with 1 Axes>"
      ]
     },
     "metadata": {
      "needs_background": "light"
     },
     "output_type": "display_data"
    }
   ],
   "source": [
    "xix = 0\n",
    "yix = 1\n",
    "for ix in range(1, len(set(diag_labs))+1):\n",
    "    plt.scatter(x=metricss[diag_labs==ix, xix], y=metricss[diag_labs==ix, yix], color=cols[ix-1], label=diag_lab_mapping[ix])\n",
    "plt.xlabel(graph_metric_labs[xix])\n",
    "plt.ylabel(graph_metric_labs[yix])\n",
    "plt.legend(loc=\"lower right\", fontsize=12)"
   ]
  },
  {
   "cell_type": "code",
   "execution_count": null,
   "id": "e8b08e3d-5f45-4812-b4dd-aa904a4cac29",
   "metadata": {},
   "outputs": [],
   "source": []
  },
  {
   "cell_type": "markdown",
   "id": "1c89c8d3-82a7-48de-bb24-7f17ec479b01",
   "metadata": {},
   "source": [
    "# Get binary network(graph) metrics"
   ]
  },
  {
   "cell_type": "code",
   "execution_count": 64,
   "id": "e5d4e634",
   "metadata": {
    "ExecuteTime": {
     "end_time": "2023-11-17T05:51:14.777081Z",
     "start_time": "2023-11-17T05:51:14.722466Z"
    }
   },
   "outputs": [],
   "source": [
    "def _run_fn(sub_ix):\n",
    "    ts = cur_tss[sub_ix-1]\n",
    "    fc = _get_binfc(ts)\n",
    "    res = edict()\n",
    "    res.sub_ix = sub_ix \n",
    "    res.fc = fc\n",
    "    res.network_metrics = get_netmetrics_bin(fc)\n",
    "    return res\n"
   ]
  },
  {
   "cell_type": "code",
   "execution_count": 65,
   "id": "1159b987",
   "metadata": {
    "ExecuteTime": {
     "end_time": "2023-11-17T05:55:58.397375Z",
     "start_time": "2023-11-17T05:51:26.349914Z"
    },
    "execution": {
     "iopub.execute_input": "2023-11-03T00:45:13.358230Z",
     "iopub.status.busy": "2023-11-03T00:45:13.357830Z",
     "iopub.status.idle": "2023-11-03T02:09:50.280466Z",
     "shell.execute_reply": "2023-11-03T02:09:50.279489Z",
     "shell.execute_reply.started": "2023-11-03T00:45:13.358193Z"
    },
    "scrolled": true
   },
   "outputs": [
    {
     "name": "stderr",
     "output_type": "stream",
     "text": [
      "  5%|██████▍                                                                                                                                  | 15/321 [00:00<00:13, 22.95it/s]/opt/conda/lib/python3.9/site-packages/numpy/core/_asarray.py:102: VisibleDeprecationWarning: Creating an ndarray from ragged nested sequences (which is a list-or-tuple of lists-or-tuples-or ndarrays with different lengths or shapes) is deprecated. If you meant to do this, you must specify 'dtype=object' when creating the ndarray.\n",
      "  return array(a, dtype, copy=False, order=order)\n",
      "/opt/conda/lib/python3.9/site-packages/numpy/core/_asarray.py:102: VisibleDeprecationWarning: Creating an ndarray from ragged nested sequences (which is a list-or-tuple of lists-or-tuples-or ndarrays with different lengths or shapes) is deprecated. If you meant to do this, you must specify 'dtype=object' when creating the ndarray.\n",
      "  return array(a, dtype, copy=False, order=order)\n",
      "/opt/conda/lib/python3.9/site-packages/numpy/core/_asarray.py:102: VisibleDeprecationWarning: Creating an ndarray from ragged nested sequences (which is a list-or-tuple of lists-or-tuples-or ndarrays with different lengths or shapes) is deprecated. If you meant to do this, you must specify 'dtype=object' when creating the ndarray.\n",
      "  return array(a, dtype, copy=False, order=order)\n",
      "/opt/conda/lib/python3.9/site-packages/numpy/core/_asarray.py:102: VisibleDeprecationWarning: Creating an ndarray from ragged nested sequences (which is a list-or-tuple of lists-or-tuples-or ndarrays with different lengths or shapes) is deprecated. If you meant to do this, you must specify 'dtype=object' when creating the ndarray.\n",
      "  return array(a, dtype, copy=False, order=order)\n",
      "/opt/conda/lib/python3.9/site-packages/numpy/core/_asarray.py:102: VisibleDeprecationWarning: Creating an ndarray from ragged nested sequences (which is a list-or-tuple of lists-or-tuples-or ndarrays with different lengths or shapes) is deprecated. If you meant to do this, you must specify 'dtype=object' when creating the ndarray.\n",
      "  return array(a, dtype, copy=False, order=order)\n",
      "  9%|████████████▊                                                                                                                            | 30/321 [00:01<00:17, 16.20it/s]/opt/conda/lib/python3.9/site-packages/numpy/core/_asarray.py:102: VisibleDeprecationWarning: Creating an ndarray from ragged nested sequences (which is a list-or-tuple of lists-or-tuples-or ndarrays with different lengths or shapes) is deprecated. If you meant to do this, you must specify 'dtype=object' when creating the ndarray.\n",
      "  return array(a, dtype, copy=False, order=order)\n",
      "/opt/conda/lib/python3.9/site-packages/numpy/core/_asarray.py:102: VisibleDeprecationWarning: Creating an ndarray from ragged nested sequences (which is a list-or-tuple of lists-or-tuples-or ndarrays with different lengths or shapes) is deprecated. If you meant to do this, you must specify 'dtype=object' when creating the ndarray.\n",
      "  return array(a, dtype, copy=False, order=order)\n",
      "/opt/conda/lib/python3.9/site-packages/numpy/core/_asarray.py:102: VisibleDeprecationWarning: Creating an ndarray from ragged nested sequences (which is a list-or-tuple of lists-or-tuples-or ndarrays with different lengths or shapes) is deprecated. If you meant to do this, you must specify 'dtype=object' when creating the ndarray.\n",
      "  return array(a, dtype, copy=False, order=order)\n",
      "/opt/conda/lib/python3.9/site-packages/numpy/core/_asarray.py:102: VisibleDeprecationWarning: Creating an ndarray from ragged nested sequences (which is a list-or-tuple of lists-or-tuples-or ndarrays with different lengths or shapes) is deprecated. If you meant to do this, you must specify 'dtype=object' when creating the ndarray.\n",
      "  return array(a, dtype, copy=False, order=order)\n",
      "/opt/conda/lib/python3.9/site-packages/numpy/core/_asarray.py:102: VisibleDeprecationWarning: Creating an ndarray from ragged nested sequences (which is a list-or-tuple of lists-or-tuples-or ndarrays with different lengths or shapes) is deprecated. If you meant to do this, you must specify 'dtype=object' when creating the ndarray.\n",
      "  return array(a, dtype, copy=False, order=order)\n",
      "/opt/conda/lib/python3.9/site-packages/numpy/core/_asarray.py:102: VisibleDeprecationWarning: Creating an ndarray from ragged nested sequences (which is a list-or-tuple of lists-or-tuples-or ndarrays with different lengths or shapes) is deprecated. If you meant to do this, you must specify 'dtype=object' when creating the ndarray.\n",
      "  return array(a, dtype, copy=False, order=order)\n",
      "/opt/conda/lib/python3.9/site-packages/numpy/core/_asarray.py:102: VisibleDeprecationWarning: Creating an ndarray from ragged nested sequences (which is a list-or-tuple of lists-or-tuples-or ndarrays with different lengths or shapes) is deprecated. If you meant to do this, you must specify 'dtype=object' when creating the ndarray.\n",
      "  return array(a, dtype, copy=False, order=order)\n",
      "/opt/conda/lib/python3.9/site-packages/numpy/core/_asarray.py:102: VisibleDeprecationWarning: Creating an ndarray from ragged nested sequences (which is a list-or-tuple of lists-or-tuples-or ndarrays with different lengths or shapes) is deprecated. If you meant to do this, you must specify 'dtype=object' when creating the ndarray.\n",
      "  return array(a, dtype, copy=False, order=order)\n",
      "/opt/conda/lib/python3.9/site-packages/numpy/core/_asarray.py:102: VisibleDeprecationWarning: Creating an ndarray from ragged nested sequences (which is a list-or-tuple of lists-or-tuples-or ndarrays with different lengths or shapes) is deprecated. If you meant to do this, you must specify 'dtype=object' when creating the ndarray.\n",
      "  return array(a, dtype, copy=False, order=order)\n",
      "/opt/conda/lib/python3.9/site-packages/numpy/core/_asarray.py:102: VisibleDeprecationWarning: Creating an ndarray from ragged nested sequences (which is a list-or-tuple of lists-or-tuples-or ndarrays with different lengths or shapes) is deprecated. If you meant to do this, you must specify 'dtype=object' when creating the ndarray.\n",
      "  return array(a, dtype, copy=False, order=order)\n",
      "100%|████████████████████████████████████████████████████████████████████████████████████████████████████████████████████████████████████████| 321/321 [00:43<00:00,  7.38it/s]\n"
     ]
    },
    {
     "name": "stdout",
     "output_type": "stream",
     "text": [
      "Save to /data/rajlab1/user_data/jin/MyResearch/jesse_data/notebooks/../mypkg/../results/graph_metrics_bfc_Visual.pkl\n"
     ]
    },
    {
     "name": "stderr",
     "output_type": "stream",
     "text": [
      "100%|████████████████████████████████████████████████████████████████████████████████████████████████████████████████████████████████████████| 321/321 [00:40<00:00,  7.95it/s]\n"
     ]
    },
    {
     "name": "stdout",
     "output_type": "stream",
     "text": [
      "Save to /data/rajlab1/user_data/jin/MyResearch/jesse_data/notebooks/../mypkg/../results/graph_metrics_bfc_Somatomotor.pkl\n"
     ]
    },
    {
     "name": "stderr",
     "output_type": "stream",
     "text": [
      " 84%|██████████████████████████████████████████████████████████████████████████████████████████████████████████████████▍                     | 270/321 [00:30<00:06,  8.31it/s]/opt/conda/lib/python3.9/site-packages/joblib/externals/loky/process_executor.py:702: UserWarning: A worker stopped while some jobs were given to the executor. This can be caused by a too short worker timeout or by a memory leak.\n",
      "  warnings.warn(\n",
      " 93%|███████████████████████████████████████████████████████████████████████████████████████████████████████████████████████████████         | 300/321 [00:33<00:02,  8.39it/s]/opt/conda/lib/python3.9/site-packages/numpy/core/_asarray.py:102: VisibleDeprecationWarning: Creating an ndarray from ragged nested sequences (which is a list-or-tuple of lists-or-tuples-or ndarrays with different lengths or shapes) is deprecated. If you meant to do this, you must specify 'dtype=object' when creating the ndarray.\n",
      "  return array(a, dtype, copy=False, order=order)\n",
      "100%|████████████████████████████████████████████████████████████████████████████████████████████████████████████████████████████████████████| 321/321 [00:35<00:00,  8.95it/s]\n"
     ]
    },
    {
     "name": "stdout",
     "output_type": "stream",
     "text": [
      "Save to /data/rajlab1/user_data/jin/MyResearch/jesse_data/notebooks/../mypkg/../results/graph_metrics_bfc_Dorsal_Attention.pkl\n"
     ]
    },
    {
     "name": "stderr",
     "output_type": "stream",
     "text": [
      "100%|████████████████████████████████████████████████████████████████████████████████████████████████████████████████████████████████████████| 321/321 [00:26<00:00, 12.18it/s]\n"
     ]
    },
    {
     "name": "stdout",
     "output_type": "stream",
     "text": [
      "Save to /data/rajlab1/user_data/jin/MyResearch/jesse_data/notebooks/../mypkg/../results/graph_metrics_bfc_Ventral_Attention.pkl\n"
     ]
    },
    {
     "name": "stderr",
     "output_type": "stream",
     "text": [
      "100%|████████████████████████████████████████████████████████████████████████████████████████████████████████████████████████████████████████| 321/321 [00:28<00:00, 11.21it/s]\n"
     ]
    },
    {
     "name": "stdout",
     "output_type": "stream",
     "text": [
      "Save to /data/rajlab1/user_data/jin/MyResearch/jesse_data/notebooks/../mypkg/../results/graph_metrics_bfc_Limbic.pkl\n"
     ]
    },
    {
     "name": "stderr",
     "output_type": "stream",
     "text": [
      "100%|████████████████████████████████████████████████████████████████████████████████████████████████████████████████████████████████████████| 321/321 [00:28<00:00, 11.31it/s]\n"
     ]
    },
    {
     "name": "stdout",
     "output_type": "stream",
     "text": [
      "Save to /data/rajlab1/user_data/jin/MyResearch/jesse_data/notebooks/../mypkg/../results/graph_metrics_bfc_Frontoparietal.pkl\n"
     ]
    },
    {
     "name": "stderr",
     "output_type": "stream",
     "text": [
      "100%|████████████████████████████████████████████████████████████████████████████████████████████████████████████████████████████████████████| 321/321 [00:42<00:00,  7.49it/s]\n"
     ]
    },
    {
     "name": "stdout",
     "output_type": "stream",
     "text": [
      "Save to /data/rajlab1/user_data/jin/MyResearch/jesse_data/notebooks/../mypkg/../results/graph_metrics_bfc_Default.pkl\n"
     ]
    }
   ],
   "source": [
    "for net_ix in range(1, 8):\n",
    "    with Parallel(n_jobs=15) as parallel:\n",
    "        cur_tss = yeo_7nets_ts[yeo_7nets_dict[net_ix]]\n",
    "        res = parallel(delayed(_run_fn)(sub_ix) for sub_ix in tqdm(range(1, num_sps+1), total=num_sps))\n",
    "    save_pkl(RES_ROOT/f\"graph_metrics_bfc_{yeo_7nets_dict[net_ix]}.pkl\", res, is_force=True)"
   ]
  },
  {
   "cell_type": "code",
   "execution_count": null,
   "id": "3c1652dd",
   "metadata": {},
   "outputs": [],
   "source": []
  },
  {
   "cell_type": "code",
   "execution_count": null,
   "id": "dda3207e",
   "metadata": {},
   "outputs": [],
   "source": []
  },
  {
   "cell_type": "markdown",
   "id": "938a6e69-df8c-4742-9af2-7e9609798533",
   "metadata": {},
   "source": [
    "## Analysis"
   ]
  },
  {
   "cell_type": "code",
   "execution_count": 66,
   "id": "1a75cd5f",
   "metadata": {
    "ExecuteTime": {
     "end_time": "2023-11-17T05:56:05.417516Z",
     "start_time": "2023-11-17T05:56:05.354794Z"
    },
    "execution": {
     "iopub.execute_input": "2023-11-07T03:31:42.393372Z",
     "iopub.status.busy": "2023-11-07T03:31:42.393034Z",
     "iopub.status.idle": "2023-11-07T03:31:42.397519Z",
     "shell.execute_reply": "2023-11-07T03:31:42.396743Z",
     "shell.execute_reply.started": "2023-11-07T03:31:42.393349Z"
    }
   },
   "outputs": [
    {
     "data": {
      "text/plain": [
       "{1: 'AD', 2: 'bvFTD', 3: 'CBS', 4: 'nfvPPA', 5: 'svPPA', 6: 'HC'}"
      ]
     },
     "execution_count": 66,
     "metadata": {},
     "output_type": "execute_result"
    }
   ],
   "source": [
    "diag_labs = mat_data[\"dx_321\"].reshape(-1)\n",
    "sex_labs = mat_data[\"sex_321\"].reshape(-1)\n",
    "diag_lab_mapping = {\n",
    " 1: \"AD\",\n",
    " 2: \"bvFTD\",\n",
    " 3: \"CBS\", \n",
    " 4: \"nfvPPA\", \n",
    " 5: \"svPPA\", \n",
    " 6: \"HC\"\n",
    "}"
   ]
  },
  {
   "cell_type": "code",
   "execution_count": 92,
   "id": "0a8f6944-1a57-4da2-8e55-3a1ebd8c1fdc",
   "metadata": {
    "ExecuteTime": {
     "end_time": "2023-11-17T05:58:04.569759Z",
     "start_time": "2023-11-17T05:58:04.538557Z"
    },
    "execution": {
     "iopub.execute_input": "2023-11-07T03:31:41.633155Z",
     "iopub.status.busy": "2023-11-07T03:31:41.632834Z",
     "iopub.status.idle": "2023-11-07T03:31:41.699356Z",
     "shell.execute_reply": "2023-11-07T03:31:41.698447Z",
     "shell.execute_reply.started": "2023-11-07T03:31:41.633134Z"
    }
   },
   "outputs": [
    {
     "name": "stdout",
     "output_type": "stream",
     "text": [
      "Load file /data/rajlab1/user_data/jin/MyResearch/jesse_data/notebooks/../mypkg/../results/graph_metrics_bfc_Default.pkl\n"
     ]
    }
   ],
   "source": [
    "net_ix = 7\n",
    "res = load_pkl(RES_ROOT/f\"graph_metrics_bfc_{yeo_7nets_dict[net_ix]}.pkl\");"
   ]
  },
  {
   "cell_type": "code",
   "execution_count": 93,
   "id": "3921d1f0",
   "metadata": {
    "ExecuteTime": {
     "end_time": "2023-11-17T05:58:05.456203Z",
     "start_time": "2023-11-17T05:58:05.283729Z"
    }
   },
   "outputs": [
    {
     "name": "stdout",
     "output_type": "stream",
     "text": [
      "Metric is tmC\n",
      "+----------------+--------+-------------+\n",
      "|           Test |  Pval  | Effect size |\n",
      "+----------------+--------+-------------+\n",
      "|       AD vs HC |  0.357 |    -0.137   |\n",
      "|    bvFTD vs HC |  0.206 |    -0.234   |\n",
      "|      CBS vs HC |  0.268 |    -0.240   |\n",
      "|   nfvPPA vs HC |  0.844 |     0.039   |\n",
      "|    svPPA vs HC |  0.677 |    -0.080   |\n",
      "| Dementia vs HC |  0.266 |    -0.134   |\n",
      "|          ANOVA |  0.667 |             |\n",
      "+----------------+--------+-------------+\n"
     ]
    },
    {
     "data": {
      "image/png": "[encoded data removed]",
      "text/plain": [
       "<Figure size 1000x500 with 1 Axes>"
      ]
     },
     "metadata": {
      "needs_background": "light"
     },
     "output_type": "display_data"
    }
   ],
   "source": [
    "metric = \"tmC\"\n",
    "sub_ixs = np.array([re[\"sub_ix\"] for re in res])\n",
    "metrics = np.array([re[\"network_metrics\"][metric] for re in res])\n",
    "metrics = metrics[np.argsort(sub_ixs)]\n",
    "res_df = pd.DataFrame({\n",
    "    \"metric\": metrics, \n",
    "    \"sex\": sex_labs, \n",
    "    \"diagnosis\": diag_labs\n",
    "})\n",
    "res_df[\"diagnosis1\"] = res_df[\"diagnosis\"].map(diag_lab_mapping)\n",
    "sns.boxplot(data=res_df, x=\"diagnosis1\", y=\"metric\")\n",
    "plt.xlabel(\"Group\")\n",
    "plt.ylabel(f\"{metric}\")\n",
    "print(f\"Metric is {metric}\")\n",
    "print(_get_test_tb(res_df))"
   ]
  },
  {
   "cell_type": "code",
   "execution_count": 94,
   "id": "44903e49",
   "metadata": {
    "ExecuteTime": {
     "end_time": "2023-11-17T05:58:08.371328Z",
     "start_time": "2023-11-17T05:58:08.156193Z"
    }
   },
   "outputs": [
    {
     "name": "stdout",
     "output_type": "stream",
     "text": [
      "Metric is tmL\n",
      "+----------------+--------+-------------+\n",
      "|           Test |  Pval  | Effect size |\n",
      "+----------------+--------+-------------+\n",
      "|       AD vs HC |  0.741 |     0.049   |\n",
      "|    bvFTD vs HC |  0.667 |     0.080   |\n",
      "|     *CBS vs HC |  0.034 |     0.457   |\n",
      "|   nfvPPA vs HC |  0.115 |     0.312   |\n",
      "|   *svPPA vs HC |  0.017 |     0.455   |\n",
      "| Dementia vs HC |  0.074 |     0.215   |\n",
      "|          ANOVA |  0.054 |             |\n",
      "+----------------+--------+-------------+\n"
     ]
    },
    {
     "data": {
      "image/png": "[encoded data removed]",
      "text/plain": [
       "<Figure size 1000x500 with 1 Axes>"
      ]
     },
     "metadata": {
      "needs_background": "light"
     },
     "output_type": "display_data"
    }
   ],
   "source": [
    "metric = \"tmL\"\n",
    "sub_ixs = np.array([re[\"sub_ix\"] for re in res])\n",
    "metrics = np.array([re[\"network_metrics\"][metric] for re in res])\n",
    "metrics = metrics[np.argsort(sub_ixs)]\n",
    "res_df = pd.DataFrame({\n",
    "    \"metric\": metrics, \n",
    "    \"sex\": sex_labs, \n",
    "    \"diagnosis\": diag_labs\n",
    "})\n",
    "res_df[\"diagnosis1\"] = res_df[\"diagnosis\"].map(diag_lab_mapping)\n",
    "sns.boxplot(data=res_df, x=\"diagnosis1\", y=\"metric\")\n",
    "plt.xlabel(\"Group\")\n",
    "plt.ylabel(f\"{metric}\")\n",
    "print(f\"Metric is {metric}\")\n",
    "print(_get_test_tb(res_df))"
   ]
  },
  {
   "cell_type": "code",
   "execution_count": 95,
   "id": "7e8e0dfb",
   "metadata": {
    "ExecuteTime": {
     "end_time": "2023-11-17T05:58:09.338014Z",
     "start_time": "2023-11-17T05:58:09.161796Z"
    }
   },
   "outputs": [
    {
     "name": "stdout",
     "output_type": "stream",
     "text": [
      "Metric is tQ\n",
      "+----------------+--------+-------------+\n",
      "|           Test |  Pval  | Effect size |\n",
      "+----------------+--------+-------------+\n",
      "|       AD vs HC |  0.833 |    -0.031   |\n",
      "|    bvFTD vs HC |  0.780 |     0.052   |\n",
      "|      CBS vs HC |  0.762 |     0.066   |\n",
      "|   nfvPPA vs HC |  0.226 |     0.240   |\n",
      "|    svPPA vs HC |  0.573 |    -0.109   |\n",
      "| Dementia vs HC |  0.842 |     0.024   |\n",
      "|          ANOVA |  0.758 |             |\n",
      "+----------------+--------+-------------+\n"
     ]
    },
    {
     "data": {
      "image/png": "[encoded data removed]",
      "text/plain": [
       "<Figure size 1000x500 with 1 Axes>"
      ]
     },
     "metadata": {
      "needs_background": "light"
     },
     "output_type": "display_data"
    }
   ],
   "source": [
    "metric = \"tQ\"\n",
    "sub_ixs = np.array([re[\"sub_ix\"] for re in res])\n",
    "metrics = np.array([re[\"network_metrics\"][metric] for re in res])\n",
    "metrics = metrics[np.argsort(sub_ixs)]\n",
    "res_df = pd.DataFrame({\n",
    "    \"metric\": metrics, \n",
    "    \"sex\": sex_labs, \n",
    "    \"diagnosis\": diag_labs\n",
    "})\n",
    "res_df[\"diagnosis1\"] = res_df[\"diagnosis\"].map(diag_lab_mapping)\n",
    "sns.boxplot(data=res_df, x=\"diagnosis1\", y=\"metric\")\n",
    "plt.xlabel(\"Group\")\n",
    "plt.ylabel(f\"{metric}\")\n",
    "print(f\"Metric is {metric}\")\n",
    "print(_get_test_tb(res_df))"
   ]
  },
  {
   "cell_type": "code",
   "execution_count": null,
   "id": "0ed29203-2a5d-4b0a-a929-32b342863f11",
   "metadata": {},
   "outputs": [],
   "source": []
  },
  {
   "cell_type": "code",
   "execution_count": null,
   "id": "d877ae72",
   "metadata": {},
   "outputs": [],
   "source": []
  },
  {
   "cell_type": "markdown",
   "id": "f89373ec",
   "metadata": {},
   "source": [
    "# Get ball corr FC "
   ]
  },
  {
   "cell_type": "code",
   "execution_count": 10,
   "id": "89dedda1",
   "metadata": {
    "ExecuteTime": {
     "end_time": "2023-11-17T17:28:18.204821Z",
     "start_time": "2023-11-17T17:28:18.182643Z"
    }
   },
   "outputs": [],
   "source": [
    "def get_bcorr_FC(ts, verbose=False):\n",
    "    \"\"\"\n",
    "    Calculates the ball correlation functional connectivity (bcorrFC) for a given time series.\n",
    "\n",
    "    Parameters:\n",
    "    ts (numpy.ndarray): A 2D numpy array of shape (num_rois, num_timepoints) containing the time series data.\n",
    "    verbose (bool): If True, displays a progress bar while the function is running. Default is False.\n",
    "\n",
    "    Returns:\n",
    "    numpy.ndarray: A 2D numpy array of shape (num_rois, num_rois) containing the bcorrFC values.\n",
    "                   The diag terms are 0.\n",
    "    \"\"\"\n",
    "    num_rois = ts.shape[0]\n",
    "    bcorFC = np.zeros((num_rois, num_rois));\n",
    "    rixs, cixs = np.triu_indices(num_rois, k=1)\n",
    "    def _run_fn(cix, rix, ts):\n",
    "        return get_ball_cor(ts[rix], ts[cix])\n",
    "    if verbose:\n",
    "        pbar = tqdm(zip(rixs, cixs), total=len(rixs))\n",
    "    else:\n",
    "        pbar = zip(rixs, cixs)\n",
    "    with Parallel(n_jobs=20) as parallel:\n",
    "        bcors = parallel(delayed(_run_fn)(rix, cix, ts) for rix, cix in pbar)\n",
    "    bcorFC[(rixs, cixs)] = np.array(bcors)\n",
    "    bcorFC = bcorFC + bcorFC.T\n",
    "    return bcorFC"
   ]
  },
  {
   "cell_type": "raw",
   "id": "ff12799c",
   "metadata": {
    "ExecuteTime": {
     "end_time": "2023-11-09T19:07:22.854059Z",
     "start_time": "2023-11-09T18:30:33.902238Z"
    }
   },
   "source": [
    "bcorFCs = []\n",
    "for sub_ix in trange(1, num_sps+1):\n",
    "    raw_ts = _load_data(sub_ix)[:num_rois]; # d x n\n",
    "    ts = _preprocess_ts(raw_ts);\n",
    "    bcorFC = get_bcorr_FC(ts)\n",
    "    bcorFCs.append(bcorFC)\n",
    "save_pkl(RES_ROOT/\"bcorFCs.pkl\", bcorFCs, is_force=False)"
   ]
  },
  {
   "cell_type": "code",
   "execution_count": 11,
   "id": "e0f0107b",
   "metadata": {
    "ExecuteTime": {
     "end_time": "2023-11-17T17:28:22.820515Z",
     "start_time": "2023-11-17T17:28:22.677625Z"
    }
   },
   "outputs": [
    {
     "name": "stdout",
     "output_type": "stream",
     "text": [
      "Load file /data/rajlab1/user_data/jin/MyResearch/jesse_data/notebooks/../mypkg/../results/bcorFCs.pkl\n"
     ]
    }
   ],
   "source": [
    "bcorFCs = load_pkl(RES_ROOT/\"bcorFCs.pkl\");"
   ]
  },
  {
   "cell_type": "code",
   "execution_count": 14,
   "id": "fcb4ce37",
   "metadata": {
    "ExecuteTime": {
     "end_time": "2023-11-17T17:50:25.468204Z",
     "start_time": "2023-11-17T17:30:25.434476Z"
    },
    "scrolled": true
   },
   "outputs": [
    {
     "name": "stderr",
     "output_type": "stream",
     "text": [
      "\n",
      "\n",
      "  0%|                                                                                                                                                  | 0/321 [00:00<?, ?it/s]\u001b[A\u001b[A\n",
      "\n",
      "  6%|████████▌                                                                                                                                | 20/321 [00:00<00:08, 33.54it/s]\u001b[A\u001b[A/opt/conda/lib/python3.9/site-packages/numpy/core/_asarray.py:102: VisibleDeprecationWarning: Creating an ndarray from ragged nested sequences (which is a list-or-tuple of lists-or-tuples-or ndarrays with different lengths or shapes) is deprecated. If you meant to do this, you must specify 'dtype=object' when creating the ndarray.\n",
      "  return array(a, dtype, copy=False, order=order)\n",
      "/opt/conda/lib/python3.9/site-packages/numpy/core/_asarray.py:102: VisibleDeprecationWarning: Creating an ndarray from ragged nested sequences (which is a list-or-tuple of lists-or-tuples-or ndarrays with different lengths or shapes) is deprecated. If you meant to do this, you must specify 'dtype=object' when creating the ndarray.\n",
      "  return array(a, dtype, copy=False, order=order)\n",
      "/opt/conda/lib/python3.9/site-packages/numpy/core/_asarray.py:102: VisibleDeprecationWarning: Creating an ndarray from ragged nested sequences (which is a list-or-tuple of lists-or-tuples-or ndarrays with different lengths or shapes) is deprecated. If you meant to do this, you must specify 'dtype=object' when creating the ndarray.\n",
      "  return array(a, dtype, copy=False, order=order)\n",
      "/opt/conda/lib/python3.9/site-packages/numpy/core/_asarray.py:102: VisibleDeprecationWarning: Creating an ndarray from ragged nested sequences (which is a list-or-tuple of lists-or-tuples-or ndarrays with different lengths or shapes) is deprecated. If you meant to do this, you must specify 'dtype=object' when creating the ndarray.\n",
      "  return array(a, dtype, copy=False, order=order)\n",
      "/opt/conda/lib/python3.9/site-packages/numpy/core/_asarray.py:102: VisibleDeprecationWarning: Creating an ndarray from ragged nested sequences (which is a list-or-tuple of lists-or-tuples-or ndarrays with different lengths or shapes) is deprecated. If you meant to do this, you must specify 'dtype=object' when creating the ndarray.\n",
      "  return array(a, dtype, copy=False, order=order)\n",
      "/opt/conda/lib/python3.9/site-packages/numpy/core/_asarray.py:102: VisibleDeprecationWarning: Creating an ndarray from ragged nested sequences (which is a list-or-tuple of lists-or-tuples-or ndarrays with different lengths or shapes) is deprecated. If you meant to do this, you must specify 'dtype=object' when creating the ndarray.\n",
      "  return array(a, dtype, copy=False, order=order)\n",
      "\n",
      "\n",
      " 12%|█████████████████                                                                                                                        | 40/321 [00:04<00:36,  7.80it/s]\u001b[A\u001b[A/opt/conda/lib/python3.9/site-packages/numpy/core/_asarray.py:102: VisibleDeprecationWarning: Creating an ndarray from ragged nested sequences (which is a list-or-tuple of lists-or-tuples-or ndarrays with different lengths or shapes) is deprecated. If you meant to do this, you must specify 'dtype=object' when creating the ndarray.\n",
      "  return array(a, dtype, copy=False, order=order)\n",
      "/opt/conda/lib/python3.9/site-packages/numpy/core/_asarray.py:102: VisibleDeprecationWarning: Creating an ndarray from ragged nested sequences (which is a list-or-tuple of lists-or-tuples-or ndarrays with different lengths or shapes) is deprecated. If you meant to do this, you must specify 'dtype=object' when creating the ndarray.\n",
      "  return array(a, dtype, copy=False, order=order)\n",
      "/opt/conda/lib/python3.9/site-packages/numpy/core/_asarray.py:102: VisibleDeprecationWarning: Creating an ndarray from ragged nested sequences (which is a list-or-tuple of lists-or-tuples-or ndarrays with different lengths or shapes) is deprecated. If you meant to do this, you must specify 'dtype=object' when creating the ndarray.\n",
      "  return array(a, dtype, copy=False, order=order)\n",
      "/opt/conda/lib/python3.9/site-packages/numpy/core/_asarray.py:102: VisibleDeprecationWarning: Creating an ndarray from ragged nested sequences (which is a list-or-tuple of lists-or-tuples-or ndarrays with different lengths or shapes) is deprecated. If you meant to do this, you must specify 'dtype=object' when creating the ndarray.\n",
      "  return array(a, dtype, copy=False, order=order)\n",
      "/opt/conda/lib/python3.9/site-packages/numpy/core/_asarray.py:102: VisibleDeprecationWarning: Creating an ndarray from ragged nested sequences (which is a list-or-tuple of lists-or-tuples-or ndarrays with different lengths or shapes) is deprecated. If you meant to do this, you must specify 'dtype=object' when creating the ndarray.\n",
      "  return array(a, dtype, copy=False, order=order)\n",
      "/opt/conda/lib/python3.9/site-packages/numpy/core/_asarray.py:102: VisibleDeprecationWarning: Creating an ndarray from ragged nested sequences (which is a list-or-tuple of lists-or-tuples-or ndarrays with different lengths or shapes) is deprecated. If you meant to do this, you must specify 'dtype=object' when creating the ndarray.\n",
      "  return array(a, dtype, copy=False, order=order)\n",
      "/opt/conda/lib/python3.9/site-packages/numpy/core/_asarray.py:102: VisibleDeprecationWarning: Creating an ndarray from ragged nested sequences (which is a list-or-tuple of lists-or-tuples-or ndarrays with different lengths or shapes) is deprecated. If you meant to do this, you must specify 'dtype=object' when creating the ndarray.\n",
      "  return array(a, dtype, copy=False, order=order)\n",
      "/opt/conda/lib/python3.9/site-packages/numpy/core/_asarray.py:102: VisibleDeprecationWarning: Creating an ndarray from ragged nested sequences (which is a list-or-tuple of lists-or-tuples-or ndarrays with different lengths or shapes) is deprecated. If you meant to do this, you must specify 'dtype=object' when creating the ndarray.\n",
      "  return array(a, dtype, copy=False, order=order)\n",
      "/opt/conda/lib/python3.9/site-packages/numpy/core/_asarray.py:102: VisibleDeprecationWarning: Creating an ndarray from ragged nested sequences (which is a list-or-tuple of lists-or-tuples-or ndarrays with different lengths or shapes) is deprecated. If you meant to do this, you must specify 'dtype=object' when creating the ndarray.\n",
      "  return array(a, dtype, copy=False, order=order)\n",
      "/opt/conda/lib/python3.9/site-packages/numpy/core/_asarray.py:102: VisibleDeprecationWarning: Creating an ndarray from ragged nested sequences (which is a list-or-tuple of lists-or-tuples-or ndarrays with different lengths or shapes) is deprecated. If you meant to do this, you must specify 'dtype=object' when creating the ndarray.\n",
      "  return array(a, dtype, copy=False, order=order)\n",
      "/opt/conda/lib/python3.9/site-packages/numpy/core/_asarray.py:102: VisibleDeprecationWarning: Creating an ndarray from ragged nested sequences (which is a list-or-tuple of lists-or-tuples-or ndarrays with different lengths or shapes) is deprecated. If you meant to do this, you must specify 'dtype=object' when creating the ndarray.\n",
      "  return array(a, dtype, copy=False, order=order)\n",
      "/opt/conda/lib/python3.9/site-packages/numpy/core/_asarray.py:102: VisibleDeprecationWarning: Creating an ndarray from ragged nested sequences (which is a list-or-tuple of lists-or-tuples-or ndarrays with different lengths or shapes) is deprecated. If you meant to do this, you must specify 'dtype=object' when creating the ndarray.\n",
      "  return array(a, dtype, copy=False, order=order)\n",
      "/opt/conda/lib/python3.9/site-packages/numpy/core/_asarray.py:102: VisibleDeprecationWarning: Creating an ndarray from ragged nested sequences (which is a list-or-tuple of lists-or-tuples-or ndarrays with different lengths or shapes) is deprecated. If you meant to do this, you must specify 'dtype=object' when creating the ndarray.\n",
      "  return array(a, dtype, copy=False, order=order)\n",
      "/opt/conda/lib/python3.9/site-packages/numpy/core/_asarray.py:102: VisibleDeprecationWarning: Creating an ndarray from ragged nested sequences (which is a list-or-tuple of lists-or-tuples-or ndarrays with different lengths or shapes) is deprecated. If you meant to do this, you must specify 'dtype=object' when creating the ndarray.\n",
      "  return array(a, dtype, copy=False, order=order)\n"
     ]
    },
    {
     "name": "stderr",
     "output_type": "stream",
     "text": [
      "\n",
      "\n",
      " 12%|█████████████████                                                                                                                        | 40/321 [00:15<00:36,  7.80it/s]\u001b[A\u001b[A\n",
      "\n",
      " 19%|█████████████████████████▌                                                                                                               | 60/321 [00:17<01:33,  2.80it/s]\u001b[A\u001b[A\n",
      "\n",
      " 25%|██████████████████████████████████▏                                                                                                      | 80/321 [00:28<01:46,  2.26it/s]\u001b[A\u001b[A/opt/conda/lib/python3.9/site-packages/numpy/core/_asarray.py:102: VisibleDeprecationWarning: Creating an ndarray from ragged nested sequences (which is a list-or-tuple of lists-or-tuples-or ndarrays with different lengths or shapes) is deprecated. If you meant to do this, you must specify 'dtype=object' when creating the ndarray.\n",
      "  return array(a, dtype, copy=False, order=order)\n",
      "\n",
      "\n",
      " 31%|██████████████████████████████████████████▎                                                                                             | 100/321 [00:41<01:52,  1.96it/s]\u001b[A\u001b[A/opt/conda/lib/python3.9/site-packages/numpy/core/_asarray.py:102: VisibleDeprecationWarning: Creating an ndarray from ragged nested sequences (which is a list-or-tuple of lists-or-tuples-or ndarrays with different lengths or shapes) is deprecated. If you meant to do this, you must specify 'dtype=object' when creating the ndarray.\n",
      "  return array(a, dtype, copy=False, order=order)\n",
      "/opt/conda/lib/python3.9/site-packages/numpy/core/_asarray.py:102: VisibleDeprecationWarning: Creating an ndarray from ragged nested sequences (which is a list-or-tuple of lists-or-tuples-or ndarrays with different lengths or shapes) is deprecated. If you meant to do this, you must specify 'dtype=object' when creating the ndarray.\n",
      "  return array(a, dtype, copy=False, order=order)\n",
      "\n",
      "\n",
      " 37%|██████████████████████████████████████████████████▊                                                                                     | 120/321 [00:53<01:48,  1.86it/s]\u001b[A\u001b[A\n",
      "\n",
      " 38%|███████████████████████████████████████████████████▎                                                                                    | 121/321 [00:53<01:45,  1.89it/s]\u001b[A\u001b[A\n",
      "\n",
      " 38%|███████████████████████████████████████████████████▎                                                                                    | 121/321 [01:05<01:45,  1.89it/s]\u001b[A\u001b[A\n",
      "\n",
      " 44%|███████████████████████████████████████████████████████████▎                                                                            | 140/321 [01:05<01:45,  1.72it/s]\u001b[A\u001b[A\n",
      "\n",
      " 44%|███████████████████████████████████████████████████████████▋                                                                            | 141/321 [01:05<01:42,  1.76it/s]\u001b[A\u001b[A\n",
      "\n",
      " 45%|████████████████████████████████████████████████████████████▌                                                                           | 143/321 [01:06<01:34,  1.89it/s]\u001b[A\u001b[A\n",
      "\n",
      " 45%|█████████████████████████████████████████████████████████████▍                                                                          | 145/321 [01:06<01:25,  2.06it/s]\u001b[A\u001b[A\n",
      "\n",
      " 50%|███████████████████████████████████████████████████████████████████▊                                                                    | 160/321 [01:17<01:42,  1.56it/s]\u001b[A\u001b[A/opt/conda/lib/python3.9/site-packages/numpy/core/_asarray.py:102: VisibleDeprecationWarning: Creating an ndarray from ragged nested sequences (which is a list-or-tuple of lists-or-tuples-or ndarrays with different lengths or shapes) is deprecated. If you meant to do this, you must specify 'dtype=object' when creating the ndarray.\n",
      "  return array(a, dtype, copy=False, order=order)\n",
      "\n",
      "\n",
      " 56%|████████████████████████████████████████████████████████████████████████████▎                                                           | 180/321 [01:29<01:25,  1.64it/s]\u001b[A\u001b[A\n",
      "\n",
      " 62%|████████████████████████████████████████████████████████████████████████████████████▋                                                   | 200/321 [01:41<01:13,  1.65it/s]\u001b[A\u001b[A\n",
      "\n",
      " 63%|█████████████████████████████████████████████████████████████████████████████████████▏                                                  | 201/321 [01:41<01:10,  1.69it/s]\u001b[A\u001b[A/opt/conda/lib/python3.9/site-packages/numpy/core/_asarray.py:102: VisibleDeprecationWarning: Creating an ndarray from ragged nested sequences (which is a list-or-tuple of lists-or-tuples-or ndarrays with different lengths or shapes) is deprecated. If you meant to do this, you must specify 'dtype=object' when creating the ndarray.\n",
      "  return array(a, dtype, copy=False, order=order)\n",
      "\n",
      "\n",
      " 69%|█████████████████████████████████████████████████████████████████████████████████████████████▏                                          | 220/321 [01:53<01:01,  1.65it/s]\u001b[A\u001b[A\n",
      "\n",
      " 75%|█████████████████████████████████████████████████████████████████████████████████████████████████████▋                                  | 240/321 [02:06<00:49,  1.63it/s]\u001b[A\u001b[A/opt/conda/lib/python3.9/site-packages/numpy/core/_asarray.py:102: VisibleDeprecationWarning: Creating an ndarray from ragged nested sequences (which is a list-or-tuple of lists-or-tuples-or ndarrays with different lengths or shapes) is deprecated. If you meant to do this, you must specify 'dtype=object' when creating the ndarray.\n",
      "  return array(a, dtype, copy=False, order=order)\n",
      "\n",
      "\n",
      " 81%|██████████████████████████████████████████████████████████████████████████████████████████████████████████████▏                         | 260/321 [02:18<00:37,  1.62it/s]\u001b[A\u001b[A/opt/conda/lib/python3.9/site-packages/numpy/core/_asarray.py:102: VisibleDeprecationWarning: Creating an ndarray from ragged nested sequences (which is a list-or-tuple of lists-or-tuples-or ndarrays with different lengths or shapes) is deprecated. If you meant to do this, you must specify 'dtype=object' when creating the ndarray.\n",
      "  return array(a, dtype, copy=False, order=order)\n",
      "\n",
      "\n",
      " 87%|██████████████████████████████████████████████████████████████████████████████████████████████████████████████████████▋                 | 280/321 [02:30<00:24,  1.65it/s]\u001b[A\u001b[A\n",
      "\n",
      " 93%|███████████████████████████████████████████████████████████████████████████████████████████████████████████████████████████████         | 300/321 [02:42<00:12,  1.65it/s]\u001b[A\u001b[A/opt/conda/lib/python3.9/site-packages/numpy/core/_asarray.py:102: VisibleDeprecationWarning: Creating an ndarray from ragged nested sequences (which is a list-or-tuple of lists-or-tuples-or ndarrays with different lengths or shapes) is deprecated. If you meant to do this, you must specify 'dtype=object' when creating the ndarray.\n",
      "  return array(a, dtype, copy=False, order=order)\n",
      "/opt/conda/lib/python3.9/site-packages/numpy/core/_asarray.py:102: VisibleDeprecationWarning: Creating an ndarray from ragged nested sequences (which is a list-or-tuple of lists-or-tuples-or ndarrays with different lengths or shapes) is deprecated. If you meant to do this, you must specify 'dtype=object' when creating the ndarray.\n",
      "  return array(a, dtype, copy=False, order=order)\n",
      "\n",
      "\n",
      "100%|████████████████████████████████████████████████████████████████████████████████████████████████████████████████████████████████████████| 321/321 [02:54<00:00,  1.84it/s]\u001b[A\u001b[A\n"
     ]
    },
    {
     "name": "stdout",
     "output_type": "stream",
     "text": [
      "Save to /data/rajlab1/user_data/jin/MyResearch/jesse_data/notebooks/../mypkg/../results/graph_metrics_ballfc_Visual.pkl\n"
     ]
    },
    {
     "name": "stderr",
     "output_type": "stream",
     "text": [
      "\n",
      "\n",
      "  0%|                                                                                                                                                  | 0/321 [00:00<?, ?it/s]\u001b[A\u001b[A\n",
      "\n",
      "  6%|████████▌                                                                                                                                | 20/321 [00:00<00:03, 85.58it/s]\u001b[A\u001b[A/opt/conda/lib/python3.9/site-packages/numpy/core/_asarray.py:102: VisibleDeprecationWarning: Creating an ndarray from ragged nested sequences (which is a list-or-tuple of lists-or-tuples-or ndarrays with different lengths or shapes) is deprecated. If you meant to do this, you must specify 'dtype=object' when creating the ndarray.\n",
      "  return array(a, dtype, copy=False, order=order)\n",
      "\n",
      "\n",
      " 12%|█████████████████                                                                                                                        | 40/321 [00:03<00:28,  9.89it/s]\u001b[A\u001b[A/opt/conda/lib/python3.9/site-packages/numpy/core/_asarray.py:102: VisibleDeprecationWarning: Creating an ndarray from ragged nested sequences (which is a list-or-tuple of lists-or-tuples-or ndarrays with different lengths or shapes) is deprecated. If you meant to do this, you must specify 'dtype=object' when creating the ndarray.\n",
      "  return array(a, dtype, copy=False, order=order)\n",
      "\n",
      "\n",
      " 19%|█████████████████████████▌                                                                                                               | 60/321 [00:14<01:20,  3.24it/s]\u001b[A\u001b[A\n",
      "\n",
      " 25%|██████████████████████████████████▏                                                                                                      | 80/321 [00:26<01:40,  2.39it/s]\u001b[A\u001b[A/opt/conda/lib/python3.9/site-packages/numpy/core/_asarray.py:102: VisibleDeprecationWarning: Creating an ndarray from ragged nested sequences (which is a list-or-tuple of lists-or-tuples-or ndarrays with different lengths or shapes) is deprecated. If you meant to do this, you must specify 'dtype=object' when creating the ndarray.\n",
      "  return array(a, dtype, copy=False, order=order)\n",
      "\n",
      "\n",
      " 31%|██████████████████████████████████████████▎                                                                                             | 100/321 [00:38<01:45,  2.10it/s]\u001b[A\u001b[A\n",
      "\n",
      " 37%|██████████████████████████████████████████████████▊                                                                                     | 120/321 [00:50<01:44,  1.93it/s]\u001b[A\u001b[A/opt/conda/lib/python3.9/site-packages/numpy/core/_asarray.py:102: VisibleDeprecationWarning: Creating an ndarray from ragged nested sequences (which is a list-or-tuple of lists-or-tuples-or ndarrays with different lengths or shapes) is deprecated. If you meant to do this, you must specify 'dtype=object' when creating the ndarray.\n",
      "  return array(a, dtype, copy=False, order=order)\n",
      "/opt/conda/lib/python3.9/site-packages/numpy/core/_asarray.py:102: VisibleDeprecationWarning: Creating an ndarray from ragged nested sequences (which is a list-or-tuple of lists-or-tuples-or ndarrays with different lengths or shapes) is deprecated. If you meant to do this, you must specify 'dtype=object' when creating the ndarray.\n",
      "  return array(a, dtype, copy=False, order=order)\n",
      "\n",
      "\n",
      " 44%|███████████████████████████████████████████████████████████▎                                                                            | 140/321 [01:01<01:38,  1.85it/s]\u001b[A\u001b[A\n",
      "\n",
      " 50%|███████████████████████████████████████████████████████████████████▊                                                                    | 160/321 [01:13<01:28,  1.82it/s]\u001b[A\u001b[A/opt/conda/lib/python3.9/site-packages/numpy/core/_asarray.py:102: VisibleDeprecationWarning: Creating an ndarray from ragged nested sequences (which is a list-or-tuple of lists-or-tuples-or ndarrays with different lengths or shapes) is deprecated. If you meant to do this, you must specify 'dtype=object' when creating the ndarray.\n",
      "  return array(a, dtype, copy=False, order=order)\n",
      "\n",
      "\n",
      " 56%|████████████████████████████████████████████████████████████████████████████▎                                                           | 180/321 [01:24<01:18,  1.80it/s]\u001b[A\u001b[A/opt/conda/lib/python3.9/site-packages/numpy/core/_asarray.py:102: VisibleDeprecationWarning: Creating an ndarray from ragged nested sequences (which is a list-or-tuple of lists-or-tuples-or ndarrays with different lengths or shapes) is deprecated. If you meant to do this, you must specify 'dtype=object' when creating the ndarray.\n",
      "  return array(a, dtype, copy=False, order=order)\n",
      "/opt/conda/lib/python3.9/site-packages/numpy/core/_asarray.py:102: VisibleDeprecationWarning: Creating an ndarray from ragged nested sequences (which is a list-or-tuple of lists-or-tuples-or ndarrays with different lengths or shapes) is deprecated. If you meant to do this, you must specify 'dtype=object' when creating the ndarray.\n",
      "  return array(a, dtype, copy=False, order=order)\n",
      "/opt/conda/lib/python3.9/site-packages/numpy/core/_asarray.py:102: VisibleDeprecationWarning: Creating an ndarray from ragged nested sequences (which is a list-or-tuple of lists-or-tuples-or ndarrays with different lengths or shapes) is deprecated. If you meant to do this, you must specify 'dtype=object' when creating the ndarray.\n",
      "  return array(a, dtype, copy=False, order=order)\n",
      "\n",
      "\n",
      " 62%|████████████████████████████████████████████████████████████████████████████████████▋                                                   | 200/321 [01:36<01:08,  1.76it/s]\u001b[A\u001b[A/opt/conda/lib/python3.9/site-packages/numpy/core/_asarray.py:102: VisibleDeprecationWarning: Creating an ndarray from ragged nested sequences (which is a list-or-tuple of lists-or-tuples-or ndarrays with different lengths or shapes) is deprecated. If you meant to do this, you must specify 'dtype=object' when creating the ndarray.\n",
      "  return array(a, dtype, copy=False, order=order)\n",
      "\n",
      "\n",
      " 69%|█████████████████████████████████████████████████████████████████████████████████████████████▏                                          | 220/321 [01:48<00:58,  1.72it/s]\u001b[A\u001b[A/opt/conda/lib/python3.9/site-packages/numpy/core/_asarray.py:102: VisibleDeprecationWarning: Creating an ndarray from ragged nested sequences (which is a list-or-tuple of lists-or-tuples-or ndarrays with different lengths or shapes) is deprecated. If you meant to do this, you must specify 'dtype=object' when creating the ndarray.\n",
      "  return array(a, dtype, copy=False, order=order)\n",
      "/opt/conda/lib/python3.9/site-packages/numpy/core/_asarray.py:102: VisibleDeprecationWarning: Creating an ndarray from ragged nested sequences (which is a list-or-tuple of lists-or-tuples-or ndarrays with different lengths or shapes) is deprecated. If you meant to do this, you must specify 'dtype=object' when creating the ndarray.\n",
      "  return array(a, dtype, copy=False, order=order)\n",
      "\n",
      "\n",
      " 75%|█████████████████████████████████████████████████████████████████████████████████████████████████████▋                                  | 240/321 [02:00<00:47,  1.70it/s]\u001b[A\u001b[A/opt/conda/lib/python3.9/site-packages/numpy/core/_asarray.py:102: VisibleDeprecationWarning: Creating an ndarray from ragged nested sequences (which is a list-or-tuple of lists-or-tuples-or ndarrays with different lengths or shapes) is deprecated. If you meant to do this, you must specify 'dtype=object' when creating the ndarray.\n",
      "  return array(a, dtype, copy=False, order=order)\n",
      "\n",
      "\n",
      " 81%|██████████████████████████████████████████████████████████████████████████████████████████████████████████████▏                         | 260/321 [02:12<00:35,  1.71it/s]\u001b[A\u001b[A\n",
      "\n",
      " 81%|██████████████████████████████████████████████████████████████████████████████████████████████████████████████▌                         | 261/321 [02:12<00:34,  1.74it/s]\u001b[A\u001b[A\n",
      "\n",
      " 82%|███████████████████████████████████████████████████████████████████████████████████████████████████████████████▊                        | 264/321 [02:12<00:30,  1.88it/s]\u001b[A\u001b[A/opt/conda/lib/python3.9/site-packages/numpy/core/_asarray.py:102: VisibleDeprecationWarning: Creating an ndarray from ragged nested sequences (which is a list-or-tuple of lists-or-tuples-or ndarrays with different lengths or shapes) is deprecated. If you meant to do this, you must specify 'dtype=object' when creating the ndarray.\n",
      "  return array(a, dtype, copy=False, order=order)\n"
     ]
    },
    {
     "name": "stderr",
     "output_type": "stream",
     "text": [
      "/opt/conda/lib/python3.9/site-packages/numpy/core/_asarray.py:102: VisibleDeprecationWarning: Creating an ndarray from ragged nested sequences (which is a list-or-tuple of lists-or-tuples-or ndarrays with different lengths or shapes) is deprecated. If you meant to do this, you must specify 'dtype=object' when creating the ndarray.\n",
      "  return array(a, dtype, copy=False, order=order)\n",
      "\n",
      "\n",
      " 87%|██████████████████████████████████████████████████████████████████████████████████████████████████████████████████████▋                 | 280/321 [02:23<00:24,  1.71it/s]\u001b[A\u001b[A/opt/conda/lib/python3.9/site-packages/numpy/core/_asarray.py:102: VisibleDeprecationWarning: Creating an ndarray from ragged nested sequences (which is a list-or-tuple of lists-or-tuples-or ndarrays with different lengths or shapes) is deprecated. If you meant to do this, you must specify 'dtype=object' when creating the ndarray.\n",
      "  return array(a, dtype, copy=False, order=order)\n",
      "/opt/conda/lib/python3.9/site-packages/numpy/core/_asarray.py:102: VisibleDeprecationWarning: Creating an ndarray from ragged nested sequences (which is a list-or-tuple of lists-or-tuples-or ndarrays with different lengths or shapes) is deprecated. If you meant to do this, you must specify 'dtype=object' when creating the ndarray.\n",
      "  return array(a, dtype, copy=False, order=order)\n",
      "\n",
      "\n",
      " 93%|███████████████████████████████████████████████████████████████████████████████████████████████████████████████████████████████         | 300/321 [02:35<00:12,  1.69it/s]\u001b[A\u001b[A/opt/conda/lib/python3.9/site-packages/numpy/core/_asarray.py:102: VisibleDeprecationWarning: Creating an ndarray from ragged nested sequences (which is a list-or-tuple of lists-or-tuples-or ndarrays with different lengths or shapes) is deprecated. If you meant to do this, you must specify 'dtype=object' when creating the ndarray.\n",
      "  return array(a, dtype, copy=False, order=order)\n",
      "\n",
      "\n",
      "100%|████████████████████████████████████████████████████████████████████████████████████████████████████████████████████████████████████████| 321/321 [02:47<00:00,  1.92it/s]\u001b[A\u001b[A\n",
      "/opt/conda/lib/python3.9/site-packages/numpy/core/_asarray.py:102: VisibleDeprecationWarning: Creating an ndarray from ragged nested sequences (which is a list-or-tuple of lists-or-tuples-or ndarrays with different lengths or shapes) is deprecated. If you meant to do this, you must specify 'dtype=object' when creating the ndarray.\n",
      "  return array(a, dtype, copy=False, order=order)\n"
     ]
    },
    {
     "name": "stdout",
     "output_type": "stream",
     "text": [
      "Save to /data/rajlab1/user_data/jin/MyResearch/jesse_data/notebooks/../mypkg/../results/graph_metrics_ballfc_Somatomotor.pkl\n"
     ]
    },
    {
     "name": "stderr",
     "output_type": "stream",
     "text": [
      "\n",
      "\n",
      "  0%|                                                                                                                                                  | 0/321 [00:00<?, ?it/s]\u001b[A\u001b[A\n",
      "\n",
      " 12%|█████████████████                                                                                                                        | 40/321 [00:03<00:24, 11.65it/s]\u001b[A\u001b[A\n",
      "\n",
      " 13%|█████████████████▉                                                                                                                       | 42/321 [00:03<00:23, 11.81it/s]\u001b[A\u001b[A/opt/conda/lib/python3.9/site-packages/numpy/core/_asarray.py:102: VisibleDeprecationWarning: Creating an ndarray from ragged nested sequences (which is a list-or-tuple of lists-or-tuples-or ndarrays with different lengths or shapes) is deprecated. If you meant to do this, you must specify 'dtype=object' when creating the ndarray.\n",
      "  return array(a, dtype, copy=False, order=order)\n",
      "\n",
      "\n",
      " 19%|█████████████████████████▌                                                                                                               | 60/321 [00:13<01:16,  3.39it/s]\u001b[A\u001b[A/opt/conda/lib/python3.9/site-packages/numpy/core/_asarray.py:102: VisibleDeprecationWarning: Creating an ndarray from ragged nested sequences (which is a list-or-tuple of lists-or-tuples-or ndarrays with different lengths or shapes) is deprecated. If you meant to do this, you must specify 'dtype=object' when creating the ndarray.\n",
      "  return array(a, dtype, copy=False, order=order)\n",
      "/opt/conda/lib/python3.9/site-packages/numpy/core/_asarray.py:102: VisibleDeprecationWarning: Creating an ndarray from ragged nested sequences (which is a list-or-tuple of lists-or-tuples-or ndarrays with different lengths or shapes) is deprecated. If you meant to do this, you must specify 'dtype=object' when creating the ndarray.\n",
      "  return array(a, dtype, copy=False, order=order)\n",
      "\n",
      "\n",
      " 25%|██████████████████████████████████▏                                                                                                      | 80/321 [00:23<01:33,  2.58it/s]\u001b[A\u001b[A/opt/conda/lib/python3.9/site-packages/numpy/core/_asarray.py:102: VisibleDeprecationWarning: Creating an ndarray from ragged nested sequences (which is a list-or-tuple of lists-or-tuples-or ndarrays with different lengths or shapes) is deprecated. If you meant to do this, you must specify 'dtype=object' when creating the ndarray.\n",
      "  return array(a, dtype, copy=False, order=order)\n",
      "\n",
      "\n",
      " 31%|██████████████████████████████████████████▎                                                                                             | 100/321 [00:33<01:35,  2.31it/s]\u001b[A\u001b[A\n",
      "\n",
      " 37%|██████████████████████████████████████████████████▊                                                                                     | 120/321 [00:44<01:33,  2.16it/s]\u001b[A\u001b[A\n",
      "\n",
      " 44%|███████████████████████████████████████████████████████████▎                                                                            | 140/321 [00:54<01:26,  2.09it/s]\u001b[A\u001b[A/opt/conda/lib/python3.9/site-packages/numpy/core/_asarray.py:102: VisibleDeprecationWarning: Creating an ndarray from ragged nested sequences (which is a list-or-tuple of lists-or-tuples-or ndarrays with different lengths or shapes) is deprecated. If you meant to do this, you must specify 'dtype=object' when creating the ndarray.\n",
      "  return array(a, dtype, copy=False, order=order)\n",
      "\n",
      "\n",
      " 50%|███████████████████████████████████████████████████████████████████▊                                                                    | 160/321 [01:04<01:18,  2.06it/s]\u001b[A\u001b[A\n",
      "\n",
      " 56%|████████████████████████████████████████████████████████████████████████████▎                                                           | 180/321 [01:14<01:09,  2.02it/s]\u001b[A\u001b[A\n",
      "\n",
      " 62%|████████████████████████████████████████████████████████████████████████████████████▋                                                   | 200/321 [01:25<01:00,  1.99it/s]\u001b[A\u001b[A\n",
      "\n",
      " 69%|█████████████████████████████████████████████████████████████████████████████████████████████▏                                          | 220/321 [01:35<00:50,  1.99it/s]\u001b[A\u001b[A/opt/conda/lib/python3.9/site-packages/numpy/core/_asarray.py:102: VisibleDeprecationWarning: Creating an ndarray from ragged nested sequences (which is a list-or-tuple of lists-or-tuples-or ndarrays with different lengths or shapes) is deprecated. If you meant to do this, you must specify 'dtype=object' when creating the ndarray.\n",
      "  return array(a, dtype, copy=False, order=order)\n",
      "\n",
      "\n",
      " 75%|█████████████████████████████████████████████████████████████████████████████████████████████████████▋                                  | 240/321 [01:45<00:40,  1.98it/s]\u001b[A\u001b[A\n",
      "\n",
      " 81%|██████████████████████████████████████████████████████████████████████████████████████████████████████████████▏                         | 260/321 [01:56<00:31,  1.94it/s]\u001b[A\u001b[A\n",
      "\n",
      " 87%|██████████████████████████████████████████████████████████████████████████████████████████████████████████████████████▋                 | 280/321 [02:06<00:21,  1.94it/s]\u001b[A\u001b[A/opt/conda/lib/python3.9/site-packages/numpy/core/_asarray.py:102: VisibleDeprecationWarning: Creating an ndarray from ragged nested sequences (which is a list-or-tuple of lists-or-tuples-or ndarrays with different lengths or shapes) is deprecated. If you meant to do this, you must specify 'dtype=object' when creating the ndarray.\n",
      "  return array(a, dtype, copy=False, order=order)\n",
      "\n",
      "\n",
      " 93%|███████████████████████████████████████████████████████████████████████████████████████████████████████████████████████████████         | 300/321 [02:16<00:10,  1.94it/s]\u001b[A\u001b[A\n",
      "\n",
      "100%|████████████████████████████████████████████████████████████████████████████████████████████████████████████████████████████████████████| 321/321 [02:26<00:00,  2.19it/s]\u001b[A\u001b[A\n",
      "/opt/conda/lib/python3.9/site-packages/numpy/core/_asarray.py:102: VisibleDeprecationWarning: Creating an ndarray from ragged nested sequences (which is a list-or-tuple of lists-or-tuples-or ndarrays with different lengths or shapes) is deprecated. If you meant to do this, you must specify 'dtype=object' when creating the ndarray.\n",
      "  return array(a, dtype, copy=False, order=order)\n"
     ]
    },
    {
     "name": "stdout",
     "output_type": "stream",
     "text": [
      "Save to /data/rajlab1/user_data/jin/MyResearch/jesse_data/notebooks/../mypkg/../results/graph_metrics_ballfc_Dorsal_Attention.pkl\n"
     ]
    },
    {
     "name": "stderr",
     "output_type": "stream",
     "text": [
      "\n",
      "\n",
      "  0%|                                                                                                                                                  | 0/321 [00:00<?, ?it/s]\u001b[A\u001b[A\n",
      "\n",
      "  6%|████████▌                                                                                                                                | 20/321 [00:00<00:04, 67.10it/s]\u001b[A\u001b[A\n",
      "\n",
      " 12%|█████████████████                                                                                                                        | 40/321 [00:02<00:16, 16.54it/s]\u001b[A\u001b[A/opt/conda/lib/python3.9/site-packages/numpy/core/_asarray.py:102: VisibleDeprecationWarning: Creating an ndarray from ragged nested sequences (which is a list-or-tuple of lists-or-tuples-or ndarrays with different lengths or shapes) is deprecated. If you meant to do this, you must specify 'dtype=object' when creating the ndarray.\n",
      "  return array(a, dtype, copy=False, order=order)\n",
      "\n",
      "\n",
      " 19%|█████████████████████████▌                                                                                                               | 60/321 [00:10<00:58,  4.46it/s]\u001b[A\u001b[A\n",
      "\n",
      " 25%|██████████████████████████████████▏                                                                                                      | 80/321 [00:18<01:12,  3.32it/s]\u001b[A\u001b[A\n",
      "\n",
      " 31%|██████████████████████████████████████████▎                                                                                             | 100/321 [00:27<01:16,  2.89it/s]\u001b[A\u001b[A\n",
      "\n",
      " 37%|██████████████████████████████████████████████████▊                                                                                     | 120/321 [00:35<01:14,  2.69it/s]\u001b[A\u001b[A\n",
      "\n",
      " 44%|███████████████████████████████████████████████████████████▎                                                                            | 140/321 [00:44<01:10,  2.57it/s]\u001b[A\u001b[A\n",
      "\n",
      " 50%|███████████████████████████████████████████████████████████████████▊                                                                    | 160/321 [00:53<01:05,  2.47it/s]\u001b[A\u001b[A/opt/conda/lib/python3.9/site-packages/numpy/core/_asarray.py:102: VisibleDeprecationWarning: Creating an ndarray from ragged nested sequences (which is a list-or-tuple of lists-or-tuples-or ndarrays with different lengths or shapes) is deprecated. If you meant to do this, you must specify 'dtype=object' when creating the ndarray.\n",
      "  return array(a, dtype, copy=False, order=order)\n",
      "\n",
      "\n",
      " 56%|████████████████████████████████████████████████████████████████████████████▎                                                           | 180/321 [01:01<00:58,  2.42it/s]\u001b[A\u001b[A\n",
      "\n",
      " 62%|████████████████████████████████████████████████████████████████████████████████████▋                                                   | 200/321 [01:10<00:51,  2.36it/s]\u001b[A\u001b[A\n",
      "\n",
      " 69%|█████████████████████████████████████████████████████████████████████████████████████████████▏                                          | 220/321 [01:19<00:43,  2.34it/s]\u001b[A\u001b[A/opt/conda/lib/python3.9/site-packages/numpy/core/_asarray.py:102: VisibleDeprecationWarning: Creating an ndarray from ragged nested sequences (which is a list-or-tuple of lists-or-tuples-or ndarrays with different lengths or shapes) is deprecated. If you meant to do this, you must specify 'dtype=object' when creating the ndarray.\n",
      "  return array(a, dtype, copy=False, order=order)\n",
      "\n",
      "\n",
      " 75%|█████████████████████████████████████████████████████████████████████████████████████████████████████▋                                  | 240/321 [01:28<00:34,  2.33it/s]\u001b[A\u001b[A/opt/conda/lib/python3.9/site-packages/numpy/core/_asarray.py:102: VisibleDeprecationWarning: Creating an ndarray from ragged nested sequences (which is a list-or-tuple of lists-or-tuples-or ndarrays with different lengths or shapes) is deprecated. If you meant to do this, you must specify 'dtype=object' when creating the ndarray.\n",
      "  return array(a, dtype, copy=False, order=order)\n",
      "/opt/conda/lib/python3.9/site-packages/numpy/core/_asarray.py:102: VisibleDeprecationWarning: Creating an ndarray from ragged nested sequences (which is a list-or-tuple of lists-or-tuples-or ndarrays with different lengths or shapes) is deprecated. If you meant to do this, you must specify 'dtype=object' when creating the ndarray.\n",
      "  return array(a, dtype, copy=False, order=order)\n",
      "\n",
      "\n",
      " 81%|██████████████████████████████████████████████████████████████████████████████████████████████████████████████▏                         | 260/321 [01:36<00:26,  2.31it/s]\u001b[A\u001b[A\n",
      "\n",
      " 81%|██████████████████████████████████████████████████████████████████████████████████████████████████████████████▌                         | 261/321 [01:37<00:25,  2.35it/s]\u001b[A\u001b[A\n",
      "\n",
      " 87%|██████████████████████████████████████████████████████████████████████████████████████████████████████████████████████▋                 | 280/321 [01:45<00:17,  2.32it/s]\u001b[A\u001b[A\n",
      "\n",
      " 93%|███████████████████████████████████████████████████████████████████████████████████████████████████████████████████████████████         | 300/321 [01:53<00:09,  2.32it/s]\u001b[A\u001b[A\n",
      "\n",
      "100%|████████████████████████████████████████████████████████████████████████████████████████████████████████████████████████████████████████| 321/321 [02:02<00:00,  2.61it/s]\u001b[A\u001b[A\n",
      "/opt/conda/lib/python3.9/site-packages/numpy/core/_asarray.py:102: VisibleDeprecationWarning: Creating an ndarray from ragged nested sequences (which is a list-or-tuple of lists-or-tuples-or ndarrays with different lengths or shapes) is deprecated. If you meant to do this, you must specify 'dtype=object' when creating the ndarray.\n",
      "  return array(a, dtype, copy=False, order=order)\n"
     ]
    },
    {
     "name": "stdout",
     "output_type": "stream",
     "text": [
      "Save to /data/rajlab1/user_data/jin/MyResearch/jesse_data/notebooks/../mypkg/../results/graph_metrics_ballfc_Ventral_Attention.pkl\n"
     ]
    },
    {
     "name": "stderr",
     "output_type": "stream",
     "text": [
      "\n",
      "\n",
      "  0%|                                                                                                                                                  | 0/321 [00:00<?, ?it/s]\u001b[A\u001b[A\n",
      "\n",
      " 12%|█████████████████                                                                                                                        | 40/321 [00:02<00:18, 15.50it/s]\u001b[A\u001b[A\n",
      "\n",
      " 19%|█████████████████████████▌                                                                                                               | 60/321 [00:12<01:05,  4.00it/s]\u001b[A\u001b[A/opt/conda/lib/python3.9/site-packages/numpy/core/_asarray.py:102: VisibleDeprecationWarning: Creating an ndarray from ragged nested sequences (which is a list-or-tuple of lists-or-tuples-or ndarrays with different lengths or shapes) is deprecated. If you meant to do this, you must specify 'dtype=object' when creating the ndarray.\n",
      "  return array(a, dtype, copy=False, order=order)\n",
      "/opt/conda/lib/python3.9/site-packages/numpy/core/_asarray.py:102: VisibleDeprecationWarning: Creating an ndarray from ragged nested sequences (which is a list-or-tuple of lists-or-tuples-or ndarrays with different lengths or shapes) is deprecated. If you meant to do this, you must specify 'dtype=object' when creating the ndarray.\n",
      "  return array(a, dtype, copy=False, order=order)\n",
      "/opt/conda/lib/python3.9/site-packages/numpy/core/_asarray.py:102: VisibleDeprecationWarning: Creating an ndarray from ragged nested sequences (which is a list-or-tuple of lists-or-tuples-or ndarrays with different lengths or shapes) is deprecated. If you meant to do this, you must specify 'dtype=object' when creating the ndarray.\n",
      "  return array(a, dtype, copy=False, order=order)\n",
      "/opt/conda/lib/python3.9/site-packages/numpy/core/_asarray.py:102: VisibleDeprecationWarning: Creating an ndarray from ragged nested sequences (which is a list-or-tuple of lists-or-tuples-or ndarrays with different lengths or shapes) is deprecated. If you meant to do this, you must specify 'dtype=object' when creating the ndarray.\n",
      "  return array(a, dtype, copy=False, order=order)\n",
      "/opt/conda/lib/python3.9/site-packages/numpy/core/_asarray.py:102: VisibleDeprecationWarning: Creating an ndarray from ragged nested sequences (which is a list-or-tuple of lists-or-tuples-or ndarrays with different lengths or shapes) is deprecated. If you meant to do this, you must specify 'dtype=object' when creating the ndarray.\n",
      "  return array(a, dtype, copy=False, order=order)\n",
      "/opt/conda/lib/python3.9/site-packages/numpy/core/_asarray.py:102: VisibleDeprecationWarning: Creating an ndarray from ragged nested sequences (which is a list-or-tuple of lists-or-tuples-or ndarrays with different lengths or shapes) is deprecated. If you meant to do this, you must specify 'dtype=object' when creating the ndarray.\n",
      "  return array(a, dtype, copy=False, order=order)\n",
      "/opt/conda/lib/python3.9/site-packages/numpy/core/_asarray.py:102: VisibleDeprecationWarning: Creating an ndarray from ragged nested sequences (which is a list-or-tuple of lists-or-tuples-or ndarrays with different lengths or shapes) is deprecated. If you meant to do this, you must specify 'dtype=object' when creating the ndarray.\n",
      "  return array(a, dtype, copy=False, order=order)\n",
      "\n",
      "\n",
      " 25%|██████████████████████████████████▏                                                                                                      | 80/321 [00:22<01:23,  2.89it/s]\u001b[A\u001b[A\n",
      "\n",
      " 31%|██████████████████████████████████████████▎                                                                                             | 100/321 [00:31<01:22,  2.68it/s]\u001b[A\u001b[A\n",
      "\n",
      " 37%|██████████████████████████████████████████████████▊                                                                                     | 120/321 [00:40<01:19,  2.53it/s]\u001b[A\u001b[A/opt/conda/lib/python3.9/site-packages/numpy/core/_asarray.py:102: VisibleDeprecationWarning: Creating an ndarray from ragged nested sequences (which is a list-or-tuple of lists-or-tuples-or ndarrays with different lengths or shapes) is deprecated. If you meant to do this, you must specify 'dtype=object' when creating the ndarray.\n",
      "  return array(a, dtype, copy=False, order=order)\n",
      "\n",
      "\n",
      " 44%|███████████████████████████████████████████████████████████▎                                                                            | 140/321 [00:50<01:19,  2.28it/s]\u001b[A\u001b[A\n",
      "\n",
      " 50%|███████████████████████████████████████████████████████████████████▊                                                                    | 160/321 [00:59<01:10,  2.27it/s]\u001b[A\u001b[A/opt/conda/lib/python3.9/site-packages/numpy/core/_asarray.py:102: VisibleDeprecationWarning: Creating an ndarray from ragged nested sequences (which is a list-or-tuple of lists-or-tuples-or ndarrays with different lengths or shapes) is deprecated. If you meant to do this, you must specify 'dtype=object' when creating the ndarray.\n",
      "  return array(a, dtype, copy=False, order=order)\n",
      "/opt/conda/lib/python3.9/site-packages/numpy/core/_asarray.py:102: VisibleDeprecationWarning: Creating an ndarray from ragged nested sequences (which is a list-or-tuple of lists-or-tuples-or ndarrays with different lengths or shapes) is deprecated. If you meant to do this, you must specify 'dtype=object' when creating the ndarray.\n",
      "  return array(a, dtype, copy=False, order=order)\n",
      "\n",
      "\n",
      " 56%|████████████████████████████████████████████████████████████████████████████▎                                                           | 180/321 [01:08<01:01,  2.28it/s]\u001b[A\u001b[A/opt/conda/lib/python3.9/site-packages/numpy/core/_asarray.py:102: VisibleDeprecationWarning: Creating an ndarray from ragged nested sequences (which is a list-or-tuple of lists-or-tuples-or ndarrays with different lengths or shapes) is deprecated. If you meant to do this, you must specify 'dtype=object' when creating the ndarray.\n",
      "  return array(a, dtype, copy=False, order=order)\n",
      "/opt/conda/lib/python3.9/site-packages/numpy/core/_asarray.py:102: VisibleDeprecationWarning: Creating an ndarray from ragged nested sequences (which is a list-or-tuple of lists-or-tuples-or ndarrays with different lengths or shapes) is deprecated. If you meant to do this, you must specify 'dtype=object' when creating the ndarray.\n",
      "  return array(a, dtype, copy=False, order=order)\n",
      "\n",
      "\n",
      " 62%|████████████████████████████████████████████████████████████████████████████████████▋                                                   | 200/321 [01:17<00:53,  2.27it/s]\u001b[A\u001b[A\n",
      "\n",
      " 69%|█████████████████████████████████████████████████████████████████████████████████████████████▏                                          | 220/321 [01:26<00:44,  2.27it/s]\u001b[A\u001b[A/opt/conda/lib/python3.9/site-packages/numpy/core/_asarray.py:102: VisibleDeprecationWarning: Creating an ndarray from ragged nested sequences (which is a list-or-tuple of lists-or-tuples-or ndarrays with different lengths or shapes) is deprecated. If you meant to do this, you must specify 'dtype=object' when creating the ndarray.\n",
      "  return array(a, dtype, copy=False, order=order)\n",
      "/opt/conda/lib/python3.9/site-packages/numpy/core/_asarray.py:102: VisibleDeprecationWarning: Creating an ndarray from ragged nested sequences (which is a list-or-tuple of lists-or-tuples-or ndarrays with different lengths or shapes) is deprecated. If you meant to do this, you must specify 'dtype=object' when creating the ndarray.\n",
      "  return array(a, dtype, copy=False, order=order)\n",
      "/opt/conda/lib/python3.9/site-packages/numpy/core/_asarray.py:102: VisibleDeprecationWarning: Creating an ndarray from ragged nested sequences (which is a list-or-tuple of lists-or-tuples-or ndarrays with different lengths or shapes) is deprecated. If you meant to do this, you must specify 'dtype=object' when creating the ndarray.\n",
      "  return array(a, dtype, copy=False, order=order)\n",
      "\n",
      "\n",
      " 75%|█████████████████████████████████████████████████████████████████████████████████████████████████████▋                                  | 240/321 [01:35<00:35,  2.26it/s]\u001b[A\u001b[A\n",
      "\n",
      " 81%|██████████████████████████████████████████████████████████████████████████████████████████████████████████████▏                         | 260/321 [01:43<00:26,  2.27it/s]\u001b[A\u001b[A\n",
      "\n"
     ]
    },
    {
     "name": "stderr",
     "output_type": "stream",
     "text": [
      " 87%|██████████████████████████████████████████████████████████████████████████████████████████████████████████████████████▋                 | 280/321 [01:52<00:17,  2.29it/s]\u001b[A\u001b[A\n",
      "\n",
      " 93%|███████████████████████████████████████████████████████████████████████████████████████████████████████████████████████████████         | 300/321 [02:00<00:09,  2.31it/s]\u001b[A\u001b[A\n",
      "\n",
      "100%|████████████████████████████████████████████████████████████████████████████████████████████████████████████████████████████████████████| 321/321 [02:09<00:00,  2.48it/s]\u001b[A\u001b[A\n",
      "/opt/conda/lib/python3.9/site-packages/numpy/core/_asarray.py:102: VisibleDeprecationWarning: Creating an ndarray from ragged nested sequences (which is a list-or-tuple of lists-or-tuples-or ndarrays with different lengths or shapes) is deprecated. If you meant to do this, you must specify 'dtype=object' when creating the ndarray.\n",
      "  return array(a, dtype, copy=False, order=order)\n",
      "/opt/conda/lib/python3.9/site-packages/numpy/core/_asarray.py:102: VisibleDeprecationWarning: Creating an ndarray from ragged nested sequences (which is a list-or-tuple of lists-or-tuples-or ndarrays with different lengths or shapes) is deprecated. If you meant to do this, you must specify 'dtype=object' when creating the ndarray.\n",
      "  return array(a, dtype, copy=False, order=order)\n"
     ]
    },
    {
     "name": "stdout",
     "output_type": "stream",
     "text": [
      "Save to /data/rajlab1/user_data/jin/MyResearch/jesse_data/notebooks/../mypkg/../results/graph_metrics_ballfc_Limbic.pkl\n"
     ]
    },
    {
     "name": "stderr",
     "output_type": "stream",
     "text": [
      "\n",
      "\n",
      "  0%|                                                                                                                                                  | 0/321 [00:00<?, ?it/s]\u001b[A\u001b[A\n",
      "\n",
      " 12%|█████████████████                                                                                                                        | 40/321 [00:02<00:19, 14.35it/s]\u001b[A\u001b[A\n",
      "\n",
      " 19%|█████████████████████████▌                                                                                                               | 60/321 [00:11<00:56,  4.59it/s]\u001b[A\u001b[A\n",
      "\n",
      " 25%|██████████████████████████████████▏                                                                                                      | 80/321 [00:19<01:11,  3.35it/s]\u001b[A\u001b[A\n",
      "\n",
      " 31%|██████████████████████████████████████████▎                                                                                             | 100/321 [00:28<01:16,  2.89it/s]\u001b[A\u001b[A\n",
      "\n",
      " 37%|██████████████████████████████████████████████████▊                                                                                     | 120/321 [00:37<01:15,  2.67it/s]\u001b[A\u001b[A/opt/conda/lib/python3.9/site-packages/numpy/core/_asarray.py:102: VisibleDeprecationWarning: Creating an ndarray from ragged nested sequences (which is a list-or-tuple of lists-or-tuples-or ndarrays with different lengths or shapes) is deprecated. If you meant to do this, you must specify 'dtype=object' when creating the ndarray.\n",
      "  return array(a, dtype, copy=False, order=order)\n",
      "\n",
      "\n",
      " 44%|███████████████████████████████████████████████████████████▎                                                                            | 140/321 [00:46<01:11,  2.52it/s]\u001b[A\u001b[A/opt/conda/lib/python3.9/site-packages/numpy/core/_asarray.py:102: VisibleDeprecationWarning: Creating an ndarray from ragged nested sequences (which is a list-or-tuple of lists-or-tuples-or ndarrays with different lengths or shapes) is deprecated. If you meant to do this, you must specify 'dtype=object' when creating the ndarray.\n",
      "  return array(a, dtype, copy=False, order=order)\n",
      "/opt/conda/lib/python3.9/site-packages/numpy/core/_asarray.py:102: VisibleDeprecationWarning: Creating an ndarray from ragged nested sequences (which is a list-or-tuple of lists-or-tuples-or ndarrays with different lengths or shapes) is deprecated. If you meant to do this, you must specify 'dtype=object' when creating the ndarray.\n",
      "  return array(a, dtype, copy=False, order=order)\n",
      "\n",
      "\n",
      " 50%|███████████████████████████████████████████████████████████████████▊                                                                    | 160/321 [00:54<01:05,  2.46it/s]\u001b[A\u001b[A\n",
      "\n",
      " 56%|████████████████████████████████████████████████████████████████████████████▎                                                           | 180/321 [01:03<00:58,  2.40it/s]\u001b[A\u001b[A/opt/conda/lib/python3.9/site-packages/numpy/core/_asarray.py:102: VisibleDeprecationWarning: Creating an ndarray from ragged nested sequences (which is a list-or-tuple of lists-or-tuples-or ndarrays with different lengths or shapes) is deprecated. If you meant to do this, you must specify 'dtype=object' when creating the ndarray.\n",
      "  return array(a, dtype, copy=False, order=order)\n",
      "/opt/conda/lib/python3.9/site-packages/numpy/core/_asarray.py:102: VisibleDeprecationWarning: Creating an ndarray from ragged nested sequences (which is a list-or-tuple of lists-or-tuples-or ndarrays with different lengths or shapes) is deprecated. If you meant to do this, you must specify 'dtype=object' when creating the ndarray.\n",
      "  return array(a, dtype, copy=False, order=order)\n",
      "\n",
      "\n",
      " 62%|████████████████████████████████████████████████████████████████████████████████████▋                                                   | 200/321 [01:12<00:50,  2.38it/s]\u001b[A\u001b[A\n",
      "\n",
      " 69%|█████████████████████████████████████████████████████████████████████████████████████████████▏                                          | 220/321 [01:20<00:42,  2.35it/s]\u001b[A\u001b[A\n",
      "\n",
      " 75%|█████████████████████████████████████████████████████████████████████████████████████████████████████▋                                  | 240/321 [01:29<00:34,  2.34it/s]\u001b[A\u001b[A\n",
      "\n",
      " 81%|██████████████████████████████████████████████████████████████████████████████████████████████████████████████▏                         | 260/321 [01:38<00:26,  2.34it/s]\u001b[A\u001b[A\n",
      "\n",
      " 87%|██████████████████████████████████████████████████████████████████████████████████████████████████████████████████████▋                 | 280/321 [01:47<00:17,  2.30it/s]\u001b[A\u001b[A/opt/conda/lib/python3.9/site-packages/numpy/core/_asarray.py:102: VisibleDeprecationWarning: Creating an ndarray from ragged nested sequences (which is a list-or-tuple of lists-or-tuples-or ndarrays with different lengths or shapes) is deprecated. If you meant to do this, you must specify 'dtype=object' when creating the ndarray.\n",
      "  return array(a, dtype, copy=False, order=order)\n",
      "/opt/conda/lib/python3.9/site-packages/numpy/core/_asarray.py:102: VisibleDeprecationWarning: Creating an ndarray from ragged nested sequences (which is a list-or-tuple of lists-or-tuples-or ndarrays with different lengths or shapes) is deprecated. If you meant to do this, you must specify 'dtype=object' when creating the ndarray.\n",
      "  return array(a, dtype, copy=False, order=order)\n",
      "\n",
      "\n",
      " 93%|███████████████████████████████████████████████████████████████████████████████████████████████████████████████████████████████         | 300/321 [01:55<00:09,  2.30it/s]\u001b[A\u001b[A\n",
      "\n",
      "100%|████████████████████████████████████████████████████████████████████████████████████████████████████████████████████████████████████████| 321/321 [02:04<00:00,  2.57it/s]\u001b[A\u001b[A\n"
     ]
    },
    {
     "name": "stdout",
     "output_type": "stream",
     "text": [
      "Save to /data/rajlab1/user_data/jin/MyResearch/jesse_data/notebooks/../mypkg/../results/graph_metrics_ballfc_Frontoparietal.pkl\n"
     ]
    },
    {
     "name": "stderr",
     "output_type": "stream",
     "text": [
      "\n",
      "\n",
      "  0%|                                                                                                                                                  | 0/321 [00:00<?, ?it/s]\u001b[A\u001b[A\n",
      "\n",
      " 12%|█████████████████                                                                                                                        | 40/321 [00:05<00:35,  8.03it/s]\u001b[A\u001b[A/opt/conda/lib/python3.9/site-packages/numpy/core/_asarray.py:102: VisibleDeprecationWarning: Creating an ndarray from ragged nested sequences (which is a list-or-tuple of lists-or-tuples-or ndarrays with different lengths or shapes) is deprecated. If you meant to do this, you must specify 'dtype=object' when creating the ndarray.\n",
      "  return array(a, dtype, copy=False, order=order)\n",
      "/opt/conda/lib/python3.9/site-packages/numpy/core/_asarray.py:102: VisibleDeprecationWarning: Creating an ndarray from ragged nested sequences (which is a list-or-tuple of lists-or-tuples-or ndarrays with different lengths or shapes) is deprecated. If you meant to do this, you must specify 'dtype=object' when creating the ndarray.\n",
      "  return array(a, dtype, copy=False, order=order)\n",
      "\n",
      "\n",
      " 19%|█████████████████████████▌                                                                                                               | 60/321 [00:17<01:25,  3.06it/s]\u001b[A\u001b[A/opt/conda/lib/python3.9/site-packages/numpy/core/_asarray.py:102: VisibleDeprecationWarning: Creating an ndarray from ragged nested sequences (which is a list-or-tuple of lists-or-tuples-or ndarrays with different lengths or shapes) is deprecated. If you meant to do this, you must specify 'dtype=object' when creating the ndarray.\n",
      "  return array(a, dtype, copy=False, order=order)\n",
      "/opt/conda/lib/python3.9/site-packages/numpy/core/_asarray.py:102: VisibleDeprecationWarning: Creating an ndarray from ragged nested sequences (which is a list-or-tuple of lists-or-tuples-or ndarrays with different lengths or shapes) is deprecated. If you meant to do this, you must specify 'dtype=object' when creating the ndarray.\n",
      "  return array(a, dtype, copy=False, order=order)\n",
      "/opt/conda/lib/python3.9/site-packages/numpy/core/_asarray.py:102: VisibleDeprecationWarning: Creating an ndarray from ragged nested sequences (which is a list-or-tuple of lists-or-tuples-or ndarrays with different lengths or shapes) is deprecated. If you meant to do this, you must specify 'dtype=object' when creating the ndarray.\n",
      "  return array(a, dtype, copy=False, order=order)\n",
      "/opt/conda/lib/python3.9/site-packages/numpy/core/_asarray.py:102: VisibleDeprecationWarning: Creating an ndarray from ragged nested sequences (which is a list-or-tuple of lists-or-tuples-or ndarrays with different lengths or shapes) is deprecated. If you meant to do this, you must specify 'dtype=object' when creating the ndarray.\n",
      "  return array(a, dtype, copy=False, order=order)\n",
      "/opt/conda/lib/python3.9/site-packages/numpy/core/_asarray.py:102: VisibleDeprecationWarning: Creating an ndarray from ragged nested sequences (which is a list-or-tuple of lists-or-tuples-or ndarrays with different lengths or shapes) is deprecated. If you meant to do this, you must specify 'dtype=object' when creating the ndarray.\n",
      "  return array(a, dtype, copy=False, order=order)\n",
      "/opt/conda/lib/python3.9/site-packages/numpy/core/_asarray.py:102: VisibleDeprecationWarning: Creating an ndarray from ragged nested sequences (which is a list-or-tuple of lists-or-tuples-or ndarrays with different lengths or shapes) is deprecated. If you meant to do this, you must specify 'dtype=object' when creating the ndarray.\n",
      "  return array(a, dtype, copy=False, order=order)\n",
      "/opt/conda/lib/python3.9/site-packages/numpy/core/_asarray.py:102: VisibleDeprecationWarning: Creating an ndarray from ragged nested sequences (which is a list-or-tuple of lists-or-tuples-or ndarrays with different lengths or shapes) is deprecated. If you meant to do this, you must specify 'dtype=object' when creating the ndarray.\n",
      "  return array(a, dtype, copy=False, order=order)\n",
      "/opt/conda/lib/python3.9/site-packages/numpy/core/_asarray.py:102: VisibleDeprecationWarning: Creating an ndarray from ragged nested sequences (which is a list-or-tuple of lists-or-tuples-or ndarrays with different lengths or shapes) is deprecated. If you meant to do this, you must specify 'dtype=object' when creating the ndarray.\n",
      "  return array(a, dtype, copy=False, order=order)\n",
      "/opt/conda/lib/python3.9/site-packages/numpy/core/_asarray.py:102: VisibleDeprecationWarning: Creating an ndarray from ragged nested sequences (which is a list-or-tuple of lists-or-tuples-or ndarrays with different lengths or shapes) is deprecated. If you meant to do this, you must specify 'dtype=object' when creating the ndarray.\n",
      "  return array(a, dtype, copy=False, order=order)\n",
      "\n",
      "\n",
      " 25%|██████████████████████████████████▏                                                                                                      | 80/321 [00:31<01:52,  2.14it/s]\u001b[A\u001b[A/opt/conda/lib/python3.9/site-packages/numpy/core/_asarray.py:102: VisibleDeprecationWarning: Creating an ndarray from ragged nested sequences (which is a list-or-tuple of lists-or-tuples-or ndarrays with different lengths or shapes) is deprecated. If you meant to do this, you must specify 'dtype=object' when creating the ndarray.\n",
      "  return array(a, dtype, copy=False, order=order)\n",
      "\n",
      "\n",
      " 31%|██████████████████████████████████████████▎                                                                                             | 100/321 [00:44<01:58,  1.87it/s]\u001b[A\u001b[A\n",
      "\n",
      " 37%|██████████████████████████████████████████████████▊                                                                                     | 120/321 [00:57<01:54,  1.76it/s]\u001b[A\u001b[A\n",
      "\n",
      " 44%|███████████████████████████████████████████████████████████▎                                                                            | 140/321 [01:10<01:48,  1.66it/s]\u001b[A\u001b[A/opt/conda/lib/python3.9/site-packages/numpy/core/_asarray.py:102: VisibleDeprecationWarning: Creating an ndarray from ragged nested sequences (which is a list-or-tuple of lists-or-tuples-or ndarrays with different lengths or shapes) is deprecated. If you meant to do this, you must specify 'dtype=object' when creating the ndarray.\n",
      "  return array(a, dtype, copy=False, order=order)\n",
      "\n",
      "\n",
      " 50%|███████████████████████████████████████████████████████████████████▊                                                                    | 160/321 [01:25<01:43,  1.56it/s]\u001b[A\u001b[A/opt/conda/lib/python3.9/site-packages/numpy/core/_asarray.py:102: VisibleDeprecationWarning: Creating an ndarray from ragged nested sequences (which is a list-or-tuple of lists-or-tuples-or ndarrays with different lengths or shapes) is deprecated. If you meant to do this, you must specify 'dtype=object' when creating the ndarray.\n",
      "  return array(a, dtype, copy=False, order=order)\n",
      "\n",
      "\n",
      " 56%|████████████████████████████████████████████████████████████████████████████▎                                                           | 180/321 [01:37<01:28,  1.58it/s]\u001b[A\u001b[A\n",
      "\n",
      " 56%|████████████████████████████████████████████████████████████████████████████▋                                                           | 181/321 [01:37<01:26,  1.61it/s]\u001b[A\u001b[A/opt/conda/lib/python3.9/site-packages/numpy/core/_asarray.py:102: VisibleDeprecationWarning: Creating an ndarray from ragged nested sequences (which is a list-or-tuple of lists-or-tuples-or ndarrays with different lengths or shapes) is deprecated. If you meant to do this, you must specify 'dtype=object' when creating the ndarray.\n",
      "  return array(a, dtype, copy=False, order=order)\n",
      "\n",
      "\n",
      " 62%|████████████████████████████████████████████████████████████████████████████████████▋                                                   | 200/321 [01:50<01:17,  1.57it/s]\u001b[A\u001b[A\n",
      "\n",
      " 63%|█████████████████████████████████████████████████████████████████████████████████████▏                                                  | 201/321 [01:50<01:14,  1.60it/s]\u001b[A\u001b[A\n",
      "\n",
      " 69%|█████████████████████████████████████████████████████████████████████████████████████████████▏                                          | 220/321 [02:04<01:07,  1.50it/s]\u001b[A\u001b[A\n",
      "\n"
     ]
    },
    {
     "name": "stderr",
     "output_type": "stream",
     "text": [
      " 75%|█████████████████████████████████████████████████████████████████████████████████████████████████████▋                                  | 240/321 [02:16<00:52,  1.53it/s]\u001b[A\u001b[A/opt/conda/lib/python3.9/site-packages/numpy/core/_asarray.py:102: VisibleDeprecationWarning: Creating an ndarray from ragged nested sequences (which is a list-or-tuple of lists-or-tuples-or ndarrays with different lengths or shapes) is deprecated. If you meant to do this, you must specify 'dtype=object' when creating the ndarray.\n",
      "  return array(a, dtype, copy=False, order=order)\n",
      "/opt/conda/lib/python3.9/site-packages/numpy/core/_asarray.py:102: VisibleDeprecationWarning: Creating an ndarray from ragged nested sequences (which is a list-or-tuple of lists-or-tuples-or ndarrays with different lengths or shapes) is deprecated. If you meant to do this, you must specify 'dtype=object' when creating the ndarray.\n",
      "  return array(a, dtype, copy=False, order=order)\n",
      "\n",
      "\n",
      " 81%|██████████████████████████████████████████████████████████████████████████████████████████████████████████████▏                         | 260/321 [02:31<00:41,  1.48it/s]\u001b[A\u001b[A\n",
      "\n",
      " 87%|██████████████████████████████████████████████████████████████████████████████████████████████████████████████████████▋                 | 280/321 [02:43<00:27,  1.52it/s]\u001b[A\u001b[A/opt/conda/lib/python3.9/site-packages/numpy/core/_asarray.py:102: VisibleDeprecationWarning: Creating an ndarray from ragged nested sequences (which is a list-or-tuple of lists-or-tuples-or ndarrays with different lengths or shapes) is deprecated. If you meant to do this, you must specify 'dtype=object' when creating the ndarray.\n",
      "  return array(a, dtype, copy=False, order=order)\n",
      "/opt/conda/lib/python3.9/site-packages/numpy/core/_asarray.py:102: VisibleDeprecationWarning: Creating an ndarray from ragged nested sequences (which is a list-or-tuple of lists-or-tuples-or ndarrays with different lengths or shapes) is deprecated. If you meant to do this, you must specify 'dtype=object' when creating the ndarray.\n",
      "  return array(a, dtype, copy=False, order=order)\n",
      "\n",
      "\n",
      " 93%|███████████████████████████████████████████████████████████████████████████████████████████████████████████████████████████████         | 300/321 [02:56<00:13,  1.51it/s]\u001b[A\u001b[A\n",
      "\n",
      "100%|████████████████████████████████████████████████████████████████████████████████████████████████████████████████████████████████████████| 321/321 [03:11<00:00,  1.68it/s]\u001b[A\u001b[A\n",
      "/opt/conda/lib/python3.9/site-packages/numpy/core/_asarray.py:102: VisibleDeprecationWarning: Creating an ndarray from ragged nested sequences (which is a list-or-tuple of lists-or-tuples-or ndarrays with different lengths or shapes) is deprecated. If you meant to do this, you must specify 'dtype=object' when creating the ndarray.\n",
      "  return array(a, dtype, copy=False, order=order)\n"
     ]
    },
    {
     "name": "stdout",
     "output_type": "stream",
     "text": [
      "Save to /data/rajlab1/user_data/jin/MyResearch/jesse_data/notebooks/../mypkg/../results/graph_metrics_ballfc_Default.pkl\n"
     ]
    }
   ],
   "source": [
    "def _run_fn(sub_ix, net_ix):\n",
    "    bfc = bcorFCs[sub_ix-1]\n",
    "    bfc = bfc[yeo_7nets_lab==net_ix][:, yeo_7nets_lab==net_ix]\n",
    "    res = edict()\n",
    "    res.sub_ix = sub_ix \n",
    "    res.fc = bfc \n",
    "    res.network_metrics = get_netmetrics(bfc)\n",
    "    return res\n",
    "for net_ix in range(1, 8):\n",
    "    with Parallel(n_jobs=20) as parallel:\n",
    "        res = parallel(delayed(_run_fn)(sub_ix, net_ix) for sub_ix in tqdm(range(1, num_sps+1), total=num_sps))\n",
    "    save_pkl(RES_ROOT/f\"graph_metrics_ballfc_{yeo_7nets_dict[net_ix]}.pkl\", res, is_force=True)"
   ]
  },
  {
   "cell_type": "code",
   "execution_count": null,
   "id": "5b6584b6",
   "metadata": {},
   "outputs": [],
   "source": []
  },
  {
   "cell_type": "code",
   "execution_count": 15,
   "id": "9facc235",
   "metadata": {
    "ExecuteTime": {
     "end_time": "2023-11-17T18:07:41.296331Z",
     "start_time": "2023-11-17T17:51:02.119821Z"
    }
   },
   "outputs": [
    {
     "name": "stderr",
     "output_type": "stream",
     "text": [
      "\n",
      "\n",
      "  0%|                                                                                                                                                  | 0/321 [00:00<?, ?it/s]\u001b[A\u001b[A/opt/conda/lib/python3.9/site-packages/numpy/core/_asarray.py:102: VisibleDeprecationWarning: Creating an ndarray from ragged nested sequences (which is a list-or-tuple of lists-or-tuples-or ndarrays with different lengths or shapes) is deprecated. If you meant to do this, you must specify 'dtype=object' when creating the ndarray.\n",
      "  return array(a, dtype, copy=False, order=order)\n",
      "/opt/conda/lib/python3.9/site-packages/numpy/core/_asarray.py:102: VisibleDeprecationWarning: Creating an ndarray from ragged nested sequences (which is a list-or-tuple of lists-or-tuples-or ndarrays with different lengths or shapes) is deprecated. If you meant to do this, you must specify 'dtype=object' when creating the ndarray.\n",
      "  return array(a, dtype, copy=False, order=order)\n",
      "\n",
      "\n",
      "/opt/conda/lib/python3.9/site-packages/numpy/core/_asarray.py:102: VisibleDeprecationWarning: Creating an ndarray from ragged nested sequences (which is a list-or-tuple of lists-or-tuples-or ndarrays with different lengths or shapes) is deprecated. If you meant to do this, you must specify 'dtype=object' when creating the ndarray.\n",
      "  return array(a, dtype, copy=False, order=order)\n",
      "  9%|████████████▊                                                                                                                            | 30/321 [00:02<00:19, 14.95it/s]\u001b[A\u001b[A/opt/conda/lib/python3.9/site-packages/numpy/core/_asarray.py:102: VisibleDeprecationWarning: Creating an ndarray from ragged nested sequences (which is a list-or-tuple of lists-or-tuples-or ndarrays with different lengths or shapes) is deprecated. If you meant to do this, you must specify 'dtype=object' when creating the ndarray.\n",
      "  return array(a, dtype, copy=False, order=order)\n",
      "/opt/conda/lib/python3.9/site-packages/numpy/core/_asarray.py:102: VisibleDeprecationWarning: Creating an ndarray from ragged nested sequences (which is a list-or-tuple of lists-or-tuples-or ndarrays with different lengths or shapes) is deprecated. If you meant to do this, you must specify 'dtype=object' when creating the ndarray.\n",
      "  return array(a, dtype, copy=False, order=order)\n",
      "/opt/conda/lib/python3.9/site-packages/numpy/core/_asarray.py:102: VisibleDeprecationWarning: Creating an ndarray from ragged nested sequences (which is a list-or-tuple of lists-or-tuples-or ndarrays with different lengths or shapes) is deprecated. If you meant to do this, you must specify 'dtype=object' when creating the ndarray.\n",
      "  return array(a, dtype, copy=False, order=order)\n",
      "/opt/conda/lib/python3.9/site-packages/numpy/core/_asarray.py:102: VisibleDeprecationWarning: Creating an ndarray from ragged nested sequences (which is a list-or-tuple of lists-or-tuples-or ndarrays with different lengths or shapes) is deprecated. If you meant to do this, you must specify 'dtype=object' when creating the ndarray.\n",
      "  return array(a, dtype, copy=False, order=order)\n",
      "/opt/conda/lib/python3.9/site-packages/numpy/core/_asarray.py:102: VisibleDeprecationWarning: Creating an ndarray from ragged nested sequences (which is a list-or-tuple of lists-or-tuples-or ndarrays with different lengths or shapes) is deprecated. If you meant to do this, you must specify 'dtype=object' when creating the ndarray.\n",
      "  return array(a, dtype, copy=False, order=order)\n",
      "/opt/conda/lib/python3.9/site-packages/numpy/core/_asarray.py:102: VisibleDeprecationWarning: Creating an ndarray from ragged nested sequences (which is a list-or-tuple of lists-or-tuples-or ndarrays with different lengths or shapes) is deprecated. If you meant to do this, you must specify 'dtype=object' when creating the ndarray.\n",
      "  return array(a, dtype, copy=False, order=order)\n",
      "/opt/conda/lib/python3.9/site-packages/numpy/core/_asarray.py:102: VisibleDeprecationWarning: Creating an ndarray from ragged nested sequences (which is a list-or-tuple of lists-or-tuples-or ndarrays with different lengths or shapes) is deprecated. If you meant to do this, you must specify 'dtype=object' when creating the ndarray.\n",
      "  return array(a, dtype, copy=False, order=order)\n",
      "/opt/conda/lib/python3.9/site-packages/numpy/core/_asarray.py:102: VisibleDeprecationWarning: Creating an ndarray from ragged nested sequences (which is a list-or-tuple of lists-or-tuples-or ndarrays with different lengths or shapes) is deprecated. If you meant to do this, you must specify 'dtype=object' when creating the ndarray.\n",
      "  return array(a, dtype, copy=False, order=order)\n",
      "/opt/conda/lib/python3.9/site-packages/numpy/core/_asarray.py:102: VisibleDeprecationWarning: Creating an ndarray from ragged nested sequences (which is a list-or-tuple of lists-or-tuples-or ndarrays with different lengths or shapes) is deprecated. If you meant to do this, you must specify 'dtype=object' when creating the ndarray.\n",
      "  return array(a, dtype, copy=False, order=order)\n",
      "/opt/conda/lib/python3.9/site-packages/numpy/core/_asarray.py:102: VisibleDeprecationWarning: Creating an ndarray from ragged nested sequences (which is a list-or-tuple of lists-or-tuples-or ndarrays with different lengths or shapes) is deprecated. If you meant to do this, you must specify 'dtype=object' when creating the ndarray.\n",
      "  return array(a, dtype, copy=False, order=order)\n",
      "/opt/conda/lib/python3.9/site-packages/numpy/core/_asarray.py:102: VisibleDeprecationWarning: Creating an ndarray from ragged nested sequences (which is a list-or-tuple of lists-or-tuples-or ndarrays with different lengths or shapes) is deprecated. If you meant to do this, you must specify 'dtype=object' when creating the ndarray.\n",
      "  return array(a, dtype, copy=False, order=order)\n",
      "/opt/conda/lib/python3.9/site-packages/numpy/core/_asarray.py:102: VisibleDeprecationWarning: Creating an ndarray from ragged nested sequences (which is a list-or-tuple of lists-or-tuples-or ndarrays with different lengths or shapes) is deprecated. If you meant to do this, you must specify 'dtype=object' when creating the ndarray.\n",
      "  return array(a, dtype, copy=False, order=order)\n",
      "/opt/conda/lib/python3.9/site-packages/numpy/core/_asarray.py:102: VisibleDeprecationWarning: Creating an ndarray from ragged nested sequences (which is a list-or-tuple of lists-or-tuples-or ndarrays with different lengths or shapes) is deprecated. If you meant to do this, you must specify 'dtype=object' when creating the ndarray.\n",
      "  return array(a, dtype, copy=False, order=order)\n",
      "/opt/conda/lib/python3.9/site-packages/numpy/core/_asarray.py:102: VisibleDeprecationWarning: Creating an ndarray from ragged nested sequences (which is a list-or-tuple of lists-or-tuples-or ndarrays with different lengths or shapes) is deprecated. If you meant to do this, you must specify 'dtype=object' when creating the ndarray.\n",
      "  return array(a, dtype, copy=False, order=order)\n",
      "\n",
      "\n",
      " 14%|███████████████████▏                                                                                                                     | 45/321 [00:09<01:06,  4.18it/s]\u001b[A\u001b[A\n",
      "\n",
      " 14%|███████████████████▋                                                                                                                     | 46/321 [00:09<01:04,  4.27it/s]/opt/conda/lib/python3.9/site-packages/numpy/core/_asarray.py:102: VisibleDeprecationWarning: Creating an ndarray from ragged nested sequences (which is a list-or-tuple of lists-or-tuples-or ndarrays with different lengths or shapes) is deprecated. If you meant to do this, you must specify 'dtype=object' when creating the ndarray.\n",
      "  return array(a, dtype, copy=False, order=order)\n",
      "\u001b[A\u001b[A\n",
      "\n",
      " 15%|████████████████████                                                                                                                     | 47/321 [00:09<01:02,  4.37it/s]\u001b[A\u001b[A/opt/conda/lib/python3.9/site-packages/numpy/core/_asarray.py:102: VisibleDeprecationWarning: Creating an ndarray from ragged nested sequences (which is a list-or-tuple of lists-or-tuples-or ndarrays with different lengths or shapes) is deprecated. If you meant to do this, you must specify 'dtype=object' when creating the ndarray.\n",
      "  return array(a, dtype, copy=False, order=order)\n",
      "/opt/conda/lib/python3.9/site-packages/numpy/core/_asarray.py:102: VisibleDeprecationWarning: Creating an ndarray from ragged nested sequences (which is a list-or-tuple of lists-or-tuples-or ndarrays with different lengths or shapes) is deprecated. If you meant to do this, you must specify 'dtype=object' when creating the ndarray.\n",
      "  return array(a, dtype, copy=False, order=order)\n"
     ]
    },
    {
     "name": "stderr",
     "output_type": "stream",
     "text": [
      "/opt/conda/lib/python3.9/site-packages/numpy/core/_asarray.py:102: VisibleDeprecationWarning: Creating an ndarray from ragged nested sequences (which is a list-or-tuple of lists-or-tuples-or ndarrays with different lengths or shapes) is deprecated. If you meant to do this, you must specify 'dtype=object' when creating the ndarray.\n",
      "  return array(a, dtype, copy=False, order=order)\n",
      "/opt/conda/lib/python3.9/site-packages/numpy/core/_asarray.py:102: VisibleDeprecationWarning: Creating an ndarray from ragged nested sequences (which is a list-or-tuple of lists-or-tuples-or ndarrays with different lengths or shapes) is deprecated. If you meant to do this, you must specify 'dtype=object' when creating the ndarray.\n",
      "  return array(a, dtype, copy=False, order=order)\n",
      "/opt/conda/lib/python3.9/site-packages/numpy/core/_asarray.py:102: VisibleDeprecationWarning: Creating an ndarray from ragged nested sequences (which is a list-or-tuple of lists-or-tuples-or ndarrays with different lengths or shapes) is deprecated. If you meant to do this, you must specify 'dtype=object' when creating the ndarray.\n",
      "  return array(a, dtype, copy=False, order=order)\n",
      "/opt/conda/lib/python3.9/site-packages/numpy/core/_asarray.py:102: VisibleDeprecationWarning: Creating an ndarray from ragged nested sequences (which is a list-or-tuple of lists-or-tuples-or ndarrays with different lengths or shapes) is deprecated. If you meant to do this, you must specify 'dtype=object' when creating the ndarray.\n",
      "  return array(a, dtype, copy=False, order=order)\n",
      "/opt/conda/lib/python3.9/site-packages/numpy/core/_asarray.py:102: VisibleDeprecationWarning: Creating an ndarray from ragged nested sequences (which is a list-or-tuple of lists-or-tuples-or ndarrays with different lengths or shapes) is deprecated. If you meant to do this, you must specify 'dtype=object' when creating the ndarray.\n",
      "  return array(a, dtype, copy=False, order=order)\n",
      "/opt/conda/lib/python3.9/site-packages/numpy/core/_asarray.py:102: VisibleDeprecationWarning: Creating an ndarray from ragged nested sequences (which is a list-or-tuple of lists-or-tuples-or ndarrays with different lengths or shapes) is deprecated. If you meant to do this, you must specify 'dtype=object' when creating the ndarray.\n",
      "  return array(a, dtype, copy=False, order=order)\n",
      "/opt/conda/lib/python3.9/site-packages/numpy/core/_asarray.py:102: VisibleDeprecationWarning: Creating an ndarray from ragged nested sequences (which is a list-or-tuple of lists-or-tuples-or ndarrays with different lengths or shapes) is deprecated. If you meant to do this, you must specify 'dtype=object' when creating the ndarray.\n",
      "  return array(a, dtype, copy=False, order=order)\n",
      "/opt/conda/lib/python3.9/site-packages/numpy/core/_asarray.py:102: VisibleDeprecationWarning: Creating an ndarray from ragged nested sequences (which is a list-or-tuple of lists-or-tuples-or ndarrays with different lengths or shapes) is deprecated. If you meant to do this, you must specify 'dtype=object' when creating the ndarray.\n",
      "  return array(a, dtype, copy=False, order=order)\n",
      "/opt/conda/lib/python3.9/site-packages/numpy/core/_asarray.py:102: VisibleDeprecationWarning: Creating an ndarray from ragged nested sequences (which is a list-or-tuple of lists-or-tuples-or ndarrays with different lengths or shapes) is deprecated. If you meant to do this, you must specify 'dtype=object' when creating the ndarray.\n",
      "  return array(a, dtype, copy=False, order=order)\n",
      "/opt/conda/lib/python3.9/site-packages/numpy/core/_asarray.py:102: VisibleDeprecationWarning: Creating an ndarray from ragged nested sequences (which is a list-or-tuple of lists-or-tuples-or ndarrays with different lengths or shapes) is deprecated. If you meant to do this, you must specify 'dtype=object' when creating the ndarray.\n",
      "  return array(a, dtype, copy=False, order=order)\n",
      "\n",
      "\n",
      " 19%|█████████████████████████▌                                                                                                               | 60/321 [00:15<01:32,  2.83it/s]\u001b[A\u001b[A\n",
      "\n",
      " 23%|████████████████████████████████                                                                                                         | 75/321 [00:22<01:37,  2.51it/s]\u001b[A\u001b[A/opt/conda/lib/python3.9/site-packages/numpy/core/_asarray.py:102: VisibleDeprecationWarning: Creating an ndarray from ragged nested sequences (which is a list-or-tuple of lists-or-tuples-or ndarrays with different lengths or shapes) is deprecated. If you meant to do this, you must specify 'dtype=object' when creating the ndarray.\n",
      "  return array(a, dtype, copy=False, order=order)\n",
      "/opt/conda/lib/python3.9/site-packages/numpy/core/_asarray.py:102: VisibleDeprecationWarning: Creating an ndarray from ragged nested sequences (which is a list-or-tuple of lists-or-tuples-or ndarrays with different lengths or shapes) is deprecated. If you meant to do this, you must specify 'dtype=object' when creating the ndarray.\n",
      "  return array(a, dtype, copy=False, order=order)\n",
      "/opt/conda/lib/python3.9/site-packages/numpy/core/_asarray.py:102: VisibleDeprecationWarning: Creating an ndarray from ragged nested sequences (which is a list-or-tuple of lists-or-tuples-or ndarrays with different lengths or shapes) is deprecated. If you meant to do this, you must specify 'dtype=object' when creating the ndarray.\n",
      "  return array(a, dtype, copy=False, order=order)\n",
      "\n",
      "\n",
      " 28%|██████████████████████████████████████▍                                                                                                  | 90/321 [00:29<01:36,  2.39it/s]\u001b[A\u001b[A/opt/conda/lib/python3.9/site-packages/numpy/core/_asarray.py:102: VisibleDeprecationWarning: Creating an ndarray from ragged nested sequences (which is a list-or-tuple of lists-or-tuples-or ndarrays with different lengths or shapes) is deprecated. If you meant to do this, you must specify 'dtype=object' when creating the ndarray.\n",
      "  return array(a, dtype, copy=False, order=order)\n",
      "\n",
      "\n",
      " 33%|████████████████████████████████████████████▍                                                                                           | 105/321 [00:36<01:32,  2.33it/s]\u001b[A\u001b[A\n",
      "\n",
      " 37%|██████████████████████████████████████████████████▊                                                                                     | 120/321 [00:42<01:27,  2.31it/s]\u001b[A\u001b[A/opt/conda/lib/python3.9/site-packages/numpy/core/_asarray.py:102: VisibleDeprecationWarning: Creating an ndarray from ragged nested sequences (which is a list-or-tuple of lists-or-tuples-or ndarrays with different lengths or shapes) is deprecated. If you meant to do this, you must specify 'dtype=object' when creating the ndarray.\n",
      "  return array(a, dtype, copy=False, order=order)\n",
      "\n",
      "\n",
      " 42%|█████████████████████████████████████████████████████████▏                                                                              | 135/321 [00:49<01:20,  2.30it/s]\u001b[A\u001b[A\n",
      "\n",
      " 47%|███████████████████████████████████████████████████████████████▌                                                                        | 150/321 [00:55<01:14,  2.29it/s]\u001b[A\u001b[A/opt/conda/lib/python3.9/site-packages/numpy/core/_asarray.py:102: VisibleDeprecationWarning: Creating an ndarray from ragged nested sequences (which is a list-or-tuple of lists-or-tuples-or ndarrays with different lengths or shapes) is deprecated. If you meant to do this, you must specify 'dtype=object' when creating the ndarray.\n",
      "  return array(a, dtype, copy=False, order=order)\n",
      "\n",
      "\n",
      " 51%|█████████████████████████████████████████████████████████████████████▉                                                                  | 165/321 [01:02<01:08,  2.28it/s]\u001b[A\u001b[A/opt/conda/lib/python3.9/site-packages/numpy/core/_asarray.py:102: VisibleDeprecationWarning: Creating an ndarray from ragged nested sequences (which is a list-or-tuple of lists-or-tuples-or ndarrays with different lengths or shapes) is deprecated. If you meant to do this, you must specify 'dtype=object' when creating the ndarray.\n",
      "  return array(a, dtype, copy=False, order=order)\n",
      "\n",
      "\n",
      " 56%|████████████████████████████████████████████████████████████████████████████▎                                                           | 180/321 [01:09<01:02,  2.26it/s]\u001b[A\u001b[A/opt/conda/lib/python3.9/site-packages/numpy/core/_asarray.py:102: VisibleDeprecationWarning: Creating an ndarray from ragged nested sequences (which is a list-or-tuple of lists-or-tuples-or ndarrays with different lengths or shapes) is deprecated. If you meant to do this, you must specify 'dtype=object' when creating the ndarray.\n",
      "  return array(a, dtype, copy=False, order=order)\n"
     ]
    },
    {
     "name": "stderr",
     "output_type": "stream",
     "text": [
      "\n",
      "\n",
      " 61%|██████████████████████████████████████████████████████████████████████████████████▌                                                     | 195/321 [01:15<00:56,  2.25it/s]\u001b[A\u001b[A\n",
      "\n",
      " 65%|████████████████████████████████████████████████████████████████████████████████████████▉                                               | 210/321 [01:22<00:49,  2.25it/s]\u001b[A\u001b[A\n",
      "\n",
      " 70%|███████████████████████████████████████████████████████████████████████████████████████████████▎                                        | 225/321 [01:29<00:42,  2.26it/s]\u001b[A\u001b[A\n",
      "\n",
      " 75%|█████████████████████████████████████████████████████████████████████████████████████████████████████▋                                  | 240/321 [01:35<00:35,  2.26it/s]\u001b[A\u001b[A\n",
      "\n",
      " 79%|████████████████████████████████████████████████████████████████████████████████████████████████████████████                            | 255/321 [01:42<00:29,  2.24it/s]\u001b[A\u001b[A\n",
      "\n",
      " 84%|██████████████████████████████████████████████████████████████████████████████████████████████████████████████████▍                     | 270/321 [01:49<00:22,  2.26it/s]\u001b[A\u001b[A\n",
      "\n",
      " 89%|████████████████████████████████████████████████████████████████████████████████████████████████████████████████████████▋               | 285/321 [01:55<00:15,  2.26it/s]\u001b[A\u001b[A\n",
      "\n",
      " 93%|███████████████████████████████████████████████████████████████████████████████████████████████████████████████████████████████         | 300/321 [02:02<00:09,  2.27it/s]\u001b[A\u001b[A\n",
      "\n",
      "100%|████████████████████████████████████████████████████████████████████████████████████████████████████████████████████████████████████████| 321/321 [02:09<00:00,  2.48it/s]\u001b[A\u001b[A\n",
      "/opt/conda/lib/python3.9/site-packages/numpy/core/_asarray.py:102: VisibleDeprecationWarning: Creating an ndarray from ragged nested sequences (which is a list-or-tuple of lists-or-tuples-or ndarrays with different lengths or shapes) is deprecated. If you meant to do this, you must specify 'dtype=object' when creating the ndarray.\n",
      "  return array(a, dtype, copy=False, order=order)\n"
     ]
    },
    {
     "name": "stdout",
     "output_type": "stream",
     "text": [
      "Save to /data/rajlab1/user_data/jin/MyResearch/jesse_data/notebooks/../mypkg/../results/graph_metrics_bbinfc_Visual.pkl\n"
     ]
    },
    {
     "name": "stderr",
     "output_type": "stream",
     "text": [
      "\n",
      "\n",
      "  0%|                                                                                                                                                  | 0/321 [00:00<?, ?it/s]\u001b[A\u001b[A\n",
      "\n",
      "  9%|████████████▊                                                                                                                            | 30/321 [00:01<00:15, 19.22it/s]\u001b[A\u001b[A/opt/conda/lib/python3.9/site-packages/numpy/core/_asarray.py:102: VisibleDeprecationWarning: Creating an ndarray from ragged nested sequences (which is a list-or-tuple of lists-or-tuples-or ndarrays with different lengths or shapes) is deprecated. If you meant to do this, you must specify 'dtype=object' when creating the ndarray.\n",
      "  return array(a, dtype, copy=False, order=order)\n",
      "\n",
      "\n",
      " 14%|███████████████████▏                                                                                                                     | 45/321 [00:08<01:03,  4.35it/s]\u001b[A\u001b[A/opt/conda/lib/python3.9/site-packages/numpy/core/_asarray.py:102: VisibleDeprecationWarning: Creating an ndarray from ragged nested sequences (which is a list-or-tuple of lists-or-tuples-or ndarrays with different lengths or shapes) is deprecated. If you meant to do this, you must specify 'dtype=object' when creating the ndarray.\n",
      "  return array(a, dtype, copy=False, order=order)\n",
      "\n",
      "\n",
      " 19%|█████████████████████████▌                                                                                                               | 60/321 [00:15<01:19,  3.28it/s]\u001b[A\u001b[A/opt/conda/lib/python3.9/site-packages/numpy/core/_asarray.py:102: VisibleDeprecationWarning: Creating an ndarray from ragged nested sequences (which is a list-or-tuple of lists-or-tuples-or ndarrays with different lengths or shapes) is deprecated. If you meant to do this, you must specify 'dtype=object' when creating the ndarray.\n",
      "  return array(a, dtype, copy=False, order=order)\n",
      "/opt/conda/lib/python3.9/site-packages/numpy/core/_asarray.py:102: VisibleDeprecationWarning: Creating an ndarray from ragged nested sequences (which is a list-or-tuple of lists-or-tuples-or ndarrays with different lengths or shapes) is deprecated. If you meant to do this, you must specify 'dtype=object' when creating the ndarray.\n",
      "  return array(a, dtype, copy=False, order=order)\n",
      "/opt/conda/lib/python3.9/site-packages/numpy/core/_asarray.py:102: VisibleDeprecationWarning: Creating an ndarray from ragged nested sequences (which is a list-or-tuple of lists-or-tuples-or ndarrays with different lengths or shapes) is deprecated. If you meant to do this, you must specify 'dtype=object' when creating the ndarray.\n",
      "  return array(a, dtype, copy=False, order=order)\n",
      "\n",
      "\n",
      " 23%|████████████████████████████████                                                                                                         | 75/321 [00:22<01:29,  2.75it/s]\u001b[A\u001b[A\n",
      "\n",
      " 24%|████████████████████████████████▍                                                                                                        | 76/321 [00:22<01:27,  2.81it/s]\u001b[A\u001b[A\n",
      "\n",
      " 24%|████████████████████████████████▊                                                                                                        | 77/321 [00:22<01:24,  2.89it/s]\u001b[A\u001b[A/opt/conda/lib/python3.9/site-packages/numpy/core/_asarray.py:102: VisibleDeprecationWarning: Creating an ndarray from ragged nested sequences (which is a list-or-tuple of lists-or-tuples-or ndarrays with different lengths or shapes) is deprecated. If you meant to do this, you must specify 'dtype=object' when creating the ndarray.\n",
      "  return array(a, dtype, copy=False, order=order)\n",
      "/opt/conda/lib/python3.9/site-packages/numpy/core/_asarray.py:102: VisibleDeprecationWarning: Creating an ndarray from ragged nested sequences (which is a list-or-tuple of lists-or-tuples-or ndarrays with different lengths or shapes) is deprecated. If you meant to do this, you must specify 'dtype=object' when creating the ndarray.\n",
      "  return array(a, dtype, copy=False, order=order)\n",
      "\n",
      "\n",
      " 28%|██████████████████████████████████████▍                                                                                                  | 90/321 [00:29<01:35,  2.41it/s]\u001b[A\u001b[A/opt/conda/lib/python3.9/site-packages/numpy/core/_asarray.py:102: VisibleDeprecationWarning: Creating an ndarray from ragged nested sequences (which is a list-or-tuple of lists-or-tuples-or ndarrays with different lengths or shapes) is deprecated. If you meant to do this, you must specify 'dtype=object' when creating the ndarray.\n",
      "  return array(a, dtype, copy=False, order=order)\n",
      "/opt/conda/lib/python3.9/site-packages/numpy/core/_asarray.py:102: VisibleDeprecationWarning: Creating an ndarray from ragged nested sequences (which is a list-or-tuple of lists-or-tuples-or ndarrays with different lengths or shapes) is deprecated. If you meant to do this, you must specify 'dtype=object' when creating the ndarray.\n",
      "  return array(a, dtype, copy=False, order=order)\n",
      "/opt/conda/lib/python3.9/site-packages/numpy/core/_asarray.py:102: VisibleDeprecationWarning: Creating an ndarray from ragged nested sequences (which is a list-or-tuple of lists-or-tuples-or ndarrays with different lengths or shapes) is deprecated. If you meant to do this, you must specify 'dtype=object' when creating the ndarray.\n",
      "  return array(a, dtype, copy=False, order=order)\n",
      "\n",
      "\n",
      " 33%|████████████████████████████████████████████▍                                                                                           | 105/321 [00:36<01:33,  2.30it/s]\u001b[A\u001b[A\n",
      "\n",
      " 37%|██████████████████████████████████████████████████▊                                                                                     | 120/321 [00:42<01:29,  2.24it/s]\u001b[A\u001b[A/opt/conda/lib/python3.9/site-packages/numpy/core/_asarray.py:102: VisibleDeprecationWarning: Creating an ndarray from ragged nested sequences (which is a list-or-tuple of lists-or-tuples-or ndarrays with different lengths or shapes) is deprecated. If you meant to do this, you must specify 'dtype=object' when creating the ndarray.\n",
      "  return array(a, dtype, copy=False, order=order)\n",
      "\n",
      "\n",
      " 42%|█████████████████████████████████████████████████████████▏                                                                              | 135/321 [00:49<01:22,  2.25it/s]\u001b[A\u001b[A/opt/conda/lib/python3.9/site-packages/numpy/core/_asarray.py:102: VisibleDeprecationWarning: Creating an ndarray from ragged nested sequences (which is a list-or-tuple of lists-or-tuples-or ndarrays with different lengths or shapes) is deprecated. If you meant to do this, you must specify 'dtype=object' when creating the ndarray.\n",
      "  return array(a, dtype, copy=False, order=order)\n",
      "/opt/conda/lib/python3.9/site-packages/numpy/core/_asarray.py:102: VisibleDeprecationWarning: Creating an ndarray from ragged nested sequences (which is a list-or-tuple of lists-or-tuples-or ndarrays with different lengths or shapes) is deprecated. If you meant to do this, you must specify 'dtype=object' when creating the ndarray.\n",
      "  return array(a, dtype, copy=False, order=order)\n",
      "\n",
      "\n",
      " 47%|███████████████████████████████████████████████████████████████▌                                                                        | 150/321 [00:56<01:15,  2.26it/s]\u001b[A\u001b[A\n",
      "\n",
      " 51%|█████████████████████████████████████████████████████████████████████▉                                                                  | 165/321 [01:02<01:08,  2.27it/s]\u001b[A\u001b[A\n",
      "\n",
      " 56%|████████████████████████████████████████████████████████████████████████████▎                                                           | 180/321 [01:09<01:01,  2.31it/s]\u001b[A\u001b[A\n",
      "\n",
      " 56%|████████████████████████████████████████████████████████████████████████████▋                                                           | 181/321 [01:09<00:59,  2.36it/s]\u001b[A\u001b[A/opt/conda/lib/python3.9/site-packages/numpy/core/_asarray.py:102: VisibleDeprecationWarning: Creating an ndarray from ragged nested sequences (which is a list-or-tuple of lists-or-tuples-or ndarrays with different lengths or shapes) is deprecated. If you meant to do this, you must specify 'dtype=object' when creating the ndarray.\n",
      "  return array(a, dtype, copy=False, order=order)\n",
      "\n",
      "\n"
     ]
    },
    {
     "name": "stderr",
     "output_type": "stream",
     "text": [
      " 61%|██████████████████████████████████████████████████████████████████████████████████▌                                                     | 195/321 [01:15<00:54,  2.29it/s]\u001b[A\u001b[A\n",
      "\n",
      " 61%|███████████████████████████████████████████████████████████████████████████████████                                                     | 196/321 [01:15<00:53,  2.35it/s]\u001b[A\u001b[A\n",
      "\n",
      " 61%|███████████████████████████████████████████████████████████████████████████████████▍                                                    | 197/321 [01:15<00:50,  2.44it/s]\u001b[A\u001b[A/opt/conda/lib/python3.9/site-packages/numpy/core/_asarray.py:102: VisibleDeprecationWarning: Creating an ndarray from ragged nested sequences (which is a list-or-tuple of lists-or-tuples-or ndarrays with different lengths or shapes) is deprecated. If you meant to do this, you must specify 'dtype=object' when creating the ndarray.\n",
      "  return array(a, dtype, copy=False, order=order)\n",
      "/opt/conda/lib/python3.9/site-packages/numpy/core/_asarray.py:102: VisibleDeprecationWarning: Creating an ndarray from ragged nested sequences (which is a list-or-tuple of lists-or-tuples-or ndarrays with different lengths or shapes) is deprecated. If you meant to do this, you must specify 'dtype=object' when creating the ndarray.\n",
      "  return array(a, dtype, copy=False, order=order)\n",
      "\n",
      "\n",
      " 65%|████████████████████████████████████████████████████████████████████████████████████████▉                                               | 210/321 [01:22<00:50,  2.18it/s]\u001b[A\u001b[A\n",
      "\n",
      " 70%|███████████████████████████████████████████████████████████████████████████████████████████████▎                                        | 225/321 [01:29<00:43,  2.21it/s]\u001b[A\u001b[A\n",
      "\n",
      " 75%|█████████████████████████████████████████████████████████████████████████████████████████████████████▋                                  | 240/321 [01:35<00:35,  2.26it/s]\u001b[A\u001b[A\n",
      "\n",
      " 75%|██████████████████████████████████████████████████████████████████████████████████████████████████████                                  | 241/321 [01:35<00:34,  2.32it/s]\u001b[A\u001b[A\n",
      "\n",
      " 79%|████████████████████████████████████████████████████████████████████████████████████████████████████████████                            | 255/321 [01:42<00:29,  2.21it/s]\u001b[A\u001b[A\n",
      "\n",
      " 84%|██████████████████████████████████████████████████████████████████████████████████████████████████████████████████▍                     | 270/321 [01:48<00:22,  2.23it/s]\u001b[A\u001b[A\n",
      "\n",
      " 89%|████████████████████████████████████████████████████████████████████████████████████████████████████████████████████████▋               | 285/321 [01:55<00:16,  2.23it/s]\u001b[A\u001b[A\n",
      "\n",
      " 93%|███████████████████████████████████████████████████████████████████████████████████████████████████████████████████████████████         | 300/321 [02:02<00:09,  2.24it/s]\u001b[A\u001b[A\n",
      "\n",
      "100%|████████████████████████████████████████████████████████████████████████████████████████████████████████████████████████████████████████| 321/321 [02:08<00:00,  2.49it/s]\u001b[A\u001b[A\n",
      "/opt/conda/lib/python3.9/site-packages/numpy/core/_asarray.py:102: VisibleDeprecationWarning: Creating an ndarray from ragged nested sequences (which is a list-or-tuple of lists-or-tuples-or ndarrays with different lengths or shapes) is deprecated. If you meant to do this, you must specify 'dtype=object' when creating the ndarray.\n",
      "  return array(a, dtype, copy=False, order=order)\n"
     ]
    },
    {
     "name": "stdout",
     "output_type": "stream",
     "text": [
      "Save to /data/rajlab1/user_data/jin/MyResearch/jesse_data/notebooks/../mypkg/../results/graph_metrics_bbinfc_Somatomotor.pkl\n"
     ]
    },
    {
     "name": "stderr",
     "output_type": "stream",
     "text": [
      "\n",
      "\n",
      "  0%|                                                                                                                                                  | 0/321 [00:00<?, ?it/s]\u001b[A\u001b[A\n",
      "\n",
      "  9%|████████████▊                                                                                                                            | 30/321 [00:01<00:14, 20.03it/s]\u001b[A\u001b[A\n",
      "\n",
      " 14%|███████████████████▏                                                                                                                     | 45/321 [00:07<00:57,  4.84it/s]\u001b[A\u001b[A\n",
      "\n",
      " 19%|█████████████████████████▌                                                                                                               | 60/321 [00:14<01:16,  3.41it/s]\u001b[A\u001b[A\n",
      "\n",
      " 19%|██████████████████████████                                                                                                               | 61/321 [00:14<01:14,  3.48it/s]\u001b[A\u001b[A\n",
      "\n",
      " 23%|████████████████████████████████                                                                                                         | 75/321 [00:21<01:28,  2.79it/s]\u001b[A\u001b[A/opt/conda/lib/python3.9/site-packages/numpy/core/_asarray.py:102: VisibleDeprecationWarning: Creating an ndarray from ragged nested sequences (which is a list-or-tuple of lists-or-tuples-or ndarrays with different lengths or shapes) is deprecated. If you meant to do this, you must specify 'dtype=object' when creating the ndarray.\n",
      "  return array(a, dtype, copy=False, order=order)\n",
      "\n",
      "\n",
      " 28%|██████████████████████████████████████▍                                                                                                  | 90/321 [00:27<01:29,  2.59it/s]\u001b[A\u001b[A/opt/conda/lib/python3.9/site-packages/numpy/core/_asarray.py:102: VisibleDeprecationWarning: Creating an ndarray from ragged nested sequences (which is a list-or-tuple of lists-or-tuples-or ndarrays with different lengths or shapes) is deprecated. If you meant to do this, you must specify 'dtype=object' when creating the ndarray.\n",
      "  return array(a, dtype, copy=False, order=order)\n",
      "\n",
      "\n",
      " 28%|██████████████████████████████████████▊                                                                                                  | 91/321 [00:27<01:26,  2.65it/s]\u001b[A\u001b[A\n",
      "\n",
      " 33%|████████████████████████████████████████████▍                                                                                           | 105/321 [00:34<01:28,  2.43it/s]\u001b[A\u001b[A\n",
      "\n",
      " 33%|████████████████████████████████████████████▉                                                                                           | 106/321 [00:34<01:25,  2.51it/s]\u001b[A\u001b[A\n",
      "\n",
      " 37%|██████████████████████████████████████████████████▊                                                                                     | 120/321 [00:40<01:25,  2.36it/s]\u001b[A\u001b[A\n",
      "\n",
      " 38%|███████████████████████████████████████████████████▎                                                                                    | 121/321 [00:40<01:22,  2.42it/s]\u001b[A\u001b[A/opt/conda/lib/python3.9/site-packages/numpy/core/_asarray.py:102: VisibleDeprecationWarning: Creating an ndarray from ragged nested sequences (which is a list-or-tuple of lists-or-tuples-or ndarrays with different lengths or shapes) is deprecated. If you meant to do this, you must specify 'dtype=object' when creating the ndarray.\n",
      "  return array(a, dtype, copy=False, order=order)\n",
      "\n",
      "\n",
      " 42%|█████████████████████████████████████████████████████████▏                                                                              | 135/321 [00:47<01:21,  2.30it/s]\u001b[A\u001b[A\n",
      "\n",
      " 47%|███████████████████████████████████████████████████████████████▌                                                                        | 150/321 [00:53<01:15,  2.27it/s]\u001b[A\u001b[A\n",
      "\n",
      " 51%|█████████████████████████████████████████████████████████████████████▉                                                                  | 165/321 [01:00<01:07,  2.31it/s]\u001b[A\u001b[A\n",
      "\n",
      " 52%|██████████████████████████████████████████████████████████████████████▎                                                                 | 166/321 [01:00<01:05,  2.37it/s]\u001b[A\u001b[A/opt/conda/lib/python3.9/site-packages/numpy/core/_asarray.py:102: VisibleDeprecationWarning: Creating an ndarray from ragged nested sequences (which is a list-or-tuple of lists-or-tuples-or ndarrays with different lengths or shapes) is deprecated. If you meant to do this, you must specify 'dtype=object' when creating the ndarray.\n",
      "  return array(a, dtype, copy=False, order=order)\n",
      "\n",
      "\n",
      " 56%|████████████████████████████████████████████████████████████████████████████▎                                                           | 180/321 [01:06<01:01,  2.29it/s]\u001b[A\u001b[A\n",
      "\n",
      " 56%|████████████████████████████████████████████████████████████████████████████▋                                                           | 181/321 [01:06<00:59,  2.36it/s]\u001b[A\u001b[A/opt/conda/lib/python3.9/site-packages/numpy/core/_asarray.py:102: VisibleDeprecationWarning: Creating an ndarray from ragged nested sequences (which is a list-or-tuple of lists-or-tuples-or ndarrays with different lengths or shapes) is deprecated. If you meant to do this, you must specify 'dtype=object' when creating the ndarray.\n",
      "  return array(a, dtype, copy=False, order=order)\n",
      "\n",
      "\n",
      " 61%|██████████████████████████████████████████████████████████████████████████████████▌                                                     | 195/321 [01:13<00:54,  2.30it/s]\u001b[A\u001b[A\n",
      "\n",
      " 61%|███████████████████████████████████████████████████████████████████████████████████                                                     | 196/321 [01:13<00:52,  2.37it/s]\u001b[A\u001b[A/opt/conda/lib/python3.9/site-packages/numpy/core/_asarray.py:102: VisibleDeprecationWarning: Creating an ndarray from ragged nested sequences (which is a list-or-tuple of lists-or-tuples-or ndarrays with different lengths or shapes) is deprecated. If you meant to do this, you must specify 'dtype=object' when creating the ndarray.\n",
      "  return array(a, dtype, copy=False, order=order)\n",
      "/opt/conda/lib/python3.9/site-packages/numpy/core/_asarray.py:102: VisibleDeprecationWarning: Creating an ndarray from ragged nested sequences (which is a list-or-tuple of lists-or-tuples-or ndarrays with different lengths or shapes) is deprecated. If you meant to do this, you must specify 'dtype=object' when creating the ndarray.\n",
      "  return array(a, dtype, copy=False, order=order)\n",
      "\n",
      "\n",
      " 65%|████████████████████████████████████████████████████████████████████████████████████████▉                                               | 210/321 [01:19<00:48,  2.29it/s]\u001b[A\u001b[A\n",
      "\n",
      " 66%|█████████████████████████████████████████████████████████████████████████████████████████▍                                              | 211/321 [01:19<00:46,  2.37it/s]\u001b[A\u001b[A/opt/conda/lib/python3.9/site-packages/numpy/core/_asarray.py:102: VisibleDeprecationWarning: Creating an ndarray from ragged nested sequences (which is a list-or-tuple of lists-or-tuples-or ndarrays with different lengths or shapes) is deprecated. If you meant to do this, you must specify 'dtype=object' when creating the ndarray.\n",
      "  return array(a, dtype, copy=False, order=order)\n",
      "\n",
      "\n",
      " 70%|███████████████████████████████████████████████████████████████████████████████████████████████▎                                        | 225/321 [01:26<00:41,  2.30it/s]\u001b[A\u001b[A\n",
      "\n",
      " 70%|███████████████████████████████████████████████████████████████████████████████████████████████▊                                        | 226/321 [01:26<00:39,  2.38it/s]\u001b[A\u001b[A\n",
      "\n",
      " 75%|█████████████████████████████████████████████████████████████████████████████████████████████████████▋                                  | 240/321 [01:32<00:35,  2.29it/s]\u001b[A\u001b[A/opt/conda/lib/python3.9/site-packages/numpy/core/_asarray.py:102: VisibleDeprecationWarning: Creating an ndarray from ragged nested sequences (which is a list-or-tuple of lists-or-tuples-or ndarrays with different lengths or shapes) is deprecated. If you meant to do this, you must specify 'dtype=object' when creating the ndarray.\n",
      "  return array(a, dtype, copy=False, order=order)\n",
      "/opt/conda/lib/python3.9/site-packages/numpy/core/_asarray.py:102: VisibleDeprecationWarning: Creating an ndarray from ragged nested sequences (which is a list-or-tuple of lists-or-tuples-or ndarrays with different lengths or shapes) is deprecated. If you meant to do this, you must specify 'dtype=object' when creating the ndarray.\n",
      "  return array(a, dtype, copy=False, order=order)\n"
     ]
    },
    {
     "name": "stderr",
     "output_type": "stream",
     "text": [
      "\n",
      "\n",
      " 79%|████████████████████████████████████████████████████████████████████████████████████████████████████████████                            | 255/321 [01:39<00:28,  2.29it/s]\u001b[A\u001b[A\n",
      "\n",
      " 80%|████████████████████████████████████████████████████████████████████████████████████████████████████████████▍                           | 256/321 [01:39<00:27,  2.35it/s]\u001b[A\u001b[A\n",
      "\n",
      " 84%|██████████████████████████████████████████████████████████████████████████████████████████████████████████████████▍                     | 270/321 [01:45<00:22,  2.28it/s]\u001b[A\u001b[A\n",
      "\n",
      " 84%|██████████████████████████████████████████████████████████████████████████████████████████████████████████████████▊                     | 271/321 [01:45<00:21,  2.34it/s]\u001b[A\u001b[A/opt/conda/lib/python3.9/site-packages/numpy/core/_asarray.py:102: VisibleDeprecationWarning: Creating an ndarray from ragged nested sequences (which is a list-or-tuple of lists-or-tuples-or ndarrays with different lengths or shapes) is deprecated. If you meant to do this, you must specify 'dtype=object' when creating the ndarray.\n",
      "  return array(a, dtype, copy=False, order=order)\n",
      "/opt/conda/lib/python3.9/site-packages/numpy/core/_asarray.py:102: VisibleDeprecationWarning: Creating an ndarray from ragged nested sequences (which is a list-or-tuple of lists-or-tuples-or ndarrays with different lengths or shapes) is deprecated. If you meant to do this, you must specify 'dtype=object' when creating the ndarray.\n",
      "  return array(a, dtype, copy=False, order=order)\n",
      "\n",
      "\n",
      " 89%|████████████████████████████████████████████████████████████████████████████████████████████████████████████████████████▋               | 285/321 [01:52<00:15,  2.26it/s]\u001b[A\u001b[A\n",
      "\n",
      " 89%|█████████████████████████████████████████████████████████████████████████████████████████████████████████████████████████▏              | 286/321 [01:52<00:14,  2.34it/s]\u001b[A\u001b[A\n",
      "\n",
      " 93%|███████████████████████████████████████████████████████████████████████████████████████████████████████████████████████████████         | 300/321 [01:58<00:09,  2.26it/s]\u001b[A\u001b[A\n",
      "\n",
      " 94%|███████████████████████████████████████████████████████████████████████████████████████████████████████████████████████████████▌        | 301/321 [01:58<00:08,  2.34it/s]\u001b[A\u001b[A\n",
      "\n",
      " 98%|█████████████████████████████████████████████████████████████████████████████████████████████████████████████████████████████████████▍  | 315/321 [02:05<00:02,  2.25it/s]\u001b[A\u001b[A\n",
      "\n",
      "100%|████████████████████████████████████████████████████████████████████████████████████████████████████████████████████████████████████████| 321/321 [02:05<00:00,  2.56it/s]\u001b[A\u001b[A\n",
      "/opt/conda/lib/python3.9/site-packages/numpy/core/_asarray.py:102: VisibleDeprecationWarning: Creating an ndarray from ragged nested sequences (which is a list-or-tuple of lists-or-tuples-or ndarrays with different lengths or shapes) is deprecated. If you meant to do this, you must specify 'dtype=object' when creating the ndarray.\n",
      "  return array(a, dtype, copy=False, order=order)\n",
      "/opt/conda/lib/python3.9/site-packages/numpy/core/_asarray.py:102: VisibleDeprecationWarning: Creating an ndarray from ragged nested sequences (which is a list-or-tuple of lists-or-tuples-or ndarrays with different lengths or shapes) is deprecated. If you meant to do this, you must specify 'dtype=object' when creating the ndarray.\n",
      "  return array(a, dtype, copy=False, order=order)\n",
      "/opt/conda/lib/python3.9/site-packages/numpy/core/_asarray.py:102: VisibleDeprecationWarning: Creating an ndarray from ragged nested sequences (which is a list-or-tuple of lists-or-tuples-or ndarrays with different lengths or shapes) is deprecated. If you meant to do this, you must specify 'dtype=object' when creating the ndarray.\n",
      "  return array(a, dtype, copy=False, order=order)\n"
     ]
    },
    {
     "name": "stdout",
     "output_type": "stream",
     "text": [
      "Save to /data/rajlab1/user_data/jin/MyResearch/jesse_data/notebooks/../mypkg/../results/graph_metrics_bbinfc_Dorsal_Attention.pkl\n"
     ]
    },
    {
     "name": "stderr",
     "output_type": "stream",
     "text": [
      "\n",
      "\n",
      "  0%|                                                                                                                                                  | 0/321 [00:00<?, ?it/s]\u001b[A\u001b[A\n",
      "\n",
      "  5%|██████▍                                                                                                                                  | 15/321 [00:00<00:05, 57.81it/s]\u001b[A\u001b[A\n",
      "\n",
      "  9%|████████████▊                                                                                                                            | 30/321 [00:01<00:14, 19.99it/s]\u001b[A\u001b[A/opt/conda/lib/python3.9/site-packages/numpy/core/_asarray.py:102: VisibleDeprecationWarning: Creating an ndarray from ragged nested sequences (which is a list-or-tuple of lists-or-tuples-or ndarrays with different lengths or shapes) is deprecated. If you meant to do this, you must specify 'dtype=object' when creating the ndarray.\n",
      "  return array(a, dtype, copy=False, order=order)\n",
      "\n",
      "\n",
      " 14%|███████████████████▏                                                                                                                     | 45/321 [00:08<01:04,  4.25it/s]\u001b[A\u001b[A\n",
      "\n",
      " 19%|█████████████████████████▌                                                                                                               | 60/321 [00:15<01:24,  3.07it/s]\u001b[A\u001b[A\n",
      "\n",
      " 23%|████████████████████████████████                                                                                                         | 75/321 [00:22<01:32,  2.66it/s]\u001b[A\u001b[A/opt/conda/lib/python3.9/site-packages/numpy/core/_asarray.py:102: VisibleDeprecationWarning: Creating an ndarray from ragged nested sequences (which is a list-or-tuple of lists-or-tuples-or ndarrays with different lengths or shapes) is deprecated. If you meant to do this, you must specify 'dtype=object' when creating the ndarray.\n",
      "  return array(a, dtype, copy=False, order=order)\n",
      "\n",
      "\n",
      " 28%|██████████████████████████████████████▍                                                                                                  | 90/321 [00:29<01:33,  2.46it/s]\u001b[A\u001b[A\n",
      "\n",
      " 33%|████████████████████████████████████████████▍                                                                                           | 105/321 [00:35<01:31,  2.37it/s]\u001b[A\u001b[A\n",
      "\n",
      " 37%|██████████████████████████████████████████████████▊                                                                                     | 120/321 [00:42<01:26,  2.32it/s]\u001b[A\u001b[A\n",
      "\n",
      " 42%|█████████████████████████████████████████████████████████▏                                                                              | 135/321 [00:49<01:21,  2.29it/s]\u001b[A\u001b[A\n",
      "\n",
      " 47%|███████████████████████████████████████████████████████████████▌                                                                        | 150/321 [00:56<01:15,  2.26it/s]\u001b[A\u001b[A\n",
      "\n",
      " 51%|█████████████████████████████████████████████████████████████████████▉                                                                  | 165/321 [01:02<01:09,  2.25it/s]\u001b[A\u001b[A\n",
      "\n",
      " 56%|████████████████████████████████████████████████████████████████████████████▎                                                           | 180/321 [01:09<01:03,  2.23it/s]\u001b[A\u001b[A\n",
      "\n",
      " 61%|██████████████████████████████████████████████████████████████████████████████████▌                                                     | 195/321 [01:16<00:56,  2.23it/s]\u001b[A\u001b[A\n",
      "\n",
      " 65%|████████████████████████████████████████████████████████████████████████████████████████▉                                               | 210/321 [01:23<00:49,  2.22it/s]\u001b[A\u001b[A\n",
      "\n",
      " 70%|███████████████████████████████████████████████████████████████████████████████████████████████▎                                        | 225/321 [01:30<00:43,  2.22it/s]\u001b[A\u001b[A\n",
      "\n",
      " 75%|█████████████████████████████████████████████████████████████████████████████████████████████████████▋                                  | 240/321 [01:36<00:36,  2.22it/s]\u001b[A\u001b[A\n",
      "\n",
      " 79%|████████████████████████████████████████████████████████████████████████████████████████████████████████████                            | 255/321 [01:43<00:29,  2.23it/s]\u001b[A\u001b[A\n",
      "\n",
      " 84%|██████████████████████████████████████████████████████████████████████████████████████████████████████████████████▍                     | 270/321 [01:50<00:23,  2.21it/s]\u001b[A\u001b[A\n",
      "\n",
      " 89%|████████████████████████████████████████████████████████████████████████████████████████████████████████████████████████▋               | 285/321 [01:57<00:16,  2.18it/s]\u001b[A\u001b[A\n",
      "\n",
      " 93%|███████████████████████████████████████████████████████████████████████████████████████████████████████████████████████████████         | 300/321 [02:04<00:09,  2.18it/s]\u001b[A\u001b[A\n",
      "\n",
      "100%|████████████████████████████████████████████████████████████████████████████████████████████████████████████████████████████████████████| 321/321 [02:11<00:00,  2.45it/s]\u001b[A\u001b[A\n"
     ]
    },
    {
     "name": "stdout",
     "output_type": "stream",
     "text": [
      "Save to /data/rajlab1/user_data/jin/MyResearch/jesse_data/notebooks/../mypkg/../results/graph_metrics_bbinfc_Ventral_Attention.pkl\n"
     ]
    },
    {
     "name": "stderr",
     "output_type": "stream",
     "text": [
      "\n",
      "\n",
      "  0%|                                                                                                                                                  | 0/321 [00:00<?, ?it/s]\u001b[A\u001b[A\n",
      "\n",
      "  9%|████████████▊                                                                                                                            | 30/321 [00:01<00:13, 21.82it/s]\u001b[A\u001b[A\n",
      "\n",
      " 14%|███████████████████▏                                                                                                                     | 45/321 [00:08<00:59,  4.64it/s]\u001b[A\u001b[A/opt/conda/lib/python3.9/site-packages/numpy/core/_asarray.py:102: VisibleDeprecationWarning: Creating an ndarray from ragged nested sequences (which is a list-or-tuple of lists-or-tuples-or ndarrays with different lengths or shapes) is deprecated. If you meant to do this, you must specify 'dtype=object' when creating the ndarray.\n",
      "  return array(a, dtype, copy=False, order=order)\n",
      "\n",
      "\n",
      " 19%|█████████████████████████▌                                                                                                               | 60/321 [00:14<01:18,  3.32it/s]\u001b[A\u001b[A\n",
      "\n",
      " 23%|████████████████████████████████                                                                                                         | 75/321 [00:21<01:26,  2.83it/s]\u001b[A\u001b[A\n",
      "\n",
      " 24%|████████████████████████████████▍                                                                                                        | 76/321 [00:21<01:24,  2.89it/s]\u001b[A\u001b[A\n",
      "\n",
      " 24%|████████████████████████████████▊                                                                                                        | 77/321 [00:21<01:21,  2.98it/s]\u001b[A\u001b[A\n",
      "\n",
      " 28%|██████████████████████████████████████▍                                                                                                  | 90/321 [00:28<01:34,  2.44it/s]\u001b[A\u001b[A/opt/conda/lib/python3.9/site-packages/numpy/core/_asarray.py:102: VisibleDeprecationWarning: Creating an ndarray from ragged nested sequences (which is a list-or-tuple of lists-or-tuples-or ndarrays with different lengths or shapes) is deprecated. If you meant to do this, you must specify 'dtype=object' when creating the ndarray.\n",
      "  return array(a, dtype, copy=False, order=order)\n",
      "\n",
      "\n",
      " 33%|████████████████████████████████████████████▍                                                                                           | 105/321 [00:35<01:31,  2.36it/s]\u001b[A\u001b[A\n",
      "\n",
      " 33%|████████████████████████████████████████████▉                                                                                           | 106/321 [00:35<01:28,  2.42it/s]\u001b[A\u001b[A\n",
      "\n",
      " 37%|██████████████████████████████████████████████████▊                                                                                     | 120/321 [00:41<01:26,  2.32it/s]\u001b[A\u001b[A\n",
      "\n",
      " 42%|█████████████████████████████████████████████████████████▏                                                                              | 135/321 [00:48<01:21,  2.29it/s]\u001b[A\u001b[A\n",
      "\n",
      " 42%|█████████████████████████████████████████████████████████▌                                                                              | 136/321 [00:48<01:18,  2.35it/s]\u001b[A\u001b[A\n",
      "\n",
      " 43%|██████████████████████████████████████████████████████████                                                                              | 137/321 [00:48<01:15,  2.43it/s]\u001b[A\u001b[A\n",
      "\n",
      " 47%|███████████████████████████████████████████████████████████████▌                                                                        | 150/321 [00:54<01:16,  2.23it/s]\u001b[A\u001b[A\n",
      "\n",
      " 51%|█████████████████████████████████████████████████████████████████████▉                                                                  | 165/321 [01:01<01:09,  2.25it/s]\u001b[A\u001b[A\n",
      "\n",
      " 56%|████████████████████████████████████████████████████████████████████████████▎                                                           | 180/321 [01:08<01:02,  2.26it/s]\u001b[A\u001b[A\n",
      "\n",
      " 56%|████████████████████████████████████████████████████████████████████████████▋                                                           | 181/321 [01:08<01:00,  2.32it/s]\u001b[A\u001b[A\n",
      "\n",
      " 57%|█████████████████████████████████████████████████████████████████████████████                                                           | 182/321 [01:08<00:57,  2.40it/s]\u001b[A\u001b[A\n",
      "\n",
      " 61%|██████████████████████████████████████████████████████████████████████████████████▌                                                     | 195/321 [01:14<00:56,  2.25it/s]\u001b[A\u001b[A/opt/conda/lib/python3.9/site-packages/numpy/core/_asarray.py:102: VisibleDeprecationWarning: Creating an ndarray from ragged nested sequences (which is a list-or-tuple of lists-or-tuples-or ndarrays with different lengths or shapes) is deprecated. If you meant to do this, you must specify 'dtype=object' when creating the ndarray.\n",
      "  return array(a, dtype, copy=False, order=order)\n",
      "\n",
      "\n",
      " 65%|████████████████████████████████████████████████████████████████████████████████████████▉                                               | 210/321 [01:21<00:49,  2.25it/s]\u001b[A\u001b[A\n",
      "\n",
      " 70%|███████████████████████████████████████████████████████████████████████████████████████████████▎                                        | 225/321 [01:27<00:42,  2.26it/s]\u001b[A\u001b[A\n",
      "\n",
      " 75%|█████████████████████████████████████████████████████████████████████████████████████████████████████▋                                  | 240/321 [01:34<00:36,  2.25it/s]\u001b[A\u001b[A/opt/conda/lib/python3.9/site-packages/numpy/core/_asarray.py:102: VisibleDeprecationWarning: Creating an ndarray from ragged nested sequences (which is a list-or-tuple of lists-or-tuples-or ndarrays with different lengths or shapes) is deprecated. If you meant to do this, you must specify 'dtype=object' when creating the ndarray.\n",
      "  return array(a, dtype, copy=False, order=order)\n",
      "\n",
      "\n",
      " 79%|████████████████████████████████████████████████████████████████████████████████████████████████████████████                            | 255/321 [01:41<00:29,  2.25it/s]\u001b[A\u001b[A\n",
      "\n",
      " 84%|██████████████████████████████████████████████████████████████████████████████████████████████████████████████████▍                     | 270/321 [01:47<00:22,  2.26it/s]\u001b[A\u001b[A\n",
      "\n",
      " 84%|██████████████████████████████████████████████████████████████████████████████████████████████████████████████████▊                     | 271/321 [01:47<00:21,  2.31it/s]\u001b[A\u001b[A\n",
      "\n",
      " 85%|███████████████████████████████████████████████████████████████████████████████████████████████████████████████████▏                    | 272/321 [01:47<00:20,  2.38it/s]\u001b[A\u001b[A/opt/conda/lib/python3.9/site-packages/numpy/core/_asarray.py:102: VisibleDeprecationWarning: Creating an ndarray from ragged nested sequences (which is a list-or-tuple of lists-or-tuples-or ndarrays with different lengths or shapes) is deprecated. If you meant to do this, you must specify 'dtype=object' when creating the ndarray.\n",
      "  return array(a, dtype, copy=False, order=order)\n",
      "\n",
      "\n",
      " 89%|████████████████████████████████████████████████████████████████████████████████████████████████████████████████████████▋               | 285/321 [01:54<00:16,  2.21it/s]\u001b[A\u001b[A\n",
      "\n",
      " 93%|███████████████████████████████████████████████████████████████████████████████████████████████████████████████████████████████         | 300/321 [02:01<00:09,  2.23it/s]\u001b[A\u001b[A\n",
      "\n",
      " 94%|███████████████████████████████████████████████████████████████████████████████████████████████████████████████████████████████▌        | 301/321 [02:01<00:08,  2.29it/s]\u001b[A\u001b[A\n",
      "\n",
      " 94%|███████████████████████████████████████████████████████████████████████████████████████████████████████████████████████████████▉        | 302/321 [02:01<00:07,  2.38it/s]\u001b[A\u001b[A\n",
      "\n",
      " 98%|█████████████████████████████████████████████████████████████████████████████████████████████████████████████████████████████████████▍  | 315/321 [02:07<00:02,  2.23it/s]\u001b[A\u001b[A\n",
      "\n",
      "100%|████████████████████████████████████████████████████████████████████████████████████████████████████████████████████████████████████████| 321/321 [02:07<00:00,  2.51it/s]\u001b[A\u001b[A\n",
      "/opt/conda/lib/python3.9/site-packages/numpy/core/_asarray.py:102: VisibleDeprecationWarning: Creating an ndarray from ragged nested sequences (which is a list-or-tuple of lists-or-tuples-or ndarrays with different lengths or shapes) is deprecated. If you meant to do this, you must specify 'dtype=object' when creating the ndarray.\n",
      "  return array(a, dtype, copy=False, order=order)\n"
     ]
    },
    {
     "name": "stdout",
     "output_type": "stream",
     "text": [
      "Save to /data/rajlab1/user_data/jin/MyResearch/jesse_data/notebooks/../mypkg/../results/graph_metrics_bbinfc_Limbic.pkl\n"
     ]
    },
    {
     "name": "stderr",
     "output_type": "stream",
     "text": [
      "\n",
      "\n",
      "  0%|                                                                                                                                                  | 0/321 [00:00<?, ?it/s]\u001b[A\u001b[A\n",
      "\n",
      "  9%|████████████▊                                                                                                                            | 30/321 [00:01<00:10, 26.65it/s]\u001b[A\u001b[A\n",
      "\n",
      " 14%|███████████████████▏                                                                                                                     | 45/321 [00:07<00:54,  5.03it/s]\u001b[A\u001b[A\n",
      "\n",
      " 19%|█████████████████████████▌                                                                                                               | 60/321 [00:13<01:13,  3.53it/s]\u001b[A\u001b[A\n",
      "\n",
      " 23%|████████████████████████████████                                                                                                         | 75/321 [00:20<01:22,  3.00it/s]\u001b[A\u001b[A\n",
      "\n",
      " 28%|██████████████████████████████████████▍                                                                                                  | 90/321 [00:26<01:25,  2.71it/s]\u001b[A\u001b[A/opt/conda/lib/python3.9/site-packages/numpy/core/_asarray.py:102: VisibleDeprecationWarning: Creating an ndarray from ragged nested sequences (which is a list-or-tuple of lists-or-tuples-or ndarrays with different lengths or shapes) is deprecated. If you meant to do this, you must specify 'dtype=object' when creating the ndarray.\n",
      "  return array(a, dtype, copy=False, order=order)\n",
      "\n",
      "\n",
      " 33%|████████████████████████████████████████████▍                                                                                           | 105/321 [00:33<01:24,  2.56it/s]\u001b[A\u001b[A/opt/conda/lib/python3.9/site-packages/numpy/core/_asarray.py:102: VisibleDeprecationWarning: Creating an ndarray from ragged nested sequences (which is a list-or-tuple of lists-or-tuples-or ndarrays with different lengths or shapes) is deprecated. If you meant to do this, you must specify 'dtype=object' when creating the ndarray.\n",
      "  return array(a, dtype, copy=False, order=order)\n",
      "\n",
      "\n",
      " 37%|██████████████████████████████████████████████████▊                                                                                     | 120/321 [00:40<01:21,  2.46it/s]\u001b[A\u001b[A\n",
      "\n",
      " 42%|█████████████████████████████████████████████████████████▏                                                                              | 135/321 [00:46<01:17,  2.39it/s]\u001b[A\u001b[A/opt/conda/lib/python3.9/site-packages/numpy/core/_asarray.py:102: VisibleDeprecationWarning: Creating an ndarray from ragged nested sequences (which is a list-or-tuple of lists-or-tuples-or ndarrays with different lengths or shapes) is deprecated. If you meant to do this, you must specify 'dtype=object' when creating the ndarray.\n",
      "  return array(a, dtype, copy=False, order=order)\n",
      "\n",
      "\n",
      " 47%|███████████████████████████████████████████████████████████████▌                                                                        | 150/321 [00:53<01:12,  2.35it/s]\u001b[A\u001b[A\n",
      "\n",
      " 51%|█████████████████████████████████████████████████████████████████████▉                                                                  | 165/321 [01:00<01:07,  2.32it/s]\u001b[A\u001b[A\n",
      "\n",
      " 56%|████████████████████████████████████████████████████████████████████████████▎                                                           | 180/321 [01:06<01:01,  2.30it/s]\u001b[A\u001b[A\n",
      "\n",
      " 61%|██████████████████████████████████████████████████████████████████████████████████▌                                                     | 195/321 [01:13<00:54,  2.30it/s]\u001b[A\u001b[A\n",
      "\n",
      " 65%|████████████████████████████████████████████████████████████████████████████████████████▉                                               | 210/321 [01:19<00:48,  2.29it/s]\u001b[A\u001b[A\n",
      "\n",
      " 70%|███████████████████████████████████████████████████████████████████████████████████████████████▎                                        | 225/321 [01:26<00:42,  2.28it/s]\u001b[A\u001b[A\n",
      "\n",
      " 75%|█████████████████████████████████████████████████████████████████████████████████████████████████████▋                                  | 240/321 [01:33<00:35,  2.27it/s]\u001b[A\u001b[A/opt/conda/lib/python3.9/site-packages/numpy/core/_asarray.py:102: VisibleDeprecationWarning: Creating an ndarray from ragged nested sequences (which is a list-or-tuple of lists-or-tuples-or ndarrays with different lengths or shapes) is deprecated. If you meant to do this, you must specify 'dtype=object' when creating the ndarray.\n",
      "  return array(a, dtype, copy=False, order=order)\n",
      "\n",
      "\n",
      " 79%|████████████████████████████████████████████████████████████████████████████████████████████████████████████                            | 255/321 [01:39<00:29,  2.26it/s]\u001b[A\u001b[A\n",
      "\n",
      " 84%|██████████████████████████████████████████████████████████████████████████████████████████████████████████████████▍                     | 270/321 [01:46<00:22,  2.28it/s]\u001b[A\u001b[A\n",
      "\n",
      " 89%|████████████████████████████████████████████████████████████████████████████████████████████████████████████████████████▋               | 285/321 [01:52<00:15,  2.31it/s]\u001b[A\u001b[A\n",
      "\n",
      " 93%|███████████████████████████████████████████████████████████████████████████████████████████████████████████████████████████████         | 300/321 [01:59<00:09,  2.32it/s]\u001b[A\u001b[A\n",
      "\n",
      "100%|████████████████████████████████████████████████████████████████████████████████████████████████████████████████████████████████████████| 321/321 [02:05<00:00,  2.56it/s]\u001b[A\u001b[A\n"
     ]
    },
    {
     "name": "stdout",
     "output_type": "stream",
     "text": [
      "Save to /data/rajlab1/user_data/jin/MyResearch/jesse_data/notebooks/../mypkg/../results/graph_metrics_bbinfc_Frontoparietal.pkl\n"
     ]
    },
    {
     "name": "stderr",
     "output_type": "stream",
     "text": [
      "\n",
      "\n",
      "  0%|                                                                                                                                                  | 0/321 [00:00<?, ?it/s]\u001b[A\u001b[A\n",
      "\n",
      "  5%|██████▍                                                                                                                                  | 15/321 [00:00<00:03, 83.48it/s]\u001b[A\u001b[A\n",
      "\n",
      "  7%|██████████▏                                                                                                                              | 24/321 [00:00<00:03, 83.56it/s]\u001b[A\u001b[A\n",
      "\n",
      " 10%|██████████████                                                                                                                           | 33/321 [00:01<00:19, 14.77it/s]\u001b[A\u001b[A/opt/conda/lib/python3.9/site-packages/numpy/core/_asarray.py:102: VisibleDeprecationWarning: Creating an ndarray from ragged nested sequences (which is a list-or-tuple of lists-or-tuples-or ndarrays with different lengths or shapes) is deprecated. If you meant to do this, you must specify 'dtype=object' when creating the ndarray.\n",
      "  return array(a, dtype, copy=False, order=order)\n",
      "\n",
      "\n",
      " 14%|███████████████████▏                                                                                                                     | 45/321 [00:08<01:13,  3.76it/s]\u001b[A\u001b[A/opt/conda/lib/python3.9/site-packages/numpy/core/_asarray.py:102: VisibleDeprecationWarning: Creating an ndarray from ragged nested sequences (which is a list-or-tuple of lists-or-tuples-or ndarrays with different lengths or shapes) is deprecated. If you meant to do this, you must specify 'dtype=object' when creating the ndarray.\n",
      "  return array(a, dtype, copy=False, order=order)\n",
      "/opt/conda/lib/python3.9/site-packages/numpy/core/_asarray.py:102: VisibleDeprecationWarning: Creating an ndarray from ragged nested sequences (which is a list-or-tuple of lists-or-tuples-or ndarrays with different lengths or shapes) is deprecated. If you meant to do this, you must specify 'dtype=object' when creating the ndarray.\n",
      "  return array(a, dtype, copy=False, order=order)\n",
      "\n",
      "\n",
      " 19%|█████████████████████████▌                                                                                                               | 60/321 [00:14<01:28,  2.97it/s]\u001b[A\u001b[A\n",
      "\n",
      " 23%|████████████████████████████████                                                                                                         | 75/321 [00:20<01:31,  2.69it/s]\u001b[A\u001b[A\n",
      "\n",
      " 28%|██████████████████████████████████████▍                                                                                                  | 90/321 [00:27<01:29,  2.59it/s]\u001b[A\u001b[A\n",
      "\n",
      " 33%|████████████████████████████████████████████▍                                                                                           | 105/321 [00:33<01:26,  2.50it/s]\u001b[A\u001b[A\n",
      "\n",
      " 37%|██████████████████████████████████████████████████▊                                                                                     | 120/321 [00:39<01:22,  2.44it/s]\u001b[A\u001b[A\n",
      "\n",
      " 42%|█████████████████████████████████████████████████████████▏                                                                              | 135/321 [00:46<01:17,  2.40it/s]\u001b[A\u001b[A\n",
      "\n",
      " 47%|███████████████████████████████████████████████████████████████▌                                                                        | 150/321 [00:52<01:11,  2.40it/s]\u001b[A\u001b[A\n",
      "\n",
      " 51%|█████████████████████████████████████████████████████████████████████▉                                                                  | 165/321 [00:58<01:05,  2.39it/s]\u001b[A\u001b[A\n",
      "\n",
      " 56%|████████████████████████████████████████████████████████████████████████████▎                                                           | 180/321 [01:05<00:59,  2.37it/s]\u001b[A\u001b[A/opt/conda/lib/python3.9/site-packages/numpy/core/_asarray.py:102: VisibleDeprecationWarning: Creating an ndarray from ragged nested sequences (which is a list-or-tuple of lists-or-tuples-or ndarrays with different lengths or shapes) is deprecated. If you meant to do this, you must specify 'dtype=object' when creating the ndarray.\n",
      "  return array(a, dtype, copy=False, order=order)\n",
      "\n",
      "\n",
      " 61%|██████████████████████████████████████████████████████████████████████████████████▌                                                     | 195/321 [01:11<00:53,  2.36it/s]\u001b[A\u001b[A\n",
      "\n",
      " 65%|████████████████████████████████████████████████████████████████████████████████████████▉                                               | 210/321 [01:18<00:47,  2.34it/s]\u001b[A\u001b[A\n",
      "\n",
      " 70%|███████████████████████████████████████████████████████████████████████████████████████████████▎                                        | 225/321 [01:24<00:41,  2.34it/s]\u001b[A\u001b[A/opt/conda/lib/python3.9/site-packages/numpy/core/_asarray.py:102: VisibleDeprecationWarning: Creating an ndarray from ragged nested sequences (which is a list-or-tuple of lists-or-tuples-or ndarrays with different lengths or shapes) is deprecated. If you meant to do this, you must specify 'dtype=object' when creating the ndarray.\n",
      "  return array(a, dtype, copy=False, order=order)\n",
      "/opt/conda/lib/python3.9/site-packages/numpy/core/_asarray.py:102: VisibleDeprecationWarning: Creating an ndarray from ragged nested sequences (which is a list-or-tuple of lists-or-tuples-or ndarrays with different lengths or shapes) is deprecated. If you meant to do this, you must specify 'dtype=object' when creating the ndarray.\n",
      "  return array(a, dtype, copy=False, order=order)\n",
      "\n",
      "\n",
      " 75%|█████████████████████████████████████████████████████████████████████████████████████████████████████▋                                  | 240/321 [01:31<00:34,  2.35it/s]\u001b[A\u001b[A/opt/conda/lib/python3.9/site-packages/numpy/core/_asarray.py:102: VisibleDeprecationWarning: Creating an ndarray from ragged nested sequences (which is a list-or-tuple of lists-or-tuples-or ndarrays with different lengths or shapes) is deprecated. If you meant to do this, you must specify 'dtype=object' when creating the ndarray.\n",
      "  return array(a, dtype, copy=False, order=order)\n",
      "\n",
      "\n",
      " 79%|████████████████████████████████████████████████████████████████████████████████████████████████████████████                            | 255/321 [01:37<00:28,  2.34it/s]\u001b[A\u001b[A\n",
      "\n",
      " 84%|██████████████████████████████████████████████████████████████████████████████████████████████████████████████████▍                     | 270/321 [01:44<00:21,  2.34it/s]\u001b[A\u001b[A\n",
      "\n",
      " 89%|████████████████████████████████████████████████████████████████████████████████████████████████████████████████████████▋               | 285/321 [01:50<00:15,  2.36it/s]\u001b[A\u001b[A\n",
      "\n",
      " 93%|███████████████████████████████████████████████████████████████████████████████████████████████████████████████████████████████         | 300/321 [01:56<00:08,  2.34it/s]\u001b[A\u001b[A/opt/conda/lib/python3.9/site-packages/numpy/core/_asarray.py:102: VisibleDeprecationWarning: Creating an ndarray from ragged nested sequences (which is a list-or-tuple of lists-or-tuples-or ndarrays with different lengths or shapes) is deprecated. If you meant to do this, you must specify 'dtype=object' when creating the ndarray.\n",
      "  return array(a, dtype, copy=False, order=order)\n",
      "\n",
      "\n",
      "100%|████████████████████████████████████████████████████████████████████████████████████████████████████████████████████████████████████████| 321/321 [02:03<00:00,  2.60it/s]\u001b[A\u001b[A\n"
     ]
    },
    {
     "name": "stdout",
     "output_type": "stream",
     "text": [
      "Save to /data/rajlab1/user_data/jin/MyResearch/jesse_data/notebooks/../mypkg/../results/graph_metrics_bbinfc_Default.pkl\n"
     ]
    }
   ],
   "source": [
    "def _run_fn(sub_ix, net_ix):\n",
    "    bfc = bcorFCs[sub_ix-1]\n",
    "    bfc = bfc[yeo_7nets_lab==net_ix][:, yeo_7nets_lab==net_ix]\n",
    "    bbinfc = bin_fc(bfc)\n",
    "    res = edict()\n",
    "    res.sub_ix = sub_ix \n",
    "    res.fc = bbinfc\n",
    "    res.network_metrics = get_netmetrics_bin(bbinfc)\n",
    "    return res\n",
    "for net_ix in range(1, 8):\n",
    "    with Parallel(n_jobs=15) as parallel:\n",
    "        res = parallel(delayed(_run_fn)(sub_ix, net_ix) for sub_ix in tqdm(range(1, num_sps+1), total=num_sps))\n",
    "    save_pkl(RES_ROOT/f\"graph_metrics_bbinfc_{yeo_7nets_dict[net_ix]}.pkl\", res, is_force=True)"
   ]
  },
  {
   "cell_type": "code",
   "execution_count": null,
   "id": "a4bced1c",
   "metadata": {},
   "outputs": [],
   "source": []
  },
  {
   "cell_type": "markdown",
   "id": "9b158e31",
   "metadata": {},
   "source": [
    "## Analysis"
   ]
  },
  {
   "cell_type": "markdown",
   "id": "7b7ced16",
   "metadata": {},
   "source": [
    "### Bin FC"
   ]
  },
  {
   "cell_type": "code",
   "execution_count": 33,
   "id": "2fc4b9ec",
   "metadata": {
    "ExecuteTime": {
     "end_time": "2023-11-17T18:13:30.337893Z",
     "start_time": "2023-11-17T18:13:30.305441Z"
    }
   },
   "outputs": [
    {
     "name": "stdout",
     "output_type": "stream",
     "text": [
      "Load file /data/rajlab1/user_data/jin/MyResearch/jesse_data/notebooks/../mypkg/../results/graph_metrics_bbinfc_Default.pkl\n"
     ]
    },
    {
     "data": {
      "text/plain": [
       "{1: 'AD', 2: 'bvFTD', 3: 'CBS', 4: 'nfvPPA', 5: 'svPPA', 6: 'HC'}"
      ]
     },
     "execution_count": 33,
     "metadata": {},
     "output_type": "execute_result"
    }
   ],
   "source": [
    "net_ix = 7\n",
    "res = load_pkl(RES_ROOT/f\"graph_metrics_bbinfc_{yeo_7nets_dict[net_ix]}.pkl\");\n",
    "diag_labs = mat_data[\"dx_321\"].reshape(-1)\n",
    "sex_labs = mat_data[\"sex_321\"].reshape(-1)\n",
    "diag_lab_mapping = {\n",
    " 1: \"AD\",\n",
    " 2: \"bvFTD\",\n",
    " 3: \"CBS\", \n",
    " 4: \"nfvPPA\", \n",
    " 5: \"svPPA\", \n",
    " 6: \"HC\"\n",
    "}\n"
   ]
  },
  {
   "cell_type": "code",
   "execution_count": 34,
   "id": "0b4d5288",
   "metadata": {
    "ExecuteTime": {
     "end_time": "2023-11-17T18:13:31.655297Z",
     "start_time": "2023-11-17T18:13:31.605960Z"
    }
   },
   "outputs": [
    {
     "name": "stdout",
     "output_type": "stream",
     "text": [
      "Metric is tmC\n",
      "+----------------+--------+-------------+\n",
      "|           Test |  Pval  | Effect size |\n",
      "+----------------+--------+-------------+\n",
      "|       AD vs HC |  0.366 |    -0.135   |\n",
      "|    bvFTD vs HC |  0.369 |    -0.167   |\n",
      "|      CBS vs HC |  0.632 |    -0.104   |\n",
      "|   nfvPPA vs HC |  0.697 |     0.077   |\n",
      "|    svPPA vs HC |  0.583 |    -0.106   |\n",
      "| Dementia vs HC |  0.421 |    -0.097   |\n",
      "|          ANOVA |  0.858 |             |\n",
      "+----------------+--------+-------------+\n",
      "Metric is tmL\n",
      "+----------------+--------+-------------+\n",
      "|           Test |  Pval  | Effect size |\n",
      "+----------------+--------+-------------+\n",
      "|       AD vs HC |  0.459 |     0.110   |\n",
      "|    bvFTD vs HC |  0.601 |     0.097   |\n",
      "|      CBS vs HC |  0.058 |     0.408   |\n",
      "|  *nfvPPA vs HC |  0.016 |     0.473   |\n",
      "|    svPPA vs HC |  0.190 |     0.252   |\n",
      "| Dementia vs HC |  0.054 |     0.231   |\n",
      "|          ANOVA |  0.096 |             |\n",
      "+----------------+--------+-------------+\n",
      "Metric is tQ\n",
      "+----------------+--------+-------------+\n",
      "|           Test |  Pval  | Effect size |\n",
      "+----------------+--------+-------------+\n",
      "|       AD vs HC |  0.857 |     0.027   |\n",
      "|    bvFTD vs HC |  0.903 |     0.023   |\n",
      "|      CBS vs HC |  0.560 |    -0.127   |\n",
      "|   nfvPPA vs HC |  0.275 |     0.217   |\n",
      "|    svPPA vs HC |  0.994 |     0.002   |\n",
      "| Dementia vs HC |  0.798 |     0.031   |\n",
      "|          ANOVA |  0.865 |             |\n",
      "+----------------+--------+-------------+\n"
     ]
    }
   ],
   "source": [
    "metric = \"tmC\"\n",
    "sub_ixs = np.array([re[\"sub_ix\"] for re in res])\n",
    "metrics = np.array([re[\"network_metrics\"][metric] for re in res])\n",
    "metrics = metrics[np.argsort(sub_ixs)]\n",
    "res_df = pd.DataFrame({\n",
    "    \"metric\": metrics, \n",
    "    \"sex\": sex_labs, \n",
    "    \"diagnosis\": diag_labs\n",
    "})\n",
    "res_df[\"diagnosis1\"] = res_df[\"diagnosis\"].map(diag_lab_mapping)\n",
    "print(f\"Metric is {metric}\")\n",
    "print(_get_test_tb(res_df))\n",
    "\n",
    "metric = \"tmL\"\n",
    "sub_ixs = np.array([re[\"sub_ix\"] for re in res])\n",
    "metrics = np.array([re[\"network_metrics\"][metric] for re in res])\n",
    "metrics = metrics[np.argsort(sub_ixs)]\n",
    "res_df = pd.DataFrame({\n",
    "    \"metric\": metrics, \n",
    "    \"sex\": sex_labs, \n",
    "    \"diagnosis\": diag_labs\n",
    "})\n",
    "res_df[\"diagnosis1\"] = res_df[\"diagnosis\"].map(diag_lab_mapping)\n",
    "print(f\"Metric is {metric}\")\n",
    "print(_get_test_tb(res_df))\n",
    "\n",
    "metric = \"tQ\"\n",
    "sub_ixs = np.array([re[\"sub_ix\"] for re in res])\n",
    "metrics = np.array([re[\"network_metrics\"][metric] for re in res])\n",
    "metrics = metrics[np.argsort(sub_ixs)]\n",
    "res_df = pd.DataFrame({\n",
    "    \"metric\": metrics, \n",
    "    \"sex\": sex_labs, \n",
    "    \"diagnosis\": diag_labs\n",
    "})\n",
    "res_df[\"diagnosis1\"] = res_df[\"diagnosis\"].map(diag_lab_mapping)\n",
    "print(f\"Metric is {metric}\")\n",
    "print(_get_test_tb(res_df))"
   ]
  },
  {
   "cell_type": "code",
   "execution_count": null,
   "id": "ad8a089b",
   "metadata": {},
   "outputs": [],
   "source": []
  },
  {
   "cell_type": "markdown",
   "id": "b9f0f795",
   "metadata": {},
   "source": [
    "### FC"
   ]
  },
  {
   "cell_type": "code",
   "execution_count": 47,
   "id": "eecb2c9c",
   "metadata": {
    "ExecuteTime": {
     "end_time": "2023-11-17T18:17:03.835415Z",
     "start_time": "2023-11-17T18:17:03.803397Z"
    }
   },
   "outputs": [
    {
     "name": "stdout",
     "output_type": "stream",
     "text": [
      "Load file /data/rajlab1/user_data/jin/MyResearch/jesse_data/notebooks/../mypkg/../results/graph_metrics_ballfc_Default.pkl\n"
     ]
    },
    {
     "data": {
      "text/plain": [
       "{1: 'AD', 2: 'bvFTD', 3: 'CBS', 4: 'nfvPPA', 5: 'svPPA', 6: 'HC'}"
      ]
     },
     "execution_count": 47,
     "metadata": {},
     "output_type": "execute_result"
    }
   ],
   "source": [
    "net_ix = 7\n",
    "res = load_pkl(RES_ROOT/f\"graph_metrics_ballfc_{yeo_7nets_dict[net_ix]}.pkl\");\n",
    "diag_labs = mat_data[\"dx_321\"].reshape(-1)\n",
    "sex_labs = mat_data[\"sex_321\"].reshape(-1)\n",
    "diag_lab_mapping = {\n",
    " 1: \"AD\",\n",
    " 2: \"bvFTD\",\n",
    " 3: \"CBS\", \n",
    " 4: \"nfvPPA\", \n",
    " 5: \"svPPA\", \n",
    " 6: \"HC\"\n",
    "}\n"
   ]
  },
  {
   "cell_type": "code",
   "execution_count": 51,
   "id": "941b5bdc",
   "metadata": {
    "ExecuteTime": {
     "end_time": "2023-11-17T18:19:33.301115Z",
     "start_time": "2023-11-17T18:19:32.684405Z"
    },
    "scrolled": false
   },
   "outputs": [
    {
     "data": {
      "image/png": "[encoded data removed]",
      "text/plain": [
       "<Figure size 1000x500 with 1 Axes>"
      ]
     },
     "metadata": {
      "needs_background": "light"
     },
     "output_type": "display_data"
    },
    {
     "name": "stdout",
     "output_type": "stream",
     "text": [
      "Metric is tmC\n",
      "+-----------------+--------+-------------+\n",
      "|            Test |  Pval  | Effect size |\n",
      "+-----------------+--------+-------------+\n",
      "|       *AD vs HC |  0.000 |     0.511   |\n",
      "|    *bvFTD vs HC |  0.001 |     0.615   |\n",
      "|      *CBS vs HC |  0.001 |     0.683   |\n",
      "|   *nfvPPA vs HC |  0.003 |     0.576   |\n",
      "|     svPPA vs HC |  0.254 |     0.219   |\n",
      "| *Dementia vs HC |  0.000 |     0.452   |\n",
      "|          *ANOVA |  0.003 |             |\n",
      "+-----------------+--------+-------------+\n"
     ]
    },
    {
     "data": {
      "image/png": "[encoded data removed]",
      "text/plain": [
       "<Figure size 1000x500 with 1 Axes>"
      ]
     },
     "metadata": {
      "needs_background": "light"
     },
     "output_type": "display_data"
    },
    {
     "name": "stdout",
     "output_type": "stream",
     "text": [
      "Metric is tmL\n",
      "+-----------------+--------+-------------+\n",
      "|            Test |  Pval  | Effect size |\n",
      "+-----------------+--------+-------------+\n",
      "|       *AD vs HC |  0.003 |     0.438   |\n",
      "|    *bvFTD vs HC |  0.000 |     0.642   |\n",
      "|      *CBS vs HC |  0.000 |     0.974   |\n",
      "|   *nfvPPA vs HC |  0.000 |     0.828   |\n",
      "|    *svPPA vs HC |  0.000 |     0.708   |\n",
      "| *Dementia vs HC |  0.000 |     0.544   |\n",
      "|          *ANOVA |  0.000 |             |\n",
      "+-----------------+--------+-------------+\n"
     ]
    },
    {
     "data": {
      "image/png": "[encoded data removed]",
      "text/plain": [
       "<Figure size 1000x500 with 1 Axes>"
      ]
     },
     "metadata": {
      "needs_background": "light"
     },
     "output_type": "display_data"
    },
    {
     "name": "stdout",
     "output_type": "stream",
     "text": [
      "Metric is tQ\n",
      "+-----------------+--------+-------------+\n",
      "|            Test |  Pval  | Effect size |\n",
      "+-----------------+--------+-------------+\n",
      "|       *AD vs HC |  0.019 |    -0.348   |\n",
      "|     bvFTD vs HC |  0.054 |    -0.356   |\n",
      "|      *CBS vs HC |  0.001 |    -0.715   |\n",
      "|    nfvPPA vs HC |  0.057 |    -0.376   |\n",
      "|    *svPPA vs HC |  0.025 |    -0.428   |\n",
      "| *Dementia vs HC |  0.001 |    -0.405   |\n",
      "|          *ANOVA |  0.012 |             |\n",
      "+-----------------+--------+-------------+\n"
     ]
    }
   ],
   "source": [
    "metric = \"tmC\"\n",
    "sub_ixs = np.array([re[\"sub_ix\"] for re in res])\n",
    "metrics = np.array([re[\"network_metrics\"][metric] for re in res])\n",
    "metrics = metrics[np.argsort(sub_ixs)]\n",
    "res_df = pd.DataFrame({\n",
    "    \"metric\": metrics, \n",
    "    \"sex\": sex_labs, \n",
    "    \"diagnosis\": diag_labs\n",
    "})\n",
    "res_df[\"diagnosis1\"] = res_df[\"diagnosis\"].map(diag_lab_mapping)\n",
    "sns.boxplot(data=res_df, x=\"diagnosis1\", y=\"metric\")\n",
    "plt.xlabel(\"Group\")\n",
    "plt.ylabel(f\"{metric}\")\n",
    "plt.show()\n",
    "plt.close()\n",
    "print(f\"Metric is {metric}\")\n",
    "print(_get_test_tb(res_df))\n",
    "\n",
    "metric = \"tmL\"\n",
    "sub_ixs = np.array([re[\"sub_ix\"] for re in res])\n",
    "metrics = np.array([re[\"network_metrics\"][metric] for re in res])\n",
    "metrics = metrics[np.argsort(sub_ixs)]\n",
    "res_df = pd.DataFrame({\n",
    "    \"metric\": metrics, \n",
    "    \"sex\": sex_labs, \n",
    "    \"diagnosis\": diag_labs\n",
    "})\n",
    "res_df[\"diagnosis1\"] = res_df[\"diagnosis\"].map(diag_lab_mapping)\n",
    "sns.boxplot(data=res_df, x=\"diagnosis1\", y=\"metric\")\n",
    "plt.xlabel(\"Group\")\n",
    "plt.ylabel(f\"{metric}\")\n",
    "plt.show()\n",
    "plt.close()\n",
    "print(f\"Metric is {metric}\")\n",
    "print(_get_test_tb(res_df))\n",
    "\n",
    "metric = \"tQ\"\n",
    "sub_ixs = np.array([re[\"sub_ix\"] for re in res])\n",
    "metrics = np.array([re[\"network_metrics\"][metric] for re in res])\n",
    "metrics = metrics[np.argsort(sub_ixs)]\n",
    "res_df = pd.DataFrame({\n",
    "    \"metric\": metrics, \n",
    "    \"sex\": sex_labs, \n",
    "    \"diagnosis\": diag_labs\n",
    "})\n",
    "res_df[\"diagnosis1\"] = res_df[\"diagnosis\"].map(diag_lab_mapping)\n",
    "sns.boxplot(data=res_df, x=\"diagnosis1\", y=\"metric\")\n",
    "plt.xlabel(\"Group\")\n",
    "plt.ylabel(f\"{metric}\")\n",
    "plt.show()\n",
    "plt.close()\n",
    "print(f\"Metric is {metric}\")\n",
    "print(_get_test_tb(res_df))"
   ]
  },
  {
   "cell_type": "code",
   "execution_count": null,
   "id": "10dfed97",
   "metadata": {},
   "outputs": [],
   "source": []
  }
 ],
 "metadata": {
  "kernelspec": {
   "display_name": "Python 3 (ipykernel)",
   "language": "python",
   "name": "python3"
  },
  "language_info": {
   "codemirror_mode": {
    "name": "ipython",
    "version": 3
   },
   "file_extension": ".py",
   "mimetype": "text/x-python",
   "name": "python",
   "nbconvert_exporter": "python",
   "pygments_lexer": "ipython3",
   "version": "3.9.7"
  },
  "toc": {
   "base_numbering": 1,
   "nav_menu": {},
   "number_sections": true,
   "sideBar": true,
   "skip_h1_title": false,
   "title_cell": "Table of Contents",
   "title_sidebar": "Contents",
   "toc_cell": false,
   "toc_position": {
    "height": "calc(100% - 180px)",
    "left": "10px",
    "top": "150px",
    "width": "165px"
   },
   "toc_section_display": true,
   "toc_window_display": true
  }
 },
 "nbformat": 4,
 "nbformat_minor": 5
}
